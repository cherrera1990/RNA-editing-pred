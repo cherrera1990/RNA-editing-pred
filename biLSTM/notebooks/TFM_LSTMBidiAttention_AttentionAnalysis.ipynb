{
 "cells": [
  {
   "cell_type": "markdown",
   "id": "ca661a73-de2d-4079-8138-914bab318805",
   "metadata": {
    "id": "ca661a73-de2d-4079-8138-914bab318805"
   },
   "source": [
    "# Deep neural network-based models for predicting mRNA editing\n",
    "\n",
    "Bidirectional LSTM with Attention Layer"
   ]
  },
  {
   "cell_type": "code",
   "execution_count": 1,
   "id": "c9f60581-a961-4284-9b0b-3867f3b54213",
   "metadata": {
    "id": "c9f60581-a961-4284-9b0b-3867f3b54213"
   },
   "outputs": [],
   "source": [
    "import os\n",
    "import numpy as np\n",
    "import pandas as pd\n",
    "import matplotlib.pyplot as plt\n",
    "from sklearn.model_selection import train_test_split\n",
    "import tensorflow as tf\n",
    "from tensorflow import keras\n",
    "from tensorflow.keras import layers\n",
    "from sklearn.metrics import confusion_matrix, precision_score, cohen_kappa_score, classification_report\n",
    "import seaborn as sns; sns.set()\n",
    "from keras import backend as K\n"
   ]
  },
  {
   "cell_type": "code",
   "execution_count": 2,
   "id": "7b4b7d71-286c-433d-b5b5-94e41403d218",
   "metadata": {
    "id": "8c077d3a-3edc-4341-b1e6-59a67fe44442"
   },
   "outputs": [],
   "source": [
    "########################################\n",
    "# PARAMS\n",
    "########################################\n",
    "fname      = 'hg38_RS_DL_ES_NES_rand1000_Pad_W50_BALANCED_1_1_CODED2CH.csv'\n",
    "separator_char=';'\n",
    "categories=[['A','G','C','T'],['s','d','h','i','b']]\n",
    "padding=True\n",
    "ptrain     = 0.7\n",
    "trace_level = 1\n",
    "model_name = 'TFM_LSTMBidiAttention_AttentionAnalysis'\n",
    "num_lstm_units=256\n",
    "n_epochs=20\n",
    "batch_size=32\n",
    "categories_size=20\n",
    "random_seed=2022\n",
    "########################################"
   ]
  },
  {
   "cell_type": "markdown",
   "id": "1bd49147-7ef8-4a2b-ba75-694d51a94f88",
   "metadata": {
    "id": "1bd49147-7ef8-4a2b-ba75-694d51a94f88",
    "outputId": "eba0a3a5-140a-404c-f883-4f3124dcfbae"
   },
   "source": [
    "We can run this notebook in two environments:\n",
    "+ Googlr Colab Pro (Cloud)\n",
    "+ Jupyter Lab (Locally)"
   ]
  },
  {
   "cell_type": "code",
   "execution_count": 3,
   "id": "be00b8cf-d29e-429d-a4cc-e05f4416b635",
   "metadata": {
    "colab": {
     "base_uri": "https://localhost:8080/"
    },
    "executionInfo": {
     "elapsed": 5,
     "status": "ok",
     "timestamp": 1653155694898,
     "user": {
      "displayName": "Jesús Peñuela",
      "userId": "04868940139927239067"
     },
     "user_tz": -120
    },
    "id": "be00b8cf-d29e-429d-a4cc-e05f4416b635",
    "outputId": "ade3fab1-7488-400e-f83e-359d33a23f14"
   },
   "outputs": [
    {
     "name": "stdout",
     "output_type": "stream",
     "text": [
      "Not running on CoLab\n"
     ]
    }
   ],
   "source": [
    "#CHECK GOOGLE COLAB\n",
    "GOOGLE_COLAB=False\n",
    "if 'google.colab' in str(get_ipython()):\n",
    "  GOOGLE_COLAB=True  \n",
    "  print('Running on CoLab')\n",
    "else:\n",
    "  print('Not running on CoLab')"
   ]
  },
  {
   "cell_type": "markdown",
   "id": "26ebcbc7-a0de-4a91-aa76-4f422bd2383c",
   "metadata": {
    "id": "26ebcbc7-a0de-4a91-aa76-4f422bd2383c",
    "outputId": "eba0a3a5-140a-404c-f883-4f3124dcfbae"
   },
   "source": [
    "Checking if GPU is available and GPU characteristics."
   ]
  },
  {
   "cell_type": "code",
   "execution_count": 4,
   "id": "e6fa0226-d138-40dd-bab2-7d0aedec9746",
   "metadata": {
    "colab": {
     "base_uri": "https://localhost:8080/"
    },
    "executionInfo": {
     "elapsed": 17,
     "status": "ok",
     "timestamp": 1653155695712,
     "user": {
      "displayName": "Jesús Peñuela",
      "userId": "04868940139927239067"
     },
     "user_tz": -120
    },
    "id": "e6fa0226-d138-40dd-bab2-7d0aedec9746",
    "outputId": "c03b8850-61bb-4558-88e3-90b0f25a0604"
   },
   "outputs": [
    {
     "name": "stdout",
     "output_type": "stream",
     "text": [
      "Num GPUs Available: 1\n",
      "Found GPU at: /device:GPU:0\n",
      "Sun Jun 19 22:06:54 2022       \n",
      "+-----------------------------------------------------------------------------+\n",
      "| NVIDIA-SMI 511.79       Driver Version: 511.79       CUDA Version: 11.6     |\n",
      "|-------------------------------+----------------------+----------------------+\n",
      "| GPU  Name            TCC/WDDM | Bus-Id        Disp.A | Volatile Uncorr. ECC |\n",
      "| Fan  Temp  Perf  Pwr:Usage/Cap|         Memory-Usage | GPU-Util  Compute M. |\n",
      "|                               |                      |               MIG M. |\n",
      "|===============================+======================+======================|\n",
      "|   0  NVIDIA GeForce ... WDDM  | 00000000:01:00.0 Off |                  N/A |\n",
      "| N/A   55C    P3    N/A /  N/A |    166MiB /  2048MiB |      4%      Default |\n",
      "|                               |                      |                  N/A |\n",
      "+-------------------------------+----------------------+----------------------+\n",
      "                                                                               \n",
      "+-----------------------------------------------------------------------------+\n",
      "| Processes:                                                                  |\n",
      "|  GPU   GI   CI        PID   Type   Process name                  GPU Memory |\n",
      "|        ID   ID                                                   Usage      |\n",
      "|=============================================================================|\n",
      "|    0   N/A  N/A     26476      C   ...tensorflow-gpu\\python.exe    N/A      |\n",
      "+-----------------------------------------------------------------------------+\n"
     ]
    }
   ],
   "source": [
    "#CHECK GPU\n",
    "device_name = tf.test.gpu_device_name()\n",
    "if device_name != '/device:GPU:0':\n",
    "  print('GPU device not found')\n",
    "else:\n",
    "  print('Num GPUs Available: {}'.format(len(tf.config.list_physical_devices('GPU'))))\n",
    "  print('Found GPU at: {}'.format(device_name))\n",
    "  gpu_info = !nvidia-smi\n",
    "  gpu_info = '\\n'.join(gpu_info)\n",
    "  if gpu_info.find('failed') >= 0:\n",
    "     print('Not connected to a GPU')\n",
    "  else:\n",
    "     print(gpu_info)"
   ]
  },
  {
   "cell_type": "code",
   "execution_count": 5,
   "id": "d259c02c-bb23-43d6-899b-f9cbd4ca898d",
   "metadata": {
    "colab": {
     "base_uri": "https://localhost:8080/"
    },
    "executionInfo": {
     "elapsed": 3957,
     "status": "ok",
     "timestamp": 1653155699660,
     "user": {
      "displayName": "Jesús Peñuela",
      "userId": "04868940139927239067"
     },
     "user_tz": -120
    },
    "id": "0932c47c-8f33-4656-9214-c0b6fce1bf64",
    "outputId": "78bf807b-8b86-4f10-f849-65e790e0abab"
   },
   "outputs": [],
   "source": [
    "if padding==True:\n",
    "    categories_size=21\n",
    "\n",
    "if GOOGLE_COLAB==False:\n",
    "    data_dir = '../data/datasets/RAND1000/W50'\n",
    "    models_dir = './SAVED_MODELS'\n",
    "\n",
    "else:\n",
    "    from google.colab import drive\n",
    "    drive.mount('/content/drive')\n",
    "    import sys\n",
    "    #set the path to find RNAEd module\n",
    "    sys.path.insert(0,'/content/drive/MyDrive/ColabNotebooks')    \n",
    "    data_dir  = '/content/drive/MyDrive/DATASETS/RAND1000/W50'\n",
    "    models_dir= '/content/drive/MyDrive/MODELS'"
   ]
  },
  {
   "cell_type": "code",
   "execution_count": 6,
   "id": "d3277a99-0187-4e81-b4e7-a5bb99d7cc27",
   "metadata": {
    "colab": {
     "base_uri": "https://localhost:8080/"
    },
    "executionInfo": {
     "elapsed": 3957,
     "status": "ok",
     "timestamp": 1653155699660,
     "user": {
      "displayName": "Jesús Peñuela",
      "userId": "04868940139927239067"
     },
     "user_tz": -120
    },
    "id": "0932c47c-8f33-4656-9214-c0b6fce1bf64",
    "outputId": "78bf807b-8b86-4f10-f849-65e790e0abab"
   },
   "outputs": [
    {
     "name": "stdout",
     "output_type": "stream",
     "text": [
      "Number of channels: 2 /categories: [['A', 'G', 'C', 'T'], ['s', 'd', 'h', 'i', 'b']]\n",
      "Number of codes=21\n",
      "('A', 's') / 0\n",
      "('A', 'd') / 1\n",
      "('A', 'h') / 2\n",
      "('A', 'i') / 3\n",
      "('A', 'b') / 4\n",
      "('G', 's') / 5\n",
      "('G', 'd') / 6\n",
      "('G', 'h') / 7\n",
      "('G', 'i') / 8\n",
      "('G', 'b') / 9\n",
      "('C', 's') / 10\n",
      "('C', 'd') / 11\n",
      "('C', 'h') / 12\n",
      "('C', 'i') / 13\n",
      "('C', 'b') / 14\n",
      "('T', 's') / 15\n",
      "('T', 'd') / 16\n",
      "('T', 'h') / 17\n",
      "('T', 'i') / 18\n",
      "('T', 'b') / 19\n",
      "('*', '*') / 20\n",
      "Number of codes or categories size: 21\n"
     ]
    }
   ],
   "source": [
    "from rnaed import DataGenerator,DataEncoding\n",
    "encoding=DataEncoding(categories,padding=padding,pad_char=\"*\")\n",
    "n_ch,cat=encoding.getChannels()\n",
    "print(\"Number of channels: {} /categories: {}\".format(n_ch,cat))\n",
    "encoding.print_LUT_TupleToInteger()\n",
    "categories_size=encoding.getNumCodes()\n",
    "print(\"Number of codes or categories size: {}\".format(categories_size))"
   ]
  },
  {
   "cell_type": "code",
   "execution_count": 7,
   "id": "d1f58b95-6aea-45de-af97-5f2964dd413a",
   "metadata": {
    "colab": {
     "base_uri": "https://localhost:8080/"
    },
    "executionInfo": {
     "elapsed": 3957,
     "status": "ok",
     "timestamp": 1653155699660,
     "user": {
      "displayName": "Jesús Peñuela",
      "userId": "04868940139927239067"
     },
     "user_tz": -120
    },
    "id": "0932c47c-8f33-4656-9214-c0b6fce1bf64",
    "outputId": "78bf807b-8b86-4f10-f849-65e790e0abab"
   },
   "outputs": [
    {
     "name": "stdout",
     "output_type": "stream",
     "text": [
      "LAST MODEL FILE: ./SAVED_MODELS\\TFM_LSTMBidiAttention.h5\n",
      "BEST MODEL FILE: ./SAVED_MODELS\\best_model_TFM_LSTMBidiAttention.h5\n"
     ]
    }
   ],
   "source": [
    "#We can save best model and last model\n",
    "best_model = 'best_model_'+model_name+'.h5'\n",
    "last_model =  model_name+'.h5'\n",
    "lastmodelfile = os.path.join(models_dir, last_model)\n",
    "print(\"LAST MODEL FILE: {}\".format(lastmodelfile))\n",
    "bestmodelfile = os.path.join(models_dir, best_model)\n",
    "print(\"BEST MODEL FILE: {}\".format(bestmodelfile))\n",
    "datafile = os.path.join(data_dir, fname)    "
   ]
  },
  {
   "cell_type": "markdown",
   "id": "8c001b8d-f491-45da-a667-9d566df08c38",
   "metadata": {
    "id": "8c001b8d-f491-45da-a667-9d566df08c38",
    "outputId": "dca7aef9-a604-426f-ef3d-725b81ca9baa"
   },
   "source": [
    "We read the data."
   ]
  },
  {
   "cell_type": "code",
   "execution_count": 8,
   "id": "206aec14-c210-499a-9601-09d1443cd01e",
   "metadata": {
    "colab": {
     "base_uri": "https://localhost:8080/"
    },
    "executionInfo": {
     "elapsed": 3484,
     "status": "ok",
     "timestamp": 1653155703139,
     "user": {
      "displayName": "Jesús Peñuela",
      "userId": "04868940139927239067"
     },
     "user_tz": -120
    },
    "id": "206aec14-c210-499a-9601-09d1443cd01e",
    "outputId": "c4e8b25c-c946-41b2-d5ad-d6b3a82208b8"
   },
   "outputs": [
    {
     "name": "stdout",
     "output_type": "stream",
     "text": [
      "DATASET: ../data/datasets/RAND1000/W50\\hg38_RS_DL_ES_NES_rand1000_Pad_W50_BALANCED_1_1_CODED2CH.csv\n",
      "shape dataraw=(306862, 104)\n"
     ]
    }
   ],
   "source": [
    "print(\"DATASET: {}\".format(datafile))\n",
    "dataraw = pd.read_csv(datafile,sep=separator_char)\n",
    "print(\"shape dataraw={}\".format(dataraw.shape))"
   ]
  },
  {
   "cell_type": "markdown",
   "id": "d4689c11-867e-44b1-bb6c-8be3e6628d34",
   "metadata": {
    "id": "d4689c11-867e-44b1-bb6c-8be3e6628d34",
    "outputId": "c6394162-7647-4e1e-a983-2aa4df3a5242"
   },
   "source": [
    "We will divide the data into: train, validation and test.\n",
    "The three datastes should be well balanced."
   ]
  },
  {
   "cell_type": "code",
   "execution_count": 9,
   "id": "0e044074-ce2c-436b-a89c-bece4f06c495",
   "metadata": {
    "colab": {
     "base_uri": "https://localhost:8080/"
    },
    "executionInfo": {
     "elapsed": 14,
     "status": "ok",
     "timestamp": 1653155703139,
     "user": {
      "displayName": "Jesús Peñuela",
      "userId": "04868940139927239067"
     },
     "user_tz": -120
    },
    "id": "0e044074-ce2c-436b-a89c-bece4f06c495",
    "outputId": "0fe88738-fc44-4e9d-9a9d-0923f5b47877"
   },
   "outputs": [
    {
     "name": "stdout",
     "output_type": "stream",
     "text": [
      "<bound method NDFrame.head of         P1  P2  P3  P4  P5  P6  P7  P8  P9  P10  ...  P92  P93  P94  P95  P96  \\\n",
      "0       16  16   1   1   8   3   6   6   6   16  ...    6    1    1   11    6   \n",
      "1       17  12   2   2   6   1  11  11   0    6  ...   11   16    1   11   16   \n",
      "2       15   0   0   0  15   0   0   0  15    0  ...   16    6   16   19    9   \n",
      "3       11  11  16   8   6   6  11   1   1   11  ...   11    1    6   11   16   \n",
      "4       10   0  15  15  16   6   1   6  13    3  ...   10    0    5   15   10   \n",
      "...     ..  ..  ..  ..  ..  ..  ..  ..  ..  ...  ...  ...  ...  ...  ...  ...   \n",
      "306857  12   2  17   7   7  12   2   7  12    2  ...    7    2   16   11    1   \n",
      "306858   6   6   6  16  16  16   1   6   1    6  ...   11    1    1    6    1   \n",
      "306859  11   6   1  11  11  11   6  11   1   11  ...   11   11    6    6   16   \n",
      "306860   8   8   3   8   8   8  18  18  13    1  ...   11    7    2   12   12   \n",
      "306861   1   6   6   6  16  12   2   2  17    7  ...    7    7    2   11   11   \n",
      "\n",
      "        P97  P98  P99  P100  P101  \n",
      "0         1   11    0    11     1  \n",
      "1        16    6    6     6     3  \n",
      "2         6    1    6    18    18  \n",
      "3         1   11   16    16     6  \n",
      "4        15   15   15    15    16  \n",
      "...     ...  ...  ...   ...   ...  \n",
      "306857   11    6   11    11     3  \n",
      "306858    6   16    1    11    16  \n",
      "306859   16    1   17     2    12  \n",
      "306860    2    7    2     7    12  \n",
      "306861   16    8   18     3     6  \n",
      "\n",
      "[306862 rows x 101 columns]>\n"
     ]
    }
   ],
   "source": [
    "X=dataraw.iloc[:,3:]\n",
    "Y=dataraw['EDITING']\n",
    "print(X.head)"
   ]
  },
  {
   "cell_type": "code",
   "execution_count": 10,
   "id": "ae0e9343-353e-4b66-921e-2e2d0966bf5c",
   "metadata": {
    "colab": {
     "base_uri": "https://localhost:8080/"
    },
    "executionInfo": {
     "elapsed": 12,
     "status": "ok",
     "timestamp": 1653155703140,
     "user": {
      "displayName": "Jesús Peñuela",
      "userId": "04868940139927239067"
     },
     "user_tz": -120
    },
    "id": "ae0e9343-353e-4b66-921e-2e2d0966bf5c",
    "outputId": "492cfd9a-2c8a-4b87-bbb9-a47635a3cd62"
   },
   "outputs": [
    {
     "name": "stdout",
     "output_type": "stream",
     "text": [
      "x_train:(214803, 101) y_train:(214803,)\n",
      "x_val: (46029, 101) y_val: (46029,)\n",
      "x_test: (46030, 101) y_test: (46030,)\n",
      "TRAIN LABELS:\n",
      "0    107410\n",
      "1    107393\n",
      "Name: EDITING, dtype: int64\n",
      "VALIDATION LABELS:\n",
      "1    23069\n",
      "0    22960\n",
      "Name: EDITING, dtype: int64\n",
      "TEST LABELS:\n",
      "0    23061\n",
      "1    22969\n",
      "Name: EDITING, dtype: int64\n"
     ]
    }
   ],
   "source": [
    "# Train and Validation+Test\n",
    "x_train, x_val_test, y_train, y_val_test = train_test_split(X, Y, test_size=1-ptrain, random_state=random_seed)\n",
    "#Validation and test: 0.5/0.5\n",
    "x_val, x_test, y_val, y_test = train_test_split(x_val_test, y_val_test, test_size=0.5, random_state=random_seed)\n",
    "\n",
    "print(\"x_train:{} y_train:{}\".format(x_train.shape,y_train.shape))\n",
    "print(\"x_val: {} y_val: {}\".format(x_val.shape,y_val.shape))\n",
    "print(\"x_test: {} y_test: {}\".format(x_test.shape,y_test.shape))\n",
    "print(\"TRAIN LABELS:\")\n",
    "print(y_train.value_counts())\n",
    "print(\"VALIDATION LABELS:\")\n",
    "print(y_val.value_counts())\n",
    "print(\"TEST LABELS:\")\n",
    "print(y_test.value_counts())"
   ]
  },
  {
   "cell_type": "markdown",
   "id": "6da206f4-e9f8-4b63-a2c3-eb8488556381",
   "metadata": {
    "id": "6da206f4-e9f8-4b63-a2c3-eb8488556381"
   },
   "source": [
    "We instantiate 3 DataGenerator objects that convert from integer to one-hot"
   ]
  },
  {
   "cell_type": "code",
   "execution_count": 11,
   "id": "801f208a-c441-4bb4-b300-642edd73d955",
   "metadata": {
    "id": "801f208a-c441-4bb4-b300-642edd73d955"
   },
   "outputs": [],
   "source": [
    "#DataGenerator converts on the fly from raw data to one-hot\n",
    "num_nucleosides = x_train.shape[1]\n",
    "num_tokens = categories_size\n",
    "\n",
    "training_generator   = DataGenerator(x_train, y_train, batch_size=batch_size, seq_size=num_nucleosides, categories_size=categories_size, shuffle=True)\n",
    "validation_generator = DataGenerator(x_val,   y_val,   batch_size=batch_size, seq_size=num_nucleosides, categories_size=categories_size, shuffle=True)\n",
    "test_generator       = DataGenerator(x_test,  y_test,  batch_size=1,seq_size=num_nucleosides, categories_size=categories_size, shuffle=False )"
   ]
  },
  {
   "cell_type": "markdown",
   "id": "ddddf12b-b24f-4b5e-9540-6e49d380ff2d",
   "metadata": {
    "id": "ddddf12b-b24f-4b5e-9540-6e49d380ff2d",
    "outputId": "eb581962-8561-491c-822c-04e260bcf0cd"
   },
   "source": [
    "## Attention Layer"
   ]
  },
  {
   "cell_type": "code",
   "execution_count": 12,
   "id": "204b561c-65d2-43a4-8ee2-dd1d7148d93e",
   "metadata": {
    "id": "204b561c-65d2-43a4-8ee2-dd1d7148d93e"
   },
   "outputs": [],
   "source": [
    "from keras.layers import *\n",
    "from keras.models import *\n",
    "from keras import backend as K\n",
    "\n",
    "class attention(Layer):\n",
    "    ''' heredamos de la clase layer '''\n",
    "    def __init__(self):\n",
    "        super(attention,self).__init__()\n",
    "    \n",
    "    #En el método build definimos los pesos\n",
    "    def build(self, input_shape):\n",
    "        # Define the shape of the weights and bias in this layer\n",
    "        # The layer has just 1 lonely neuron\n",
    "        \n",
    "        # For convenience sake, add a couple of properties\n",
    "        self.num_dim_pernucleoside = input_shape[-1] ## 512 dimension del vector de contexto.\n",
    "        self.nucleosides_persequence = input_shape[-2]  ## 101 número de timesteps de la secuencia\n",
    "        num_units = 1\n",
    "        \n",
    "        \n",
    "        #Weights shape=(512,1), recordemos que la red neuronal capa oculta tiene un peso por dimensión.\n",
    "        self.W=self.add_weight(name=\"att_weight\", shape=(self.num_dim_pernucleoside,num_units),\n",
    "                               initializer=\"normal\")\n",
    "        #bias  shape=(101,1), hay un bias por cada timestep, palabra o nucleótido.\n",
    "        self.b=self.add_weight(name=\"att_bias\", shape=(self.nucleosides_persequence,num_units),\n",
    "                               initializer=\"zeros\")\n",
    "        super(attention,self).build(input_shape)\n",
    "    \n",
    "    #en el método call definimos la lógica\n",
    "    #esta es la implementación clásica\n",
    "    def call_classic(self, x):\n",
    "        # x is the input tensor of 2 x num_units = 512 dimensions\n",
    "        \"\"\" We multiply the inputs ‘x’ of shape (101,512) by the layer weights ‘w’ \n",
    "        of shape (512 , 1) and obtain a (101,1) values (future attention weights). We add the bias (101,1) \n",
    "        and pass the output through any activation layer to form a neural network. So we now have 101 * 1 values and \n",
    "        We take a softmax of these values. Softmax squashes these into values in the \n",
    "        range between 0, and 1 whose sum is 1. These are the 101 attention weights. \n",
    "        We multiply each attention weight by the respective nucleoside hidden state and sum up and we are done. \n",
    "        We now have the ‘attention adjusted output’ state ready to be fed to the next dense layer for classification.\"\"\"\n",
    "        \n",
    "        #e = K.squeeze(K.tanh(K.dot(x,self.W)+self.b),axis=-1)  # Necesario en algunos frameworks\n",
    "        e = K.tanh(K.dot(x,self.W)+self.b) #Red neuronal densa de una neurona con una matriz de pesos W y un vector de bias\n",
    "        a = K.softmax(e, axis=1) #hacemos softmax para normalizar y que los pesos sumen 1.\n",
    "        # Multiplicamos cada hidden state por cada peso (101,512)*(101,1)=(101,512). \n",
    "        # No es matricial, sino componente a componente \n",
    "        output = x*a \n",
    "        #Sumamos los 101 hidden states y se obtiene un hidden state suma de dimensión (101,512)\n",
    "        #También se retornan los pesos a (101,1)\n",
    "        return a, K.sum(output, axis=1)\n",
    "  \n",
    "    #esta implementación es más robusta\n",
    "    def call(self, x):\n",
    "        \"\"\" Es lo mismo de antes pero más robusto a distintos frameworks\"\"\"\n",
    "        e = K.tanh(K.dot(x,self.W)+self.b) # dimensiones (101,512)(512,1)+(101,1)=(101,1)\n",
    "        e = Flatten()(e) #(?,101)\n",
    "        a = Activation('softmax')(e) #(?,101)\n",
    "        # Repite 512 veces los 101 pesos (?,101) = (?,512,101)\n",
    "        temp = RepeatVector(self.num_dim_pernucleoside)(a)\n",
    "        #Permuta (?,512,101) por (?,101,512) para poder multiplicar componente a \n",
    "        #componente después\n",
    "        temp = Permute([2,1])(temp) \n",
    "        # Multiplicamnos por cada peso todas las componentes de todos los hidden states\n",
    "        # hidden state X=(101,512) pesos=temp=(101,512)\n",
    "        # el truco aquí es que cada fila de pesos es una repetición de 512 pesos iguales.\n",
    "        output = Multiply()([x,temp])\n",
    "        #Finalmente sumamos todas las filas y obtenemos así el hidden state ponderado\n",
    "        output = Lambda(lambda values: K.sum(values, axis=1))(output)\n",
    "        #Retornamos los pesos de atención y la suma de los hidden states.\n",
    "        return a, output"
   ]
  },
  {
   "cell_type": "markdown",
   "id": "77ef2548-0324-428e-9211-2f524ed4cbbe",
   "metadata": {
    "id": "77ef2548-0324-428e-9211-2f524ed4cbbe",
    "outputId": "eb581962-8561-491c-822c-04e260bcf0cd"
   },
   "source": [
    "## Model defined from the scratch"
   ]
  },
  {
   "cell_type": "code",
   "execution_count": 13,
   "id": "857b34b7-ddaa-465a-8f3b-69e9e321fd2c",
   "metadata": {
    "colab": {
     "base_uri": "https://localhost:8080/"
    },
    "executionInfo": {
     "elapsed": 1158,
     "status": "ok",
     "timestamp": 1653155704288,
     "user": {
      "displayName": "Jesús Peñuela",
      "userId": "04868940139927239067"
     },
     "user_tz": -120
    },
    "id": "857b34b7-ddaa-465a-8f3b-69e9e321fd2c",
    "outputId": "350bb811-0298-4795-dc7c-1ccd23287cd4"
   },
   "outputs": [
    {
     "name": "stdout",
     "output_type": "stream",
     "text": [
      "Number of units=256\n",
      "Model: \"TFM_LSTMBidiAttention\"\n",
      "__________________________________________________________________________________________________\n",
      " Layer (type)                   Output Shape         Param #     Connected to                     \n",
      "==================================================================================================\n",
      " INPUTS (InputLayer)            [(None, 101, 21)]    0           []                               \n",
      "                                                                                                  \n",
      " LSTM_BI (Bidirectional)        (None, 101, 512)     569344      ['INPUTS[0][0]']                 \n",
      "                                                                                                  \n",
      " dropout (Dropout)              (None, 101, 512)     0           ['LSTM_BI[0][0]']                \n",
      "                                                                                                  \n",
      " dense (Dense)                  (None, 101, 1)       513         ['dropout[0][0]']                \n",
      "                                                                                                  \n",
      " flatten (Flatten)              (None, 101)          0           ['dense[0][0]']                  \n",
      "                                                                                                  \n",
      " activation (Activation)        (None, 101)          0           ['flatten[0][0]']                \n",
      "                                                                                                  \n",
      " repeat_vector (RepeatVector)   (None, 512, 101)     0           ['activation[0][0]']             \n",
      "                                                                                                  \n",
      " permute (Permute)              (None, 101, 512)     0           ['repeat_vector[0][0]']          \n",
      "                                                                                                  \n",
      " multiply (Multiply)            (None, 101, 512)     0           ['dropout[0][0]',                \n",
      "                                                                  'permute[0][0]']                \n",
      "                                                                                                  \n",
      " lambda (Lambda)                (None, 512)          0           ['multiply[0][0]']               \n",
      "                                                                                                  \n",
      " OUTPUT (Dense)                 (None, 1)            513         ['lambda[0][0]']                 \n",
      "                                                                                                  \n",
      "==================================================================================================\n",
      "Total params: 570,370\n",
      "Trainable params: 570,370\n",
      "Non-trainable params: 0\n",
      "__________________________________________________________________________________________________\n",
      "None\n"
     ]
    }
   ],
   "source": [
    "#MODELOS REDES NEURONALES LSTM CON CAPAS DE ATENCIÓN\n",
    "# Import the libraries required in this example:\n",
    "\n",
    "num_nucleosides = x_train.shape[1]\n",
    "num_tokens = categories_size\n",
    "print(\"Number of units={}\".format(num_lstm_units))\n",
    "#Definimos la estructura con el Functional model\n",
    "inputs = keras.Input(shape=(num_nucleosides,num_tokens), name=\"INPUTS\")\n",
    "lstm_out   = layers.Bidirectional(layers.LSTM(num_lstm_units,return_sequences=True), name=\"LSTM_BI\")(inputs)\n",
    "dropout= layers.Dropout(0.2)(lstm_out)\n",
    "\n",
    "#===============================\n",
    "#METHOD 1: using a custom layer:\n",
    "#===============================\n",
    "#La salida de la capa bidireccional será de 1 batch=None numero de secuencias, \n",
    "#de 101 nucleosidos(timesteps=50+1+50) de 2 x número_unidades=2*256=512\n",
    "#Es decir (None,101,512)\n",
    "#---------uncomment here--------------------\n",
    "#a ,att_d = attention()(dropout)\n",
    "#-----------------------------\n",
    "#La capa de atención debe retornarnos un peso para cada hidden state \n",
    "#correspondiente a cada elemento de la secuencia o timestep\n",
    "#es decir, nos debe dar un peso por cada nucleósido, es decir, nos debe dar (101,1)\n",
    "#Como son pesos probabilisticos deben sumar 1.\n",
    "#Pero realmente no queremos esos pesos, sino la suma de los 101 hidden states \n",
    "#de dimensión 512 ponderados por esos pesos que es lo que conforma el verdadero contexto, \n",
    "# y que tendrá dimensión (None,1,512).\n",
    "#Esta salida es lo que se llama el \"attention adjusted output state\".\n",
    "#Para ello, nuestra capa de atención debe entrenar (101,1) pesos, ya que debemos \n",
    "#entrenar un peso por cada dimensión del espacio vectorial del contexto.\n",
    "#Pero ojo, esos no son los pesos de la red neuronal de la capa de atención, porque si nuestra\n",
    "#red neuronal de atención tuviera 101 pesos, serían posicionales y deben ser calculados por el \n",
    "#valor semántico de los nucleótidos (si fueran palabras por su significado, no por su posición)\n",
    "\n",
    "#Nuestra red neuronal de atención debe atender al \"significado\" de las palabras, es decir,\n",
    "#a la codificación de cada nucleótido en el vector de estados \n",
    "#de la LSTM que tiene dimensión 512. Por lo tanto el número de pesos de la  red de atención \n",
    "# es de (512,1). Son los pesos de las 512 conexiones de la neurona de esta capa.\n",
    "\n",
    "#Durante el entrenamiento multiplicaremos matricialmente todos los nucleótidos de la \n",
    "#secuencia (101), con su codificación LSTMbidi(512), por los pesos de la capa de atención(512) y eso \n",
    "#nos dará los 101 pesos de atención:\n",
    "#(101,512) x (512,1) = (101,1) los pesos de atención\n",
    "#(512,1) son los pesos de la capa.\n",
    "\n",
    "#Ahora entendemos por qué los pesos de atención no son constantes\n",
    "#sino que para cada secuencia cambian:\n",
    "#En una red ya entrenada:\n",
    "#  (101,512)[variable] x (512,1)[constante] = (101,1)[variable]\n",
    "\n",
    "#===============================================================\n",
    "\n",
    "#===============================\n",
    "#METHOD 2: using regular layers:\n",
    "#===============================\n",
    "\n",
    "#---------uncomment here--------------------\n",
    "e=Dense(1, activation='tanh')(dropout) #Capa de atención\n",
    "e=Flatten()(e)\n",
    "# Self-Attention weights: a\n",
    "#--------------------------\n",
    "a=Activation('softmax')(e) #Softmax para que sumen 1 los pesos de atención.\n",
    "#--------------------------\n",
    "temp=RepeatVector(2*num_lstm_units)(a)\n",
    "temp=Permute([2, 1])(temp)\n",
    "# multiply weight with LSTM layer o/p\n",
    "output = merge.Multiply()([dropout, temp])\n",
    "# Get the attention adjusted output state by adding up\n",
    "att = Lambda(lambda values: K.sum(values, axis=1))(output)\n",
    "#-----------------------------\n",
    "\n",
    "#===============================================================\n",
    "outputs= layers.Dense(1, activation='sigmoid', name=\"OUTPUT\")(att)\n",
    "#Creamos el modelo\n",
    "model_from_scratch  = keras.Model(inputs=inputs, outputs=outputs, name=model_name)\n",
    "\n",
    "#Mostramos el modelo\n",
    "print(model_from_scratch.summary())"
   ]
  },
  {
   "cell_type": "code",
   "execution_count": 14,
   "id": "ddc47876-f37d-49b9-8927-208034317df9",
   "metadata": {
    "id": "ddc47876-f37d-49b9-8927-208034317df9"
   },
   "outputs": [],
   "source": [
    "#Compilation reset all weights\n",
    "model_from_scratch.compile(optimizer=keras.optimizers.Adam(),\n",
    "                           loss     =keras.losses.BinaryCrossentropy(),\n",
    "                           metrics  =[keras.metrics.BinaryAccuracy()])\n",
    "\n",
    "model=model_from_scratch"
   ]
  },
  {
   "cell_type": "markdown",
   "id": "9WyvcKhMJSEE",
   "metadata": {
    "id": "9WyvcKhMJSEE"
   },
   "source": [
    "Recover last model, best model or generate a new model"
   ]
  },
  {
   "cell_type": "code",
   "execution_count": 15,
   "id": "643c51c7-f1ee-489b-b306-fbf948a07a51",
   "metadata": {
    "colab": {
     "base_uri": "https://localhost:8080/"
    },
    "executionInfo": {
     "elapsed": 13,
     "status": "ok",
     "timestamp": 1653155704289,
     "user": {
      "displayName": "Jesús Peñuela",
      "userId": "04868940139927239067"
     },
     "user_tz": -120
    },
    "id": "643c51c7-f1ee-489b-b306-fbf948a07a51",
    "outputId": "bfae009b-2b57-45ee-a2e4-55798581e3b4"
   },
   "outputs": [
    {
     "name": "stdout",
     "output_type": "stream",
     "text": [
      "Selected new untrained model\n",
      "Model: \"TFM_LSTMBidiAttention\"\n",
      "__________________________________________________________________________________________________\n",
      " Layer (type)                   Output Shape         Param #     Connected to                     \n",
      "==================================================================================================\n",
      " INPUTS (InputLayer)            [(None, 101, 21)]    0           []                               \n",
      "                                                                                                  \n",
      " LSTM_BI (Bidirectional)        (None, 101, 512)     569344      ['INPUTS[0][0]']                 \n",
      "                                                                                                  \n",
      " dropout (Dropout)              (None, 101, 512)     0           ['LSTM_BI[0][0]']                \n",
      "                                                                                                  \n",
      " dense (Dense)                  (None, 101, 1)       513         ['dropout[0][0]']                \n",
      "                                                                                                  \n",
      " flatten (Flatten)              (None, 101)          0           ['dense[0][0]']                  \n",
      "                                                                                                  \n",
      " activation (Activation)        (None, 101)          0           ['flatten[0][0]']                \n",
      "                                                                                                  \n",
      " repeat_vector (RepeatVector)   (None, 512, 101)     0           ['activation[0][0]']             \n",
      "                                                                                                  \n",
      " permute (Permute)              (None, 101, 512)     0           ['repeat_vector[0][0]']          \n",
      "                                                                                                  \n",
      " multiply (Multiply)            (None, 101, 512)     0           ['dropout[0][0]',                \n",
      "                                                                  'permute[0][0]']                \n",
      "                                                                                                  \n",
      " lambda (Lambda)                (None, 512)          0           ['multiply[0][0]']               \n",
      "                                                                                                  \n",
      " OUTPUT (Dense)                 (None, 1)            513         ['lambda[0][0]']                 \n",
      "                                                                                                  \n",
      "==================================================================================================\n",
      "Total params: 570,370\n",
      "Trainable params: 570,370\n",
      "Non-trainable params: 0\n",
      "__________________________________________________________________________________________________\n"
     ]
    }
   ],
   "source": [
    "#Load the trained model from disk\n",
    "import os.path\n",
    "\n",
    "best_model_accuracy =0\n",
    "last_model_accuracy =0\n",
    "\n",
    "if os.path.exists(bestmodelfile):\n",
    "    model = tf.keras.models.load_model(bestmodelfile)\n",
    "    print(\"Testing best model file: {}\".format(bestmodelfile))\n",
    "    results = model.evaluate(validation_generator,verbose=1)\n",
    "    best_model_accuracy = results[1]\n",
    "    print(\"best model accuracy: {}\".format(best_model_accuracy))    \n",
    "\n",
    "if os.path.exists(lastmodelfile):\n",
    "    model = tf.keras.models.load_model(lastmodelfile)\n",
    "    print(\"Testing last complete model file: {}\".format(lastmodelfile))\n",
    "    results = model.evaluate(validation_generator,verbose=1)\n",
    "    last_model_accuracy = results[1]\n",
    "    print(\"last model accuracy: {}\".format(last_model_accuracy))           \n",
    "\n",
    "\n",
    "if best_model_accuracy > last_model_accuracy:\n",
    "   model = tf.keras.models.load_model(bestmodelfile)\n",
    "   print(\"Selected best model saved: {}\".format(bestmodelfile))\n",
    "else:\n",
    "  if last_model_accuracy > best_model_accuracy:\n",
    "     print(\"Selected last model saved: {}\".format(lastmodelfile))\n",
    "  else:\n",
    "     print(\"Selected new untrained model\")\n",
    "\n",
    "\n",
    "# Show the model architecture\n",
    "model.summary()"
   ]
  },
  {
   "cell_type": "code",
   "execution_count": 16,
   "id": "644b1c7b-7c45-4483-88fc-e60a012edba0",
   "metadata": {
    "colab": {
     "base_uri": "https://localhost:8080/",
     "height": 1000
    },
    "executionInfo": {
     "elapsed": 1197,
     "status": "ok",
     "timestamp": 1653155705481,
     "user": {
      "displayName": "Jesús Peñuela",
      "userId": "04868940139927239067"
     },
     "user_tz": -120
    },
    "id": "644b1c7b-7c45-4483-88fc-e60a012edba0",
    "outputId": "fe276735-c288-4eee-ab6f-c3a5a284f02c"
   },
   "outputs": [
    {
     "data": {
      "image/png": "[encoded data removed]",
      "text/plain": [
       "<IPython.core.display.Image object>"
      ]
     },
     "execution_count": 16,
     "metadata": {},
     "output_type": "execute_result"
    }
   ],
   "source": [
    "keras.utils.plot_model(model, show_shapes=True)"
   ]
  },
  {
   "cell_type": "code",
   "execution_count": 16,
   "id": "84d28828-8ee5-4bc6-8b97-1e06ab60c519",
   "metadata": {
    "id": "84d28828-8ee5-4bc6-8b97-1e06ab60c519"
   },
   "outputs": [],
   "source": [
    "from keras.callbacks import ModelCheckpoint,EarlyStopping\n",
    "\n",
    "checkpoint = ModelCheckpoint(bestmodelfile, \n",
    "                             monitor='val_loss', \n",
    "                             verbose=1,\n",
    "                             save_best_only=True, \n",
    "                             mode='auto', \n",
    "                             save_freq='epoch')\n",
    "\n",
    "callback=EarlyStopping(monitor='val_loss', \n",
    "                       min_delta=0, \n",
    "                       patience=3, \n",
    "                       verbose=1, \n",
    "                       mode='auto',\n",
    "                       baseline=None, \n",
    "                       restore_best_weights=True)"
   ]
  },
  {
   "cell_type": "code",
   "execution_count": null,
   "id": "22345410-c762-42e4-9767-5ef8b1edb003",
   "metadata": {
    "colab": {
     "base_uri": "https://localhost:8080/"
    },
    "executionInfo": {
     "elapsed": 5697106,
     "status": "ok",
     "timestamp": 1653170653646,
     "user": {
      "displayName": "Jesús Peñuela",
      "userId": "04868940139927239067"
     },
     "user_tz": -120
    },
    "id": "2c010059-0891-4e9e-b052-692596e89876",
    "outputId": "cdaea5a6-0834-49d0-973d-58f4b71749cd"
   },
   "outputs": [
    {
     "name": "stdout",
     "output_type": "stream",
     "text": [
      "Epoch 1/20\n",
      "6712/6712 [==============================] - ETA: 0s - loss: 0.3517 - binary_accuracy: 0.8684\n",
      "Epoch 1: val_loss improved from inf to 0.28409, saving model to /content/drive/MyDrive/MODELS/best_model_TFM_LSTMBidiAttention.h5\n",
      "6712/6712 [==============================] - 767s 113ms/step - loss: 0.3517 - binary_accuracy: 0.8684 - val_loss: 0.2841 - val_binary_accuracy: 0.9056\n",
      "Epoch 2/20\n",
      "6712/6712 [==============================] - ETA: 0s - loss: 0.2662 - binary_accuracy: 0.9161\n",
      "Epoch 2: val_loss improved from 0.28409 to 0.25372, saving model to /content/drive/MyDrive/MODELS/best_model_TFM_LSTMBidiAttention.h5\n",
      "6712/6712 [==============================] - 752s 112ms/step - loss: 0.2662 - binary_accuracy: 0.9161 - val_loss: 0.2537 - val_binary_accuracy: 0.9220\n",
      "Epoch 3/20\n",
      "6712/6712 [==============================] - ETA: 0s - loss: 0.2450 - binary_accuracy: 0.9244\n",
      "Epoch 3: val_loss improved from 0.25372 to 0.24014, saving model to /content/drive/MyDrive/MODELS/best_model_TFM_LSTMBidiAttention.h5\n",
      "6712/6712 [==============================] - 746s 111ms/step - loss: 0.2450 - binary_accuracy: 0.9244 - val_loss: 0.2401 - val_binary_accuracy: 0.9263\n",
      "Epoch 4/20\n",
      "6712/6712 [==============================] - ETA: 0s - loss: 0.2256 - binary_accuracy: 0.9300\n",
      "Epoch 4: val_loss improved from 0.24014 to 0.22247, saving model to /content/drive/MyDrive/MODELS/best_model_TFM_LSTMBidiAttention.h5\n",
      "6712/6712 [==============================] - 743s 111ms/step - loss: 0.2256 - binary_accuracy: 0.9300 - val_loss: 0.2225 - val_binary_accuracy: 0.9310\n",
      "Epoch 5/20\n",
      "6712/6712 [==============================] - ETA: 0s - loss: 0.2050 - binary_accuracy: 0.9363\n",
      "Epoch 5: val_loss improved from 0.22247 to 0.21052, saving model to /content/drive/MyDrive/MODELS/best_model_TFM_LSTMBidiAttention.h5\n",
      "6712/6712 [==============================] - 743s 111ms/step - loss: 0.2050 - binary_accuracy: 0.9363 - val_loss: 0.2105 - val_binary_accuracy: 0.9341\n",
      "Epoch 6/20\n",
      "6712/6712 [==============================] - ETA: 0s - loss: 0.1868 - binary_accuracy: 0.9427\n",
      "Epoch 6: val_loss improved from 0.21052 to 0.19686, saving model to /content/drive/MyDrive/MODELS/best_model_TFM_LSTMBidiAttention.h5\n",
      "6712/6712 [==============================] - 744s 111ms/step - loss: 0.1868 - binary_accuracy: 0.9427 - val_loss: 0.1969 - val_binary_accuracy: 0.9395\n",
      "Epoch 7/20\n",
      "6712/6712 [==============================] - ETA: 0s - loss: 0.1739 - binary_accuracy: 0.9469\n",
      "Epoch 7: val_loss improved from 0.19686 to 0.18789, saving model to /content/drive/MyDrive/MODELS/best_model_TFM_LSTMBidiAttention.h5\n",
      "6712/6712 [==============================] - 745s 111ms/step - loss: 0.1739 - binary_accuracy: 0.9469 - val_loss: 0.1879 - val_binary_accuracy: 0.9429\n",
      "Epoch 8/20\n",
      "6712/6712 [==============================] - ETA: 0s - loss: 0.1631 - binary_accuracy: 0.9503\n",
      "Epoch 8: val_loss improved from 0.18789 to 0.18572, saving model to /content/drive/MyDrive/MODELS/best_model_TFM_LSTMBidiAttention.h5\n",
      "6712/6712 [==============================] - 746s 111ms/step - loss: 0.1631 - binary_accuracy: 0.9503 - val_loss: 0.1857 - val_binary_accuracy: 0.9443\n",
      "Epoch 9/20\n",
      "6712/6712 [==============================] - ETA: 0s - loss: 0.1548 - binary_accuracy: 0.9532\n",
      "Epoch 9: val_loss improved from 0.18572 to 0.17736, saving model to /content/drive/MyDrive/MODELS/best_model_TFM_LSTMBidiAttention.h5\n",
      "6712/6712 [==============================] - 747s 111ms/step - loss: 0.1548 - binary_accuracy: 0.9532 - val_loss: 0.1774 - val_binary_accuracy: 0.9463\n",
      "Epoch 10/20\n",
      "6712/6712 [==============================] - ETA: 0s - loss: 0.1488 - binary_accuracy: 0.9548\n",
      "Epoch 10: val_loss improved from 0.17736 to 0.17611, saving model to /content/drive/MyDrive/MODELS/best_model_TFM_LSTMBidiAttention.h5\n",
      "6712/6712 [==============================] - 747s 111ms/step - loss: 0.1488 - binary_accuracy: 0.9548 - val_loss: 0.1761 - val_binary_accuracy: 0.9471\n",
      "Epoch 11/20\n",
      "6712/6712 [==============================] - ETA: 0s - loss: 0.1434 - binary_accuracy: 0.9562\n",
      "Epoch 11: val_loss improved from 0.17611 to 0.17425, saving model to /content/drive/MyDrive/MODELS/best_model_TFM_LSTMBidiAttention.h5\n",
      "6712/6712 [==============================] - 746s 111ms/step - loss: 0.1434 - binary_accuracy: 0.9562 - val_loss: 0.1743 - val_binary_accuracy: 0.9483\n",
      "Epoch 12/20\n",
      "6712/6712 [==============================] - ETA: 0s - loss: 0.1374 - binary_accuracy: 0.9579\n",
      "Epoch 12: val_loss improved from 0.17425 to 0.17260, saving model to /content/drive/MyDrive/MODELS/best_model_TFM_LSTMBidiAttention.h5\n",
      "6712/6712 [==============================] - 747s 111ms/step - loss: 0.1374 - binary_accuracy: 0.9579 - val_loss: 0.1726 - val_binary_accuracy: 0.9481\n",
      "Epoch 13/20\n",
      "6712/6712 [==============================] - ETA: 0s - loss: 0.1324 - binary_accuracy: 0.9595\n",
      "Epoch 13: val_loss did not improve from 0.17260\n",
      "6712/6712 [==============================] - 746s 111ms/step - loss: 0.1324 - binary_accuracy: 0.9595 - val_loss: 0.1750 - val_binary_accuracy: 0.9487\n",
      "Epoch 14/20\n",
      "6712/6712 [==============================] - ETA: 0s - loss: 0.1290 - binary_accuracy: 0.9604\n",
      "Epoch 14: val_loss improved from 0.17260 to 0.17148, saving model to /content/drive/MyDrive/MODELS/best_model_TFM_LSTMBidiAttention.h5\n",
      "6712/6712 [==============================] - 745s 111ms/step - loss: 0.1290 - binary_accuracy: 0.9604 - val_loss: 0.1715 - val_binary_accuracy: 0.9494\n",
      "Epoch 15/20\n",
      "6712/6712 [==============================] - ETA: 0s - loss: 0.1248 - binary_accuracy: 0.9612\n",
      "Epoch 15: val_loss did not improve from 0.17148\n",
      "6712/6712 [==============================] - 745s 111ms/step - loss: 0.1248 - binary_accuracy: 0.9612 - val_loss: 0.1748 - val_binary_accuracy: 0.9485\n",
      "Epoch 16/20\n",
      "6712/6712 [==============================] - ETA: 0s - loss: 0.1200 - binary_accuracy: 0.9625\n",
      "Epoch 16: val_loss improved from 0.17148 to 0.17141, saving model to /content/drive/MyDrive/MODELS/best_model_TFM_LSTMBidiAttention.h5\n",
      "6712/6712 [==============================] - 746s 111ms/step - loss: 0.1200 - binary_accuracy: 0.9625 - val_loss: 0.1714 - val_binary_accuracy: 0.9495\n",
      "Epoch 17/20\n",
      "6712/6712 [==============================] - ETA: 0s - loss: 0.1151 - binary_accuracy: 0.9640\n",
      "Epoch 17: val_loss improved from 0.17141 to 0.17119, saving model to /content/drive/MyDrive/MODELS/best_model_TFM_LSTMBidiAttention.h5\n",
      "6712/6712 [==============================] - 749s 112ms/step - loss: 0.1151 - binary_accuracy: 0.9640 - val_loss: 0.1712 - val_binary_accuracy: 0.9488\n",
      "Epoch 18/20\n",
      "6712/6712 [==============================] - ETA: 0s - loss: 0.1112 - binary_accuracy: 0.9647\n",
      "Epoch 18: val_loss did not improve from 0.17119\n",
      "6712/6712 [==============================] - 747s 111ms/step - loss: 0.1112 - binary_accuracy: 0.9647 - val_loss: 0.1733 - val_binary_accuracy: 0.9505\n",
      "Epoch 19/20\n",
      "6712/6712 [==============================] - ETA: 0s - loss: 0.1067 - binary_accuracy: 0.9653\n",
      "Epoch 19: val_loss did not improve from 0.17119\n",
      "6712/6712 [==============================] - 749s 112ms/step - loss: 0.1067 - binary_accuracy: 0.9653 - val_loss: 0.1823 - val_binary_accuracy: 0.9495\n",
      "Epoch 20/20\n",
      "6712/6712 [==============================] - ETA: 0s - loss: 0.1030 - binary_accuracy: 0.9665\n",
      "Epoch 20: val_loss did not improve from 0.17119\n",
      "Restoring model weights from the end of the best epoch: 17.\n",
      "6712/6712 [==============================] - 749s 112ms/step - loss: 0.1030 - binary_accuracy: 0.9665 - val_loss: 0.1864 - val_binary_accuracy: 0.9472\n",
      "Epoch 20: early stopping\n"
     ]
    }
   ],
   "source": [
    "with tf.device(device_name):#Use GPU if available\n",
    "    history=model.fit(training_generator,epochs=n_epochs,\n",
    "                      validation_data=validation_generator,\n",
    "                      callbacks=[checkpoint,callback],verbose=trace_level)"
   ]
  },
  {
   "cell_type": "code",
   "execution_count": null,
   "id": "c8edd824-ea63-46fa-a917-5e41dbd3422c",
   "metadata": {
    "colab": {
     "base_uri": "https://localhost:8080/"
    },
    "executionInfo": {
     "elapsed": 14,
     "status": "ok",
     "timestamp": 1653170653647,
     "user": {
      "displayName": "Jesús Peñuela",
      "userId": "04868940139927239067"
     },
     "user_tz": -120
    },
    "id": "c8edd824-ea63-46fa-a917-5e41dbd3422c",
    "outputId": "c8d69b95-70b0-49bb-bfbe-d797f79aef2e"
   },
   "outputs": [
    {
     "name": "stdout",
     "output_type": "stream",
     "text": [
      "Trained epochs: 20 of 20\n"
     ]
    }
   ],
   "source": [
    "#We always save the last model.\n",
    "#Last model can be triggered by early stopping\n",
    "n_epochs_trained = len(history.history['loss'])\n",
    "print(\"Trained epochs: {} of {}\".format(n_epochs_trained,n_epochs))\n",
    "model.save(lastmodelfile)    "
   ]
  },
  {
   "cell_type": "code",
   "execution_count": null,
   "id": "634fb710-78e7-4734-b41f-eccd0a9ff589",
   "metadata": {
    "colab": {
     "base_uri": "https://localhost:8080/",
     "height": 551
    },
    "executionInfo": {
     "elapsed": 569,
     "status": "ok",
     "timestamp": 1653170654209,
     "user": {
      "displayName": "Jesús Peñuela",
      "userId": "04868940139927239067"
     },
     "user_tz": -120
    },
    "id": "634fb710-78e7-4734-b41f-eccd0a9ff589",
    "outputId": "4f67a633-f93e-4cfe-c29d-6a8bfc4c86e2"
   },
   "outputs": [
    {
     "data": {
      "image/png": "[encoded data removed]",
      "text/plain": [
       "<Figure size 432x288 with 1 Axes>"
      ]
     },
     "metadata": {
      "needs_background": "light"
     },
     "output_type": "display_data"
    },
    {
     "data": {
      "image/png": "[encoded data removed]",
      "text/plain": [
       "<Figure size 432x288 with 1 Axes>"
      ]
     },
     "metadata": {
      "needs_background": "light"
     },
     "output_type": "display_data"
    }
   ],
   "source": [
    "#PLOT ACCURACY AND LOSS\n",
    "\n",
    "acc = history.history['binary_accuracy']\n",
    "val_acc = history.history['val_binary_accuracy']\n",
    "loss = history.history['loss']\n",
    "val_loss = history.history['val_loss']\n",
    "\n",
    "epochs = range(1, len(acc) + 1)\n",
    "\n",
    "plt.plot(epochs, acc, 'bo', label='Training acc')\n",
    "plt.plot(epochs, val_acc, 'b', label='Validation acc')\n",
    "plt.title('Training and validation accuracy')\n",
    "plt.legend()\n",
    "plt.figure()\n",
    "plt.plot(epochs, loss, 'bo', label='Training loss')\n",
    "plt.plot(epochs, val_loss, 'b', label='Validation loss')\n",
    "plt.title('Training and validation loss')\n",
    "plt.legend()\n",
    "plt.show()"
   ]
  },
  {
   "cell_type": "markdown",
   "id": "c366e2cf-105b-4007-8732-9c3f330f9cb2",
   "metadata": {
    "id": "c366e2cf-105b-4007-8732-9c3f330f9cb2",
    "outputId": "c72777c6-5a20-481f-c89e-89ed00121599"
   },
   "source": [
    "We recover the best model saved."
   ]
  },
  {
   "cell_type": "code",
   "execution_count": null,
   "id": "d657a2d3-548a-4475-a171-831406ed1140",
   "metadata": {
    "id": "d657a2d3-548a-4475-a171-831406ed1140"
   },
   "outputs": [],
   "source": [
    "if os.path.exists(bestmodelfile):\n",
    "    model = tf.keras.models.load_model(bestmodelfile)"
   ]
  },
  {
   "cell_type": "markdown",
   "id": "4a11909c-fe48-433d-a1ab-b038b301bc16",
   "metadata": {
    "id": "4a11909c-fe48-433d-a1ab-b038b301bc16",
    "outputId": "c72777c6-5a20-481f-c89e-89ed00121599"
   },
   "source": [
    "We evaluate the best model on validation data."
   ]
  },
  {
   "cell_type": "code",
   "execution_count": null,
   "id": "4bae3e40-6872-49cd-95c2-91b624ee4193",
   "metadata": {
    "colab": {
     "base_uri": "https://localhost:8080/"
    },
    "executionInfo": {
     "elapsed": 120776,
     "status": "ok",
     "timestamp": 1653170776111,
     "user": {
      "displayName": "Jesús Peñuela",
      "userId": "04868940139927239067"
     },
     "user_tz": -120
    },
    "id": "4bae3e40-6872-49cd-95c2-91b624ee4193",
    "outputId": "f490674a-ee81-4ac2-9f83-d38625e79105"
   },
   "outputs": [
    {
     "name": "stdout",
     "output_type": "stream",
     "text": [
      "Evaluate models on validation data\n",
      "1438/1438 [==============================] - 121s 84ms/step - loss: 0.1712 - binary_accuracy: 0.9488\n",
      "Accuracy on validation data: 0.949\n",
      "Loss on validation data: 0.171\n"
     ]
    }
   ],
   "source": [
    "#EVALUATE VALIDATION DATASET\n",
    "print(\"Evaluate models on validation data\")\n",
    "results_model = model.evaluate(validation_generator,verbose=trace_level)\n",
    "print ('Accuracy on validation data:',round(results_model[1],3))\n",
    "print ('Loss on validation data:',round(results_model[0],3))"
   ]
  },
  {
   "cell_type": "markdown",
   "id": "81704c88-897a-4f89-b1f5-80f6a5f3d364",
   "metadata": {
    "id": "81704c88-897a-4f89-b1f5-80f6a5f3d364",
    "outputId": "205c012b-84d2-4f51-c96a-398417f7e61f"
   },
   "source": [
    "We make predictions on test data, never used during training nor validation"
   ]
  },
  {
   "cell_type": "code",
   "execution_count": 26,
   "id": "fb7abf2c-e423-485d-a543-06f4743971c7",
   "metadata": {
    "colab": {
     "base_uri": "https://localhost:8080/"
    },
    "executionInfo": {
     "elapsed": 246983,
     "status": "ok",
     "timestamp": 1653172115150,
     "user": {
      "displayName": "Jesús Peñuela",
      "userId": "04868940139927239067"
     },
     "user_tz": -120
    },
    "id": "fb7abf2c-e423-485d-a543-06f4743971c7",
    "outputId": "86dc918c-36bf-4c59-a71c-779a4e86f898"
   },
   "outputs": [
    {
     "name": "stdout",
     "output_type": "stream",
     "text": [
      "Make predictions on test data\n",
      "46030/46030 [==============================] - 247s 5ms/step\n"
     ]
    }
   ],
   "source": [
    "#PREDICTIONS\n",
    "print(\"Make predictions on test data\")\n",
    "model_prediction = model.predict(test_generator,verbose=trace_level)\n",
    "model_prediction_binary = (model_prediction > 0.5).astype(\"int32\")"
   ]
  },
  {
   "cell_type": "code",
   "execution_count": 27,
   "id": "d08289e1-32e4-4290-82c7-b87718f230a9",
   "metadata": {
    "colab": {
     "base_uri": "https://localhost:8080/"
    },
    "executionInfo": {
     "elapsed": 222,
     "status": "ok",
     "timestamp": 1653172124025,
     "user": {
      "displayName": "Jesús Peñuela",
      "userId": "04868940139927239067"
     },
     "user_tz": -120
    },
    "id": "d08289e1-32e4-4290-82c7-b87718f230a9",
    "outputId": "b2e91ab3-a67d-4bb7-ce3d-7e557bb27ce3"
   },
   "outputs": [
    {
     "name": "stdout",
     "output_type": "stream",
     "text": [
      "(46030, 101)\n",
      "(46030,)\n",
      "(46030, 1)\n",
      "(46030, 1)\n"
     ]
    }
   ],
   "source": [
    "print(x_test.shape)\n",
    "print(y_test.shape)\n",
    "print(model_prediction.shape)\n",
    "print(model_prediction_binary.shape)"
   ]
  },
  {
   "cell_type": "code",
   "execution_count": 28,
   "id": "a9296b0f-efc6-4133-aaff-949a4159e5f7",
   "metadata": {
    "colab": {
     "base_uri": "https://localhost:8080/"
    },
    "executionInfo": {
     "elapsed": 229,
     "status": "ok",
     "timestamp": 1653172134177,
     "user": {
      "displayName": "Jesús Peñuela",
      "userId": "04868940139927239067"
     },
     "user_tz": -120
    },
    "id": "a9296b0f-efc6-4133-aaff-949a4159e5f7",
    "outputId": "6997f965-de01-4748-b4c3-c11717fd1b36"
   },
   "outputs": [
    {
     "name": "stdout",
     "output_type": "stream",
     "text": [
      "MODEL TFM_LSTMBidiAttention\n",
      "---------------------------------\n",
      "Kappa: 0.896\n",
      "              precision    recall  f1-score   support\n",
      "\n",
      "           0       0.98      0.92      0.95     23061\n",
      "           1       0.92      0.98      0.95     22969\n",
      "\n",
      "    accuracy                           0.95     46030\n",
      "   macro avg       0.95      0.95      0.95     46030\n",
      "weighted avg       0.95      0.95      0.95     46030\n",
      "\n"
     ]
    }
   ],
   "source": [
    "#METRICS QUALITY CLASSIFICATION\n",
    "print(\"MODEL \"+model_name+\"\\n---------------------------------\")\n",
    "kappa = cohen_kappa_score(y_test, model_prediction_binary)\n",
    "print ('Kappa:',round(kappa,3))\n",
    "print(classification_report(y_test, model_prediction_binary))"
   ]
  },
  {
   "cell_type": "code",
   "execution_count": 29,
   "id": "686f01e9-daf3-43f6-bd2f-d1fee30059cb",
   "metadata": {
    "colab": {
     "base_uri": "https://localhost:8080/",
     "height": 302
    },
    "executionInfo": {
     "elapsed": 262,
     "status": "ok",
     "timestamp": 1653172156103,
     "user": {
      "displayName": "Jesús Peñuela",
      "userId": "04868940139927239067"
     },
     "user_tz": -120
    },
    "id": "686f01e9-daf3-43f6-bd2f-d1fee30059cb",
    "outputId": "0c00e40c-c08e-423b-a600-3f14672fb347"
   },
   "outputs": [
    {
     "data": {
      "text/plain": [
       "Text(80.90000000000006, 0.5, 'Truth Editing')"
      ]
     },
     "execution_count": 29,
     "metadata": {},
     "output_type": "execute_result"
    },
    {
     "data": {
      "image/png": "[encoded data removed]",
      "text/plain": [
       "<Figure size 432x288 with 2 Axes>"
      ]
     },
     "metadata": {},
     "output_type": "display_data"
    }
   ],
   "source": [
    "from sklearn.metrics import confusion_matrix, precision_score, cohen_kappa_score, classification_report\n",
    "import seaborn as sns; sns.set()\n",
    "# PLOT CONFUSION MATRIX\n",
    "plt.figure()\n",
    "cm = confusion_matrix(y_test,model_prediction_binary)\n",
    "sns.heatmap(cm, square=True, annot=True, fmt='d', cbar=True,cmap=\"Blues\")\n",
    "plt.xlabel('Predicted Model '+ model_name)\n",
    "plt.ylabel('Truth Editing')"
   ]
  },
  {
   "cell_type": "code",
   "execution_count": 30,
   "id": "c1ff605a-c7fd-4160-ba29-a2e88cd1829e",
   "metadata": {
    "colab": {
     "base_uri": "https://localhost:8080/",
     "height": 318
    },
    "executionInfo": {
     "elapsed": 964,
     "status": "ok",
     "timestamp": 1653172211233,
     "user": {
      "displayName": "Jesús Peñuela",
      "userId": "04868940139927239067"
     },
     "user_tz": -120
    },
    "id": "c1ff605a-c7fd-4160-ba29-a2e88cd1829e",
    "outputId": "3790b74d-a777-41e3-aeb9-24dcae687c57"
   },
   "outputs": [
    {
     "name": "stdout",
     "output_type": "stream",
     "text": [
      "AUC: 0.97\n"
     ]
    },
    {
     "data": {
      "image/png": "[encoded data removed]",
      "text/plain": [
       "<Figure size 432x288 with 1 Axes>"
      ]
     },
     "metadata": {},
     "output_type": "display_data"
    }
   ],
   "source": [
    "from sklearn.metrics import roc_curve\n",
    "from sklearn.metrics import roc_auc_score\n",
    "\n",
    "def plot_roc_curve(fpr, tpr):\n",
    "    plt.plot(fpr, tpr, color=\"orange\", label=\"ROC\")\n",
    "    plt.plot([0, 1], [0, 1], color=\"darkblue\", linestyle=\"--\")\n",
    "    plt.xlabel('False Positive Rate')\n",
    "    plt.ylabel('True Positive Rate')\n",
    "    plt.title('Receiver Operating Characteristic (ROC) Curve')\n",
    "    plt.legend()\n",
    "    plt.show()\n",
    "\n",
    "auc = roc_auc_score(y_test, model_prediction)\n",
    "print('AUC: %.2f' % auc)\n",
    "fpr, tpr, thresholds = roc_curve(y_test, model_prediction)\n",
    "plot_roc_curve(fpr, tpr)\n"
   ]
  }
 ],
 "metadata": {
  "accelerator": "GPU",
  "colab": {
   "collapsed_sections": [],
   "machine_shape": "hm",
   "name": "TFM_LSTMBidiAttention.ipynb",
   "provenance": []
  },
  "kernelspec": {
   "display_name": "Python 3 (ipykernel)",
   "language": "python",
   "name": "python3"
  },
  "language_info": {
   "codemirror_mode": {
    "name": "ipython",
    "version": 3
   },
   "file_extension": ".py",
   "mimetype": "text/x-python",
   "name": "python",
   "nbconvert_exporter": "python",
   "pygments_lexer": "ipython3",
   "version": "3.9.16"
  }
 },
 "nbformat": 4,
 "nbformat_minor": 5
}
