{
  "cells": [
    {
      "cell_type": "markdown",
      "id": "ca661a73-de2d-4079-8138-914bab318805",
      "metadata": {
        "id": "ca661a73-de2d-4079-8138-914bab318805"
      },
      "source": [
        "# Predictions for Trachurus trachurus samples with human model\n",
        "\n",
        "\n",
        "Training starting from best saved model"
      ]
    },
    {
      "cell_type": "code",
      "execution_count": 1,
      "id": "c9f60581-a961-4284-9b0b-3867f3b54213",
      "metadata": {
        "id": "c9f60581-a961-4284-9b0b-3867f3b54213"
      },
      "outputs": [],
      "source": [
        "import os\n",
        "import numpy as np\n",
        "import pandas as pd\n",
        "import matplotlib.pyplot as plt\n",
        "from sklearn.model_selection import train_test_split\n",
        "import tensorflow as tf\n",
        "from tensorflow import keras\n",
        "from tensorflow.keras import layers\n",
        "from sklearn.metrics import confusion_matrix, precision_score, cohen_kappa_score, classification_report\n",
        "import seaborn as sns; sns.set()\n",
        "from keras import backend as K\n"
      ]
    },
    {
      "cell_type": "code",
      "execution_count": 2,
      "id": "93f65f3a-3262-4f2c-a9c8-18003b5f4b2b",
      "metadata": {
        "colab": {
          "base_uri": "https://localhost:8080/"
        },
        "id": "93f65f3a-3262-4f2c-a9c8-18003b5f4b2b",
        "outputId": "cab64d02-99d6-437a-842b-317ea7d00ff3"
      },
      "outputs": [
        {
          "output_type": "stream",
          "name": "stdout",
          "text": [
            "Running on CoLab\n",
            "Num GPUs Available: 1\n",
            "Found GPU at: /device:GPU:0\n",
            "Tue Oct 25 19:33:36 2022       \n",
            "+-----------------------------------------------------------------------------+\n",
            "| NVIDIA-SMI 460.32.03    Driver Version: 460.32.03    CUDA Version: 11.2     |\n",
            "|-------------------------------+----------------------+----------------------+\n",
            "| GPU  Name        Persistence-M| Bus-Id        Disp.A | Volatile Uncorr. ECC |\n",
            "| Fan  Temp  Perf  Pwr:Usage/Cap|         Memory-Usage | GPU-Util  Compute M. |\n",
            "|                               |                      |               MIG M. |\n",
            "|===============================+======================+======================|\n",
            "|   0  Tesla T4            Off  | 00000000:00:04.0 Off |                    0 |\n",
            "| N/A   50C    P0    28W /  70W |    312MiB / 15109MiB |      1%      Default |\n",
            "|                               |                      |                  N/A |\n",
            "+-------------------------------+----------------------+----------------------+\n",
            "                                                                               \n",
            "+-----------------------------------------------------------------------------+\n",
            "| Processes:                                                                  |\n",
            "|  GPU   GI   CI        PID   Type   Process name                  GPU Memory |\n",
            "|        ID   ID                                                   Usage      |\n",
            "|=============================================================================|\n",
            "+-----------------------------------------------------------------------------+\n"
          ]
        }
      ],
      "source": [
        "#CHECK GOOGLE COLAB\n",
        "GOOGLE_COLAB=False\n",
        "if 'google.colab' in str(get_ipython()):\n",
        "  GOOGLE_COLAB=True  \n",
        "  print('Running on CoLab')\n",
        "else:\n",
        "  print('Not running on CoLab')\n",
        "\n",
        "#CHECK GPU\n",
        "device_name = tf.test.gpu_device_name()\n",
        "if device_name != '/device:GPU:0':\n",
        "  print('GPU device not found')\n",
        "else:\n",
        "  print('Num GPUs Available: {}'.format(len(tf.config.list_physical_devices('GPU'))))\n",
        "  print('Found GPU at: {}'.format(device_name))\n",
        "  gpu_info = !nvidia-smi\n",
        "  gpu_info = '\\n'.join(gpu_info)\n",
        "  if gpu_info.find('failed') >= 0:\n",
        "     print('Not connected to a GPU')\n",
        "  else:\n",
        "     print(gpu_info)\n",
        "\n",
        "\n",
        "#INIT \n",
        "data_dir=''\n",
        "fname=''\n",
        "models_dir=''"
      ]
    },
    {
      "cell_type": "code",
      "execution_count": 3,
      "id": "1f3ca1ff-e53a-4ed7-9fc0-093a752b930a",
      "metadata": {
        "colab": {
          "base_uri": "https://localhost:8080/"
        },
        "id": "1f3ca1ff-e53a-4ed7-9fc0-093a752b930a",
        "outputId": "e5916c42-30cd-49b1-8970-80221ee0208c"
      },
      "outputs": [
        {
          "output_type": "stream",
          "name": "stdout",
          "text": [
            "Mounted at /content/drive\n"
          ]
        }
      ],
      "source": [
        "########################################\n",
        "# PARAMS\n",
        "########################################\n",
        "padding=True\n",
        "human_model_name = 'LSTMBidiAttention9'\n",
        "model_name = 'Predictor_hg38_to_Tt'\n",
        "fname = 'ttr_DL_Pad_W50_BALANCED_1_1_CODED2CH.csv'\n",
        "ptrain = 0.7\n",
        "random_seed=2022\n",
        "\n",
        "numchannels=2\n",
        "\n",
        "if numchannels==3:\n",
        "   categories_size=60\n",
        "else:\n",
        "   categories_size=20\n",
        "\n",
        "if padding==True:\n",
        "    categories_size=categories_size+1\n",
        "\n",
        "if GOOGLE_COLAB==False:\n",
        "    data_dir = '../../data/datasets/ALL_TT/W50'\n",
        "    models_dir = './SAVED_MODELS'\n",
        "\n",
        "else:\n",
        "    from google.colab import drive\n",
        "    drive.mount('/content/drive')\n",
        "    import sys\n",
        "    #set the path to find RNAEd module\n",
        "    sys.path.insert(0,'/content/drive/MyDrive/ColabNotebooks')    \n",
        "    data_dir  = '/content/drive/MyDrive/DATASETS/ALL_TT/W50'\n",
        "    models_dir= '/content/drive/MyDrive/MODELS'\n",
        "#########################################"
      ]
    },
    {
      "cell_type": "code",
      "execution_count": 4,
      "id": "0f79bb30-9305-45f7-a55d-011492979b15",
      "metadata": {
        "colab": {
          "base_uri": "https://localhost:8080/"
        },
        "id": "0f79bb30-9305-45f7-a55d-011492979b15",
        "outputId": "2691dd08-3caa-41a9-9bca-efb4cd28a1a2"
      },
      "outputs": [
        {
          "output_type": "stream",
          "name": "stdout",
          "text": [
            "HUMAN MODEL FILE: /content/drive/MyDrive/MODELS/LSTMBidiAttention9.h5\n"
          ]
        }
      ],
      "source": [
        "saved_model =  human_model_name+'.h5'\n",
        "savedmodelfile = os.path.join(models_dir, saved_model)\n",
        "print(\"HUMAN MODEL FILE: {}\".format(savedmodelfile))"
      ]
    },
    {
      "cell_type": "code",
      "execution_count": 6,
      "id": "74b070a2-37d8-4d03-8fa5-97f1ea9c7d1d",
      "metadata": {
        "colab": {
          "base_uri": "https://localhost:8080/"
        },
        "id": "74b070a2-37d8-4d03-8fa5-97f1ea9c7d1d",
        "outputId": "5ca87fe0-9df6-42db-fdae-bdf8e53dae53"
      },
      "outputs": [
        {
          "output_type": "stream",
          "name": "stdout",
          "text": [
            "TRACHURUS TRACHURUS DATASET: /content/drive/MyDrive/DATASETS/ALL_TT/W50/ttr_DL_Pad_W50_BALANCED_1_1_CODED2CH.csv\n",
            "shape data=(283012, 104)\n"
          ]
        }
      ],
      "source": [
        "datafile = os.path.join(data_dir, fname)\n",
        "print(\"TRACHURUS TRACHURUS DATASET: {}\".format(datafile))\n",
        "data = pd.read_csv(datafile,sep=\";\")\n",
        "print(\"shape data={}\".format(data.shape))"
      ]
    },
    {
      "cell_type": "code",
      "execution_count": 7,
      "id": "f8b2a1c4-81a9-4235-bab5-308b021e9857",
      "metadata": {
        "colab": {
          "base_uri": "https://localhost:8080/"
        },
        "id": "f8b2a1c4-81a9-4235-bab5-308b021e9857",
        "outputId": "ba9ef757-d64e-4a38-9c44-b2548753c57f"
      },
      "outputs": [
        {
          "output_type": "stream",
          "name": "stdout",
          "text": [
            "<bound method NDFrame.head of                                             GENE    POS  EDITING  P1  P2  P3  \\\n",
            "0       ENSTTAG00005026275_ENSTTAG00005026275_17  15209        0   2  12  17   \n",
            "1        ENSTTAG00005003160_ENSTTAG00005003160_5    785        0  11   3  11   \n",
            "2       ENSTTAG00005011874_ENSTTAG00005011874_23  11418        0   8  16   6   \n",
            "3        ENSTTAG00005000416_ENSTTAG00005000416_4   7999        0  18  18   6   \n",
            "4       ENSTTAG00005022916_ENSTTAG00005022916_17  10975        0  17  17  17   \n",
            "...                                          ...    ...      ...  ..  ..  ..   \n",
            "283007  ENSTTAG00005007400_ENSTTAG00005007400_12    816        1  10  16   6   \n",
            "283008   ENSTTAG00005009670_ENSTTAG00005009670_7   7042        1  11   1  16   \n",
            "283009  ENSTTAG00005012170_ENSTTAG00005012170_14  23219        1   6   6  18   \n",
            "283010   ENSTTAG00005011348_ENSTTAG00005011348_5   3951        1   1   1  11   \n",
            "283011   ENSTTAG00005026230_ENSTTAG00005026230_1   6095        1  17   7   2   \n",
            "\n",
            "        P4  P5  P6  P7  ...  P92  P93  P94  P95  P96  P97  P98  P99  P100  \\\n",
            "0       17   7  12  12  ...   15   10   15   10   15   10   11   11    16   \n",
            "1       16   6  11  11  ...    2   17    6    6   11    8    3    3    13   \n",
            "2       13  18  18   3  ...   16   11    1   11    1   16   16    1    11   \n",
            "3       16   1  16   1  ...    2   17    7   17   17    7    7    2    12   \n",
            "4        2   2   7  17  ...    5   10    0   10    0   10   10   10     0   \n",
            "...     ..  ..  ..  ..  ...  ...  ...  ...  ...  ...  ...  ...  ...   ...   \n",
            "283007  16  11  16  11  ...   11    1   15    0    6   11    1   11     3   \n",
            "283008   5   6  11  16  ...   12   12    2    6   11   16    6    6    10   \n",
            "283009  11  16  11  11  ...    2   12    2    2   17    6    6    1    11   \n",
            "283010  11  16   6  16  ...   11   16   16   16   16   16   19   14     4   \n",
            "283011   2  17   2   2  ...    2   17    2    2    6    1   16   18     1   \n",
            "\n",
            "        P101  \n",
            "0         16  \n",
            "1          8  \n",
            "2          1  \n",
            "3          2  \n",
            "4         11  \n",
            "...      ...  \n",
            "283007    16  \n",
            "283008    15  \n",
            "283009     3  \n",
            "283010    19  \n",
            "283011    11  \n",
            "\n",
            "[283012 rows x 104 columns]>\n"
          ]
        }
      ],
      "source": [
        "print(data.head)"
      ]
    },
    {
      "cell_type": "code",
      "execution_count": 8,
      "id": "72bd0495-977b-409e-a4d4-dc6234d5d900",
      "metadata": {
        "colab": {
          "base_uri": "https://localhost:8080/"
        },
        "id": "72bd0495-977b-409e-a4d4-dc6234d5d900",
        "outputId": "971a9338-1417-4f6f-f9d9-892a760f2130"
      },
      "outputs": [
        {
          "output_type": "stream",
          "name": "stdout",
          "text": [
            "dismissing... data_train:(198108, 104) data_y_train:(198108,)\n",
            "dismissing... data_val: (42452, 104) data_y_val: (42452,)\n",
            "Selecting data for testing... data_test: (42452, 104) data_y_test: (42452,)\n",
            "TEST LABELS:\n",
            "0    21335\n",
            "1    21117\n",
            "Name: EDITING, dtype: int64\n"
          ]
        }
      ],
      "source": [
        "# Train and Validation+Test\n",
        "data_train, data_val_test, data_y_train, data_y_val_test = train_test_split(data, data['EDITING'], test_size=1-ptrain, random_state=random_seed)\n",
        "#Validation and test: 0.5/0.5\n",
        "data_val, data_test, data_y_val, data_y_test = train_test_split(data_val_test, data_y_val_test, test_size=0.5, random_state=random_seed)\n",
        "\n",
        "print(\"dismissing... data_train:{} data_y_train:{}\".format(data_train.shape,data_y_train.shape))\n",
        "print(\"dismissing... data_val: {} data_y_val: {}\".format(data_val.shape,data_y_val.shape))\n",
        "\n",
        "print(\"Selecting data for testing... data_test: {} data_y_test: {}\".format(data_test.shape,data_y_test.shape))\n",
        "print(\"TEST LABELS:\")\n",
        "print(data_y_test.value_counts())"
      ]
    },
    {
      "cell_type": "markdown",
      "id": "9WyvcKhMJSEE",
      "metadata": {
        "id": "9WyvcKhMJSEE"
      },
      "source": [
        "Recover saved model"
      ]
    },
    {
      "cell_type": "code",
      "execution_count": 9,
      "id": "643c51c7-f1ee-489b-b306-fbf948a07a51",
      "metadata": {
        "colab": {
          "base_uri": "https://localhost:8080/"
        },
        "id": "643c51c7-f1ee-489b-b306-fbf948a07a51",
        "outputId": "0d9eefc3-3c47-4def-d37d-d4578744bbb5"
      },
      "outputs": [
        {
          "output_type": "stream",
          "name": "stdout",
          "text": [
            "Model: \"LSTMBidiAttention9\"\n",
            "__________________________________________________________________________________________________\n",
            " Layer (type)                   Output Shape         Param #     Connected to                     \n",
            "==================================================================================================\n",
            " INPUTS (InputLayer)            [(None, 101, 21)]    0           []                               \n",
            "                                                                                                  \n",
            " LSTM_BI (Bidirectional)        (None, 101, 512)     569344      ['INPUTS[0][0]']                 \n",
            "                                                                                                  \n",
            " dropout (Dropout)              (None, 101, 512)     0           ['LSTM_BI[0][0]']                \n",
            "                                                                                                  \n",
            " dense (Dense)                  (None, 101, 1)       513         ['dropout[0][0]']                \n",
            "                                                                                                  \n",
            " flatten (Flatten)              (None, 101)          0           ['dense[0][0]']                  \n",
            "                                                                                                  \n",
            " activation (Activation)        (None, 101)          0           ['flatten[0][0]']                \n",
            "                                                                                                  \n",
            " repeat_vector (RepeatVector)   (None, 512, 101)     0           ['activation[0][0]']             \n",
            "                                                                                                  \n",
            " permute (Permute)              (None, 101, 512)     0           ['repeat_vector[0][0]']          \n",
            "                                                                                                  \n",
            " multiply (Multiply)            (None, 101, 512)     0           ['LSTM_BI[0][0]',                \n",
            "                                                                  'permute[0][0]']                \n",
            "                                                                                                  \n",
            " lambda (Lambda)                (None, 512)          0           ['multiply[0][0]']               \n",
            "                                                                                                  \n",
            " OUTPUT (Dense)                 (None, 1)            513         ['lambda[0][0]']                 \n",
            "                                                                                                  \n",
            "==================================================================================================\n",
            "Total params: 570,370\n",
            "Trainable params: 570,370\n",
            "Non-trainable params: 0\n",
            "__________________________________________________________________________________________________\n"
          ]
        }
      ],
      "source": [
        "#Load the trained model from disk\n",
        "import os.path\n",
        "\n",
        "if os.path.exists(savedmodelfile):\n",
        "    model = tf.keras.models.load_model(savedmodelfile)\n",
        "    # Show the model architecture\n",
        "    model.summary()\n",
        "else:\n",
        "    print(\"ERROR model {} nor found \".format(savedmodelfile))           \n",
        "\n"
      ]
    },
    {
      "cell_type": "code",
      "execution_count": 10,
      "id": "b2dada75-39d9-45ef-8a7f-d83b57619438",
      "metadata": {
        "colab": {
          "base_uri": "https://localhost:8080/"
        },
        "id": "b2dada75-39d9-45ef-8a7f-d83b57619438",
        "outputId": "3b97d41a-6876-4e82-9906-4842ed4b0610"
      },
      "outputs": [
        {
          "output_type": "stream",
          "name": "stdout",
          "text": [
            "42452/42452 [==============================] - 476s 11ms/step\n"
          ]
        }
      ],
      "source": [
        "#PREDICTIONS\n",
        "#DataGenerator converts on the fly from raw data to one-hot\n",
        "from RNAEd import DataGenerator\n",
        "\n",
        "\n",
        "#DataGenerator converts on the fly from raw data to one-hot\n",
        "num_nucleosides = data_test.iloc[:,3:].shape[1]\n",
        "num_tokens = categories_size\n",
        "\n",
        "pred_generator       = DataGenerator( data_test.iloc[:,3:], data_y_test,  batch_size=1,seq_size=num_nucleosides, categories_size=categories_size, shuffle=False )\n",
        "model_prediction = model.predict(pred_generator,verbose=1)\n",
        "model_prediction_binary = (model_prediction > 0.5).astype(\"int32\")"
      ]
    },
    {
      "cell_type": "code",
      "execution_count": 11,
      "id": "d08289e1-32e4-4290-82c7-b87718f230a9",
      "metadata": {
        "colab": {
          "base_uri": "https://localhost:8080/"
        },
        "id": "d08289e1-32e4-4290-82c7-b87718f230a9",
        "outputId": "14495fee-eb4d-449e-dbac-ce15bad09e3f"
      },
      "outputs": [
        {
          "output_type": "stream",
          "name": "stdout",
          "text": [
            "(42452, 104)\n",
            "(42452,)\n",
            "(42452, 1)\n",
            "(42452, 1)\n"
          ]
        }
      ],
      "source": [
        "print(data_test.shape)\n",
        "print(data_y_test.shape)\n",
        "print(model_prediction.shape)\n",
        "print(model_prediction_binary.shape)"
      ]
    },
    {
      "cell_type": "code",
      "execution_count": 12,
      "id": "a9296b0f-efc6-4133-aaff-949a4159e5f7",
      "metadata": {
        "colab": {
          "base_uri": "https://localhost:8080/"
        },
        "id": "a9296b0f-efc6-4133-aaff-949a4159e5f7",
        "outputId": "9f8555e3-e04b-44e1-d24e-175303b2bc16"
      },
      "outputs": [
        {
          "output_type": "stream",
          "name": "stdout",
          "text": [
            "MODEL Predictor_hg38_to_Tt\n",
            "---------------------------------\n",
            "Kappa: -0.004\n",
            "              precision    recall  f1-score   support\n",
            "\n",
            "           0       0.50      0.98      0.66     21335\n",
            "           1       0.45      0.02      0.04     21117\n",
            "\n",
            "    accuracy                           0.50     42452\n",
            "   macro avg       0.48      0.50      0.35     42452\n",
            "weighted avg       0.48      0.50      0.35     42452\n",
            "\n"
          ]
        }
      ],
      "source": [
        "#METRICS QUALITY CLASSIFICATION\n",
        "print(\"MODEL \"+model_name+\"\\n---------------------------------\")\n",
        "kappa = cohen_kappa_score(data_y_test, model_prediction_binary)\n",
        "print ('Kappa:',round(kappa,3))\n",
        "print(classification_report(data_y_test, model_prediction_binary))"
      ]
    },
    {
      "cell_type": "code",
      "execution_count": 13,
      "id": "686f01e9-daf3-43f6-bd2f-d1fee30059cb",
      "metadata": {
        "colab": {
          "base_uri": "https://localhost:8080/",
          "height": 346
        },
        "id": "686f01e9-daf3-43f6-bd2f-d1fee30059cb",
        "outputId": "978cf5e3-dd2e-4937-c6e9-f8e6ac99e97e"
      },
      "outputs": [
        {
          "output_type": "display_data",
          "data": {
            "text/plain": [
              "<Figure size 432x288 with 2 Axes>"
            ],
            "image/png": "[encoded data removed]"
          },
          "metadata": {}
        }
      ],
      "source": [
        "from sklearn.metrics import confusion_matrix, precision_score, cohen_kappa_score, classification_report\n",
        "import seaborn as sns; sns.set()\n",
        "# PLOT CONFUSION MATRIX\n",
        "# Tutorial: https://www.stackvidhya.com/plot-confusion-matrix-in-python-and-why/\n",
        "plt.figure()\n",
        "\n",
        "cm = confusion_matrix(data_y_test,model_prediction_binary)\n",
        "\n",
        "group_names = ['TN','FP','FN','TP']\n",
        "group_counts = [\"{0:0.0f}\".format(value) for value in cm.flatten()]\n",
        "group_percentages = [\"{0:.2%}\".format(value) for value in cm.flatten()/np.sum(cm)]\n",
        "\n",
        "labels = [f\"{v1}\\n{v2}\\n{v3}\" for v1, v2, v3 in zip(group_names,group_counts,group_percentages)]\n",
        "labels = np.asarray(labels).reshape(2,2)\n",
        "\n",
        "ax = sns.heatmap(cm, annot=labels, fmt='', cmap='Blues')\n",
        "\n",
        "ax.set_title('RNA-Editing Confusion Matrix \\n\\n');\n",
        "ax.set_xlabel('\\nPredicted Values '+ model_name)\n",
        "ax.set_ylabel('Actual Values ');\n",
        "## Ticket labels - List must be in alphabetical order\n",
        "#ax.xaxis.set_ticklabels(['False','True'])\n",
        "#ax.yaxis.set_ticklabels(['False','True'])\n",
        "plt.show()"
      ]
    },
    {
      "cell_type": "code",
      "execution_count": 14,
      "id": "3cf996b4-6e39-4d84-8acf-fc0d5959b298",
      "metadata": {
        "colab": {
          "base_uri": "https://localhost:8080/",
          "height": 319
        },
        "id": "3cf996b4-6e39-4d84-8acf-fc0d5959b298",
        "outputId": "1ce8cbbd-8eeb-4768-ab64-f890d775ef77"
      },
      "outputs": [
        {
          "output_type": "stream",
          "name": "stdout",
          "text": [
            "AUC: 0.51\n"
          ]
        },
        {
          "output_type": "display_data",
          "data": {
            "text/plain": [
              "<Figure size 432x288 with 1 Axes>"
            ],
            "image/png": "[encoded data removed]"
          },
          "metadata": {}
        }
      ],
      "source": [
        "from sklearn.metrics import roc_curve\n",
        "from sklearn.metrics import roc_auc_score\n",
        "\n",
        "def plot_roc_curve(fpr, tpr):\n",
        "    plt.plot(fpr, tpr, color=\"orange\", label=\"ROC\")\n",
        "    plt.plot([0, 1], [0, 1], color=\"darkblue\", linestyle=\"--\")\n",
        "    plt.xlabel('False Positive Rate')\n",
        "    plt.ylabel('True Positive Rate')\n",
        "    plt.title('Receiver Operating Characteristic (ROC) Curve')\n",
        "    plt.legend()\n",
        "    plt.show()\n",
        "\n",
        "auc = roc_auc_score(data_y_test, model_prediction)\n",
        "print('AUC: %.2f' % auc)\n",
        "fpr, tpr, thresholds = roc_curve(data_y_test, model_prediction)\n",
        "plot_roc_curve(fpr, tpr)"
      ]
    },
    {
      "cell_type": "markdown",
      "id": "4991f5b0-b2da-48f6-ab0a-4fcdb0099769",
      "metadata": {
        "id": "4991f5b0-b2da-48f6-ab0a-4fcdb0099769"
      },
      "source": [
        "RESULTS INSIGHT"
      ]
    },
    {
      "cell_type": "code",
      "execution_count": 15,
      "id": "acea629b-2036-4c4f-bf46-3a4f4d62ea1f",
      "metadata": {
        "colab": {
          "base_uri": "https://localhost:8080/",
          "height": 235
        },
        "id": "acea629b-2036-4c4f-bf46-3a4f4d62ea1f",
        "outputId": "17beff2c-bf0b-4af5-b052-2c34aabb357d"
      },
      "outputs": [
        {
          "output_type": "execute_result",
          "data": {
            "text/plain": [
              "                                            GENE   POS  EDITING RESULT_TYPE  \\\n",
              "266365   ENSTTAG00005013451_ENSTTAG00005013451_8  7064        1        None   \n",
              "165318  ENSTTAG00005008257_ENSTTAG00005008257_18  7433        1        None   \n",
              "48269   ENSTTAG00005016652_ENSTTAG00005016652_17  5300        1        None   \n",
              "89431   ENSTTAG00005010012_ENSTTAG00005010012_11  4915        1        None   \n",
              "4298    ENSTTAG00005003367_ENSTTAG00005003367_14  4171        0        None   \n",
              "\n",
              "        PROB_PRED  P1  P2  P3  P4  P5  ...  P92  P93  P94  P95  P96  P97  P98  \\\n",
              "266365   0.000278  12   7   7  12  12  ...   11   11    1   11    3   16    6   \n",
              "165318   0.000203   9  16  16  11   1  ...    2    7   12   17   12    2   17   \n",
              "48269    0.003844   7   7  17  12   7  ...   10   15    0    0   15    5   10   \n",
              "89431    0.000321   6   1  11   1  11  ...    2    6    1    1    6   16    9   \n",
              "4298     0.001135   2  17   7  12   2  ...   10   15   15   15   10   15   15   \n",
              "\n",
              "        P99  P100  P101  \n",
              "266365   11    11     3  \n",
              "165318   12    17    12  \n",
              "48269     0     0     0  \n",
              "89431     4     4     4  \n",
              "4298     15    10    15  \n",
              "\n",
              "[5 rows x 106 columns]"
            ],
            "text/html": [
              "\n",
              "  <div id=\"df-7777f035-6cde-4b47-9cf3-f41a5d74ab29\">\n",
              "    <div class=\"colab-df-container\">\n",
              "      <div>\n",
              "<style scoped>\n",
              "    .dataframe tbody tr th:only-of-type {\n",
              "        vertical-align: middle;\n",
              "    }\n",
              "\n",
              "    .dataframe tbody tr th {\n",
              "        vertical-align: top;\n",
              "    }\n",
              "\n",
              "    .dataframe thead th {\n",
              "        text-align: right;\n",
              "    }\n",
              "</style>\n",
              "<table border=\"1\" class=\"dataframe\">\n",
              "  <thead>\n",
              "    <tr style=\"text-align: right;\">\n",
              "      <th></th>\n",
              "      <th>GENE</th>\n",
              "      <th>POS</th>\n",
              "      <th>EDITING</th>\n",
              "      <th>RESULT_TYPE</th>\n",
              "      <th>PROB_PRED</th>\n",
              "      <th>P1</th>\n",
              "      <th>P2</th>\n",
              "      <th>P3</th>\n",
              "      <th>P4</th>\n",
              "      <th>P5</th>\n",
              "      <th>...</th>\n",
              "      <th>P92</th>\n",
              "      <th>P93</th>\n",
              "      <th>P94</th>\n",
              "      <th>P95</th>\n",
              "      <th>P96</th>\n",
              "      <th>P97</th>\n",
              "      <th>P98</th>\n",
              "      <th>P99</th>\n",
              "      <th>P100</th>\n",
              "      <th>P101</th>\n",
              "    </tr>\n",
              "  </thead>\n",
              "  <tbody>\n",
              "    <tr>\n",
              "      <th>266365</th>\n",
              "      <td>ENSTTAG00005013451_ENSTTAG00005013451_8</td>\n",
              "      <td>7064</td>\n",
              "      <td>1</td>\n",
              "      <td>None</td>\n",
              "      <td>0.000278</td>\n",
              "      <td>12</td>\n",
              "      <td>7</td>\n",
              "      <td>7</td>\n",
              "      <td>12</td>\n",
              "      <td>12</td>\n",
              "      <td>...</td>\n",
              "      <td>11</td>\n",
              "      <td>11</td>\n",
              "      <td>1</td>\n",
              "      <td>11</td>\n",
              "      <td>3</td>\n",
              "      <td>16</td>\n",
              "      <td>6</td>\n",
              "      <td>11</td>\n",
              "      <td>11</td>\n",
              "      <td>3</td>\n",
              "    </tr>\n",
              "    <tr>\n",
              "      <th>165318</th>\n",
              "      <td>ENSTTAG00005008257_ENSTTAG00005008257_18</td>\n",
              "      <td>7433</td>\n",
              "      <td>1</td>\n",
              "      <td>None</td>\n",
              "      <td>0.000203</td>\n",
              "      <td>9</td>\n",
              "      <td>16</td>\n",
              "      <td>16</td>\n",
              "      <td>11</td>\n",
              "      <td>1</td>\n",
              "      <td>...</td>\n",
              "      <td>2</td>\n",
              "      <td>7</td>\n",
              "      <td>12</td>\n",
              "      <td>17</td>\n",
              "      <td>12</td>\n",
              "      <td>2</td>\n",
              "      <td>17</td>\n",
              "      <td>12</td>\n",
              "      <td>17</td>\n",
              "      <td>12</td>\n",
              "    </tr>\n",
              "    <tr>\n",
              "      <th>48269</th>\n",
              "      <td>ENSTTAG00005016652_ENSTTAG00005016652_17</td>\n",
              "      <td>5300</td>\n",
              "      <td>1</td>\n",
              "      <td>None</td>\n",
              "      <td>0.003844</td>\n",
              "      <td>7</td>\n",
              "      <td>7</td>\n",
              "      <td>17</td>\n",
              "      <td>12</td>\n",
              "      <td>7</td>\n",
              "      <td>...</td>\n",
              "      <td>10</td>\n",
              "      <td>15</td>\n",
              "      <td>0</td>\n",
              "      <td>0</td>\n",
              "      <td>15</td>\n",
              "      <td>5</td>\n",
              "      <td>10</td>\n",
              "      <td>0</td>\n",
              "      <td>0</td>\n",
              "      <td>0</td>\n",
              "    </tr>\n",
              "    <tr>\n",
              "      <th>89431</th>\n",
              "      <td>ENSTTAG00005010012_ENSTTAG00005010012_11</td>\n",
              "      <td>4915</td>\n",
              "      <td>1</td>\n",
              "      <td>None</td>\n",
              "      <td>0.000321</td>\n",
              "      <td>6</td>\n",
              "      <td>1</td>\n",
              "      <td>11</td>\n",
              "      <td>1</td>\n",
              "      <td>11</td>\n",
              "      <td>...</td>\n",
              "      <td>2</td>\n",
              "      <td>6</td>\n",
              "      <td>1</td>\n",
              "      <td>1</td>\n",
              "      <td>6</td>\n",
              "      <td>16</td>\n",
              "      <td>9</td>\n",
              "      <td>4</td>\n",
              "      <td>4</td>\n",
              "      <td>4</td>\n",
              "    </tr>\n",
              "    <tr>\n",
              "      <th>4298</th>\n",
              "      <td>ENSTTAG00005003367_ENSTTAG00005003367_14</td>\n",
              "      <td>4171</td>\n",
              "      <td>0</td>\n",
              "      <td>None</td>\n",
              "      <td>0.001135</td>\n",
              "      <td>2</td>\n",
              "      <td>17</td>\n",
              "      <td>7</td>\n",
              "      <td>12</td>\n",
              "      <td>2</td>\n",
              "      <td>...</td>\n",
              "      <td>10</td>\n",
              "      <td>15</td>\n",
              "      <td>15</td>\n",
              "      <td>15</td>\n",
              "      <td>10</td>\n",
              "      <td>15</td>\n",
              "      <td>15</td>\n",
              "      <td>15</td>\n",
              "      <td>10</td>\n",
              "      <td>15</td>\n",
              "    </tr>\n",
              "  </tbody>\n",
              "</table>\n",
              "<p>5 rows × 106 columns</p>\n",
              "</div>\n",
              "      <button class=\"colab-df-convert\" onclick=\"convertToInteractive('df-7777f035-6cde-4b47-9cf3-f41a5d74ab29')\"\n",
              "              title=\"Convert this dataframe to an interactive table.\"\n",
              "              style=\"display:none;\">\n",
              "        \n",
              "  <svg xmlns=\"http://www.w3.org/2000/svg\" height=\"24px\"viewBox=\"0 0 24 24\"\n",
              "       width=\"24px\">\n",
              "    <path d=\"M0 0h24v24H0V0z\" fill=\"none\"/>\n",
              "    <path d=\"M18.56 5.44l.94 2.06.94-2.06 2.06-.94-2.06-.94-.94-2.06-.94 2.06-2.06.94zm-11 1L8.5 8.5l.94-2.06 2.06-.94-2.06-.94L8.5 2.5l-.94 2.06-2.06.94zm10 10l.94 2.06.94-2.06 2.06-.94-2.06-.94-.94-2.06-.94 2.06-2.06.94z\"/><path d=\"M17.41 7.96l-1.37-1.37c-.4-.4-.92-.59-1.43-.59-.52 0-1.04.2-1.43.59L10.3 9.45l-7.72 7.72c-.78.78-.78 2.05 0 2.83L4 21.41c.39.39.9.59 1.41.59.51 0 1.02-.2 1.41-.59l7.78-7.78 2.81-2.81c.8-.78.8-2.07 0-2.86zM5.41 20L4 18.59l7.72-7.72 1.47 1.35L5.41 20z\"/>\n",
              "  </svg>\n",
              "      </button>\n",
              "      \n",
              "  <style>\n",
              "    .colab-df-container {\n",
              "      display:flex;\n",
              "      flex-wrap:wrap;\n",
              "      gap: 12px;\n",
              "    }\n",
              "\n",
              "    .colab-df-convert {\n",
              "      background-color: #E8F0FE;\n",
              "      border: none;\n",
              "      border-radius: 50%;\n",
              "      cursor: pointer;\n",
              "      display: none;\n",
              "      fill: #1967D2;\n",
              "      height: 32px;\n",
              "      padding: 0 0 0 0;\n",
              "      width: 32px;\n",
              "    }\n",
              "\n",
              "    .colab-df-convert:hover {\n",
              "      background-color: #E2EBFA;\n",
              "      box-shadow: 0px 1px 2px rgba(60, 64, 67, 0.3), 0px 1px 3px 1px rgba(60, 64, 67, 0.15);\n",
              "      fill: #174EA6;\n",
              "    }\n",
              "\n",
              "    [theme=dark] .colab-df-convert {\n",
              "      background-color: #3B4455;\n",
              "      fill: #D2E3FC;\n",
              "    }\n",
              "\n",
              "    [theme=dark] .colab-df-convert:hover {\n",
              "      background-color: #434B5C;\n",
              "      box-shadow: 0px 1px 3px 1px rgba(0, 0, 0, 0.15);\n",
              "      filter: drop-shadow(0px 1px 2px rgba(0, 0, 0, 0.3));\n",
              "      fill: #FFFFFF;\n",
              "    }\n",
              "  </style>\n",
              "\n",
              "      <script>\n",
              "        const buttonEl =\n",
              "          document.querySelector('#df-7777f035-6cde-4b47-9cf3-f41a5d74ab29 button.colab-df-convert');\n",
              "        buttonEl.style.display =\n",
              "          google.colab.kernel.accessAllowed ? 'block' : 'none';\n",
              "\n",
              "        async function convertToInteractive(key) {\n",
              "          const element = document.querySelector('#df-7777f035-6cde-4b47-9cf3-f41a5d74ab29');\n",
              "          const dataTable =\n",
              "            await google.colab.kernel.invokeFunction('convertToInteractive',\n",
              "                                                     [key], {});\n",
              "          if (!dataTable) return;\n",
              "\n",
              "          const docLinkHtml = 'Like what you see? Visit the ' +\n",
              "            '<a target=\"_blank\" href=https://colab.research.google.com/notebooks/data_table.ipynb>data table notebook</a>'\n",
              "            + ' to learn more about interactive tables.';\n",
              "          element.innerHTML = '';\n",
              "          dataTable['output_type'] = 'display_data';\n",
              "          await google.colab.output.renderOutput(dataTable, element);\n",
              "          const docLink = document.createElement('div');\n",
              "          docLink.innerHTML = docLinkHtml;\n",
              "          element.appendChild(docLink);\n",
              "        }\n",
              "      </script>\n",
              "    </div>\n",
              "  </div>\n",
              "  "
            ]
          },
          "metadata": {},
          "execution_count": 15
        }
      ],
      "source": [
        "results_data = data_test\n",
        "if 'RESULT_TYPE' not in results_data.columns:\n",
        "    #insert column at position 3\n",
        "    results_data.insert(3,\"RESULT_TYPE\", None)\n",
        "    results_data.insert(4,\"PROB_PRED\",model_prediction)\n",
        "else:\n",
        "    print(\"RESULT_TYPE already exists in the dataframe\")\n",
        "\n",
        "results_data.head()"
      ]
    },
    {
      "cell_type": "code",
      "execution_count": 16,
      "id": "15ac7e5c-3c5b-4737-b2ec-c75f9592c4c9",
      "metadata": {
        "colab": {
          "base_uri": "https://localhost:8080/",
          "height": 235
        },
        "id": "15ac7e5c-3c5b-4737-b2ec-c75f9592c4c9",
        "outputId": "e890cedc-cbfd-401b-fea3-534f58b894fe"
      },
      "outputs": [
        {
          "output_type": "execute_result",
          "data": {
            "text/plain": [
              "                                            GENE   POS  EDITING RESULT_TYPE  \\\n",
              "266365   ENSTTAG00005013451_ENSTTAG00005013451_8  7064        1          FN   \n",
              "165318  ENSTTAG00005008257_ENSTTAG00005008257_18  7433        1          FN   \n",
              "48269   ENSTTAG00005016652_ENSTTAG00005016652_17  5300        1          FN   \n",
              "89431   ENSTTAG00005010012_ENSTTAG00005010012_11  4915        1          FN   \n",
              "4298    ENSTTAG00005003367_ENSTTAG00005003367_14  4171        0          TN   \n",
              "\n",
              "        PROB_PRED  P1  P2  P3  P4  P5  ...  P92  P93  P94  P95  P96  P97  P98  \\\n",
              "266365   0.000278  12   7   7  12  12  ...   11   11    1   11    3   16    6   \n",
              "165318   0.000203   9  16  16  11   1  ...    2    7   12   17   12    2   17   \n",
              "48269    0.003844   7   7  17  12   7  ...   10   15    0    0   15    5   10   \n",
              "89431    0.000321   6   1  11   1  11  ...    2    6    1    1    6   16    9   \n",
              "4298     0.001135   2  17   7  12   2  ...   10   15   15   15   10   15   15   \n",
              "\n",
              "        P99  P100  P101  \n",
              "266365   11    11     3  \n",
              "165318   12    17    12  \n",
              "48269     0     0     0  \n",
              "89431     4     4     4  \n",
              "4298     15    10    15  \n",
              "\n",
              "[5 rows x 106 columns]"
            ],
            "text/html": [
              "\n",
              "  <div id=\"df-0abd4b33-1a8d-4d72-9cf0-a184ee0d611a\">\n",
              "    <div class=\"colab-df-container\">\n",
              "      <div>\n",
              "<style scoped>\n",
              "    .dataframe tbody tr th:only-of-type {\n",
              "        vertical-align: middle;\n",
              "    }\n",
              "\n",
              "    .dataframe tbody tr th {\n",
              "        vertical-align: top;\n",
              "    }\n",
              "\n",
              "    .dataframe thead th {\n",
              "        text-align: right;\n",
              "    }\n",
              "</style>\n",
              "<table border=\"1\" class=\"dataframe\">\n",
              "  <thead>\n",
              "    <tr style=\"text-align: right;\">\n",
              "      <th></th>\n",
              "      <th>GENE</th>\n",
              "      <th>POS</th>\n",
              "      <th>EDITING</th>\n",
              "      <th>RESULT_TYPE</th>\n",
              "      <th>PROB_PRED</th>\n",
              "      <th>P1</th>\n",
              "      <th>P2</th>\n",
              "      <th>P3</th>\n",
              "      <th>P4</th>\n",
              "      <th>P5</th>\n",
              "      <th>...</th>\n",
              "      <th>P92</th>\n",
              "      <th>P93</th>\n",
              "      <th>P94</th>\n",
              "      <th>P95</th>\n",
              "      <th>P96</th>\n",
              "      <th>P97</th>\n",
              "      <th>P98</th>\n",
              "      <th>P99</th>\n",
              "      <th>P100</th>\n",
              "      <th>P101</th>\n",
              "    </tr>\n",
              "  </thead>\n",
              "  <tbody>\n",
              "    <tr>\n",
              "      <th>266365</th>\n",
              "      <td>ENSTTAG00005013451_ENSTTAG00005013451_8</td>\n",
              "      <td>7064</td>\n",
              "      <td>1</td>\n",
              "      <td>FN</td>\n",
              "      <td>0.000278</td>\n",
              "      <td>12</td>\n",
              "      <td>7</td>\n",
              "      <td>7</td>\n",
              "      <td>12</td>\n",
              "      <td>12</td>\n",
              "      <td>...</td>\n",
              "      <td>11</td>\n",
              "      <td>11</td>\n",
              "      <td>1</td>\n",
              "      <td>11</td>\n",
              "      <td>3</td>\n",
              "      <td>16</td>\n",
              "      <td>6</td>\n",
              "      <td>11</td>\n",
              "      <td>11</td>\n",
              "      <td>3</td>\n",
              "    </tr>\n",
              "    <tr>\n",
              "      <th>165318</th>\n",
              "      <td>ENSTTAG00005008257_ENSTTAG00005008257_18</td>\n",
              "      <td>7433</td>\n",
              "      <td>1</td>\n",
              "      <td>FN</td>\n",
              "      <td>0.000203</td>\n",
              "      <td>9</td>\n",
              "      <td>16</td>\n",
              "      <td>16</td>\n",
              "      <td>11</td>\n",
              "      <td>1</td>\n",
              "      <td>...</td>\n",
              "      <td>2</td>\n",
              "      <td>7</td>\n",
              "      <td>12</td>\n",
              "      <td>17</td>\n",
              "      <td>12</td>\n",
              "      <td>2</td>\n",
              "      <td>17</td>\n",
              "      <td>12</td>\n",
              "      <td>17</td>\n",
              "      <td>12</td>\n",
              "    </tr>\n",
              "    <tr>\n",
              "      <th>48269</th>\n",
              "      <td>ENSTTAG00005016652_ENSTTAG00005016652_17</td>\n",
              "      <td>5300</td>\n",
              "      <td>1</td>\n",
              "      <td>FN</td>\n",
              "      <td>0.003844</td>\n",
              "      <td>7</td>\n",
              "      <td>7</td>\n",
              "      <td>17</td>\n",
              "      <td>12</td>\n",
              "      <td>7</td>\n",
              "      <td>...</td>\n",
              "      <td>10</td>\n",
              "      <td>15</td>\n",
              "      <td>0</td>\n",
              "      <td>0</td>\n",
              "      <td>15</td>\n",
              "      <td>5</td>\n",
              "      <td>10</td>\n",
              "      <td>0</td>\n",
              "      <td>0</td>\n",
              "      <td>0</td>\n",
              "    </tr>\n",
              "    <tr>\n",
              "      <th>89431</th>\n",
              "      <td>ENSTTAG00005010012_ENSTTAG00005010012_11</td>\n",
              "      <td>4915</td>\n",
              "      <td>1</td>\n",
              "      <td>FN</td>\n",
              "      <td>0.000321</td>\n",
              "      <td>6</td>\n",
              "      <td>1</td>\n",
              "      <td>11</td>\n",
              "      <td>1</td>\n",
              "      <td>11</td>\n",
              "      <td>...</td>\n",
              "      <td>2</td>\n",
              "      <td>6</td>\n",
              "      <td>1</td>\n",
              "      <td>1</td>\n",
              "      <td>6</td>\n",
              "      <td>16</td>\n",
              "      <td>9</td>\n",
              "      <td>4</td>\n",
              "      <td>4</td>\n",
              "      <td>4</td>\n",
              "    </tr>\n",
              "    <tr>\n",
              "      <th>4298</th>\n",
              "      <td>ENSTTAG00005003367_ENSTTAG00005003367_14</td>\n",
              "      <td>4171</td>\n",
              "      <td>0</td>\n",
              "      <td>TN</td>\n",
              "      <td>0.001135</td>\n",
              "      <td>2</td>\n",
              "      <td>17</td>\n",
              "      <td>7</td>\n",
              "      <td>12</td>\n",
              "      <td>2</td>\n",
              "      <td>...</td>\n",
              "      <td>10</td>\n",
              "      <td>15</td>\n",
              "      <td>15</td>\n",
              "      <td>15</td>\n",
              "      <td>10</td>\n",
              "      <td>15</td>\n",
              "      <td>15</td>\n",
              "      <td>15</td>\n",
              "      <td>10</td>\n",
              "      <td>15</td>\n",
              "    </tr>\n",
              "  </tbody>\n",
              "</table>\n",
              "<p>5 rows × 106 columns</p>\n",
              "</div>\n",
              "      <button class=\"colab-df-convert\" onclick=\"convertToInteractive('df-0abd4b33-1a8d-4d72-9cf0-a184ee0d611a')\"\n",
              "              title=\"Convert this dataframe to an interactive table.\"\n",
              "              style=\"display:none;\">\n",
              "        \n",
              "  <svg xmlns=\"http://www.w3.org/2000/svg\" height=\"24px\"viewBox=\"0 0 24 24\"\n",
              "       width=\"24px\">\n",
              "    <path d=\"M0 0h24v24H0V0z\" fill=\"none\"/>\n",
              "    <path d=\"M18.56 5.44l.94 2.06.94-2.06 2.06-.94-2.06-.94-.94-2.06-.94 2.06-2.06.94zm-11 1L8.5 8.5l.94-2.06 2.06-.94-2.06-.94L8.5 2.5l-.94 2.06-2.06.94zm10 10l.94 2.06.94-2.06 2.06-.94-2.06-.94-.94-2.06-.94 2.06-2.06.94z\"/><path d=\"M17.41 7.96l-1.37-1.37c-.4-.4-.92-.59-1.43-.59-.52 0-1.04.2-1.43.59L10.3 9.45l-7.72 7.72c-.78.78-.78 2.05 0 2.83L4 21.41c.39.39.9.59 1.41.59.51 0 1.02-.2 1.41-.59l7.78-7.78 2.81-2.81c.8-.78.8-2.07 0-2.86zM5.41 20L4 18.59l7.72-7.72 1.47 1.35L5.41 20z\"/>\n",
              "  </svg>\n",
              "      </button>\n",
              "      \n",
              "  <style>\n",
              "    .colab-df-container {\n",
              "      display:flex;\n",
              "      flex-wrap:wrap;\n",
              "      gap: 12px;\n",
              "    }\n",
              "\n",
              "    .colab-df-convert {\n",
              "      background-color: #E8F0FE;\n",
              "      border: none;\n",
              "      border-radius: 50%;\n",
              "      cursor: pointer;\n",
              "      display: none;\n",
              "      fill: #1967D2;\n",
              "      height: 32px;\n",
              "      padding: 0 0 0 0;\n",
              "      width: 32px;\n",
              "    }\n",
              "\n",
              "    .colab-df-convert:hover {\n",
              "      background-color: #E2EBFA;\n",
              "      box-shadow: 0px 1px 2px rgba(60, 64, 67, 0.3), 0px 1px 3px 1px rgba(60, 64, 67, 0.15);\n",
              "      fill: #174EA6;\n",
              "    }\n",
              "\n",
              "    [theme=dark] .colab-df-convert {\n",
              "      background-color: #3B4455;\n",
              "      fill: #D2E3FC;\n",
              "    }\n",
              "\n",
              "    [theme=dark] .colab-df-convert:hover {\n",
              "      background-color: #434B5C;\n",
              "      box-shadow: 0px 1px 3px 1px rgba(0, 0, 0, 0.15);\n",
              "      filter: drop-shadow(0px 1px 2px rgba(0, 0, 0, 0.3));\n",
              "      fill: #FFFFFF;\n",
              "    }\n",
              "  </style>\n",
              "\n",
              "      <script>\n",
              "        const buttonEl =\n",
              "          document.querySelector('#df-0abd4b33-1a8d-4d72-9cf0-a184ee0d611a button.colab-df-convert');\n",
              "        buttonEl.style.display =\n",
              "          google.colab.kernel.accessAllowed ? 'block' : 'none';\n",
              "\n",
              "        async function convertToInteractive(key) {\n",
              "          const element = document.querySelector('#df-0abd4b33-1a8d-4d72-9cf0-a184ee0d611a');\n",
              "          const dataTable =\n",
              "            await google.colab.kernel.invokeFunction('convertToInteractive',\n",
              "                                                     [key], {});\n",
              "          if (!dataTable) return;\n",
              "\n",
              "          const docLinkHtml = 'Like what you see? Visit the ' +\n",
              "            '<a target=\"_blank\" href=https://colab.research.google.com/notebooks/data_table.ipynb>data table notebook</a>'\n",
              "            + ' to learn more about interactive tables.';\n",
              "          element.innerHTML = '';\n",
              "          dataTable['output_type'] = 'display_data';\n",
              "          await google.colab.output.renderOutput(dataTable, element);\n",
              "          const docLink = document.createElement('div');\n",
              "          docLink.innerHTML = docLinkHtml;\n",
              "          element.appendChild(docLink);\n",
              "        }\n",
              "      </script>\n",
              "    </div>\n",
              "  </div>\n",
              "  "
            ]
          },
          "metadata": {},
          "execution_count": 16
        }
      ],
      "source": [
        "column_index=results_data.columns.get_loc('RESULT_TYPE')\n",
        "i=0\n",
        "for result in model_prediction_binary:\n",
        "    #print(\"Comparing result={} with data_y_test={}\".format(result[0],data_y_test.iloc[i]))\n",
        "    if   result[0]==0 and data_y_test.iloc[i]==0:\n",
        "       typeRes =\"TN\"\n",
        "    elif result[0]==0 and data_y_test.iloc[i]==1:\n",
        "       typeRes=\"FN\"\n",
        "    elif result[0]==1 and data_y_test.iloc[i]==0:\n",
        "       typeRes=\"FP\"\n",
        "    elif result[0]==1 and data_y_test.iloc[i]==1:\n",
        "       typeRes=\"TP\"\n",
        "    results_data.iloc[i, column_index]=typeRes\n",
        "    i+=1\n",
        "    \n",
        "results_data.head()"
      ]
    },
    {
      "cell_type": "code",
      "execution_count": 20,
      "id": "071e1abf-5a84-401d-a3c3-e335dabc7263",
      "metadata": {
        "id": "071e1abf-5a84-401d-a3c3-e335dabc7263"
      },
      "outputs": [],
      "source": [
        "#Save the results into a file\n",
        "report_dir=\"/content/drive/MyDrive/REPORT\"\n",
        "results_csv_file  =model_name + \"_Results.csv\"\n",
        "results_excel_file=model_name + \"_Results.xlsx\"\n",
        "results_data.to_csv(os.path.join(report_dir,results_csv_file))\n",
        "results_data.to_excel(os.path.join(report_dir,results_excel_file))"
      ]
    },
    {
      "cell_type": "markdown",
      "id": "3efaaf0c-8cbe-4683-93e5-4eb4bd6f0e4f",
      "metadata": {
        "id": "3efaaf0c-8cbe-4683-93e5-4eb4bd6f0e4f"
      },
      "source": [
        "Now, we are going to find the record with highest probability and category TP (True Positive) as a good model of TP data,\n",
        "and alternatively, the best representative of TN, using the lowest value"
      ]
    },
    {
      "cell_type": "code",
      "execution_count": 21,
      "id": "92b6138a-bb87-4a69-9a64-8cbcc69b260c",
      "metadata": {
        "colab": {
          "base_uri": "https://localhost:8080/"
        },
        "id": "92b6138a-bb87-4a69-9a64-8cbcc69b260c",
        "outputId": "4349977a-e6d6-4bdf-c6fb-94864279f483"
      },
      "outputs": [
        {
          "output_type": "stream",
          "name": "stdout",
          "text": [
            "rowid best TP = 282390\n",
            "GENE           ENSTTAG00005009316_ENSTTAG00005009316_15\n",
            "POS                                                1787\n",
            "EDITING                                               1\n",
            "RESULT_TYPE                                          TP\n",
            "PROB_PRED                                      0.998124\n",
            "                                 ...                   \n",
            "P97                                                  13\n",
            "P98                                                  16\n",
            "P99                                                  11\n",
            "P100                                                  1\n",
            "P101                                                 16\n",
            "Name: 282390, Length: 106, dtype: object\n"
          ]
        }
      ],
      "source": [
        "subset_TP=results_data.loc[results_data['RESULT_TYPE'] == 'TP']\n",
        "prototype_of_TP_id=subset_TP['PROB_PRED'].idxmax()\n",
        "print(\"rowid best TP = {}\".format(prototype_of_TP_id))\n",
        "print(results_data.loc[prototype_of_TP_id,])"
      ]
    },
    {
      "cell_type": "code",
      "execution_count": 22,
      "id": "45c18ea1-4b2e-4bc9-90b5-871f2d56d219",
      "metadata": {
        "colab": {
          "base_uri": "https://localhost:8080/"
        },
        "id": "45c18ea1-4b2e-4bc9-90b5-871f2d56d219",
        "outputId": "736b84e3-bd70-46e0-80e8-30ef57711857"
      },
      "outputs": [
        {
          "output_type": "stream",
          "name": "stdout",
          "text": [
            "rowid best TN = 225556\n",
            "GENE           ENSTTAG00005028074_ENSTTAG00005028074_22\n",
            "POS                                                2617\n",
            "EDITING                                               0\n",
            "RESULT_TYPE                                          TN\n",
            "PROB_PRED                                           0.0\n",
            "                                 ...                   \n",
            "P97                                                  15\n",
            "P98                                                   5\n",
            "P99                                                  15\n",
            "P100                                                 10\n",
            "P101                                                  0\n",
            "Name: 225556, Length: 106, dtype: object\n"
          ]
        }
      ],
      "source": [
        "subset_TN=results_data.loc[results_data['RESULT_TYPE'] == 'TN']\n",
        "prototype_of_TN_id=subset_TN['PROB_PRED'].idxmin()\n",
        "print(\"rowid best TN = {}\".format(prototype_of_TN_id))\n",
        "print(results_data.loc[prototype_of_TN_id,])"
      ]
    }
  ],
  "metadata": {
    "accelerator": "GPU",
    "colab": {
      "collapsed_sections": [],
      "machine_shape": "hm",
      "provenance": []
    },
    "kernelspec": {
      "display_name": "Python 3 (ipykernel)",
      "language": "python",
      "name": "python3"
    },
    "language_info": {
      "codemirror_mode": {
        "name": "ipython",
        "version": 3
      },
      "file_extension": ".py",
      "mimetype": "text/x-python",
      "name": "python",
      "nbconvert_exporter": "python",
      "pygments_lexer": "ipython3",
      "version": "3.8.12"
    }
  },
  "nbformat": 4,
  "nbformat_minor": 5
}