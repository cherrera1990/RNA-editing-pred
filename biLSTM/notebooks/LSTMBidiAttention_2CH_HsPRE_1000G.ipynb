{
 "cells": [
  {
   "cell_type": "markdown",
   "id": "ca661a73-de2d-4079-8138-914bab318805",
   "metadata": {
    "id": "ca661a73-de2d-4079-8138-914bab318805"
   },
   "source": [
    "# Deep neural network-based models for predicting mRNA editing in Trachurus trachurus \n",
    "\n",
    "Bidirectional LSTM with Attention Layer, using Hg38 PRE"
   ]
  },
  {
   "cell_type": "code",
   "execution_count": 2,
   "id": "c9f60581-a961-4284-9b0b-3867f3b54213",
   "metadata": {
    "executionInfo": {
     "elapsed": 835,
     "status": "ok",
     "timestamp": 1684603407174,
     "user": {
      "displayName": "Jesús Peñuela",
      "userId": "04868940139927239067"
     },
     "user_tz": -120
    },
    "id": "c9f60581-a961-4284-9b0b-3867f3b54213",
    "jupyter": {
     "source_hidden": true
    },
    "tags": []
   },
   "outputs": [],
   "source": [
    "import os\n",
    "import numpy as np\n",
    "import pandas as pd\n",
    "import matplotlib.pyplot as plt\n",
    "from sklearn.model_selection import train_test_split\n",
    "import tensorflow as tf\n",
    "from tensorflow import keras\n",
    "from tensorflow.keras import layers\n",
    "from sklearn.metrics import confusion_matrix, precision_score, cohen_kappa_score, classification_report\n",
    "import seaborn as sns; sns.set()\n",
    "from keras import backend as K\n"
   ]
  },
  {
   "cell_type": "code",
   "execution_count": 3,
   "id": "7b4b7d71-286c-433d-b5b5-94e41403d218",
   "metadata": {
    "executionInfo": {
     "elapsed": 741,
     "status": "ok",
     "timestamp": 1684603410519,
     "user": {
      "displayName": "Jesús Peñuela",
      "userId": "04868940139927239067"
     },
     "user_tz": -120
    },
    "id": "7b4b7d71-286c-433d-b5b5-94e41403d218"
   },
   "outputs": [],
   "source": [
    "########################################\n",
    "# PARAMS\n",
    "########################################\n",
    "fname      = 'hg38_RS_DL_PRE_Pad_W50_1000GENES_BALANCED_1_1_CODED2CH.csv'\n",
    "separator_char=';'\n",
    "categories=[['A','G','C','T'],['s','d','h','i','b']]\n",
    "padding=True\n",
    "ptrain     = 0.7\n",
    "trace_level = 1\n",
    "model_name = 'LSTMBidiAttention_PRE_1000G'\n",
    "num_lstm_units=256\n",
    "n_epochs=40\n",
    "batch_size=32\n",
    "categories_size=20\n",
    "random_seed=2022\n",
    "########################################"
   ]
  },
  {
   "cell_type": "markdown",
   "id": "1bd49147-7ef8-4a2b-ba75-694d51a94f88",
   "metadata": {
    "id": "1bd49147-7ef8-4a2b-ba75-694d51a94f88",
    "outputId": "eba0a3a5-140a-404c-f883-4f3124dcfbae"
   },
   "source": [
    "We can run this notebook in two environments:\n",
    "+ Googlr Colab Pro (Cloud)\n",
    "+ Jupyter Lab (Locally)"
   ]
  },
  {
   "cell_type": "code",
   "execution_count": 4,
   "id": "be00b8cf-d29e-429d-a4cc-e05f4416b635",
   "metadata": {
    "colab": {
     "base_uri": "https://localhost:8080/"
    },
    "executionInfo": {
     "elapsed": 444,
     "status": "ok",
     "timestamp": 1684603415576,
     "user": {
      "displayName": "Jesús Peñuela",
      "userId": "04868940139927239067"
     },
     "user_tz": -120
    },
    "id": "be00b8cf-d29e-429d-a4cc-e05f4416b635",
    "outputId": "bd0b1a54-d39e-4144-ff07-186967082dd7"
   },
   "outputs": [
    {
     "name": "stdout",
     "output_type": "stream",
     "text": [
      "Running on CoLab\n"
     ]
    }
   ],
   "source": [
    "#CHECK GOOGLE COLAB\n",
    "GOOGLE_COLAB=False\n",
    "if 'google.colab' in str(get_ipython()):\n",
    "  GOOGLE_COLAB=True  \n",
    "  print('Running on CoLab')\n",
    "else:\n",
    "  print('Not running on CoLab')"
   ]
  },
  {
   "cell_type": "markdown",
   "id": "26ebcbc7-a0de-4a91-aa76-4f422bd2383c",
   "metadata": {
    "id": "26ebcbc7-a0de-4a91-aa76-4f422bd2383c",
    "outputId": "eba0a3a5-140a-404c-f883-4f3124dcfbae"
   },
   "source": [
    "Checking if GPU is available and GPU characteristics."
   ]
  },
  {
   "cell_type": "code",
   "execution_count": 5,
   "id": "e6fa0226-d138-40dd-bab2-7d0aedec9746",
   "metadata": {
    "colab": {
     "base_uri": "https://localhost:8080/"
    },
    "executionInfo": {
     "elapsed": 4138,
     "status": "ok",
     "timestamp": 1684603424019,
     "user": {
      "displayName": "Jesús Peñuela",
      "userId": "04868940139927239067"
     },
     "user_tz": -120
    },
    "id": "e6fa0226-d138-40dd-bab2-7d0aedec9746",
    "outputId": "673d08f0-b038-4ce3-b912-3d0d6c2f6b4b"
   },
   "outputs": [
    {
     "name": "stdout",
     "output_type": "stream",
     "text": [
      "Num GPUs Available: 1\n",
      "Found GPU at: /device:GPU:0\n",
      "Sat May 20 17:23:41 2023       \n",
      "+-----------------------------------------------------------------------------+\n",
      "| NVIDIA-SMI 525.85.12    Driver Version: 525.85.12    CUDA Version: 12.0     |\n",
      "|-------------------------------+----------------------+----------------------+\n",
      "| GPU  Name        Persistence-M| Bus-Id        Disp.A | Volatile Uncorr. ECC |\n",
      "| Fan  Temp  Perf  Pwr:Usage/Cap|         Memory-Usage | GPU-Util  Compute M. |\n",
      "|                               |                      |               MIG M. |\n",
      "|===============================+======================+======================|\n",
      "|   0  Tesla T4            Off  | 00000000:00:04.0 Off |                    0 |\n",
      "| N/A   61C    P0    32W /  70W |    373MiB / 15360MiB |      5%      Default |\n",
      "|                               |                      |                  N/A |\n",
      "+-------------------------------+----------------------+----------------------+\n",
      "                                                                               \n",
      "+-----------------------------------------------------------------------------+\n",
      "| Processes:                                                                  |\n",
      "|  GPU   GI   CI        PID   Type   Process name                  GPU Memory |\n",
      "|        ID   ID                                                   Usage      |\n",
      "|=============================================================================|\n",
      "+-----------------------------------------------------------------------------+\n"
     ]
    }
   ],
   "source": [
    "#CHECK GPU\n",
    "device_name = tf.test.gpu_device_name()\n",
    "if device_name != '/device:GPU:0':\n",
    "  print('GPU device not found')\n",
    "else:\n",
    "  print('Num GPUs Available: {}'.format(len(tf.config.list_physical_devices('GPU'))))\n",
    "  print('Found GPU at: {}'.format(device_name))\n",
    "  gpu_info = !nvidia-smi\n",
    "  gpu_info = '\\n'.join(gpu_info)\n",
    "  if gpu_info.find('failed') >= 0:\n",
    "     print('Not connected to a GPU')\n",
    "  else:\n",
    "     print(gpu_info)"
   ]
  },
  {
   "cell_type": "code",
   "execution_count": 6,
   "id": "d259c02c-bb23-43d6-899b-f9cbd4ca898d",
   "metadata": {
    "colab": {
     "base_uri": "https://localhost:8080/"
    },
    "executionInfo": {
     "elapsed": 26876,
     "status": "ok",
     "timestamp": 1684603455643,
     "user": {
      "displayName": "Jesús Peñuela",
      "userId": "04868940139927239067"
     },
     "user_tz": -120
    },
    "id": "d259c02c-bb23-43d6-899b-f9cbd4ca898d",
    "outputId": "5bb77871-512c-4d39-c36a-f239d44c83f3"
   },
   "outputs": [
    {
     "name": "stdout",
     "output_type": "stream",
     "text": [
      "Mounted at /content/drive\n"
     ]
    }
   ],
   "source": [
    "if padding==True:\n",
    "    categories_size=21\n",
    "\n",
    "if GOOGLE_COLAB==False:\n",
    "    data_dir = '../../data/datasets/ALL_HG38_PRE/W50'\n",
    "    models_dir = './SAVED_MODELS'\n",
    "\n",
    "else:\n",
    "    from google.colab import drive\n",
    "    drive.mount('/content/drive')\n",
    "    import sys\n",
    "    #set the path to find RNAEd module\n",
    "    sys.path.insert(0,'/content/drive/MyDrive/ColabNotebooks')    \n",
    "    data_dir  = '/content/drive/MyDrive/DATASETS/ALL_HG38_PRE/W50'\n",
    "    models_dir= '/content/drive/MyDrive/MODELS'"
   ]
  },
  {
   "cell_type": "code",
   "execution_count": 7,
   "id": "d3277a99-0187-4e81-b4e7-a5bb99d7cc27",
   "metadata": {
    "colab": {
     "base_uri": "https://localhost:8080/"
    },
    "executionInfo": {
     "elapsed": 7181,
     "status": "ok",
     "timestamp": 1684603467669,
     "user": {
      "displayName": "Jesús Peñuela",
      "userId": "04868940139927239067"
     },
     "user_tz": -120
    },
    "id": "d3277a99-0187-4e81-b4e7-a5bb99d7cc27",
    "outputId": "a8f3b591-50af-487f-9850-f50a54853117"
   },
   "outputs": [
    {
     "name": "stdout",
     "output_type": "stream",
     "text": [
      "Number of channels: 2 /categories: [['A', 'G', 'C', 'T'], ['s', 'd', 'h', 'i', 'b']]\n",
      "Number of codes=21\n",
      "('A', 's') / 0\n",
      "('A', 'd') / 1\n",
      "('A', 'h') / 2\n",
      "('A', 'i') / 3\n",
      "('A', 'b') / 4\n",
      "('G', 's') / 5\n",
      "('G', 'd') / 6\n",
      "('G', 'h') / 7\n",
      "('G', 'i') / 8\n",
      "('G', 'b') / 9\n",
      "('C', 's') / 10\n",
      "('C', 'd') / 11\n",
      "('C', 'h') / 12\n",
      "('C', 'i') / 13\n",
      "('C', 'b') / 14\n",
      "('T', 's') / 15\n",
      "('T', 'd') / 16\n",
      "('T', 'h') / 17\n",
      "('T', 'i') / 18\n",
      "('T', 'b') / 19\n",
      "('*', '*') / 20\n",
      "Number of codes or categories size: 21\n"
     ]
    }
   ],
   "source": [
    "from rnaed import DataGenerator,DataEncoder\n",
    "encoder=DataEncoder(categories,padding=padding,pad_char=\"*\")\n",
    "n_ch,cat=encoder.getChannels()\n",
    "print(\"Number of channels: {} /categories: {}\".format(n_ch,cat))\n",
    "encoder.print_LUT_TupleToInteger()\n",
    "categories_size=encoder.getNumCodes()\n",
    "print(\"Number of codes or categories size: {}\".format(categories_size))"
   ]
  },
  {
   "cell_type": "code",
   "execution_count": 8,
   "id": "d1f58b95-6aea-45de-af97-5f2964dd413a",
   "metadata": {
    "colab": {
     "base_uri": "https://localhost:8080/"
    },
    "executionInfo": {
     "elapsed": 385,
     "status": "ok",
     "timestamp": 1684603485047,
     "user": {
      "displayName": "Jesús Peñuela",
      "userId": "04868940139927239067"
     },
     "user_tz": -120
    },
    "id": "d1f58b95-6aea-45de-af97-5f2964dd413a",
    "outputId": "73769b6f-9aff-4444-c88a-3223193e88f2"
   },
   "outputs": [
    {
     "name": "stdout",
     "output_type": "stream",
     "text": [
      "LAST MODEL FILE: /content/drive/MyDrive/MODELS/LSTMBidiAttention_PRE_1000G.h5\n",
      "BEST MODEL FILE: /content/drive/MyDrive/MODELS/best_model_LSTMBidiAttention_PRE_1000G.h5\n"
     ]
    }
   ],
   "source": [
    "#We can save best model and last model\n",
    "best_model = 'best_model_'+model_name+'.h5'\n",
    "last_model =  model_name+'.h5'\n",
    "lastmodelfile = os.path.join(models_dir, last_model)\n",
    "print(\"LAST MODEL FILE: {}\".format(lastmodelfile))\n",
    "bestmodelfile = os.path.join(models_dir, best_model)\n",
    "print(\"BEST MODEL FILE: {}\".format(bestmodelfile))\n",
    "datafile = os.path.join(data_dir, fname)    "
   ]
  },
  {
   "cell_type": "markdown",
   "id": "8c001b8d-f491-45da-a667-9d566df08c38",
   "metadata": {
    "id": "8c001b8d-f491-45da-a667-9d566df08c38",
    "outputId": "dca7aef9-a604-426f-ef3d-725b81ca9baa"
   },
   "source": [
    "We read the data."
   ]
  },
  {
   "cell_type": "code",
   "execution_count": 9,
   "id": "206aec14-c210-499a-9601-09d1443cd01e",
   "metadata": {
    "colab": {
     "base_uri": "https://localhost:8080/"
    },
    "executionInfo": {
     "elapsed": 3923,
     "status": "ok",
     "timestamp": 1684603492368,
     "user": {
      "displayName": "Jesús Peñuela",
      "userId": "04868940139927239067"
     },
     "user_tz": -120
    },
    "id": "206aec14-c210-499a-9601-09d1443cd01e",
    "outputId": "bf391d10-dac5-4959-8b5b-3558ad880ba0"
   },
   "outputs": [
    {
     "name": "stdout",
     "output_type": "stream",
     "text": [
      "DATASET: /content/drive/MyDrive/DATASETS/ALL_HG38_PRE/W50/hg38_RS_DL_PRE_Pad_W50_1000GENES_BALANCED_1_1_CODED2CH.csv\n",
      "shape dataraw=(115464, 104)\n"
     ]
    }
   ],
   "source": [
    "print(\"DATASET: {}\".format(datafile))\n",
    "data = pd.read_csv(datafile,sep=separator_char)\n",
    "print(\"shape dataraw={}\".format(data.shape))"
   ]
  },
  {
   "cell_type": "code",
   "execution_count": 10,
   "id": "49530e4f-caa7-4b65-b386-21e272945a4f",
   "metadata": {
    "colab": {
     "base_uri": "https://localhost:8080/"
    },
    "executionInfo": {
     "elapsed": 421,
     "status": "ok",
     "timestamp": 1684603495248,
     "user": {
      "displayName": "Jesús Peñuela",
      "userId": "04868940139927239067"
     },
     "user_tz": -120
    },
    "id": "49530e4f-caa7-4b65-b386-21e272945a4f",
    "outputId": "6e6d45fb-ea3f-45c7-da3f-45f327d5b248"
   },
   "outputs": [
    {
     "name": "stdout",
     "output_type": "stream",
     "text": [
      "<bound method NDFrame.head of                                   GENE    POS  EDITING  P1  P2  P3  P4  P5  \\\n",
      "0                     PARP1_PARP1_chr1  15864        0  16   1  16  16  16   \n",
      "1                     NTNG2_NTNG2_chr9  12888        0   8   8   3  13   3   \n",
      "2       LOC107985892_LOC107985892_chr2  20740        0   2   7   2  17  17   \n",
      "3                    COPS2_COPS2_chr15  24508        0   2  17   2   7  17   \n",
      "4                      PLD3_PLD3_chr19   8066        0   6   6  11  16   6   \n",
      "...                                ...    ...      ...  ..  ..  ..  ..  ..   \n",
      "115459       LINC00507_LINC00507_chr12  13855        1  16  19   6  16  16   \n",
      "115460             ZNF207_ZNF207_chr17   7804        1  11  16   6   6   6   \n",
      "115461  LOC101927296_LOC101927296_chr3  33593        1   1   6   1   1  11   \n",
      "115462             NCAPD2_NCAPD2_chr12  37543        1   3   8   6   6   1   \n",
      "115463               LMNB2_LMNB2_chr19  22682        1  16   1   1   3   3   \n",
      "\n",
      "        P6  P7  ...  P92  P93  P94  P95  P96  P97  P98  P99  P100  P101  \n",
      "0       17  17  ...   17    7    7   17    7   17   17    2     2     7  \n",
      "1        8   3  ...   13    8    8    3   13    8    8    3    11     6  \n",
      "2       12  12  ...    2   12    2    2   12   12   17    2     2    12  \n",
      "3        2  17  ...    6   16   18    6    6    6   16   16    17     7  \n",
      "4        6   0  ...   16    6    6   16   16    6    6    6     6    16  \n",
      "...     ..  ..  ...  ...  ...  ...  ...  ...  ...  ...  ...   ...   ...  \n",
      "115459  16   1  ...    6   16    6    6    1    1    1   16     1     6  \n",
      "115460   1  15  ...    3    3   13   18   11   11   16    6     2    12  \n",
      "115461   1   2  ...   11   11    3    3    6   11   11   12    17    12  \n",
      "115462   6  16  ...   19   14   14   14    4    6   11   16     1    10  \n",
      "115463   1  11  ...    6   16   16   16   11    1   11    6     1    11  \n",
      "\n",
      "[115464 rows x 104 columns]>\n"
     ]
    }
   ],
   "source": [
    "print(data.head)"
   ]
  },
  {
   "cell_type": "markdown",
   "id": "d4689c11-867e-44b1-bb6c-8be3e6628d34",
   "metadata": {
    "id": "d4689c11-867e-44b1-bb6c-8be3e6628d34",
    "outputId": "c6394162-7647-4e1e-a983-2aa4df3a5242"
   },
   "source": [
    "We will divide the data into: train, validation and test.\n",
    "The three datastes should be well balanced."
   ]
  },
  {
   "cell_type": "code",
   "execution_count": 11,
   "id": "ae0e9343-353e-4b66-921e-2e2d0966bf5c",
   "metadata": {
    "colab": {
     "base_uri": "https://localhost:8080/"
    },
    "executionInfo": {
     "elapsed": 390,
     "status": "ok",
     "timestamp": 1684603498832,
     "user": {
      "displayName": "Jesús Peñuela",
      "userId": "04868940139927239067"
     },
     "user_tz": -120
    },
    "id": "ae0e9343-353e-4b66-921e-2e2d0966bf5c",
    "outputId": "419e06e0-97be-4939-f24f-5864970bfe06"
   },
   "outputs": [
    {
     "name": "stdout",
     "output_type": "stream",
     "text": [
      "data_train:(80824, 104) data_y_train:(80824,)\n",
      "data_val: (17320, 104) data_y_val: (17320,)\n",
      "data_test: (17320, 104) data_y_test: (17320,)\n",
      "TRAIN LABELS:\n",
      "0    40456\n",
      "1    40368\n",
      "Name: EDITING, dtype: int64\n",
      "VALIDATION LABELS:\n",
      "1    8714\n",
      "0    8606\n",
      "Name: EDITING, dtype: int64\n",
      "TEST LABELS:\n",
      "0    8670\n",
      "1    8650\n",
      "Name: EDITING, dtype: int64\n"
     ]
    }
   ],
   "source": [
    "# Train and Validation+Test\n",
    "data_train, data_val_test, data_y_train, data_y_val_test = train_test_split(data, data['EDITING'], test_size=1-ptrain, random_state=random_seed)\n",
    "#Validation and test: 0.5/0.5\n",
    "data_val, data_test, data_y_val, data_y_test = train_test_split(data_val_test, data_y_val_test, test_size=0.5, random_state=random_seed)\n",
    "\n",
    "print(\"data_train:{} data_y_train:{}\".format(data_train.shape,data_y_train.shape))\n",
    "print(\"data_val: {} data_y_val: {}\".format(data_val.shape,data_y_val.shape))\n",
    "print(\"data_test: {} data_y_test: {}\".format(data_test.shape,data_y_test.shape))\n",
    "print(\"TRAIN LABELS:\")\n",
    "print(data_y_train.value_counts())\n",
    "print(\"VALIDATION LABELS:\")\n",
    "print(data_y_val.value_counts())\n",
    "print(\"TEST LABELS:\")\n",
    "print(data_y_test.value_counts())"
   ]
  },
  {
   "cell_type": "markdown",
   "id": "6da206f4-e9f8-4b63-a2c3-eb8488556381",
   "metadata": {
    "id": "6da206f4-e9f8-4b63-a2c3-eb8488556381"
   },
   "source": [
    "We instantiate 3 DataGenerator objects that convert from integer to one-hot"
   ]
  },
  {
   "cell_type": "code",
   "execution_count": 12,
   "id": "801f208a-c441-4bb4-b300-642edd73d955",
   "metadata": {
    "executionInfo": {
     "elapsed": 396,
     "status": "ok",
     "timestamp": 1684603503368,
     "user": {
      "displayName": "Jesús Peñuela",
      "userId": "04868940139927239067"
     },
     "user_tz": -120
    },
    "id": "801f208a-c441-4bb4-b300-642edd73d955"
   },
   "outputs": [],
   "source": [
    "#DataGenerator converts on the fly from raw data to one-hot\n",
    "num_nucleosides = data_train.iloc[:,3:].shape[1]\n",
    "num_tokens = categories_size\n",
    "\n",
    "training_generator   = DataGenerator(data_train.iloc[:,3:], data_y_train, batch_size=batch_size, seq_size=num_nucleosides, categories_size=categories_size, shuffle=True)\n",
    "validation_generator = DataGenerator(  data_val.iloc[:,3:], data_y_val,   batch_size=batch_size, seq_size=num_nucleosides, categories_size=categories_size, shuffle=True)\n",
    "test_generator       = DataGenerator( data_test.iloc[:,3:], data_y_test,  batch_size=1,seq_size=num_nucleosides, categories_size=categories_size, shuffle=False )"
   ]
  },
  {
   "cell_type": "markdown",
   "id": "ddddf12b-b24f-4b5e-9540-6e49d380ff2d",
   "metadata": {
    "id": "ddddf12b-b24f-4b5e-9540-6e49d380ff2d",
    "outputId": "eb581962-8561-491c-822c-04e260bcf0cd"
   },
   "source": [
    "## Attention Layer"
   ]
  },
  {
   "cell_type": "code",
   "execution_count": 13,
   "id": "204b561c-65d2-43a4-8ee2-dd1d7148d93e",
   "metadata": {
    "executionInfo": {
     "elapsed": 560,
     "status": "ok",
     "timestamp": 1684603507035,
     "user": {
      "displayName": "Jesús Peñuela",
      "userId": "04868940139927239067"
     },
     "user_tz": -120
    },
    "id": "204b561c-65d2-43a4-8ee2-dd1d7148d93e"
   },
   "outputs": [],
   "source": [
    "from keras.layers import *\n",
    "from keras.models import *\n",
    "from keras import backend as K\n",
    "\n",
    "class attention(Layer):\n",
    "    ''' heredamos de la clase layer '''\n",
    "    def __init__(self):\n",
    "        super(attention,self).__init__()\n",
    "    \n",
    "    #En el método build definimos los pesos\n",
    "    def build(self, input_shape):\n",
    "        # Define the shape of the weights and bias in this layer\n",
    "        # The layer has just 1 lonely neuron\n",
    "        \n",
    "        # For convenience sake, add a couple of properties\n",
    "        self.num_dim_pernucleoside = input_shape[-1] ## 512 dimension del vector de contexto.\n",
    "        self.nucleosides_persequence = input_shape[-2]  ## 101 número de timesteps de la secuencia\n",
    "        num_units = 1\n",
    "        \n",
    "        \n",
    "        #Weights shape=(512,1), recordemos que la red neuronal capa oculta tiene un peso por dimensión.\n",
    "        self.W=self.add_weight(name=\"att_weight\", shape=(self.num_dim_pernucleoside,num_units),\n",
    "                               initializer=\"normal\")\n",
    "        #bias  shape=(101,1), hay un bias por cada timestep, palabra o nucleótido.\n",
    "        self.b=self.add_weight(name=\"att_bias\", shape=(self.nucleosides_persequence,num_units),\n",
    "                               initializer=\"zeros\")\n",
    "        super(attention,self).build(input_shape)\n",
    "    \n",
    "    #en el método call definimos la lógica\n",
    "    #esta es la implementación clásica\n",
    "    def call_classic(self, x):\n",
    "        # x is the input tensor of 2 x num_units = 512 dimensions\n",
    "        \"\"\" We multiply the inputs ‘x’ of shape (101,512) by the layer weights ‘w’ \n",
    "        of shape (512 , 1) and obtain a (101,1) values (future attention weights). We add the bias (101,1) \n",
    "        and pass the output through any activation layer to form a neural network. So we now have 101 * 1 values and \n",
    "        We take a softmax of these values. Softmax squashes these into values in the \n",
    "        range between 0, and 1 whose sum is 1. These are the 101 attention weights. \n",
    "        We multiply each attention weight by the respective nucleoside hidden state and sum up and we are done. \n",
    "        We now have the ‘attention adjusted output’ state ready to be fed to the next dense layer for classification.\"\"\"\n",
    "        \n",
    "        #e = K.squeeze(K.tanh(K.dot(x,self.W)+self.b),axis=-1)  # Necesario en algunos frameworks\n",
    "        e = K.tanh(K.dot(x,self.W)+self.b) #Red neuronal densa de una neurona con una matriz de pesos W y un vector de bias\n",
    "        a = K.softmax(e, axis=1) #hacemos softmax para normalizar y que los pesos sumen 1.\n",
    "        # Multiplicamos cada hidden state por cada peso (101,512)*(101,1)=(101,512). \n",
    "        # No es matricial, sino componente a componente \n",
    "        output = x*a \n",
    "        #Sumamos los 101 hidden states y se obtiene un hidden state suma de dimensión (101,512)\n",
    "        #También se retornan los pesos a (101,1)\n",
    "        return a, K.sum(output, axis=1)\n",
    "  \n",
    "    #esta implementación es más robusta\n",
    "    def call(self, x):\n",
    "        \"\"\" Es lo mismo de antes pero más robusto a distintos frameworks\"\"\"\n",
    "        e = K.tanh(K.dot(x,self.W)+self.b) # dimensiones (101,512)(512,1)+(101,1)=(101,1)\n",
    "        e = Flatten()(e) #(?,101)\n",
    "        a = Activation('softmax')(e) #(?,101)\n",
    "        # Repite 512 veces los 101 pesos (?,101) = (?,512,101)\n",
    "        temp = RepeatVector(self.num_dim_pernucleoside)(a)\n",
    "        #Permuta (?,512,101) por (?,101,512) para poder multiplicar componente a \n",
    "        #componente después\n",
    "        temp = Permute([2,1])(temp) \n",
    "        # Multiplicamnos por cada peso todas las componentes de todos los hidden states\n",
    "        # hidden state X=(101,512) pesos=temp=(101,512)\n",
    "        # el truco aquí es que cada fila de pesos es una repetición de 512 pesos iguales.\n",
    "        output = Multiply()([x,temp])\n",
    "        #Finalmente sumamos todas las filas y obtenemos así el hidden state ponderado\n",
    "        output = Lambda(lambda values: K.sum(values, axis=1))(output)\n",
    "        #Retornamos los pesos de atención y la suma de los hidden states.\n",
    "        return a, output"
   ]
  },
  {
   "cell_type": "markdown",
   "id": "77ef2548-0324-428e-9211-2f524ed4cbbe",
   "metadata": {
    "id": "77ef2548-0324-428e-9211-2f524ed4cbbe",
    "outputId": "eb581962-8561-491c-822c-04e260bcf0cd"
   },
   "source": [
    "## Model defined from the scratch"
   ]
  },
  {
   "cell_type": "code",
   "execution_count": 14,
   "id": "857b34b7-ddaa-465a-8f3b-69e9e321fd2c",
   "metadata": {
    "colab": {
     "base_uri": "https://localhost:8080/"
    },
    "executionInfo": {
     "elapsed": 2143,
     "status": "ok",
     "timestamp": 1684603514565,
     "user": {
      "displayName": "Jesús Peñuela",
      "userId": "04868940139927239067"
     },
     "user_tz": -120
    },
    "id": "857b34b7-ddaa-465a-8f3b-69e9e321fd2c",
    "outputId": "0c44f31a-58a1-4a0e-f0f4-64b365c78625"
   },
   "outputs": [
    {
     "name": "stdout",
     "output_type": "stream",
     "text": [
      "Number of units=256\n",
      "Model: \"LSTMBidiAttention_PRE_1000G\"\n",
      "__________________________________________________________________________________________________\n",
      " Layer (type)                   Output Shape         Param #     Connected to                     \n",
      "==================================================================================================\n",
      " INPUTS (InputLayer)            [(None, 101, 21)]    0           []                               \n",
      "                                                                                                  \n",
      " LSTM_BI (Bidirectional)        (None, 101, 512)     569344      ['INPUTS[0][0]']                 \n",
      "                                                                                                  \n",
      " dropout (Dropout)              (None, 101, 512)     0           ['LSTM_BI[0][0]']                \n",
      "                                                                                                  \n",
      " dense (Dense)                  (None, 101, 1)       513         ['dropout[0][0]']                \n",
      "                                                                                                  \n",
      " flatten (Flatten)              (None, 101)          0           ['dense[0][0]']                  \n",
      "                                                                                                  \n",
      " activation (Activation)        (None, 101)          0           ['flatten[0][0]']                \n",
      "                                                                                                  \n",
      " repeat_vector (RepeatVector)   (None, 512, 101)     0           ['activation[0][0]']             \n",
      "                                                                                                  \n",
      " permute (Permute)              (None, 101, 512)     0           ['repeat_vector[0][0]']          \n",
      "                                                                                                  \n",
      " multiply (Multiply)            (None, 101, 512)     0           ['dropout[0][0]',                \n",
      "                                                                  'permute[0][0]']                \n",
      "                                                                                                  \n",
      " lambda (Lambda)                (None, 512)          0           ['multiply[0][0]']               \n",
      "                                                                                                  \n",
      " OUTPUT (Dense)                 (None, 1)            513         ['lambda[0][0]']                 \n",
      "                                                                                                  \n",
      "==================================================================================================\n",
      "Total params: 570,370\n",
      "Trainable params: 570,370\n",
      "Non-trainable params: 0\n",
      "__________________________________________________________________________________________________\n",
      "None\n"
     ]
    }
   ],
   "source": [
    "#MODELOS REDES NEURONALES LSTM CON CAPAS DE ATENCIÓN\n",
    "# Import the libraries required in this example:\n",
    "print(\"Number of units={}\".format(num_lstm_units))\n",
    "#Definimos la estructura con el Functional model\n",
    "inputs = keras.Input(shape=(num_nucleosides,num_tokens), name=\"INPUTS\")\n",
    "lstm_out   = layers.Bidirectional(layers.LSTM(num_lstm_units,return_sequences=True), name=\"LSTM_BI\")(inputs)\n",
    "dropout= layers.Dropout(0.2)(lstm_out)\n",
    "\n",
    "#===============================\n",
    "#METHOD 1: using a custom layer:\n",
    "#===============================\n",
    "#La salida de la capa bidireccional será de 1 batch=None numero de secuencias, \n",
    "#de 101 nucleosidos(timesteps=50+1+50) de 2 x número_unidades=2*256=512\n",
    "#Es decir (None,101,512)\n",
    "#---------uncomment here--------------------\n",
    "#a ,att_d = attention()(dropout)\n",
    "#-----------------------------\n",
    "#La capa de atención debe retornarnos un peso para cada hidden state \n",
    "#correspondiente a cada elemento de la secuencia o timestep\n",
    "#es decir, nos debe dar un peso por cada nucleósido, es decir, nos debe dar (101,1)\n",
    "#Como son pesos probabilisticos deben sumar 1.\n",
    "#Pero realmente no queremos esos pesos, sino la suma de los 101 hidden states \n",
    "#de dimensión 512 ponderados por esos pesos que es lo que conforma el verdadero contexto, \n",
    "# y que tendrá dimensión (None,1,512).\n",
    "#Esta salida es lo que se llama el \"attention adjusted output state\".\n",
    "#Para ello, nuestra capa de atención debe entrenar (101,1) pesos, ya que debemos \n",
    "#entrenar un peso por cada dimensión del espacio vectorial del contexto.\n",
    "#Pero ojo, esos no son los pesos de la red neuronal de la capa de atención, porque si nuestra\n",
    "#red neuronal de atención tuviera 101 pesos, serían posicionales y deben ser calculados por el \n",
    "#valor semántico de los nucleótidos (si fueran palabras por su significado, no por su posición)\n",
    "\n",
    "#Nuestra red neuronal de atención debe atender al \"significado\" de las palabras, es decir,\n",
    "#a la codificación de cada nucleótido en el vector de estados \n",
    "#de la LSTM que tiene dimensión 512. Por lo tanto el número de pesos de la  red de atención \n",
    "# es de (512,1). Son los pesos de las 512 conexiones de la neurona de esta capa.\n",
    "\n",
    "#Durante el entrenamiento multiplicaremos matricialmente todos los nucleótidos de la \n",
    "#secuencia (101), con su codificación LSTMbidi(512), por los pesos de la capa de atención(512) y eso \n",
    "#nos dará los 101 pesos de atención:\n",
    "#(101,512) x (512,1) = (101,1) los pesos de atención\n",
    "#(512,1) son los pesos de la capa.\n",
    "\n",
    "#Ahora entendemos por qué los pesos de atención no son constantes\n",
    "#sino que para cada secuencia cambian:\n",
    "#En una red ya entrenada:\n",
    "#  (101,512)[variable] x (512,1)[constante] = (101,1)[variable]\n",
    "\n",
    "#===============================================================\n",
    "\n",
    "#===============================\n",
    "#METHOD 2: using regular layers:\n",
    "#===============================\n",
    "\n",
    "#---------uncomment here--------------------\n",
    "e=Dense(1, activation='tanh')(dropout) #Capa de atención\n",
    "e=Flatten()(e)\n",
    "a=Activation('softmax')(e) #Softmax para que sumen 1 los pesos de atención.\n",
    "temp=RepeatVector(2*num_lstm_units)(a)\n",
    "temp=Permute([2, 1])(temp)\n",
    "# multiply weight with LSTM layer o/p\n",
    "output = Multiply()([dropout, temp])\n",
    "# Get the attention adjusted output state by adding up\n",
    "att = Lambda(lambda values: K.sum(values, axis=1))(output)\n",
    "#-----------------------------\n",
    "\n",
    "#===============================================================\n",
    "outputs= layers.Dense(1, activation='sigmoid', name=\"OUTPUT\")(att)\n",
    "#Creamos el modelo\n",
    "model_from_scratch  = keras.Model(inputs=inputs, outputs=outputs, name=model_name)\n",
    "\n",
    "#Mostramos el modelo\n",
    "print(model_from_scratch.summary())"
   ]
  },
  {
   "cell_type": "code",
   "execution_count": 15,
   "id": "ddc47876-f37d-49b9-8927-208034317df9",
   "metadata": {
    "executionInfo": {
     "elapsed": 376,
     "status": "ok",
     "timestamp": 1684603520856,
     "user": {
      "displayName": "Jesús Peñuela",
      "userId": "04868940139927239067"
     },
     "user_tz": -120
    },
    "id": "ddc47876-f37d-49b9-8927-208034317df9"
   },
   "outputs": [],
   "source": [
    "#Compilation reset all weights\n",
    "model_from_scratch.compile(optimizer=keras.optimizers.Adam(),\n",
    "                           loss     =keras.losses.BinaryCrossentropy(),\n",
    "                           metrics  =[keras.metrics.BinaryAccuracy()])\n",
    "\n",
    "model=model_from_scratch"
   ]
  },
  {
   "cell_type": "markdown",
   "id": "9WyvcKhMJSEE",
   "metadata": {
    "id": "9WyvcKhMJSEE"
   },
   "source": [
    "Recover last model, best model or generate a new model"
   ]
  },
  {
   "cell_type": "code",
   "execution_count": 16,
   "id": "643c51c7-f1ee-489b-b306-fbf948a07a51",
   "metadata": {
    "executionInfo": {
     "elapsed": 2,
     "status": "ok",
     "timestamp": 1684603526461,
     "user": {
      "displayName": "Jesús Peñuela",
      "userId": "04868940139927239067"
     },
     "user_tz": -120
    },
    "id": "643c51c7-f1ee-489b-b306-fbf948a07a51"
   },
   "outputs": [],
   "source": [
    "#Load the trained model from disk\n",
    "import os.path\n",
    "\n",
    "best_model_accuracy =0\n",
    "last_model_accuracy =0\n"
   ]
  },
  {
   "cell_type": "code",
   "execution_count": 17,
   "id": "3IuCH91HwwUR",
   "metadata": {
    "executionInfo": {
     "elapsed": 387,
     "status": "ok",
     "timestamp": 1684603529018,
     "user": {
      "displayName": "Jesús Peñuela",
      "userId": "04868940139927239067"
     },
     "user_tz": -120
    },
    "id": "3IuCH91HwwUR"
   },
   "outputs": [],
   "source": [
    "if os.path.exists(bestmodelfile):\n",
    "    model = tf.keras.models.load_model(bestmodelfile)\n",
    "    print(\"Testing best model file: {}\".format(bestmodelfile))\n",
    "    results = model.evaluate(validation_generator,verbose=1)\n",
    "    best_model_accuracy = results[1]\n",
    "    print(\"best model accuracy: {}\".format(best_model_accuracy))    "
   ]
  },
  {
   "cell_type": "code",
   "execution_count": 18,
   "id": "rxiGXKZhwbS-",
   "metadata": {
    "executionInfo": {
     "elapsed": 384,
     "status": "ok",
     "timestamp": 1684603531517,
     "user": {
      "displayName": "Jesús Peñuela",
      "userId": "04868940139927239067"
     },
     "user_tz": -120
    },
    "id": "rxiGXKZhwbS-"
   },
   "outputs": [],
   "source": [
    "if os.path.exists(lastmodelfile):\n",
    "    model = tf.keras.models.load_model(lastmodelfile)\n",
    "    print(\"Testing last complete model file: {}\".format(lastmodelfile))\n",
    "    results = model.evaluate(validation_generator,verbose=1)\n",
    "    last_model_accuracy = results[1]\n",
    "    print(\"last model accuracy: {}\".format(last_model_accuracy))           \n"
   ]
  },
  {
   "cell_type": "code",
   "execution_count": 19,
   "id": "58jDsR4BwkN-",
   "metadata": {
    "colab": {
     "base_uri": "https://localhost:8080/"
    },
    "executionInfo": {
     "elapsed": 508,
     "status": "ok",
     "timestamp": 1684603534838,
     "user": {
      "displayName": "Jesús Peñuela",
      "userId": "04868940139927239067"
     },
     "user_tz": -120
    },
    "id": "58jDsR4BwkN-",
    "outputId": "71b61614-a7a2-491d-b8f6-2059e29719be"
   },
   "outputs": [
    {
     "name": "stdout",
     "output_type": "stream",
     "text": [
      "Selected new untrained model\n",
      "Model: \"LSTMBidiAttention_PRE_1000G\"\n",
      "__________________________________________________________________________________________________\n",
      " Layer (type)                   Output Shape         Param #     Connected to                     \n",
      "==================================================================================================\n",
      " INPUTS (InputLayer)            [(None, 101, 21)]    0           []                               \n",
      "                                                                                                  \n",
      " LSTM_BI (Bidirectional)        (None, 101, 512)     569344      ['INPUTS[0][0]']                 \n",
      "                                                                                                  \n",
      " dropout (Dropout)              (None, 101, 512)     0           ['LSTM_BI[0][0]']                \n",
      "                                                                                                  \n",
      " dense (Dense)                  (None, 101, 1)       513         ['dropout[0][0]']                \n",
      "                                                                                                  \n",
      " flatten (Flatten)              (None, 101)          0           ['dense[0][0]']                  \n",
      "                                                                                                  \n",
      " activation (Activation)        (None, 101)          0           ['flatten[0][0]']                \n",
      "                                                                                                  \n",
      " repeat_vector (RepeatVector)   (None, 512, 101)     0           ['activation[0][0]']             \n",
      "                                                                                                  \n",
      " permute (Permute)              (None, 101, 512)     0           ['repeat_vector[0][0]']          \n",
      "                                                                                                  \n",
      " multiply (Multiply)            (None, 101, 512)     0           ['dropout[0][0]',                \n",
      "                                                                  'permute[0][0]']                \n",
      "                                                                                                  \n",
      " lambda (Lambda)                (None, 512)          0           ['multiply[0][0]']               \n",
      "                                                                                                  \n",
      " OUTPUT (Dense)                 (None, 1)            513         ['lambda[0][0]']                 \n",
      "                                                                                                  \n",
      "==================================================================================================\n",
      "Total params: 570,370\n",
      "Trainable params: 570,370\n",
      "Non-trainable params: 0\n",
      "__________________________________________________________________________________________________\n"
     ]
    }
   ],
   "source": [
    "if best_model_accuracy >= last_model_accuracy and best_model_accuracy != 0:\n",
    "   model = tf.keras.models.load_model(bestmodelfile)\n",
    "   print(\"Selected best model saved: {}\".format(bestmodelfile))\n",
    "else:\n",
    "  if last_model_accuracy > best_model_accuracy:\n",
    "     print(\"Selected last model saved: {}\".format(lastmodelfile))\n",
    "  else:\n",
    "     print(\"Selected new untrained model\")\n",
    "\n",
    "\n",
    "# Show the model architecture\n",
    "model.summary()"
   ]
  },
  {
   "cell_type": "code",
   "execution_count": 20,
   "id": "644b1c7b-7c45-4483-88fc-e60a012edba0",
   "metadata": {
    "colab": {
     "base_uri": "https://localhost:8080/",
     "height": 1000
    },
    "executionInfo": {
     "elapsed": 921,
     "status": "ok",
     "timestamp": 1684603539951,
     "user": {
      "displayName": "Jesús Peñuela",
      "userId": "04868940139927239067"
     },
     "user_tz": -120
    },
    "id": "644b1c7b-7c45-4483-88fc-e60a012edba0",
    "outputId": "e9368e8e-3c9a-402d-f7fe-843b4f834aa2"
   },
   "outputs": [
    {
     "data": {
      "image/png": "[encoded data removed]",
      "text/plain": [
       "<IPython.core.display.Image object>"
      ]
     },
     "execution_count": 20,
     "metadata": {},
     "output_type": "execute_result"
    }
   ],
   "source": [
    "keras.utils.plot_model(model, show_shapes=True)"
   ]
  },
  {
   "cell_type": "code",
   "execution_count": 21,
   "id": "84d28828-8ee5-4bc6-8b97-1e06ab60c519",
   "metadata": {
    "executionInfo": {
     "elapsed": 384,
     "status": "ok",
     "timestamp": 1684603549257,
     "user": {
      "displayName": "Jesús Peñuela",
      "userId": "04868940139927239067"
     },
     "user_tz": -120
    },
    "id": "84d28828-8ee5-4bc6-8b97-1e06ab60c519"
   },
   "outputs": [],
   "source": [
    "from keras.callbacks import ModelCheckpoint,EarlyStopping\n",
    "\n",
    "checkpoint = ModelCheckpoint(bestmodelfile, \n",
    "                             monitor='val_loss', \n",
    "                             verbose=1,\n",
    "                             save_best_only=True, \n",
    "                             mode='auto', \n",
    "                             save_freq='epoch')\n",
    "\n",
    "callback=EarlyStopping(monitor='val_loss', \n",
    "                       min_delta=0, \n",
    "                       patience=3, \n",
    "                       verbose=1, \n",
    "                       mode='auto',\n",
    "                       baseline=None, \n",
    "                       restore_best_weights=True)"
   ]
  },
  {
   "cell_type": "code",
   "execution_count": 22,
   "id": "22345410-c762-42e4-9767-5ef8b1edb003",
   "metadata": {
    "colab": {
     "base_uri": "https://localhost:8080/"
    },
    "executionInfo": {
     "elapsed": 7510944,
     "status": "ok",
     "timestamp": 1684613433571,
     "user": {
      "displayName": "Jesús Peñuela",
      "userId": "04868940139927239067"
     },
     "user_tz": -120
    },
    "id": "22345410-c762-42e4-9767-5ef8b1edb003",
    "outputId": "c8bcf935-65cf-4e9d-a26c-a81b18554eac"
   },
   "outputs": [
    {
     "name": "stdout",
     "output_type": "stream",
     "text": [
      "Epoch 1/40\n",
      "2525/2525 [==============================] - ETA: 0s - loss: 0.4724 - binary_accuracy: 0.7675\n",
      "Epoch 1: val_loss improved from inf to 0.42384, saving model to /content/drive/MyDrive/MODELS/best_model_LSTMBidiAttention_PRE_1000G.h5\n",
      "2525/2525 [==============================] - 479s 186ms/step - loss: 0.4724 - binary_accuracy: 0.7675 - val_loss: 0.4238 - val_binary_accuracy: 0.8193\n",
      "Epoch 2/40\n",
      "2525/2525 [==============================] - ETA: 0s - loss: 0.3858 - binary_accuracy: 0.8396\n",
      "Epoch 2: val_loss improved from 0.42384 to 0.38089, saving model to /content/drive/MyDrive/MODELS/best_model_LSTMBidiAttention_PRE_1000G.h5\n",
      "2525/2525 [==============================] - 464s 184ms/step - loss: 0.3858 - binary_accuracy: 0.8396 - val_loss: 0.3809 - val_binary_accuracy: 0.8427\n",
      "Epoch 3/40\n",
      "2525/2525 [==============================] - ETA: 0s - loss: 0.3130 - binary_accuracy: 0.8876\n",
      "Epoch 3: val_loss improved from 0.38089 to 0.28475, saving model to /content/drive/MyDrive/MODELS/best_model_LSTMBidiAttention_PRE_1000G.h5\n",
      "2525/2525 [==============================] - 455s 180ms/step - loss: 0.3130 - binary_accuracy: 0.8876 - val_loss: 0.2848 - val_binary_accuracy: 0.9020\n",
      "Epoch 4/40\n",
      "2525/2525 [==============================] - ETA: 0s - loss: 0.2773 - binary_accuracy: 0.9061\n",
      "Epoch 4: val_loss improved from 0.28475 to 0.27503, saving model to /content/drive/MyDrive/MODELS/best_model_LSTMBidiAttention_PRE_1000G.h5\n",
      "2525/2525 [==============================] - 452s 179ms/step - loss: 0.2773 - binary_accuracy: 0.9061 - val_loss: 0.2750 - val_binary_accuracy: 0.9095\n",
      "Epoch 5/40\n",
      "2525/2525 [==============================] - ETA: 0s - loss: 0.2628 - binary_accuracy: 0.9128\n",
      "Epoch 5: val_loss improved from 0.27503 to 0.25768, saving model to /content/drive/MyDrive/MODELS/best_model_LSTMBidiAttention_PRE_1000G.h5\n",
      "2525/2525 [==============================] - 451s 179ms/step - loss: 0.2628 - binary_accuracy: 0.9128 - val_loss: 0.2577 - val_binary_accuracy: 0.9138\n",
      "Epoch 6/40\n",
      "2525/2525 [==============================] - ETA: 0s - loss: 0.2489 - binary_accuracy: 0.9173\n",
      "Epoch 6: val_loss did not improve from 0.25768\n",
      "2525/2525 [==============================] - 459s 182ms/step - loss: 0.2489 - binary_accuracy: 0.9173 - val_loss: 0.2585 - val_binary_accuracy: 0.9109\n",
      "Epoch 7/40\n",
      "2525/2525 [==============================] - ETA: 0s - loss: 0.2362 - binary_accuracy: 0.9216\n",
      "Epoch 7: val_loss improved from 0.25768 to 0.23957, saving model to /content/drive/MyDrive/MODELS/best_model_LSTMBidiAttention_PRE_1000G.h5\n",
      "2525/2525 [==============================] - 460s 182ms/step - loss: 0.2362 - binary_accuracy: 0.9216 - val_loss: 0.2396 - val_binary_accuracy: 0.9217\n",
      "Epoch 8/40\n",
      "2525/2525 [==============================] - ETA: 0s - loss: 0.2254 - binary_accuracy: 0.9257\n",
      "Epoch 8: val_loss improved from 0.23957 to 0.23295, saving model to /content/drive/MyDrive/MODELS/best_model_LSTMBidiAttention_PRE_1000G.h5\n",
      "2525/2525 [==============================] - 467s 185ms/step - loss: 0.2254 - binary_accuracy: 0.9257 - val_loss: 0.2329 - val_binary_accuracy: 0.9216\n",
      "Epoch 9/40\n",
      "2525/2525 [==============================] - ETA: 0s - loss: 0.2131 - binary_accuracy: 0.9300\n",
      "Epoch 9: val_loss improved from 0.23295 to 0.22954, saving model to /content/drive/MyDrive/MODELS/best_model_LSTMBidiAttention_PRE_1000G.h5\n",
      "2525/2525 [==============================] - 468s 185ms/step - loss: 0.2131 - binary_accuracy: 0.9300 - val_loss: 0.2295 - val_binary_accuracy: 0.9251\n",
      "Epoch 10/40\n",
      "2525/2525 [==============================] - ETA: 0s - loss: 0.2041 - binary_accuracy: 0.9332\n",
      "Epoch 10: val_loss improved from 0.22954 to 0.21943, saving model to /content/drive/MyDrive/MODELS/best_model_LSTMBidiAttention_PRE_1000G.h5\n",
      "2525/2525 [==============================] - 467s 185ms/step - loss: 0.2041 - binary_accuracy: 0.9332 - val_loss: 0.2194 - val_binary_accuracy: 0.9274\n",
      "Epoch 11/40\n",
      "2525/2525 [==============================] - ETA: 0s - loss: 0.1977 - binary_accuracy: 0.9347\n",
      "Epoch 11: val_loss improved from 0.21943 to 0.21700, saving model to /content/drive/MyDrive/MODELS/best_model_LSTMBidiAttention_PRE_1000G.h5\n",
      "2525/2525 [==============================] - 461s 183ms/step - loss: 0.1977 - binary_accuracy: 0.9347 - val_loss: 0.2170 - val_binary_accuracy: 0.9284\n",
      "Epoch 12/40\n",
      "2525/2525 [==============================] - ETA: 0s - loss: 0.1896 - binary_accuracy: 0.9375\n",
      "Epoch 12: val_loss improved from 0.21700 to 0.21508, saving model to /content/drive/MyDrive/MODELS/best_model_LSTMBidiAttention_PRE_1000G.h5\n",
      "2525/2525 [==============================] - 456s 181ms/step - loss: 0.1896 - binary_accuracy: 0.9375 - val_loss: 0.2151 - val_binary_accuracy: 0.9276\n",
      "Epoch 13/40\n",
      "2525/2525 [==============================] - ETA: 0s - loss: 0.1810 - binary_accuracy: 0.9407\n",
      "Epoch 13: val_loss improved from 0.21508 to 0.21360, saving model to /content/drive/MyDrive/MODELS/best_model_LSTMBidiAttention_PRE_1000G.h5\n",
      "2525/2525 [==============================] - 456s 180ms/step - loss: 0.1810 - binary_accuracy: 0.9407 - val_loss: 0.2136 - val_binary_accuracy: 0.9288\n",
      "Epoch 14/40\n",
      "2525/2525 [==============================] - ETA: 0s - loss: 0.1748 - binary_accuracy: 0.9421\n",
      "Epoch 14: val_loss did not improve from 0.21360\n",
      "2525/2525 [==============================] - 456s 181ms/step - loss: 0.1748 - binary_accuracy: 0.9421 - val_loss: 0.2146 - val_binary_accuracy: 0.9292\n",
      "Epoch 15/40\n",
      "2525/2525 [==============================] - ETA: 0s - loss: 0.1700 - binary_accuracy: 0.9437\n",
      "Epoch 15: val_loss did not improve from 0.21360\n",
      "2525/2525 [==============================] - 467s 185ms/step - loss: 0.1700 - binary_accuracy: 0.9437 - val_loss: 0.2168 - val_binary_accuracy: 0.9285\n",
      "Epoch 16/40\n",
      "2525/2525 [==============================] - ETA: 0s - loss: 0.1638 - binary_accuracy: 0.9456\n",
      "Epoch 16: val_loss improved from 0.21360 to 0.21291, saving model to /content/drive/MyDrive/MODELS/best_model_LSTMBidiAttention_PRE_1000G.h5\n",
      "2525/2525 [==============================] - 466s 184ms/step - loss: 0.1638 - binary_accuracy: 0.9456 - val_loss: 0.2129 - val_binary_accuracy: 0.9284\n",
      "Epoch 17/40\n",
      "2525/2525 [==============================] - ETA: 0s - loss: 0.1564 - binary_accuracy: 0.9482\n",
      "Epoch 17: val_loss did not improve from 0.21291\n",
      "2525/2525 [==============================] - 459s 182ms/step - loss: 0.1564 - binary_accuracy: 0.9482 - val_loss: 0.2163 - val_binary_accuracy: 0.9295\n",
      "Epoch 18/40\n",
      "2525/2525 [==============================] - ETA: 0s - loss: 0.1492 - binary_accuracy: 0.9502\n",
      "Epoch 18: val_loss improved from 0.21291 to 0.20858, saving model to /content/drive/MyDrive/MODELS/best_model_LSTMBidiAttention_PRE_1000G.h5\n",
      "2525/2525 [==============================] - 465s 184ms/step - loss: 0.1492 - binary_accuracy: 0.9502 - val_loss: 0.2086 - val_binary_accuracy: 0.9320\n",
      "Epoch 19/40\n",
      "2525/2525 [==============================] - ETA: 0s - loss: 0.1442 - binary_accuracy: 0.9519\n",
      "Epoch 19: val_loss did not improve from 0.20858\n",
      "2525/2525 [==============================] - 467s 185ms/step - loss: 0.1442 - binary_accuracy: 0.9519 - val_loss: 0.2278 - val_binary_accuracy: 0.9260\n",
      "Epoch 20/40\n",
      "2525/2525 [==============================] - ETA: 0s - loss: 0.1372 - binary_accuracy: 0.9530\n",
      "Epoch 20: val_loss did not improve from 0.20858\n",
      "2525/2525 [==============================] - 468s 185ms/step - loss: 0.1372 - binary_accuracy: 0.9530 - val_loss: 0.2243 - val_binary_accuracy: 0.9264\n",
      "Epoch 21/40\n",
      "2525/2525 [==============================] - ETA: 0s - loss: 0.1294 - binary_accuracy: 0.9562\n",
      "Epoch 21: val_loss did not improve from 0.20858\n",
      "Restoring model weights from the end of the best epoch: 18.\n",
      "2525/2525 [==============================] - 457s 181ms/step - loss: 0.1294 - binary_accuracy: 0.9562 - val_loss: 0.2130 - val_binary_accuracy: 0.9313\n",
      "Epoch 21: early stopping\n"
     ]
    }
   ],
   "source": [
    "with tf.device(device_name):#Use GPU if available\n",
    "    history=model.fit(training_generator,epochs=n_epochs,\n",
    "                      validation_data=validation_generator,\n",
    "                      callbacks=[checkpoint,callback],verbose=trace_level)"
   ]
  },
  {
   "cell_type": "code",
   "execution_count": 23,
   "id": "c8edd824-ea63-46fa-a917-5e41dbd3422c",
   "metadata": {
    "colab": {
     "base_uri": "https://localhost:8080/"
    },
    "executionInfo": {
     "elapsed": 409,
     "status": "ok",
     "timestamp": 1684613559178,
     "user": {
      "displayName": "Jesús Peñuela",
      "userId": "04868940139927239067"
     },
     "user_tz": -120
    },
    "id": "c8edd824-ea63-46fa-a917-5e41dbd3422c",
    "outputId": "8e59daa4-e73f-46db-8042-15730373cb67"
   },
   "outputs": [
    {
     "name": "stdout",
     "output_type": "stream",
     "text": [
      "Trained epochs: 21 of 40\n"
     ]
    }
   ],
   "source": [
    "#We always save the last model.\n",
    "#Last model can be triggered by early stopping\n",
    "n_epochs_trained = len(history.history['loss'])\n",
    "print(\"Trained epochs: {} of {}\".format(n_epochs_trained,n_epochs))\n",
    "model.save(lastmodelfile)    "
   ]
  },
  {
   "cell_type": "code",
   "execution_count": 24,
   "id": "634fb710-78e7-4734-b41f-eccd0a9ff589",
   "metadata": {
    "colab": {
     "base_uri": "https://localhost:8080/",
     "height": 897
    },
    "executionInfo": {
     "elapsed": 1313,
     "status": "ok",
     "timestamp": 1684613565405,
     "user": {
      "displayName": "Jesús Peñuela",
      "userId": "04868940139927239067"
     },
     "user_tz": -120
    },
    "id": "634fb710-78e7-4734-b41f-eccd0a9ff589",
    "outputId": "415df3b7-7b2f-42c9-dcce-32326a01d99e"
   },
   "outputs": [
    {
     "data": {
      "image/png": "[encoded data removed]",
      "text/plain": [
       "<Figure size 640x480 with 1 Axes>"
      ]
     },
     "metadata": {},
     "output_type": "display_data"
    },
    {
     "data": {
      "image/png": "[encoded data removed]",
      "text/plain": [
       "<Figure size 640x480 with 1 Axes>"
      ]
     },
     "metadata": {},
     "output_type": "display_data"
    }
   ],
   "source": [
    "#PLOT ACCURACY AND LOSS\n",
    "\n",
    "acc = history.history['binary_accuracy']\n",
    "val_acc = history.history['val_binary_accuracy']\n",
    "loss = history.history['loss']\n",
    "val_loss = history.history['val_loss']\n",
    "\n",
    "epochs = range(1, len(acc) + 1)\n",
    "\n",
    "plt.plot(epochs, acc, 'bo', label='Training acc')\n",
    "plt.plot(epochs, val_acc, 'b', label='Validation acc')\n",
    "plt.title('Training and validation accuracy')\n",
    "plt.legend()\n",
    "plt.figure()\n",
    "plt.plot(epochs, loss, 'bo', label='Training loss')\n",
    "plt.plot(epochs, val_loss, 'b', label='Validation loss')\n",
    "plt.title('Training and validation loss')\n",
    "plt.legend()\n",
    "plt.show()"
   ]
  },
  {
   "cell_type": "markdown",
   "id": "c366e2cf-105b-4007-8732-9c3f330f9cb2",
   "metadata": {
    "id": "c366e2cf-105b-4007-8732-9c3f330f9cb2",
    "outputId": "c72777c6-5a20-481f-c89e-89ed00121599"
   },
   "source": [
    "We recover the best model saved."
   ]
  },
  {
   "cell_type": "code",
   "execution_count": 25,
   "id": "d657a2d3-548a-4475-a171-831406ed1140",
   "metadata": {
    "executionInfo": {
     "elapsed": 3190,
     "status": "ok",
     "timestamp": 1684613577317,
     "user": {
      "displayName": "Jesús Peñuela",
      "userId": "04868940139927239067"
     },
     "user_tz": -120
    },
    "id": "d657a2d3-548a-4475-a171-831406ed1140"
   },
   "outputs": [],
   "source": [
    "if os.path.exists(bestmodelfile):\n",
    "    model = tf.keras.models.load_model(bestmodelfile)"
   ]
  },
  {
   "cell_type": "markdown",
   "id": "4a11909c-fe48-433d-a1ab-b038b301bc16",
   "metadata": {
    "id": "4a11909c-fe48-433d-a1ab-b038b301bc16",
    "outputId": "c72777c6-5a20-481f-c89e-89ed00121599"
   },
   "source": [
    "We evaluate the best model on validation data."
   ]
  },
  {
   "cell_type": "code",
   "execution_count": 26,
   "id": "4bae3e40-6872-49cd-95c2-91b624ee4193",
   "metadata": {
    "colab": {
     "base_uri": "https://localhost:8080/"
    },
    "executionInfo": {
     "elapsed": 81164,
     "status": "ok",
     "timestamp": 1684613664778,
     "user": {
      "displayName": "Jesús Peñuela",
      "userId": "04868940139927239067"
     },
     "user_tz": -120
    },
    "id": "4bae3e40-6872-49cd-95c2-91b624ee4193",
    "outputId": "ce007b3d-5438-4bca-e078-45980263a113"
   },
   "outputs": [
    {
     "name": "stdout",
     "output_type": "stream",
     "text": [
      "Evaluate models on validation data\n",
      "541/541 [==============================] - 81s 146ms/step - loss: 0.2085 - binary_accuracy: 0.9321\n",
      "Accuracy on validation data: 0.932\n",
      "Loss on validation data: 0.208\n"
     ]
    }
   ],
   "source": [
    "#EVALUATE VALIDATION DATASET\n",
    "print(\"Evaluate models on validation data\")\n",
    "results_model = model.evaluate(validation_generator,verbose=trace_level)\n",
    "print ('Accuracy on validation data:',round(results_model[1],3))\n",
    "print ('Loss on validation data:',round(results_model[0],3))"
   ]
  },
  {
   "cell_type": "markdown",
   "id": "81704c88-897a-4f89-b1f5-80f6a5f3d364",
   "metadata": {
    "id": "81704c88-897a-4f89-b1f5-80f6a5f3d364",
    "outputId": "205c012b-84d2-4f51-c96a-398417f7e61f"
   },
   "source": [
    "We make predictions on test data, never used during training nor validation"
   ]
  },
  {
   "cell_type": "code",
   "execution_count": 27,
   "id": "fb7abf2c-e423-485d-a543-06f4743971c7",
   "metadata": {
    "colab": {
     "base_uri": "https://localhost:8080/"
    },
    "executionInfo": {
     "elapsed": 167192,
     "status": "ok",
     "timestamp": 1684613837429,
     "user": {
      "displayName": "Jesús Peñuela",
      "userId": "04868940139927239067"
     },
     "user_tz": -120
    },
    "id": "fb7abf2c-e423-485d-a543-06f4743971c7",
    "outputId": "3c505510-332f-4cfe-dbae-fa287c0c561e"
   },
   "outputs": [
    {
     "name": "stdout",
     "output_type": "stream",
     "text": [
      "Make predictions on test data\n",
      "17320/17320 [==============================] - 155s 9ms/step\n"
     ]
    }
   ],
   "source": [
    "#PREDICTIONS\n",
    "print(\"Make predictions on test data\")\n",
    "model_prediction = model.predict(test_generator,verbose=trace_level)\n",
    "model_prediction_binary = (model_prediction > 0.5).astype(\"int32\")"
   ]
  },
  {
   "cell_type": "code",
   "execution_count": 28,
   "id": "d08289e1-32e4-4290-82c7-b87718f230a9",
   "metadata": {
    "colab": {
     "base_uri": "https://localhost:8080/"
    },
    "executionInfo": {
     "elapsed": 577,
     "status": "ok",
     "timestamp": 1684613886775,
     "user": {
      "displayName": "Jesús Peñuela",
      "userId": "04868940139927239067"
     },
     "user_tz": -120
    },
    "id": "d08289e1-32e4-4290-82c7-b87718f230a9",
    "outputId": "d14fd591-2286-4b24-d9d9-0ce6444e86f8"
   },
   "outputs": [
    {
     "name": "stdout",
     "output_type": "stream",
     "text": [
      "(17320, 104)\n",
      "(17320,)\n",
      "(17320, 1)\n",
      "(17320, 1)\n"
     ]
    }
   ],
   "source": [
    "print(data_test.shape)\n",
    "print(data_y_test.shape)\n",
    "print(model_prediction.shape)\n",
    "print(model_prediction_binary.shape)"
   ]
  },
  {
   "cell_type": "code",
   "execution_count": 29,
   "id": "a9296b0f-efc6-4133-aaff-949a4159e5f7",
   "metadata": {
    "colab": {
     "base_uri": "https://localhost:8080/"
    },
    "executionInfo": {
     "elapsed": 520,
     "status": "ok",
     "timestamp": 1684613894773,
     "user": {
      "displayName": "Jesús Peñuela",
      "userId": "04868940139927239067"
     },
     "user_tz": -120
    },
    "id": "a9296b0f-efc6-4133-aaff-949a4159e5f7",
    "outputId": "a1e3b21b-a0e1-4ee1-a5ea-55de94c470bf"
   },
   "outputs": [
    {
     "name": "stdout",
     "output_type": "stream",
     "text": [
      "MODEL LSTMBidiAttention_PRE_1000G\n",
      "---------------------------------\n",
      "Kappa: 0.861\n",
      "              precision    recall  f1-score   support\n",
      "\n",
      "           0       0.97      0.89      0.93      8670\n",
      "           1       0.90      0.98      0.93      8650\n",
      "\n",
      "    accuracy                           0.93     17320\n",
      "   macro avg       0.93      0.93      0.93     17320\n",
      "weighted avg       0.93      0.93      0.93     17320\n",
      "\n"
     ]
    }
   ],
   "source": [
    "#METRICS QUALITY CLASSIFICATION\n",
    "print(\"MODEL \"+model_name+\"\\n---------------------------------\")\n",
    "kappa = cohen_kappa_score(data_y_test, model_prediction_binary)\n",
    "print ('Kappa:',round(kappa,3))\n",
    "print(classification_report(data_y_test, model_prediction_binary))"
   ]
  },
  {
   "cell_type": "code",
   "execution_count": 30,
   "id": "686f01e9-daf3-43f6-bd2f-d1fee30059cb",
   "metadata": {
    "colab": {
     "base_uri": "https://localhost:8080/",
     "height": 543
    },
    "executionInfo": {
     "elapsed": 624,
     "status": "ok",
     "timestamp": 1684613902067,
     "user": {
      "displayName": "Jesús Peñuela",
      "userId": "04868940139927239067"
     },
     "user_tz": -120
    },
    "id": "686f01e9-daf3-43f6-bd2f-d1fee30059cb",
    "outputId": "8041b980-ac70-4eab-c43e-9088c28409ff"
   },
   "outputs": [
    {
     "data": {
      "image/png": "[encoded data removed]",
      "text/plain": [
       "<Figure size 640x480 with 2 Axes>"
      ]
     },
     "metadata": {},
     "output_type": "display_data"
    }
   ],
   "source": [
    "from sklearn.metrics import confusion_matrix, precision_score, cohen_kappa_score, classification_report\n",
    "import seaborn as sns; sns.set()\n",
    "# PLOT CONFUSION MATRIX\n",
    "# Tutorial: https://www.stackvidhya.com/plot-confusion-matrix-in-python-and-why/\n",
    "plt.figure()\n",
    "\n",
    "cm = confusion_matrix(data_y_test,model_prediction_binary)\n",
    "\n",
    "group_names = ['TN','FP','FN','TP']\n",
    "group_counts = [\"{0:0.0f}\".format(value) for value in cm.flatten()]\n",
    "group_percentages = [\"{0:.2%}\".format(value) for value in cm.flatten()/np.sum(cm)]\n",
    "\n",
    "labels = [f\"{v1}\\n{v2}\\n{v3}\" for v1, v2, v3 in zip(group_names,group_counts,group_percentages)]\n",
    "labels = np.asarray(labels).reshape(2,2)\n",
    "\n",
    "ax = sns.heatmap(cm, annot=labels, fmt='', cmap='Blues')\n",
    "\n",
    "ax.set_title('RNA-Editing Confusion Matrix \\n\\n');\n",
    "ax.set_xlabel('\\nPredicted Values '+ model_name)\n",
    "ax.set_ylabel('Actual Values ');\n",
    "## Ticket labels - List must be in alphabetical order\n",
    "#ax.xaxis.set_ticklabels(['False','True'])\n",
    "#ax.yaxis.set_ticklabels(['False','True'])\n",
    "plt.show()\n"
   ]
  },
  {
   "cell_type": "code",
   "execution_count": 31,
   "id": "95327601-ffc7-4a46-b204-57c81392e711",
   "metadata": {
    "colab": {
     "base_uri": "https://localhost:8080/",
     "height": 498
    },
    "executionInfo": {
     "elapsed": 547,
     "status": "ok",
     "timestamp": 1684613921180,
     "user": {
      "displayName": "Jesús Peñuela",
      "userId": "04868940139927239067"
     },
     "user_tz": -120
    },
    "id": "95327601-ffc7-4a46-b204-57c81392e711",
    "outputId": "b2f4a6a0-147a-4e23-ae20-830fa89249de"
   },
   "outputs": [
    {
     "name": "stdout",
     "output_type": "stream",
     "text": [
      "AUC: 0.96\n"
     ]
    },
    {
     "data": {
      "image/png": "[encoded data removed]",
      "text/plain": [
       "<Figure size 640x480 with 1 Axes>"
      ]
     },
     "metadata": {},
     "output_type": "display_data"
    }
   ],
   "source": [
    "from sklearn.metrics import roc_curve\n",
    "from sklearn.metrics import roc_auc_score\n",
    "\n",
    "def plot_roc_curve(fpr, tpr):\n",
    "    plt.plot(fpr, tpr, color=\"orange\", label=\"ROC\")\n",
    "    plt.plot([0, 1], [0, 1], color=\"darkblue\", linestyle=\"--\")\n",
    "    plt.xlabel('False Positive Rate')\n",
    "    plt.ylabel('True Positive Rate')\n",
    "    plt.title('Receiver Operating Characteristic (ROC) Curve')\n",
    "    plt.legend()\n",
    "    plt.show()\n",
    "\n",
    "auc = roc_auc_score(data_y_test, model_prediction)\n",
    "print('AUC: %.2f' % auc)\n",
    "fpr, tpr, thresholds = roc_curve(data_y_test, model_prediction)\n",
    "plot_roc_curve(fpr, tpr)"
   ]
  },
  {
   "cell_type": "markdown",
   "id": "14cbaa05-33dc-4c0f-8b7a-93f34a0ff4af",
   "metadata": {
    "executionInfo": {
     "elapsed": 777,
     "status": "ok",
     "timestamp": 1657692685589,
     "user": {
      "displayName": "Jesús Peñuela",
      "userId": "04868940139927239067"
     },
     "user_tz": -120
    },
    "id": "14cbaa05-33dc-4c0f-8b7a-93f34a0ff4af",
    "outputId": "a58b14c5-9363-4ea4-a0d3-9e54d603ec1e"
   },
   "source": [
    "# RESULTS INSIGHT"
   ]
  },
  {
   "cell_type": "code",
   "execution_count": 32,
   "id": "c2790fe1-48b6-4412-8903-67b665898361",
   "metadata": {
    "colab": {
     "base_uri": "https://localhost:8080/",
     "height": 235
    },
    "executionInfo": {
     "elapsed": 402,
     "status": "ok",
     "timestamp": 1684613927897,
     "user": {
      "displayName": "Jesús Peñuela",
      "userId": "04868940139927239067"
     },
     "user_tz": -120
    },
    "id": "c2790fe1-48b6-4412-8903-67b665898361",
    "outputId": "19a1a93b-9b82-423f-c824-8a5533a02079"
   },
   "outputs": [
    {
     "data": {
      "text/html": [
       "\n",
       "  <div id=\"df-c5693af6-1dc7-4ddc-bae1-149997ff591e\">\n",
       "    <div class=\"colab-df-container\">\n",
       "      <div>\n",
       "<style scoped>\n",
       "    .dataframe tbody tr th:only-of-type {\n",
       "        vertical-align: middle;\n",
       "    }\n",
       "\n",
       "    .dataframe tbody tr th {\n",
       "        vertical-align: top;\n",
       "    }\n",
       "\n",
       "    .dataframe thead th {\n",
       "        text-align: right;\n",
       "    }\n",
       "</style>\n",
       "<table border=\"1\" class=\"dataframe\">\n",
       "  <thead>\n",
       "    <tr style=\"text-align: right;\">\n",
       "      <th></th>\n",
       "      <th>GENE</th>\n",
       "      <th>POS</th>\n",
       "      <th>EDITING</th>\n",
       "      <th>RESULT_TYPE</th>\n",
       "      <th>PROB_PRED</th>\n",
       "      <th>P1</th>\n",
       "      <th>P2</th>\n",
       "      <th>P3</th>\n",
       "      <th>P4</th>\n",
       "      <th>P5</th>\n",
       "      <th>...</th>\n",
       "      <th>P92</th>\n",
       "      <th>P93</th>\n",
       "      <th>P94</th>\n",
       "      <th>P95</th>\n",
       "      <th>P96</th>\n",
       "      <th>P97</th>\n",
       "      <th>P98</th>\n",
       "      <th>P99</th>\n",
       "      <th>P100</th>\n",
       "      <th>P101</th>\n",
       "    </tr>\n",
       "  </thead>\n",
       "  <tbody>\n",
       "    <tr>\n",
       "      <th>87435</th>\n",
       "      <td>NFIL3_NFIL3_chr9</td>\n",
       "      <td>4413</td>\n",
       "      <td>1</td>\n",
       "      <td>None</td>\n",
       "      <td>0.985712</td>\n",
       "      <td>6</td>\n",
       "      <td>6</td>\n",
       "      <td>16</td>\n",
       "      <td>13</td>\n",
       "      <td>6</td>\n",
       "      <td>...</td>\n",
       "      <td>6</td>\n",
       "      <td>6</td>\n",
       "      <td>1</td>\n",
       "      <td>6</td>\n",
       "      <td>11</td>\n",
       "      <td>11</td>\n",
       "      <td>18</td>\n",
       "      <td>6</td>\n",
       "      <td>1</td>\n",
       "      <td>6</td>\n",
       "    </tr>\n",
       "    <tr>\n",
       "      <th>72884</th>\n",
       "      <td>GNB4_GNB4_chr3</td>\n",
       "      <td>3204</td>\n",
       "      <td>1</td>\n",
       "      <td>None</td>\n",
       "      <td>0.661125</td>\n",
       "      <td>13</td>\n",
       "      <td>8</td>\n",
       "      <td>8</td>\n",
       "      <td>3</td>\n",
       "      <td>18</td>\n",
       "      <td>...</td>\n",
       "      <td>11</td>\n",
       "      <td>6</td>\n",
       "      <td>3</td>\n",
       "      <td>11</td>\n",
       "      <td>13</td>\n",
       "      <td>11</td>\n",
       "      <td>16</td>\n",
       "      <td>1</td>\n",
       "      <td>1</td>\n",
       "      <td>16</td>\n",
       "    </tr>\n",
       "    <tr>\n",
       "      <th>74290</th>\n",
       "      <td>RABGEF1_RABGEF1_chr7</td>\n",
       "      <td>29750</td>\n",
       "      <td>1</td>\n",
       "      <td>None</td>\n",
       "      <td>0.979381</td>\n",
       "      <td>4</td>\n",
       "      <td>4</td>\n",
       "      <td>14</td>\n",
       "      <td>11</td>\n",
       "      <td>11</td>\n",
       "      <td>...</td>\n",
       "      <td>18</td>\n",
       "      <td>3</td>\n",
       "      <td>11</td>\n",
       "      <td>16</td>\n",
       "      <td>16</td>\n",
       "      <td>6</td>\n",
       "      <td>1</td>\n",
       "      <td>1</td>\n",
       "      <td>11</td>\n",
       "      <td>11</td>\n",
       "    </tr>\n",
       "    <tr>\n",
       "      <th>42244</th>\n",
       "      <td>ACOT12_ACOT12_chr5</td>\n",
       "      <td>19033</td>\n",
       "      <td>0</td>\n",
       "      <td>None</td>\n",
       "      <td>0.000061</td>\n",
       "      <td>19</td>\n",
       "      <td>4</td>\n",
       "      <td>4</td>\n",
       "      <td>1</td>\n",
       "      <td>1</td>\n",
       "      <td>...</td>\n",
       "      <td>1</td>\n",
       "      <td>16</td>\n",
       "      <td>13</td>\n",
       "      <td>3</td>\n",
       "      <td>8</td>\n",
       "      <td>8</td>\n",
       "      <td>3</td>\n",
       "      <td>3</td>\n",
       "      <td>8</td>\n",
       "      <td>13</td>\n",
       "    </tr>\n",
       "    <tr>\n",
       "      <th>30311</th>\n",
       "      <td>CYP3A7_CYP3A7_chr7</td>\n",
       "      <td>9636</td>\n",
       "      <td>0</td>\n",
       "      <td>None</td>\n",
       "      <td>0.000153</td>\n",
       "      <td>2</td>\n",
       "      <td>2</td>\n",
       "      <td>2</td>\n",
       "      <td>7</td>\n",
       "      <td>2</td>\n",
       "      <td>...</td>\n",
       "      <td>15</td>\n",
       "      <td>15</td>\n",
       "      <td>6</td>\n",
       "      <td>6</td>\n",
       "      <td>16</td>\n",
       "      <td>1</td>\n",
       "      <td>1</td>\n",
       "      <td>11</td>\n",
       "      <td>3</td>\n",
       "      <td>11</td>\n",
       "    </tr>\n",
       "  </tbody>\n",
       "</table>\n",
       "<p>5 rows × 106 columns</p>\n",
       "</div>\n",
       "      <button class=\"colab-df-convert\" onclick=\"convertToInteractive('df-c5693af6-1dc7-4ddc-bae1-149997ff591e')\"\n",
       "              title=\"Convert this dataframe to an interactive table.\"\n",
       "              style=\"display:none;\">\n",
       "        \n",
       "  <svg xmlns=\"http://www.w3.org/2000/svg\" height=\"24px\"viewBox=\"0 0 24 24\"\n",
       "       width=\"24px\">\n",
       "    <path d=\"M0 0h24v24H0V0z\" fill=\"none\"/>\n",
       "    <path d=\"M18.56 5.44l.94 2.06.94-2.06 2.06-.94-2.06-.94-.94-2.06-.94 2.06-2.06.94zm-11 1L8.5 8.5l.94-2.06 2.06-.94-2.06-.94L8.5 2.5l-.94 2.06-2.06.94zm10 10l.94 2.06.94-2.06 2.06-.94-2.06-.94-.94-2.06-.94 2.06-2.06.94z\"/><path d=\"M17.41 7.96l-1.37-1.37c-.4-.4-.92-.59-1.43-.59-.52 0-1.04.2-1.43.59L10.3 9.45l-7.72 7.72c-.78.78-.78 2.05 0 2.83L4 21.41c.39.39.9.59 1.41.59.51 0 1.02-.2 1.41-.59l7.78-7.78 2.81-2.81c.8-.78.8-2.07 0-2.86zM5.41 20L4 18.59l7.72-7.72 1.47 1.35L5.41 20z\"/>\n",
       "  </svg>\n",
       "      </button>\n",
       "      \n",
       "  <style>\n",
       "    .colab-df-container {\n",
       "      display:flex;\n",
       "      flex-wrap:wrap;\n",
       "      gap: 12px;\n",
       "    }\n",
       "\n",
       "    .colab-df-convert {\n",
       "      background-color: #E8F0FE;\n",
       "      border: none;\n",
       "      border-radius: 50%;\n",
       "      cursor: pointer;\n",
       "      display: none;\n",
       "      fill: #1967D2;\n",
       "      height: 32px;\n",
       "      padding: 0 0 0 0;\n",
       "      width: 32px;\n",
       "    }\n",
       "\n",
       "    .colab-df-convert:hover {\n",
       "      background-color: #E2EBFA;\n",
       "      box-shadow: 0px 1px 2px rgba(60, 64, 67, 0.3), 0px 1px 3px 1px rgba(60, 64, 67, 0.15);\n",
       "      fill: #174EA6;\n",
       "    }\n",
       "\n",
       "    [theme=dark] .colab-df-convert {\n",
       "      background-color: #3B4455;\n",
       "      fill: #D2E3FC;\n",
       "    }\n",
       "\n",
       "    [theme=dark] .colab-df-convert:hover {\n",
       "      background-color: #434B5C;\n",
       "      box-shadow: 0px 1px 3px 1px rgba(0, 0, 0, 0.15);\n",
       "      filter: drop-shadow(0px 1px 2px rgba(0, 0, 0, 0.3));\n",
       "      fill: #FFFFFF;\n",
       "    }\n",
       "  </style>\n",
       "\n",
       "      <script>\n",
       "        const buttonEl =\n",
       "          document.querySelector('#df-c5693af6-1dc7-4ddc-bae1-149997ff591e button.colab-df-convert');\n",
       "        buttonEl.style.display =\n",
       "          google.colab.kernel.accessAllowed ? 'block' : 'none';\n",
       "\n",
       "        async function convertToInteractive(key) {\n",
       "          const element = document.querySelector('#df-c5693af6-1dc7-4ddc-bae1-149997ff591e');\n",
       "          const dataTable =\n",
       "            await google.colab.kernel.invokeFunction('convertToInteractive',\n",
       "                                                     [key], {});\n",
       "          if (!dataTable) return;\n",
       "\n",
       "          const docLinkHtml = 'Like what you see? Visit the ' +\n",
       "            '<a target=\"_blank\" href=https://colab.research.google.com/notebooks/data_table.ipynb>data table notebook</a>'\n",
       "            + ' to learn more about interactive tables.';\n",
       "          element.innerHTML = '';\n",
       "          dataTable['output_type'] = 'display_data';\n",
       "          await google.colab.output.renderOutput(dataTable, element);\n",
       "          const docLink = document.createElement('div');\n",
       "          docLink.innerHTML = docLinkHtml;\n",
       "          element.appendChild(docLink);\n",
       "        }\n",
       "      </script>\n",
       "    </div>\n",
       "  </div>\n",
       "  "
      ],
      "text/plain": [
       "                       GENE    POS  EDITING RESULT_TYPE  PROB_PRED  P1  P2  \\\n",
       "87435      NFIL3_NFIL3_chr9   4413        1        None   0.985712   6   6   \n",
       "72884        GNB4_GNB4_chr3   3204        1        None   0.661125  13   8   \n",
       "74290  RABGEF1_RABGEF1_chr7  29750        1        None   0.979381   4   4   \n",
       "42244    ACOT12_ACOT12_chr5  19033        0        None   0.000061  19   4   \n",
       "30311    CYP3A7_CYP3A7_chr7   9636        0        None   0.000153   2   2   \n",
       "\n",
       "       P3  P4  P5  ...  P92  P93  P94  P95  P96  P97  P98  P99  P100  P101  \n",
       "87435  16  13   6  ...    6    6    1    6   11   11   18    6     1     6  \n",
       "72884   8   3  18  ...   11    6    3   11   13   11   16    1     1    16  \n",
       "74290  14  11  11  ...   18    3   11   16   16    6    1    1    11    11  \n",
       "42244   4   1   1  ...    1   16   13    3    8    8    3    3     8    13  \n",
       "30311   2   7   2  ...   15   15    6    6   16    1    1   11     3    11  \n",
       "\n",
       "[5 rows x 106 columns]"
      ]
     },
     "execution_count": 32,
     "metadata": {},
     "output_type": "execute_result"
    }
   ],
   "source": [
    "results_data = data_test\n",
    "if 'RESULT_TYPE' not in results_data.columns:\n",
    "    #insert column at position 3\n",
    "    results_data.insert(3,\"RESULT_TYPE\", None)\n",
    "    results_data.insert(4,\"PROB_PRED\",model_prediction)\n",
    "else:\n",
    "    print(\"RESULT_TYPE already exists in the dataframe\")\n",
    "\n",
    "results_data.head()"
   ]
  },
  {
   "cell_type": "code",
   "execution_count": 33,
   "id": "f8d62286-5485-4aea-9ae2-f726bd4ef33d",
   "metadata": {
    "colab": {
     "base_uri": "https://localhost:8080/",
     "height": 235
    },
    "executionInfo": {
     "elapsed": 1463,
     "status": "ok",
     "timestamp": 1684613934087,
     "user": {
      "displayName": "Jesús Peñuela",
      "userId": "04868940139927239067"
     },
     "user_tz": -120
    },
    "id": "f8d62286-5485-4aea-9ae2-f726bd4ef33d",
    "outputId": "16168638-2da5-41ac-dc8c-a65561648106"
   },
   "outputs": [
    {
     "data": {
      "text/html": [
       "\n",
       "  <div id=\"df-96a65389-074e-44f4-9473-20966c4765f6\">\n",
       "    <div class=\"colab-df-container\">\n",
       "      <div>\n",
       "<style scoped>\n",
       "    .dataframe tbody tr th:only-of-type {\n",
       "        vertical-align: middle;\n",
       "    }\n",
       "\n",
       "    .dataframe tbody tr th {\n",
       "        vertical-align: top;\n",
       "    }\n",
       "\n",
       "    .dataframe thead th {\n",
       "        text-align: right;\n",
       "    }\n",
       "</style>\n",
       "<table border=\"1\" class=\"dataframe\">\n",
       "  <thead>\n",
       "    <tr style=\"text-align: right;\">\n",
       "      <th></th>\n",
       "      <th>GENE</th>\n",
       "      <th>POS</th>\n",
       "      <th>EDITING</th>\n",
       "      <th>RESULT_TYPE</th>\n",
       "      <th>PROB_PRED</th>\n",
       "      <th>P1</th>\n",
       "      <th>P2</th>\n",
       "      <th>P3</th>\n",
       "      <th>P4</th>\n",
       "      <th>P5</th>\n",
       "      <th>...</th>\n",
       "      <th>P92</th>\n",
       "      <th>P93</th>\n",
       "      <th>P94</th>\n",
       "      <th>P95</th>\n",
       "      <th>P96</th>\n",
       "      <th>P97</th>\n",
       "      <th>P98</th>\n",
       "      <th>P99</th>\n",
       "      <th>P100</th>\n",
       "      <th>P101</th>\n",
       "    </tr>\n",
       "  </thead>\n",
       "  <tbody>\n",
       "    <tr>\n",
       "      <th>87435</th>\n",
       "      <td>NFIL3_NFIL3_chr9</td>\n",
       "      <td>4413</td>\n",
       "      <td>1</td>\n",
       "      <td>TP</td>\n",
       "      <td>0.985712</td>\n",
       "      <td>6</td>\n",
       "      <td>6</td>\n",
       "      <td>16</td>\n",
       "      <td>13</td>\n",
       "      <td>6</td>\n",
       "      <td>...</td>\n",
       "      <td>6</td>\n",
       "      <td>6</td>\n",
       "      <td>1</td>\n",
       "      <td>6</td>\n",
       "      <td>11</td>\n",
       "      <td>11</td>\n",
       "      <td>18</td>\n",
       "      <td>6</td>\n",
       "      <td>1</td>\n",
       "      <td>6</td>\n",
       "    </tr>\n",
       "    <tr>\n",
       "      <th>72884</th>\n",
       "      <td>GNB4_GNB4_chr3</td>\n",
       "      <td>3204</td>\n",
       "      <td>1</td>\n",
       "      <td>TP</td>\n",
       "      <td>0.661125</td>\n",
       "      <td>13</td>\n",
       "      <td>8</td>\n",
       "      <td>8</td>\n",
       "      <td>3</td>\n",
       "      <td>18</td>\n",
       "      <td>...</td>\n",
       "      <td>11</td>\n",
       "      <td>6</td>\n",
       "      <td>3</td>\n",
       "      <td>11</td>\n",
       "      <td>13</td>\n",
       "      <td>11</td>\n",
       "      <td>16</td>\n",
       "      <td>1</td>\n",
       "      <td>1</td>\n",
       "      <td>16</td>\n",
       "    </tr>\n",
       "    <tr>\n",
       "      <th>74290</th>\n",
       "      <td>RABGEF1_RABGEF1_chr7</td>\n",
       "      <td>29750</td>\n",
       "      <td>1</td>\n",
       "      <td>TP</td>\n",
       "      <td>0.979381</td>\n",
       "      <td>4</td>\n",
       "      <td>4</td>\n",
       "      <td>14</td>\n",
       "      <td>11</td>\n",
       "      <td>11</td>\n",
       "      <td>...</td>\n",
       "      <td>18</td>\n",
       "      <td>3</td>\n",
       "      <td>11</td>\n",
       "      <td>16</td>\n",
       "      <td>16</td>\n",
       "      <td>6</td>\n",
       "      <td>1</td>\n",
       "      <td>1</td>\n",
       "      <td>11</td>\n",
       "      <td>11</td>\n",
       "    </tr>\n",
       "    <tr>\n",
       "      <th>42244</th>\n",
       "      <td>ACOT12_ACOT12_chr5</td>\n",
       "      <td>19033</td>\n",
       "      <td>0</td>\n",
       "      <td>TN</td>\n",
       "      <td>0.000061</td>\n",
       "      <td>19</td>\n",
       "      <td>4</td>\n",
       "      <td>4</td>\n",
       "      <td>1</td>\n",
       "      <td>1</td>\n",
       "      <td>...</td>\n",
       "      <td>1</td>\n",
       "      <td>16</td>\n",
       "      <td>13</td>\n",
       "      <td>3</td>\n",
       "      <td>8</td>\n",
       "      <td>8</td>\n",
       "      <td>3</td>\n",
       "      <td>3</td>\n",
       "      <td>8</td>\n",
       "      <td>13</td>\n",
       "    </tr>\n",
       "    <tr>\n",
       "      <th>30311</th>\n",
       "      <td>CYP3A7_CYP3A7_chr7</td>\n",
       "      <td>9636</td>\n",
       "      <td>0</td>\n",
       "      <td>TN</td>\n",
       "      <td>0.000153</td>\n",
       "      <td>2</td>\n",
       "      <td>2</td>\n",
       "      <td>2</td>\n",
       "      <td>7</td>\n",
       "      <td>2</td>\n",
       "      <td>...</td>\n",
       "      <td>15</td>\n",
       "      <td>15</td>\n",
       "      <td>6</td>\n",
       "      <td>6</td>\n",
       "      <td>16</td>\n",
       "      <td>1</td>\n",
       "      <td>1</td>\n",
       "      <td>11</td>\n",
       "      <td>3</td>\n",
       "      <td>11</td>\n",
       "    </tr>\n",
       "  </tbody>\n",
       "</table>\n",
       "<p>5 rows × 106 columns</p>\n",
       "</div>\n",
       "      <button class=\"colab-df-convert\" onclick=\"convertToInteractive('df-96a65389-074e-44f4-9473-20966c4765f6')\"\n",
       "              title=\"Convert this dataframe to an interactive table.\"\n",
       "              style=\"display:none;\">\n",
       "        \n",
       "  <svg xmlns=\"http://www.w3.org/2000/svg\" height=\"24px\"viewBox=\"0 0 24 24\"\n",
       "       width=\"24px\">\n",
       "    <path d=\"M0 0h24v24H0V0z\" fill=\"none\"/>\n",
       "    <path d=\"M18.56 5.44l.94 2.06.94-2.06 2.06-.94-2.06-.94-.94-2.06-.94 2.06-2.06.94zm-11 1L8.5 8.5l.94-2.06 2.06-.94-2.06-.94L8.5 2.5l-.94 2.06-2.06.94zm10 10l.94 2.06.94-2.06 2.06-.94-2.06-.94-.94-2.06-.94 2.06-2.06.94z\"/><path d=\"M17.41 7.96l-1.37-1.37c-.4-.4-.92-.59-1.43-.59-.52 0-1.04.2-1.43.59L10.3 9.45l-7.72 7.72c-.78.78-.78 2.05 0 2.83L4 21.41c.39.39.9.59 1.41.59.51 0 1.02-.2 1.41-.59l7.78-7.78 2.81-2.81c.8-.78.8-2.07 0-2.86zM5.41 20L4 18.59l7.72-7.72 1.47 1.35L5.41 20z\"/>\n",
       "  </svg>\n",
       "      </button>\n",
       "      \n",
       "  <style>\n",
       "    .colab-df-container {\n",
       "      display:flex;\n",
       "      flex-wrap:wrap;\n",
       "      gap: 12px;\n",
       "    }\n",
       "\n",
       "    .colab-df-convert {\n",
       "      background-color: #E8F0FE;\n",
       "      border: none;\n",
       "      border-radius: 50%;\n",
       "      cursor: pointer;\n",
       "      display: none;\n",
       "      fill: #1967D2;\n",
       "      height: 32px;\n",
       "      padding: 0 0 0 0;\n",
       "      width: 32px;\n",
       "    }\n",
       "\n",
       "    .colab-df-convert:hover {\n",
       "      background-color: #E2EBFA;\n",
       "      box-shadow: 0px 1px 2px rgba(60, 64, 67, 0.3), 0px 1px 3px 1px rgba(60, 64, 67, 0.15);\n",
       "      fill: #174EA6;\n",
       "    }\n",
       "\n",
       "    [theme=dark] .colab-df-convert {\n",
       "      background-color: #3B4455;\n",
       "      fill: #D2E3FC;\n",
       "    }\n",
       "\n",
       "    [theme=dark] .colab-df-convert:hover {\n",
       "      background-color: #434B5C;\n",
       "      box-shadow: 0px 1px 3px 1px rgba(0, 0, 0, 0.15);\n",
       "      filter: drop-shadow(0px 1px 2px rgba(0, 0, 0, 0.3));\n",
       "      fill: #FFFFFF;\n",
       "    }\n",
       "  </style>\n",
       "\n",
       "      <script>\n",
       "        const buttonEl =\n",
       "          document.querySelector('#df-96a65389-074e-44f4-9473-20966c4765f6 button.colab-df-convert');\n",
       "        buttonEl.style.display =\n",
       "          google.colab.kernel.accessAllowed ? 'block' : 'none';\n",
       "\n",
       "        async function convertToInteractive(key) {\n",
       "          const element = document.querySelector('#df-96a65389-074e-44f4-9473-20966c4765f6');\n",
       "          const dataTable =\n",
       "            await google.colab.kernel.invokeFunction('convertToInteractive',\n",
       "                                                     [key], {});\n",
       "          if (!dataTable) return;\n",
       "\n",
       "          const docLinkHtml = 'Like what you see? Visit the ' +\n",
       "            '<a target=\"_blank\" href=https://colab.research.google.com/notebooks/data_table.ipynb>data table notebook</a>'\n",
       "            + ' to learn more about interactive tables.';\n",
       "          element.innerHTML = '';\n",
       "          dataTable['output_type'] = 'display_data';\n",
       "          await google.colab.output.renderOutput(dataTable, element);\n",
       "          const docLink = document.createElement('div');\n",
       "          docLink.innerHTML = docLinkHtml;\n",
       "          element.appendChild(docLink);\n",
       "        }\n",
       "      </script>\n",
       "    </div>\n",
       "  </div>\n",
       "  "
      ],
      "text/plain": [
       "                       GENE    POS  EDITING RESULT_TYPE  PROB_PRED  P1  P2  \\\n",
       "87435      NFIL3_NFIL3_chr9   4413        1          TP   0.985712   6   6   \n",
       "72884        GNB4_GNB4_chr3   3204        1          TP   0.661125  13   8   \n",
       "74290  RABGEF1_RABGEF1_chr7  29750        1          TP   0.979381   4   4   \n",
       "42244    ACOT12_ACOT12_chr5  19033        0          TN   0.000061  19   4   \n",
       "30311    CYP3A7_CYP3A7_chr7   9636        0          TN   0.000153   2   2   \n",
       "\n",
       "       P3  P4  P5  ...  P92  P93  P94  P95  P96  P97  P98  P99  P100  P101  \n",
       "87435  16  13   6  ...    6    6    1    6   11   11   18    6     1     6  \n",
       "72884   8   3  18  ...   11    6    3   11   13   11   16    1     1    16  \n",
       "74290  14  11  11  ...   18    3   11   16   16    6    1    1    11    11  \n",
       "42244   4   1   1  ...    1   16   13    3    8    8    3    3     8    13  \n",
       "30311   2   7   2  ...   15   15    6    6   16    1    1   11     3    11  \n",
       "\n",
       "[5 rows x 106 columns]"
      ]
     },
     "execution_count": 33,
     "metadata": {},
     "output_type": "execute_result"
    }
   ],
   "source": [
    "column_index=results_data.columns.get_loc('RESULT_TYPE')\n",
    "i=0\n",
    "for result in model_prediction_binary:\n",
    "    #print(\"Comparing result={} with data_y_test={}\".format(result[0],data_y_test.iloc[i]))\n",
    "    if   result[0]==0 and data_y_test.iloc[i]==0:\n",
    "       typeRes =\"TN\"\n",
    "    elif result[0]==0 and data_y_test.iloc[i]==1:\n",
    "       typeRes=\"FN\"\n",
    "    elif result[0]==1 and data_y_test.iloc[i]==0:\n",
    "       typeRes=\"FP\"\n",
    "    elif result[0]==1 and data_y_test.iloc[i]==1:\n",
    "       typeRes=\"TP\"\n",
    "    results_data.iloc[i, column_index]=typeRes\n",
    "    i+=1\n",
    "    \n",
    "results_data.head()"
   ]
  },
  {
   "cell_type": "code",
   "execution_count": 35,
   "id": "5fd8a953-83d9-4f03-8e77-167d6be65f1b",
   "metadata": {
    "executionInfo": {
     "elapsed": 34327,
     "status": "ok",
     "timestamp": 1684614103090,
     "user": {
      "displayName": "Jesús Peñuela",
      "userId": "04868940139927239067"
     },
     "user_tz": -120
    },
    "id": "5fd8a953-83d9-4f03-8e77-167d6be65f1b"
   },
   "outputs": [],
   "source": [
    "#Save the results into a file\n",
    "report_dir=\"/content/drive/MyDrive/REPORT\"\n",
    "results_csv_file  =model_name + \"_Results.csv\"\n",
    "results_excel_file=model_name + \"_Results.xlsx\"\n",
    "results_data.to_csv(os.path.join(report_dir,results_csv_file))\n",
    "results_data.to_excel(os.path.join(report_dir,results_excel_file))"
   ]
  },
  {
   "cell_type": "markdown",
   "id": "ef227ac2-1811-4f0f-85b5-1800e691f3fa",
   "metadata": {
    "id": "ef227ac2-1811-4f0f-85b5-1800e691f3fa"
   },
   "source": [
    "Now, we are going to find the record with highest probability and category TP (True Positive) as a good model of TP data,\n",
    "and alternatively, the best representative of TN, using the lowest value"
   ]
  },
  {
   "cell_type": "code",
   "execution_count": 36,
   "id": "c80ed665-9b54-4347-9e4c-bb1cd73c3248",
   "metadata": {
    "colab": {
     "base_uri": "https://localhost:8080/"
    },
    "executionInfo": {
     "elapsed": 540,
     "status": "ok",
     "timestamp": 1684614117118,
     "user": {
      "displayName": "Jesús Peñuela",
      "userId": "04868940139927239067"
     },
     "user_tz": -120
    },
    "id": "c80ed665-9b54-4347-9e4c-bb1cd73c3248",
    "outputId": "79fbce3d-9040-41ce-c732-184ae2860517"
   },
   "outputs": [
    {
     "name": "stdout",
     "output_type": "stream",
     "text": [
      "rowid best TP = 100715\n",
      "GENE           CCDC69_CCDC69_chr5\n",
      "POS                          8847\n",
      "EDITING                         1\n",
      "RESULT_TYPE                    TP\n",
      "PROB_PRED                0.999987\n",
      "                      ...        \n",
      "P97                             1\n",
      "P98                             1\n",
      "P99                             1\n",
      "P100                           11\n",
      "P101                           13\n",
      "Name: 100715, Length: 106, dtype: object\n"
     ]
    }
   ],
   "source": [
    "subset_TP=results_data.loc[results_data['RESULT_TYPE'] == 'TP']\n",
    "prototype_of_TP_id=subset_TP['PROB_PRED'].idxmax()\n",
    "print(\"rowid best TP = {}\".format(prototype_of_TP_id))\n",
    "print(results_data.loc[prototype_of_TP_id,])"
   ]
  },
  {
   "cell_type": "code",
   "execution_count": 37,
   "id": "afe98932-6099-4898-8859-167b69bb60fa",
   "metadata": {
    "colab": {
     "base_uri": "https://localhost:8080/"
    },
    "executionInfo": {
     "elapsed": 403,
     "status": "ok",
     "timestamp": 1684614121257,
     "user": {
      "displayName": "Jesús Peñuela",
      "userId": "04868940139927239067"
     },
     "user_tz": -120
    },
    "id": "afe98932-6099-4898-8859-167b69bb60fa",
    "outputId": "aba794de-0743-4372-8572-19ee704a5183"
   },
   "outputs": [
    {
     "name": "stdout",
     "output_type": "stream",
     "text": [
      "rowid best TN = 65823\n",
      "GENE           MIDN_MIDN_chr19\n",
      "POS                       2062\n",
      "EDITING                      0\n",
      "RESULT_TYPE                 TN\n",
      "PROB_PRED             0.000001\n",
      "                    ...       \n",
      "P97                         13\n",
      "P98                          8\n",
      "P99                         13\n",
      "P100                        13\n",
      "P101                        13\n",
      "Name: 65823, Length: 106, dtype: object\n"
     ]
    }
   ],
   "source": [
    "subset_TN=results_data.loc[results_data['RESULT_TYPE'] == 'TN']\n",
    "prototype_of_TN_id=subset_TN['PROB_PRED'].idxmin()\n",
    "print(\"rowid best TN = {}\".format(prototype_of_TN_id))\n",
    "print(results_data.loc[prototype_of_TN_id,])"
   ]
  }
 ],
 "metadata": {
  "accelerator": "GPU",
  "colab": {
   "gpuType": "T4",
   "machine_shape": "hm",
   "provenance": []
  },
  "gpuClass": "standard",
  "kernelspec": {
   "display_name": "Python 3 (ipykernel)",
   "language": "python",
   "name": "python3"
  },
  "language_info": {
   "codemirror_mode": {
    "name": "ipython",
    "version": 3
   },
   "file_extension": ".py",
   "mimetype": "text/x-python",
   "name": "python",
   "nbconvert_exporter": "python",
   "pygments_lexer": "ipython3",
   "version": "3.8.12"
  }
 },
 "nbformat": 4,
 "nbformat_minor": 5
}
