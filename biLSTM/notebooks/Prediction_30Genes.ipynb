{
 "cells": [
  {
   "cell_type": "markdown",
   "id": "ca661a73-de2d-4079-8138-914bab318805",
   "metadata": {
    "id": "ca661a73-de2d-4079-8138-914bab318805"
   },
   "source": [
    "# Predictions for 30 Complete Genes\n",
    "\n",
    "\n",
    "Hs->Hs"
   ]
  },
  {
   "cell_type": "code",
   "execution_count": 1,
   "id": "c9f60581-a961-4284-9b0b-3867f3b54213",
   "metadata": {
    "id": "c9f60581-a961-4284-9b0b-3867f3b54213"
   },
   "outputs": [],
   "source": [
    "import os\n",
    "import numpy as np\n",
    "import pandas as pd\n",
    "import matplotlib.pyplot as plt\n",
    "from sklearn.model_selection import train_test_split\n",
    "import tensorflow as tf\n",
    "from tensorflow import keras\n",
    "from sklearn.metrics import confusion_matrix, precision_score, cohen_kappa_score, classification_report\n",
    "import seaborn as sns; sns.set()\n",
    "from keras import backend as K\n"
   ]
  },
  {
   "cell_type": "markdown",
   "id": "42c1f40f-a9fc-4349-9786-3cacc04d52cf",
   "metadata": {
    "colab": {
     "base_uri": "https://localhost:8080/"
    },
    "id": "93f65f3a-3262-4f2c-a9c8-18003b5f4b2b",
    "outputId": "cab64d02-99d6-437a-842b-317ea7d00ff3"
   },
   "source": [
    "Tensorflow version:"
   ]
  },
  {
   "cell_type": "code",
   "execution_count": 2,
   "id": "42078082-f8e0-4f19-902c-f2a57f7b2bdf",
   "metadata": {
    "colab": {
     "base_uri": "https://localhost:8080/"
    },
    "id": "93f65f3a-3262-4f2c-a9c8-18003b5f4b2b",
    "outputId": "cab64d02-99d6-437a-842b-317ea7d00ff3"
   },
   "outputs": [
    {
     "data": {
      "text/plain": [
       "'2.9.0'"
      ]
     },
     "execution_count": 2,
     "metadata": {},
     "output_type": "execute_result"
    }
   ],
   "source": [
    "tf.__version__"
   ]
  },
  {
   "cell_type": "markdown",
   "id": "95d8b94c-1d88-4b27-89eb-396f8fbea22f",
   "metadata": {
    "colab": {
     "base_uri": "https://localhost:8080/"
    },
    "id": "93f65f3a-3262-4f2c-a9c8-18003b5f4b2b",
    "outputId": "cab64d02-99d6-437a-842b-317ea7d00ff3"
   },
   "source": [
    "Python Version:"
   ]
  },
  {
   "cell_type": "code",
   "execution_count": 3,
   "id": "f9b336c1-be49-4a9c-a754-ac99f7006f9e",
   "metadata": {
    "colab": {
     "base_uri": "https://localhost:8080/"
    },
    "id": "93f65f3a-3262-4f2c-a9c8-18003b5f4b2b",
    "outputId": "cab64d02-99d6-437a-842b-317ea7d00ff3"
   },
   "outputs": [
    {
     "name": "stdout",
     "output_type": "stream",
     "text": [
      "3.8.12 (default, Oct 12 2021, 03:01:40) [MSC v.1916 64 bit (AMD64)]\n"
     ]
    }
   ],
   "source": [
    "import sys\n",
    "print(sys.version)"
   ]
  },
  {
   "cell_type": "code",
   "execution_count": 4,
   "id": "ab71404b-1720-46df-b6be-61b4d1d2cbd7",
   "metadata": {
    "colab": {
     "base_uri": "https://localhost:8080/"
    },
    "id": "93f65f3a-3262-4f2c-a9c8-18003b5f4b2b",
    "outputId": "cab64d02-99d6-437a-842b-317ea7d00ff3"
   },
   "outputs": [
    {
     "name": "stdout",
     "output_type": "stream",
     "text": [
      "Not running on CoLab\n",
      "Num GPUs Available: 1\n",
      "Found GPU at: /device:GPU:0\n",
      "Mon Feb 27 15:42:19 2023       \n",
      "+-----------------------------------------------------------------------------+\n",
      "| NVIDIA-SMI 512.78       Driver Version: 512.78       CUDA Version: 11.6     |\n",
      "|-------------------------------+----------------------+----------------------+\n",
      "| GPU  Name            TCC/WDDM | Bus-Id        Disp.A | Volatile Uncorr. ECC |\n",
      "| Fan  Temp  Perf  Pwr:Usage/Cap|         Memory-Usage | GPU-Util  Compute M. |\n",
      "|                               |                      |               MIG M. |\n",
      "|===============================+======================+======================|\n",
      "|   0  NVIDIA GeForce ... WDDM  | 00000000:01:00.0 Off |                  N/A |\n",
      "| N/A   52C    P0    N/A /  N/A |    164MiB /  2048MiB |      4%      Default |\n",
      "|                               |                      |                  N/A |\n",
      "+-------------------------------+----------------------+----------------------+\n",
      "                                                                               \n",
      "+-----------------------------------------------------------------------------+\n",
      "| Processes:                                                                  |\n",
      "|  GPU   GI   CI        PID   Type   Process name                  GPU Memory |\n",
      "|        ID   ID                                                   Usage      |\n",
      "|=============================================================================|\n",
      "|    0   N/A  N/A     13128      C   ...tensorflow-lsr\\python.exe    N/A      |\n",
      "+-----------------------------------------------------------------------------+\n"
     ]
    }
   ],
   "source": [
    "#CHECK GOOGLE COLAB\n",
    "GOOGLE_COLAB=False\n",
    "if 'google.colab' in str(get_ipython()):\n",
    "  GOOGLE_COLAB=True  \n",
    "  print('Running on CoLab')\n",
    "else:\n",
    "  print('Not running on CoLab')\n",
    "\n",
    "#CHECK GPU\n",
    "device_name = tf.test.gpu_device_name()\n",
    "if device_name != '/device:GPU:0':\n",
    "  print('GPU device not found')\n",
    "else:\n",
    "  print('Num GPUs Available: {}'.format(len(tf.config.list_physical_devices('GPU'))))\n",
    "  print('Found GPU at: {}'.format(device_name))\n",
    "  gpu_info = !nvidia-smi\n",
    "  gpu_info = '\\n'.join(gpu_info)\n",
    "  if gpu_info.find('failed') >= 0:\n",
    "     print('Not connected to a GPU')\n",
    "  else:\n",
    "     print(gpu_info)\n",
    "\n",
    "\n",
    "#INIT \n",
    "data_dir=''\n",
    "fname=''\n",
    "models_dir=''"
   ]
  },
  {
   "cell_type": "code",
   "execution_count": 5,
   "id": "1f3ca1ff-e53a-4ed7-9fc0-093a752b930a",
   "metadata": {
    "colab": {
     "base_uri": "https://localhost:8080/"
    },
    "id": "1f3ca1ff-e53a-4ed7-9fc0-093a752b930a",
    "outputId": "e5916c42-30cd-49b1-8970-80221ee0208c"
   },
   "outputs": [],
   "source": [
    "########################################\n",
    "# PARAMS\n",
    "########################################\n",
    "\n",
    "#-------------------- Mm -> Tt-----------------------------\n",
    "species_train_model_name = 'TFM_LSTMBidiAttention'\n",
    "cross_test_name = 'Predict_Hs_to_Hs_30G_Complete_1'\n",
    "fname = 'hg38_RS_DL_Pad_W50_30GENES_CODED2CH.csv'\n",
    "dirname = 'ALL_HG38'\n",
    "#-------------------------------------------------\n",
    "\n",
    "padding=True\n",
    "#ptrain = 0.7\n",
    "random_seed=2022\n",
    "\n",
    "numchannels=2\n",
    "\n",
    "if numchannels==3:\n",
    "   categories_size=60\n",
    "else:\n",
    "   categories_size=20\n",
    "\n",
    "if padding==True:\n",
    "    categories_size=categories_size+1\n",
    "\n",
    "if GOOGLE_COLAB==False:\n",
    "    data_dir = '../../data/datasets/'+dirname+'/W50'\n",
    "    models_dir = './SAVED_MODELS'\n",
    "\n",
    "else:\n",
    "    from google.colab import drive\n",
    "    drive.mount('/content/drive')\n",
    "    import sys\n",
    "    #set the path to find RNAEd module\n",
    "    sys.path.insert(0,'/content/drive/MyDrive/ColabNotebooks')    \n",
    "    data_dir  = '/content/drive/MyDrive/DATASETS/'+dirname+'/W50'\n",
    "    models_dir= '/content/drive/MyDrive/MODELS'\n",
    "#########################################"
   ]
  },
  {
   "cell_type": "markdown",
   "id": "9688c4b2-cb2e-44e0-8562-505c1893c126",
   "metadata": {
    "colab": {
     "base_uri": "https://localhost:8080/"
    },
    "id": "0f79bb30-9305-45f7-a55d-011492979b15",
    "outputId": "2691dd08-3caa-41a9-9bca-efb4cd28a1a2"
   },
   "source": [
    "SPECIES TRAIN MODEL:"
   ]
  },
  {
   "cell_type": "code",
   "execution_count": 6,
   "id": "36245b8b-4520-4295-aa9a-7d2bae333f2c",
   "metadata": {
    "colab": {
     "base_uri": "https://localhost:8080/"
    },
    "id": "0f79bb30-9305-45f7-a55d-011492979b15",
    "outputId": "2691dd08-3caa-41a9-9bca-efb4cd28a1a2"
   },
   "outputs": [
    {
     "name": "stdout",
     "output_type": "stream",
     "text": [
      "SPECIES TRAIN MODEL FILE: ./SAVED_MODELS\\TFM_LSTMBidiAttention.h5\n"
     ]
    }
   ],
   "source": [
    "saved_model =  species_train_model_name+'.h5'\n",
    "savedmodelfile = os.path.join(models_dir, saved_model)\n",
    "print(\"SPECIES TRAIN MODEL FILE: {}\".format(savedmodelfile))"
   ]
  },
  {
   "cell_type": "markdown",
   "id": "06829910-e708-44e6-908e-3bc98bee9eab",
   "metadata": {
    "colab": {
     "base_uri": "https://localhost:8080/"
    },
    "id": "74b070a2-37d8-4d03-8fa5-97f1ea9c7d1d",
    "outputId": "5ca87fe0-9df6-42db-fdae-bdf8e53dae53"
   },
   "source": [
    "SPECIES TEST DATASET:"
   ]
  },
  {
   "cell_type": "code",
   "execution_count": 7,
   "id": "3f9343fd-380f-4485-8ced-d4667366bb9e",
   "metadata": {
    "colab": {
     "base_uri": "https://localhost:8080/"
    },
    "id": "74b070a2-37d8-4d03-8fa5-97f1ea9c7d1d",
    "outputId": "5ca87fe0-9df6-42db-fdae-bdf8e53dae53"
   },
   "outputs": [
    {
     "name": "stdout",
     "output_type": "stream",
     "text": [
      "SPECIES TEST DATASET: ../../data/datasets/ALL_HG38/W50\\hg38_RS_DL_Pad_W50_30GENES_CODED2CH.csv\n",
      "shape data=(348857, 104)\n"
     ]
    }
   ],
   "source": [
    "datafile = os.path.join(data_dir, fname)\n",
    "print(\"SPECIES TEST DATASET: {}\".format(datafile))\n",
    "data = pd.read_csv(datafile,sep=\";\")\n",
    "print(\"shape data={}\".format(data.shape))"
   ]
  },
  {
   "cell_type": "code",
   "execution_count": 8,
   "id": "f8b2a1c4-81a9-4235-bab5-308b021e9857",
   "metadata": {
    "colab": {
     "base_uri": "https://localhost:8080/"
    },
    "id": "f8b2a1c4-81a9-4235-bab5-308b021e9857",
    "outputId": "ba9ef757-d64e-4a38-9c44-b2548753c57f"
   },
   "outputs": [
    {
     "name": "stdout",
     "output_type": "stream",
     "text": [
      "<bound method NDFrame.head of                    GENE    POS  EDITING  P1  P2  P3  P4  P5  P6  P7  ...  P92  \\\n",
      "0       FAM110B_FAM110B   5793        0   6  16  17  17   7   2   7  ...   17   \n",
      "1       FAM110B_FAM110B   5796        0  17   7   2   7  17   2  17  ...   17   \n",
      "2       FAM110B_FAM110B   5804        0   7   7   7   7   2   2   7  ...   12   \n",
      "3       FAM110B_FAM110B   5814        0  11  13   1   6   1  16   6  ...   17   \n",
      "4       FAM110B_FAM110B   5815        0  13   1   6   1  16   6   6  ...    7   \n",
      "...                 ...    ...      ...  ..  ..  ..  ..  ..  ..  ..  ...  ...   \n",
      "348852      HHLA2_HHLA2  81460        0  11  10  15   5  15   5   0  ...   20   \n",
      "348853      HHLA2_HHLA2  81462        0  15   5  15   5   0  15  15  ...   20   \n",
      "348854      HHLA2_HHLA2  81463        0   5  15   5   0  15  15  15  ...   20   \n",
      "348855      HHLA2_HHLA2  81464        0  15   5   0  15  15  15   5  ...   20   \n",
      "348856      HHLA2_HHLA2  81465        0   5   0  15  15  15   5  10  ...   20   \n",
      "\n",
      "        P93  P94  P95  P96  P97  P98  P99  P100  P101  \n",
      "0         7    2   17    2   17   12    2    12     2  \n",
      "1         2   17   12    2   12    2   17    12    17  \n",
      "2        17   12    2   17   17    7   17     2     2  \n",
      "3         7    2   12   17   17   17   17     7    17  \n",
      "4         2   12   17   17   17   17    7    17    17  \n",
      "...     ...  ...  ...  ...  ...  ...  ...   ...   ...  \n",
      "348852   20   20   20   20   20   20   20    20    20  \n",
      "348853   20   20   20   20   20   20   20    20    20  \n",
      "348854   20   20   20   20   20   20   20    20    20  \n",
      "348855   20   20   20   20   20   20   20    20    20  \n",
      "348856   20   20   20   20   20   20   20    20    20  \n",
      "\n",
      "[348857 rows x 104 columns]>\n"
     ]
    }
   ],
   "source": [
    "print(data.head)"
   ]
  },
  {
   "cell_type": "code",
   "execution_count": 9,
   "id": "72bd0495-977b-409e-a4d4-dc6234d5d900",
   "metadata": {
    "colab": {
     "base_uri": "https://localhost:8080/"
    },
    "id": "72bd0495-977b-409e-a4d4-dc6234d5d900",
    "outputId": "971a9338-1417-4f6f-f9d9-892a760f2130"
   },
   "outputs": [
    {
     "name": "stdout",
     "output_type": "stream",
     "text": [
      "Selecting data for testing... data_test: (348857, 104) data_y_test: (348857,)\n",
      "TEST LABELS:\n",
      "0    341867\n",
      "1      6990\n",
      "Name: EDITING, dtype: int64\n"
     ]
    }
   ],
   "source": [
    "# Data Test\n",
    "data_test  =data\n",
    "data_y_test=data['EDITING']\n",
    "print(\"Selecting data for testing... data_test: {} data_y_test: {}\".format(data_test.shape,data_y_test.shape))\n",
    "print(\"TEST LABELS:\")\n",
    "print(data_y_test.value_counts())"
   ]
  },
  {
   "cell_type": "markdown",
   "id": "9WyvcKhMJSEE",
   "metadata": {
    "id": "9WyvcKhMJSEE"
   },
   "source": [
    "Recover saved model"
   ]
  },
  {
   "cell_type": "code",
   "execution_count": 10,
   "id": "643c51c7-f1ee-489b-b306-fbf948a07a51",
   "metadata": {
    "colab": {
     "base_uri": "https://localhost:8080/"
    },
    "id": "643c51c7-f1ee-489b-b306-fbf948a07a51",
    "outputId": "0d9eefc3-3c47-4def-d37d-d4578744bbb5"
   },
   "outputs": [
    {
     "name": "stdout",
     "output_type": "stream",
     "text": [
      "Model: \"TFM_LSTMBidiAttention\"\n",
      "__________________________________________________________________________________________________\n",
      " Layer (type)                   Output Shape         Param #     Connected to                     \n",
      "==================================================================================================\n",
      " INPUTS (InputLayer)            [(None, 101, 21)]    0           []                               \n",
      "                                                                                                  \n",
      " LSTM_BI (Bidirectional)        (None, 101, 512)     569344      ['INPUTS[0][0]']                 \n",
      "                                                                                                  \n",
      " dropout_2 (Dropout)            (None, 101, 512)     0           ['LSTM_BI[0][0]']                \n",
      "                                                                                                  \n",
      " dense_2 (Dense)                (None, 101, 1)       513         ['dropout_2[0][0]']              \n",
      "                                                                                                  \n",
      " flatten_2 (Flatten)            (None, 101)          0           ['dense_2[0][0]']                \n",
      "                                                                                                  \n",
      " activation_2 (Activation)      (None, 101)          0           ['flatten_2[0][0]']              \n",
      "                                                                                                  \n",
      " repeat_vector_2 (RepeatVector)  (None, 512, 101)    0           ['activation_2[0][0]']           \n",
      "                                                                                                  \n",
      " permute_2 (Permute)            (None, 101, 512)     0           ['repeat_vector_2[0][0]']        \n",
      "                                                                                                  \n",
      " multiply_2 (Multiply)          (None, 101, 512)     0           ['LSTM_BI[0][0]',                \n",
      "                                                                  'permute_2[0][0]']              \n",
      "                                                                                                  \n",
      " lambda_2 (Lambda)              (None, 512)          0           ['multiply_2[0][0]']             \n",
      "                                                                                                  \n",
      " OUTPUT (Dense)                 (None, 1)            513         ['lambda_2[0][0]']               \n",
      "                                                                                                  \n",
      "==================================================================================================\n",
      "Total params: 570,370\n",
      "Trainable params: 570,370\n",
      "Non-trainable params: 0\n",
      "__________________________________________________________________________________________________\n"
     ]
    }
   ],
   "source": [
    "#Load the trained model from disk\n",
    "import os.path\n",
    "\n",
    "if os.path.exists(savedmodelfile):\n",
    "    model = tf.keras.models.load_model(savedmodelfile)\n",
    "    # Show the model architecture\n",
    "    model.summary()\n",
    "else:\n",
    "    print(\"ERROR model {} not found \".format(savedmodelfile))           \n",
    "\n"
   ]
  },
  {
   "cell_type": "code",
   "execution_count": 11,
   "id": "b2dada75-39d9-45ef-8a7f-d83b57619438",
   "metadata": {
    "colab": {
     "base_uri": "https://localhost:8080/"
    },
    "id": "b2dada75-39d9-45ef-8a7f-d83b57619438",
    "outputId": "3b97d41a-6876-4e82-9906-4842ed4b0610"
   },
   "outputs": [
    {
     "name": "stdout",
     "output_type": "stream",
     "text": [
      "348857/348857 [==============================] - 5994s 17ms/step\n"
     ]
    }
   ],
   "source": [
    "#PREDICTIONS\n",
    "#DataGenerator converts on the fly from raw data to one-hot\n",
    "if GOOGLE_COLAB==False:\n",
    "    from rnaed import DataGenerator\n",
    "else:\n",
    "    from RNAEd import DataGenerator\n",
    "\n",
    "\n",
    "#DataGenerator converts on the fly from raw data to one-hot\n",
    "num_nucleosides = data_test.iloc[:,3:].shape[1]\n",
    "num_tokens = categories_size\n",
    "\n",
    "pred_generator       = DataGenerator( data_test.iloc[:,3:], data_y_test,  batch_size=1,seq_size=num_nucleosides, categories_size=categories_size, shuffle=False )\n",
    "model_prediction = model.predict(pred_generator,verbose=1)\n",
    "model_prediction_binary = (model_prediction > 0.5).astype(\"int32\")"
   ]
  },
  {
   "cell_type": "code",
   "execution_count": 13,
   "id": "d08289e1-32e4-4290-82c7-b87718f230a9",
   "metadata": {
    "colab": {
     "base_uri": "https://localhost:8080/"
    },
    "id": "d08289e1-32e4-4290-82c7-b87718f230a9",
    "outputId": "14495fee-eb4d-449e-dbac-ce15bad09e3f"
   },
   "outputs": [
    {
     "name": "stdout",
     "output_type": "stream",
     "text": [
      "(348857, 104)\n",
      "(348857,)\n",
      "(348857, 1)\n",
      "(348857, 1)\n"
     ]
    }
   ],
   "source": [
    "print(data_test.shape)\n",
    "print(data_y_test.shape)\n",
    "print(model_prediction.shape)\n",
    "print(model_prediction_binary.shape)"
   ]
  },
  {
   "cell_type": "code",
   "execution_count": 14,
   "id": "a9296b0f-efc6-4133-aaff-949a4159e5f7",
   "metadata": {
    "colab": {
     "base_uri": "https://localhost:8080/"
    },
    "id": "a9296b0f-efc6-4133-aaff-949a4159e5f7",
    "outputId": "9f8555e3-e04b-44e1-d24e-175303b2bc16"
   },
   "outputs": [
    {
     "name": "stdout",
     "output_type": "stream",
     "text": [
      "MODEL Predict_Hs_to_Hs_30G_Complete_1\n",
      "---------------------------------\n",
      "Kappa: 0.266\n",
      "              precision    recall  f1-score   support\n",
      "\n",
      "           0       1.00      0.92      0.96    341867\n",
      "           1       0.18      0.82      0.29      6990\n",
      "\n",
      "    accuracy                           0.92    348857\n",
      "   macro avg       0.59      0.87      0.62    348857\n",
      "weighted avg       0.98      0.92      0.94    348857\n",
      "\n"
     ]
    }
   ],
   "source": [
    "#METRICS QUALITY CLASSIFICATION\n",
    "print(\"MODEL \"+cross_test_name+\"\\n---------------------------------\")\n",
    "kappa = cohen_kappa_score(data_y_test, model_prediction_binary)\n",
    "print ('Kappa:',round(kappa,3))\n",
    "print(classification_report(data_y_test, model_prediction_binary))"
   ]
  },
  {
   "cell_type": "code",
   "execution_count": 15,
   "id": "686f01e9-daf3-43f6-bd2f-d1fee30059cb",
   "metadata": {
    "colab": {
     "base_uri": "https://localhost:8080/",
     "height": 346
    },
    "id": "686f01e9-daf3-43f6-bd2f-d1fee30059cb",
    "outputId": "978cf5e3-dd2e-4937-c6e9-f8e6ac99e97e"
   },
   "outputs": [
    {
     "data": {
      "image/png": "[encoded data removed]",
      "text/plain": [
       "<Figure size 432x288 with 2 Axes>"
      ]
     },
     "metadata": {},
     "output_type": "display_data"
    }
   ],
   "source": [
    "from sklearn.metrics import confusion_matrix, precision_score, cohen_kappa_score, classification_report\n",
    "import seaborn as sns; sns.set()\n",
    "# PLOT CONFUSION MATRIX\n",
    "# Tutorial: https://www.stackvidhya.com/plot-confusion-matrix-in-python-and-why/\n",
    "plt.figure()\n",
    "\n",
    "cm = confusion_matrix(data_y_test,model_prediction_binary)\n",
    "\n",
    "group_names = ['TN','FP','FN','TP']\n",
    "group_counts = [\"{0:0.0f}\".format(value) for value in cm.flatten()]\n",
    "group_percentages = [\"{0:.2%}\".format(value) for value in cm.flatten()/np.sum(cm)]\n",
    "\n",
    "labels = [f\"{v1}\\n{v2}\\n{v3}\" for v1, v2, v3 in zip(group_names,group_counts,group_percentages)]\n",
    "labels = np.asarray(labels).reshape(2,2)\n",
    "\n",
    "ax = sns.heatmap(cm, annot=labels, fmt='', cmap='Blues')\n",
    "\n",
    "ax.set_title('RNA-Editing Confusion Matrix \\n\\n');\n",
    "ax.set_xlabel('\\nPredicted Values '+ cross_test_name)\n",
    "ax.set_ylabel('Actual Values ');\n",
    "## Ticket labels - List must be in alphabetical order\n",
    "#ax.xaxis.set_ticklabels(['False','True'])\n",
    "#ax.yaxis.set_ticklabels(['False','True'])\n",
    "plt.show()"
   ]
  },
  {
   "cell_type": "code",
   "execution_count": 16,
   "id": "3cf996b4-6e39-4d84-8acf-fc0d5959b298",
   "metadata": {
    "colab": {
     "base_uri": "https://localhost:8080/",
     "height": 319
    },
    "id": "3cf996b4-6e39-4d84-8acf-fc0d5959b298",
    "outputId": "1ce8cbbd-8eeb-4768-ab64-f890d775ef77"
   },
   "outputs": [
    {
     "name": "stdout",
     "output_type": "stream",
     "text": [
      "AUC: 0.90\n"
     ]
    },
    {
     "data": {
      "image/png": "[encoded data removed]",
      "text/plain": [
       "<Figure size 432x288 with 1 Axes>"
      ]
     },
     "metadata": {},
     "output_type": "display_data"
    }
   ],
   "source": [
    "from sklearn.metrics import roc_curve\n",
    "from sklearn.metrics import roc_auc_score\n",
    "\n",
    "def plot_roc_curve(fpr, tpr):\n",
    "    plt.plot(fpr, tpr, color=\"orange\", label=\"ROC\")\n",
    "    plt.plot([0, 1], [0, 1], color=\"darkblue\", linestyle=\"--\")\n",
    "    plt.xlabel('False Positive Rate')\n",
    "    plt.ylabel('True Positive Rate')\n",
    "    plt.title('Receiver Operating Characteristic (ROC) Curve')\n",
    "    plt.legend()\n",
    "    plt.show()\n",
    "\n",
    "auc = roc_auc_score(data_y_test, model_prediction)\n",
    "print('AUC: %.2f' % auc)\n",
    "fpr, tpr, thresholds = roc_curve(data_y_test, model_prediction)\n",
    "plot_roc_curve(fpr, tpr)"
   ]
  },
  {
   "cell_type": "markdown",
   "id": "4991f5b0-b2da-48f6-ab0a-4fcdb0099769",
   "metadata": {
    "id": "4991f5b0-b2da-48f6-ab0a-4fcdb0099769"
   },
   "source": [
    "RESULTS INSIGHT"
   ]
  },
  {
   "cell_type": "code",
   "execution_count": 17,
   "id": "acea629b-2036-4c4f-bf46-3a4f4d62ea1f",
   "metadata": {
    "colab": {
     "base_uri": "https://localhost:8080/",
     "height": 235
    },
    "id": "acea629b-2036-4c4f-bf46-3a4f4d62ea1f",
    "outputId": "17beff2c-bf0b-4af5-b052-2c34aabb357d"
   },
   "outputs": [
    {
     "data": {
      "text/html": [
       "<div>\n",
       "<style scoped>\n",
       "    .dataframe tbody tr th:only-of-type {\n",
       "        vertical-align: middle;\n",
       "    }\n",
       "\n",
       "    .dataframe tbody tr th {\n",
       "        vertical-align: top;\n",
       "    }\n",
       "\n",
       "    .dataframe thead th {\n",
       "        text-align: right;\n",
       "    }\n",
       "</style>\n",
       "<table border=\"1\" class=\"dataframe\">\n",
       "  <thead>\n",
       "    <tr style=\"text-align: right;\">\n",
       "      <th></th>\n",
       "      <th>GENE</th>\n",
       "      <th>POS</th>\n",
       "      <th>EDITING</th>\n",
       "      <th>RESULT_TYPE</th>\n",
       "      <th>PROB_PRED</th>\n",
       "      <th>P1</th>\n",
       "      <th>P2</th>\n",
       "      <th>P3</th>\n",
       "      <th>P4</th>\n",
       "      <th>P5</th>\n",
       "      <th>...</th>\n",
       "      <th>P92</th>\n",
       "      <th>P93</th>\n",
       "      <th>P94</th>\n",
       "      <th>P95</th>\n",
       "      <th>P96</th>\n",
       "      <th>P97</th>\n",
       "      <th>P98</th>\n",
       "      <th>P99</th>\n",
       "      <th>P100</th>\n",
       "      <th>P101</th>\n",
       "    </tr>\n",
       "  </thead>\n",
       "  <tbody>\n",
       "    <tr>\n",
       "      <th>0</th>\n",
       "      <td>FAM110B_FAM110B</td>\n",
       "      <td>5793</td>\n",
       "      <td>0</td>\n",
       "      <td>None</td>\n",
       "      <td>0.033833</td>\n",
       "      <td>6</td>\n",
       "      <td>16</td>\n",
       "      <td>17</td>\n",
       "      <td>17</td>\n",
       "      <td>7</td>\n",
       "      <td>...</td>\n",
       "      <td>17</td>\n",
       "      <td>7</td>\n",
       "      <td>2</td>\n",
       "      <td>17</td>\n",
       "      <td>2</td>\n",
       "      <td>17</td>\n",
       "      <td>12</td>\n",
       "      <td>2</td>\n",
       "      <td>12</td>\n",
       "      <td>2</td>\n",
       "    </tr>\n",
       "    <tr>\n",
       "      <th>1</th>\n",
       "      <td>FAM110B_FAM110B</td>\n",
       "      <td>5796</td>\n",
       "      <td>0</td>\n",
       "      <td>None</td>\n",
       "      <td>0.034073</td>\n",
       "      <td>17</td>\n",
       "      <td>7</td>\n",
       "      <td>2</td>\n",
       "      <td>7</td>\n",
       "      <td>17</td>\n",
       "      <td>...</td>\n",
       "      <td>17</td>\n",
       "      <td>2</td>\n",
       "      <td>17</td>\n",
       "      <td>12</td>\n",
       "      <td>2</td>\n",
       "      <td>12</td>\n",
       "      <td>2</td>\n",
       "      <td>17</td>\n",
       "      <td>12</td>\n",
       "      <td>17</td>\n",
       "    </tr>\n",
       "    <tr>\n",
       "      <th>2</th>\n",
       "      <td>FAM110B_FAM110B</td>\n",
       "      <td>5804</td>\n",
       "      <td>0</td>\n",
       "      <td>None</td>\n",
       "      <td>0.038144</td>\n",
       "      <td>7</td>\n",
       "      <td>7</td>\n",
       "      <td>7</td>\n",
       "      <td>7</td>\n",
       "      <td>2</td>\n",
       "      <td>...</td>\n",
       "      <td>12</td>\n",
       "      <td>17</td>\n",
       "      <td>12</td>\n",
       "      <td>2</td>\n",
       "      <td>17</td>\n",
       "      <td>17</td>\n",
       "      <td>7</td>\n",
       "      <td>17</td>\n",
       "      <td>2</td>\n",
       "      <td>2</td>\n",
       "    </tr>\n",
       "    <tr>\n",
       "      <th>3</th>\n",
       "      <td>FAM110B_FAM110B</td>\n",
       "      <td>5814</td>\n",
       "      <td>0</td>\n",
       "      <td>None</td>\n",
       "      <td>0.032208</td>\n",
       "      <td>11</td>\n",
       "      <td>13</td>\n",
       "      <td>1</td>\n",
       "      <td>6</td>\n",
       "      <td>1</td>\n",
       "      <td>...</td>\n",
       "      <td>17</td>\n",
       "      <td>7</td>\n",
       "      <td>2</td>\n",
       "      <td>12</td>\n",
       "      <td>17</td>\n",
       "      <td>17</td>\n",
       "      <td>17</td>\n",
       "      <td>17</td>\n",
       "      <td>7</td>\n",
       "      <td>17</td>\n",
       "    </tr>\n",
       "    <tr>\n",
       "      <th>4</th>\n",
       "      <td>FAM110B_FAM110B</td>\n",
       "      <td>5815</td>\n",
       "      <td>0</td>\n",
       "      <td>None</td>\n",
       "      <td>0.027153</td>\n",
       "      <td>13</td>\n",
       "      <td>1</td>\n",
       "      <td>6</td>\n",
       "      <td>1</td>\n",
       "      <td>16</td>\n",
       "      <td>...</td>\n",
       "      <td>7</td>\n",
       "      <td>2</td>\n",
       "      <td>12</td>\n",
       "      <td>17</td>\n",
       "      <td>17</td>\n",
       "      <td>17</td>\n",
       "      <td>17</td>\n",
       "      <td>7</td>\n",
       "      <td>17</td>\n",
       "      <td>17</td>\n",
       "    </tr>\n",
       "  </tbody>\n",
       "</table>\n",
       "<p>5 rows × 106 columns</p>\n",
       "</div>"
      ],
      "text/plain": [
       "              GENE   POS  EDITING RESULT_TYPE  PROB_PRED  P1  P2  P3  P4  P5  \\\n",
       "0  FAM110B_FAM110B  5793        0        None   0.033833   6  16  17  17   7   \n",
       "1  FAM110B_FAM110B  5796        0        None   0.034073  17   7   2   7  17   \n",
       "2  FAM110B_FAM110B  5804        0        None   0.038144   7   7   7   7   2   \n",
       "3  FAM110B_FAM110B  5814        0        None   0.032208  11  13   1   6   1   \n",
       "4  FAM110B_FAM110B  5815        0        None   0.027153  13   1   6   1  16   \n",
       "\n",
       "   ...  P92  P93  P94  P95  P96  P97  P98  P99  P100  P101  \n",
       "0  ...   17    7    2   17    2   17   12    2    12     2  \n",
       "1  ...   17    2   17   12    2   12    2   17    12    17  \n",
       "2  ...   12   17   12    2   17   17    7   17     2     2  \n",
       "3  ...   17    7    2   12   17   17   17   17     7    17  \n",
       "4  ...    7    2   12   17   17   17   17    7    17    17  \n",
       "\n",
       "[5 rows x 106 columns]"
      ]
     },
     "execution_count": 17,
     "metadata": {},
     "output_type": "execute_result"
    }
   ],
   "source": [
    "results_data = data_test\n",
    "if 'RESULT_TYPE' not in results_data.columns:\n",
    "    #insert column at position 3\n",
    "    results_data.insert(3,\"RESULT_TYPE\", None)\n",
    "    results_data.insert(4,\"PROB_PRED\",model_prediction)\n",
    "else:\n",
    "    print(\"RESULT_TYPE already exists in the dataframe\")\n",
    "\n",
    "results_data.head()"
   ]
  },
  {
   "cell_type": "code",
   "execution_count": null,
   "id": "15ac7e5c-3c5b-4737-b2ec-c75f9592c4c9",
   "metadata": {
    "colab": {
     "base_uri": "https://localhost:8080/",
     "height": 235
    },
    "id": "15ac7e5c-3c5b-4737-b2ec-c75f9592c4c9",
    "outputId": "e890cedc-cbfd-401b-fea3-534f58b894fe"
   },
   "outputs": [],
   "source": [
    "column_index=results_data.columns.get_loc('RESULT_TYPE')\n",
    "i=0\n",
    "for result in model_prediction_binary:\n",
    "    #print(\"Comparing result={} with data_y_test={}\".format(result[0],data_y_test.iloc[i]))\n",
    "    if   result[0]==0 and data_y_test.iloc[i]==0:\n",
    "       typeRes =\"TN\"\n",
    "    elif result[0]==0 and data_y_test.iloc[i]==1:\n",
    "       typeRes=\"FN\"\n",
    "    elif result[0]==1 and data_y_test.iloc[i]==0:\n",
    "       typeRes=\"FP\"\n",
    "    elif result[0]==1 and data_y_test.iloc[i]==1:\n",
    "       typeRes=\"TP\"\n",
    "    results_data.iloc[i, column_index]=typeRes\n",
    "    i+=1\n",
    "    \n",
    "results_data.head()"
   ]
  },
  {
   "cell_type": "code",
   "execution_count": null,
   "id": "071e1abf-5a84-401d-a3c3-e335dabc7263",
   "metadata": {
    "id": "071e1abf-5a84-401d-a3c3-e335dabc7263"
   },
   "outputs": [],
   "source": [
    "#Save the results into a file\n",
    "if GOOGLE_COLAB==False:\n",
    "    report_dir=\"./report\"\n",
    "else:\n",
    "    report_dir=\"/content/drive/MyDrive/REPORT\"\n",
    "\n",
    "results_csv_file  =cross_test_name + \"_Results.csv\"\n",
    "results_excel_file=cross_test_name + \"_Results.xlsx\"\n",
    "results_data.to_csv(os.path.join(report_dir,results_csv_file))\n",
    "results_data.to_excel(os.path.join(report_dir,results_excel_file))"
   ]
  },
  {
   "cell_type": "markdown",
   "id": "3efaaf0c-8cbe-4683-93e5-4eb4bd6f0e4f",
   "metadata": {
    "id": "3efaaf0c-8cbe-4683-93e5-4eb4bd6f0e4f"
   },
   "source": [
    "Now, we are going to find the record with highest probability and category TP (True Positive) as a good model of TP data,\n",
    "and alternatively, the best representative of TN, using the lowest value"
   ]
  },
  {
   "cell_type": "code",
   "execution_count": null,
   "id": "92b6138a-bb87-4a69-9a64-8cbcc69b260c",
   "metadata": {
    "colab": {
     "base_uri": "https://localhost:8080/"
    },
    "id": "92b6138a-bb87-4a69-9a64-8cbcc69b260c",
    "outputId": "4349977a-e6d6-4bdf-c6fb-94864279f483"
   },
   "outputs": [],
   "source": [
    "subset_TP=results_data.loc[results_data['RESULT_TYPE'] == 'TP']\n",
    "prototype_of_TP_id=subset_TP['PROB_PRED'].idxmax()\n",
    "print(\"rowid best TP = {}\".format(prototype_of_TP_id))\n",
    "print(results_data.loc[prototype_of_TP_id,])"
   ]
  },
  {
   "cell_type": "code",
   "execution_count": null,
   "id": "45c18ea1-4b2e-4bc9-90b5-871f2d56d219",
   "metadata": {
    "colab": {
     "base_uri": "https://localhost:8080/"
    },
    "id": "45c18ea1-4b2e-4bc9-90b5-871f2d56d219",
    "outputId": "736b84e3-bd70-46e0-80e8-30ef57711857"
   },
   "outputs": [],
   "source": [
    "subset_TN=results_data.loc[results_data['RESULT_TYPE'] == 'TN']\n",
    "prototype_of_TN_id=subset_TN['PROB_PRED'].idxmin()\n",
    "print(\"rowid best TN = {}\".format(prototype_of_TN_id))\n",
    "print(results_data.loc[prototype_of_TN_id,])"
   ]
  },
  {
   "cell_type": "code",
   "execution_count": null,
   "id": "6f6eec5d-b3e6-4b82-9cd5-7ae4fff59cbf",
   "metadata": {},
   "outputs": [],
   "source": []
  }
 ],
 "metadata": {
  "accelerator": "GPU",
  "colab": {
   "collapsed_sections": [],
   "machine_shape": "hm",
   "provenance": []
  },
  "kernelspec": {
   "display_name": "Python [conda env:tensorflow-lsr] *",
   "language": "python",
   "name": "conda-env-tensorflow-lsr-py"
  },
  "language_info": {
   "codemirror_mode": {
    "name": "ipython",
    "version": 3
   },
   "file_extension": ".py",
   "mimetype": "text/x-python",
   "name": "python",
   "nbconvert_exporter": "python",
   "pygments_lexer": "ipython3",
   "version": "3.8.12"
  }
 },
 "nbformat": 4,
 "nbformat_minor": 5
}
