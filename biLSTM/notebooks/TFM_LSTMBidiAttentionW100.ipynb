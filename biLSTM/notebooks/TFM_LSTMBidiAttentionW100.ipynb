{
 "cells": [
  {
   "cell_type": "markdown",
   "id": "ca661a73-de2d-4079-8138-914bab318805",
   "metadata": {
    "id": "ca661a73-de2d-4079-8138-914bab318805"
   },
   "source": [
    "# Deep neural network-based models for predicting mRNA editing\n",
    "\n",
    "Bidirectional LSTM with Attention Layer"
   ]
  },
  {
   "cell_type": "code",
   "execution_count": null,
   "id": "c9f60581-a961-4284-9b0b-3867f3b54213",
   "metadata": {
    "id": "c9f60581-a961-4284-9b0b-3867f3b54213"
   },
   "outputs": [],
   "source": [
    "import os\n",
    "import numpy as np\n",
    "import pandas as pd\n",
    "import matplotlib.pyplot as plt\n",
    "from sklearn.model_selection import train_test_split\n",
    "import tensorflow as tf\n",
    "from tensorflow import keras\n",
    "from tensorflow.keras import layers\n",
    "from sklearn.metrics import confusion_matrix, precision_score, cohen_kappa_score, classification_report\n",
    "import seaborn as sns; sns.set()\n",
    "from keras import backend as K"
   ]
  },
  {
   "cell_type": "code",
   "execution_count": null,
   "id": "8c077d3a-3edc-4341-b1e6-59a67fe44442",
   "metadata": {
    "id": "8c077d3a-3edc-4341-b1e6-59a67fe44442"
   },
   "outputs": [],
   "source": [
    "########################################\n",
    "# PARAMS\n",
    "########################################\n",
    "fname      = 'hg38_RS_DL_ES_NES_rand1000_Pad_W100_BALANCED_1_1_CODED2CH.csv'\n",
    "#fname      = 'DATASET_PAD1.csv'\n",
    "separator_char=';'\n",
    "ptrain     = 0.7\n",
    "model_name = 'TFM_LSTMBidiAttentionW100'\n",
    "num_lstm_units=256\n",
    "n_epochs=20\n",
    "batch_size=32\n",
    "categories_size=20\n",
    "padding=True\n",
    "random_seed=2022\n",
    "########################################"
   ]
  },
  {
   "cell_type": "markdown",
   "id": "1bd49147-7ef8-4a2b-ba75-694d51a94f88",
   "metadata": {
    "id": "1bd49147-7ef8-4a2b-ba75-694d51a94f88",
    "outputId": "eba0a3a5-140a-404c-f883-4f3124dcfbae"
   },
   "source": [
    "We can run this notebook in two environments:\n",
    "+ Googlr Colab Pro (Cloud)\n",
    "+ Jupyter Lab (Locally)"
   ]
  },
  {
   "cell_type": "code",
   "execution_count": null,
   "id": "be00b8cf-d29e-429d-a4cc-e05f4416b635",
   "metadata": {
    "colab": {
     "base_uri": "https://localhost:8080/"
    },
    "executionInfo": {
     "elapsed": 5,
     "status": "ok",
     "timestamp": 1653724354994,
     "user": {
      "displayName": "Jesús Peñuela",
      "userId": "04868940139927239067"
     },
     "user_tz": -120
    },
    "id": "be00b8cf-d29e-429d-a4cc-e05f4416b635",
    "outputId": "1c4e0732-9bff-4544-b202-d291b7e1fbc0"
   },
   "outputs": [
    {
     "name": "stdout",
     "output_type": "stream",
     "text": [
      "Running on CoLab\n"
     ]
    }
   ],
   "source": [
    "#CHECK GOOGLE COLAB\n",
    "GOOGLE_COLAB=False\n",
    "if 'google.colab' in str(get_ipython()):\n",
    "  GOOGLE_COLAB=True  \n",
    "  print('Running on CoLab')\n",
    "else:\n",
    "  print('Not running on CoLab')"
   ]
  },
  {
   "cell_type": "markdown",
   "id": "26ebcbc7-a0de-4a91-aa76-4f422bd2383c",
   "metadata": {
    "id": "26ebcbc7-a0de-4a91-aa76-4f422bd2383c",
    "outputId": "eba0a3a5-140a-404c-f883-4f3124dcfbae"
   },
   "source": [
    "Checking if GPU is available and GPU characteristics."
   ]
  },
  {
   "cell_type": "code",
   "execution_count": null,
   "id": "e6fa0226-d138-40dd-bab2-7d0aedec9746",
   "metadata": {
    "colab": {
     "base_uri": "https://localhost:8080/"
    },
    "executionInfo": {
     "elapsed": 1058,
     "status": "ok",
     "timestamp": 1653724356050,
     "user": {
      "displayName": "Jesús Peñuela",
      "userId": "04868940139927239067"
     },
     "user_tz": -120
    },
    "id": "e6fa0226-d138-40dd-bab2-7d0aedec9746",
    "outputId": "06f62f0c-8ba0-4b04-80ba-1588e0a37646"
   },
   "outputs": [
    {
     "name": "stdout",
     "output_type": "stream",
     "text": [
      "Num GPUs Available: 1\n",
      "Found GPU at: /device:GPU:0\n",
      "Sat May 28 07:52:35 2022       \n",
      "+-----------------------------------------------------------------------------+\n",
      "| NVIDIA-SMI 460.32.03    Driver Version: 460.32.03    CUDA Version: 11.2     |\n",
      "|-------------------------------+----------------------+----------------------+\n",
      "| GPU  Name        Persistence-M| Bus-Id        Disp.A | Volatile Uncorr. ECC |\n",
      "| Fan  Temp  Perf  Pwr:Usage/Cap|         Memory-Usage | GPU-Util  Compute M. |\n",
      "|                               |                      |               MIG M. |\n",
      "|===============================+======================+======================|\n",
      "|   0  Tesla P100-PCIE...  Off  | 00000000:00:04.0 Off |                    0 |\n",
      "| N/A   39C    P0    34W / 250W |    375MiB / 16280MiB |      5%      Default |\n",
      "|                               |                      |                  N/A |\n",
      "+-------------------------------+----------------------+----------------------+\n",
      "                                                                               \n",
      "+-----------------------------------------------------------------------------+\n",
      "| Processes:                                                                  |\n",
      "|  GPU   GI   CI        PID   Type   Process name                  GPU Memory |\n",
      "|        ID   ID                                                   Usage      |\n",
      "|=============================================================================|\n",
      "+-----------------------------------------------------------------------------+\n"
     ]
    }
   ],
   "source": [
    "#CHECK GPU\n",
    "device_name = tf.test.gpu_device_name()\n",
    "if device_name != '/device:GPU:0':\n",
    "  print('GPU device not found')\n",
    "else:\n",
    "  print('Num GPUs Available: {}'.format(len(tf.config.list_physical_devices('GPU'))))\n",
    "  print('Found GPU at: {}'.format(device_name))\n",
    "  gpu_info = !nvidia-smi\n",
    "  gpu_info = '\\n'.join(gpu_info)\n",
    "  if gpu_info.find('failed') >= 0:\n",
    "     print('Not connected to a GPU')\n",
    "  else:\n",
    "     print(gpu_info)"
   ]
  },
  {
   "cell_type": "code",
   "execution_count": null,
   "id": "0932c47c-8f33-4656-9214-c0b6fce1bf64",
   "metadata": {
    "colab": {
     "base_uri": "https://localhost:8080/"
    },
    "executionInfo": {
     "elapsed": 1777,
     "status": "ok",
     "timestamp": 1653724357823,
     "user": {
      "displayName": "Jesús Peñuela",
      "userId": "04868940139927239067"
     },
     "user_tz": -120
    },
    "id": "0932c47c-8f33-4656-9214-c0b6fce1bf64",
    "outputId": "464e801e-c78a-4df4-f00b-627c4025a78d"
   },
   "outputs": [
    {
     "name": "stdout",
     "output_type": "stream",
     "text": [
      "Drive already mounted at /content/drive; to attempt to forcibly remount, call drive.mount(\"/content/drive\", force_remount=True).\n",
      "LAST MODEL FILE: /content/drive/MyDrive/MODELS/TFM_LSTMBidiAttentionW100.h5\n",
      "BEST MODEL FILE: /content/drive/MyDrive/MODELS/best_model_TFM_LSTMBidiAttentionW100.h5\n"
     ]
    }
   ],
   "source": [
    "if padding==True:\n",
    "    categories_size=21\n",
    "\n",
    "if GOOGLE_COLAB==False:\n",
    "    data_dir = '../data/datasets/RAND1000/W100'\n",
    "    models_dir = './SAVED_MODELS'\n",
    "\n",
    "else:\n",
    "    from google.colab import drive\n",
    "    drive.mount('/content/drive')\n",
    "    import sys\n",
    "    #set the path to find RNAEd module\n",
    "    sys.path.insert(0,'/content/drive/MyDrive/ColabNotebooks')    \n",
    "    data_dir  = '/content/drive/MyDrive/DATASETS/RAND1000/W100'\n",
    "    models_dir= '/content/drive/MyDrive/MODELS'\n",
    "\n",
    "#We can save best model and last model\n",
    "best_model = 'best_model_'+model_name+'.h5'\n",
    "last_model =  model_name+'.h5'\n",
    "lastmodelfile = os.path.join(models_dir, last_model)\n",
    "print(\"LAST MODEL FILE: {}\".format(lastmodelfile))\n",
    "bestmodelfile = os.path.join(models_dir, best_model)\n",
    "print(\"BEST MODEL FILE: {}\".format(bestmodelfile))\n",
    "datafile = os.path.join(data_dir, fname)    "
   ]
  },
  {
   "cell_type": "markdown",
   "id": "8c001b8d-f491-45da-a667-9d566df08c38",
   "metadata": {
    "id": "8c001b8d-f491-45da-a667-9d566df08c38",
    "outputId": "dca7aef9-a604-426f-ef3d-725b81ca9baa"
   },
   "source": [
    "We read the data."
   ]
  },
  {
   "cell_type": "code",
   "execution_count": null,
   "id": "206aec14-c210-499a-9601-09d1443cd01e",
   "metadata": {
    "colab": {
     "base_uri": "https://localhost:8080/"
    },
    "executionInfo": {
     "elapsed": 7261,
     "status": "ok",
     "timestamp": 1653724365081,
     "user": {
      "displayName": "Jesús Peñuela",
      "userId": "04868940139927239067"
     },
     "user_tz": -120
    },
    "id": "206aec14-c210-499a-9601-09d1443cd01e",
    "outputId": "34de7891-ac4d-4709-f0b7-afd5a88eaba4"
   },
   "outputs": [
    {
     "name": "stdout",
     "output_type": "stream",
     "text": [
      "DATASET: /content/drive/MyDrive/DATASETS/RAND1000/W100/hg38_RS_DL_ES_NES_rand1000_Pad_W100_BALANCED_1_1_CODED2CH.csv\n",
      "shape dataraw=(306862, 204)\n"
     ]
    }
   ],
   "source": [
    "print(\"DATASET: {}\".format(datafile))\n",
    "dataraw = pd.read_csv(datafile,sep=separator_char)\n",
    "print(\"shape dataraw={}\".format(dataraw.shape))"
   ]
  },
  {
   "cell_type": "markdown",
   "id": "d4689c11-867e-44b1-bb6c-8be3e6628d34",
   "metadata": {
    "id": "d4689c11-867e-44b1-bb6c-8be3e6628d34",
    "outputId": "c6394162-7647-4e1e-a983-2aa4df3a5242"
   },
   "source": [
    "We will divide the data into: train, validation and test.\n",
    "The three datastes should be well balanced."
   ]
  },
  {
   "cell_type": "code",
   "execution_count": null,
   "id": "0e044074-ce2c-436b-a89c-bece4f06c495",
   "metadata": {
    "colab": {
     "base_uri": "https://localhost:8080/"
    },
    "executionInfo": {
     "elapsed": 17,
     "status": "ok",
     "timestamp": 1653724365082,
     "user": {
      "displayName": "Jesús Peñuela",
      "userId": "04868940139927239067"
     },
     "user_tz": -120
    },
    "id": "0e044074-ce2c-436b-a89c-bece4f06c495",
    "outputId": "e4e166df-f6bc-476e-af47-86d65e199d95"
   },
   "outputs": [
    {
     "name": "stdout",
     "output_type": "stream",
     "text": [
      "<bound method NDFrame.head of         P1  P2  P3  P4  P5  P6  P7  P8  P9  P10  ...  P192  P193  P194  P195  \\\n",
      "0        6  16   0   6   1  11   1  16  15    1  ...    16    11    11     6   \n",
      "1       11   6  11   1  18  18  18  13  18    8  ...    17     2     2    17   \n",
      "2       15  15  10   0   5   0  15   5   5   15  ...     8     3    11    16   \n",
      "3        6   6  15   0   5   5  15   0   5    6  ...    11    16    13     6   \n",
      "4       16  11  16   6   3   8   3   1  11   11  ...     7     7    17    17   \n",
      "...     ..  ..  ..  ..  ..  ..  ..  ..  ..  ...  ...   ...   ...   ...   ...   \n",
      "306857   7   2  12   2   2  12   2  17   7    2  ...     0     0     0     0   \n",
      "306858  11  16   6  16   6  16  11  16  13    6  ...     4    11     6    16   \n",
      "306859   6   3  11  11  16  16  16  16   1    1  ...    11     0    10     0   \n",
      "306860  16  11   6   1   6  16   6   3  13    8  ...     7    16    16    16   \n",
      "306861  11   1   6   1  16   6   1  16  16   17  ...     0    15    15     0   \n",
      "\n",
      "        P196  P197  P198  P199  P200  P201  \n",
      "0         11    11    16    11    14     4  \n",
      "1         17    17    12     2    17     1  \n",
      "2         11     1     6    10     0    15  \n",
      "3         11    16    16     1    11    11  \n",
      "4          7     6     1    16     6     6  \n",
      "...      ...   ...   ...   ...   ...   ...  \n",
      "306857     0    15     0     0     5     0  \n",
      "306858    11     6    16     6     3     3  \n",
      "306859    16    11     1    13    11     6  \n",
      "306860    11     0    10     6     1    11  \n",
      "306861    15    15     0    15    15     0  \n",
      "\n",
      "[306862 rows x 201 columns]>\n"
     ]
    }
   ],
   "source": [
    "X=dataraw.iloc[:,3:]\n",
    "Y=dataraw['EDITING']\n",
    "print(X.head)"
   ]
  },
  {
   "cell_type": "code",
   "execution_count": null,
   "id": "ae0e9343-353e-4b66-921e-2e2d0966bf5c",
   "metadata": {
    "colab": {
     "base_uri": "https://localhost:8080/"
    },
    "executionInfo": {
     "elapsed": 1073,
     "status": "ok",
     "timestamp": 1653724366145,
     "user": {
      "displayName": "Jesús Peñuela",
      "userId": "04868940139927239067"
     },
     "user_tz": -120
    },
    "id": "ae0e9343-353e-4b66-921e-2e2d0966bf5c",
    "outputId": "7e9943f1-4038-4df4-861d-bb0f6b0f768a"
   },
   "outputs": [
    {
     "name": "stdout",
     "output_type": "stream",
     "text": [
      "x_train:(214803, 201) y_train:(214803,)\n",
      "x_val: (46029, 201) y_val: (46029,)\n",
      "x_test: (46030, 201) y_test: (46030,)\n",
      "TRAIN LABELS:\n",
      "1    107504\n",
      "0    107299\n",
      "Name: EDITING, dtype: int64\n",
      "VALIDATION LABELS:\n",
      "0    23087\n",
      "1    22942\n",
      "Name: EDITING, dtype: int64\n",
      "TEST LABELS:\n",
      "0    23045\n",
      "1    22985\n",
      "Name: EDITING, dtype: int64\n"
     ]
    }
   ],
   "source": [
    "# Train and Validation+Test\n",
    "x_train, x_val_test, y_train, y_val_test = train_test_split(X, Y, test_size=1-ptrain, random_state=random_seed)\n",
    "#Validation and test: 0.5/0.5\n",
    "x_val, x_test, y_val, y_test = train_test_split(x_val_test, y_val_test, test_size=0.5, random_state=random_seed)\n",
    "\n",
    "print(\"x_train:{} y_train:{}\".format(x_train.shape,y_train.shape))\n",
    "print(\"x_val: {} y_val: {}\".format(x_val.shape,y_val.shape))\n",
    "print(\"x_test: {} y_test: {}\".format(x_test.shape,y_test.shape))\n",
    "print(\"TRAIN LABELS:\")\n",
    "print(y_train.value_counts())\n",
    "print(\"VALIDATION LABELS:\")\n",
    "print(y_val.value_counts())\n",
    "print(\"TEST LABELS:\")\n",
    "print(y_test.value_counts())"
   ]
  },
  {
   "cell_type": "markdown",
   "id": "6da206f4-e9f8-4b63-a2c3-eb8488556381",
   "metadata": {
    "id": "6da206f4-e9f8-4b63-a2c3-eb8488556381"
   },
   "source": [
    "We instantiate 3 DataGenerator objects that convert from integer to one-hot"
   ]
  },
  {
   "cell_type": "code",
   "execution_count": null,
   "id": "801f208a-c441-4bb4-b300-642edd73d955",
   "metadata": {
    "id": "801f208a-c441-4bb4-b300-642edd73d955"
   },
   "outputs": [],
   "source": [
    "#DataGenerator converts on the fly from raw data to one-hot\n",
    "from RNAEd import DataGenerator\n",
    "\n",
    "num_nucleosides = x_train.shape[1]\n",
    "num_tokens = categories_size\n",
    "\n",
    "training_generator   = DataGenerator(x_train, y_train, batch_size=batch_size, seq_size=num_nucleosides, categories_size=categories_size, shuffle=True)\n",
    "validation_generator = DataGenerator(x_val,   y_val,   batch_size=batch_size, seq_size=num_nucleosides, categories_size=categories_size, shuffle=True)\n",
    "test_generator       = DataGenerator(x_test,  y_test,  batch_size=1,seq_size=num_nucleosides, categories_size=categories_size, shuffle=False )"
   ]
  },
  {
   "cell_type": "markdown",
   "id": "ddddf12b-b24f-4b5e-9540-6e49d380ff2d",
   "metadata": {
    "id": "ddddf12b-b24f-4b5e-9540-6e49d380ff2d",
    "outputId": "eb581962-8561-491c-822c-04e260bcf0cd"
   },
   "source": [
    "## Attention Layer"
   ]
  },
  {
   "cell_type": "code",
   "execution_count": null,
   "id": "204b561c-65d2-43a4-8ee2-dd1d7148d93e",
   "metadata": {
    "id": "204b561c-65d2-43a4-8ee2-dd1d7148d93e"
   },
   "outputs": [],
   "source": [
    "from keras.layers import *\n",
    "from keras.models import *\n",
    "from keras import backend as K\n",
    "\n",
    "class attention(Layer):\n",
    "    ''' heredamos de la clase layer '''\n",
    "    def __init__(self):\n",
    "        super(attention,self).__init__()\n",
    "    \n",
    "    #En el método build definimos los pesos\n",
    "    def build(self, input_shape):\n",
    "        # Define the shape of the weights and bias in this layer\n",
    "        # The layer has just 1 lonely neuron\n",
    "        \n",
    "        # For convenience sake, add a couple of properties\n",
    "        self.num_dim_pernucleoside = input_shape[-1] ## 1092\n",
    "        self.nucleosides_persequence = input_shape[-2]  ## 41\n",
    "        num_units = 1\n",
    "        \n",
    "        \n",
    "        #Weights shape=(1092,1)\n",
    "        self.W=self.add_weight(name=\"att_weight\", shape=(self.num_dim_pernucleoside,num_units),\n",
    "                               initializer=\"normal\")\n",
    "        #bias  shape=(41,1)\n",
    "        self.b=self.add_weight(name=\"att_bias\", shape=(self.nucleosides_persequence,num_units),\n",
    "                               initializer=\"zeros\")\n",
    "        super(attention,self).build(input_shape)\n",
    "    \n",
    "    #en el método call definimos la lógica\n",
    "    #esta es la implementación clásica\n",
    "    def call_classic(self, x):\n",
    "        # x is the input tensor of 2 x num_units=1092 dimensions\n",
    "        \"\"\" We multiply the inputs ‘x’ of shape (41 * 1092) by the layer weights ‘w’ \n",
    "        of shape (1092 * 1) and obtain a (41 * 1) matrix. We add the bias (41 * 1) \n",
    "        and pass the output through any activation layer. So we now have 41 * 1 values \n",
    "        We take a softmax of these values. Softmax squashes these into values in the \n",
    "        range between 0, and 1 whose sum is 1. These are the 41 attention weights. \n",
    "        We multiply each attention weight by the respective nucleoside hidden states and sum up and we are done. \n",
    "        We now have the ‘attention adjusted output’ state ready to be fed to the next layer.\"\"\"\n",
    "        \n",
    "        #e = K.squeeze(K.tanh(K.dot(x,self.W)+self.b),axis=-1)  # Necesario en algunos frameworks\n",
    "        e = K.tanh(K.dot(x,self.W)+self.b)\n",
    "        a = K.softmax(e, axis=1)\n",
    "        output = x*a\n",
    "        # return the outputs. 'a' is the set of 41 attention weights\n",
    "        # the second variable is the 'attention adjusted o/p state'\n",
    "        return a, K.sum(output, axis=1)\n",
    "  \n",
    "    #esta implementación es más robusta\n",
    "    def call(self, x):\n",
    "        \"\"\" Es lo mismo de antes pero más robusto a distintos frameworks\"\"\"\n",
    "        e = K.tanh(K.dot(x,self.W)+self.b)\n",
    "        e = Flatten()(e)\n",
    "        a = Activation('softmax')(e) \n",
    "        # Don't manipulate 'a'. It needs to be 'return'ed intact\n",
    "        temp = RepeatVector(self.num_dim_pernucleoside)(a) # (?,41) becomes (?,1092,41)\n",
    "        temp = Permute([2,1])(temp) # change from (?,1092,41) to (?,41,1092)\n",
    " \n",
    "        output = Multiply()([x,temp])# Apply weight to each of the 1092 dim\n",
    "        output = Lambda(lambda values: K.sum(values, axis=1))(output)\n",
    "        return a, output"
   ]
  },
  {
   "cell_type": "markdown",
   "id": "77ef2548-0324-428e-9211-2f524ed4cbbe",
   "metadata": {
    "id": "77ef2548-0324-428e-9211-2f524ed4cbbe",
    "outputId": "eb581962-8561-491c-822c-04e260bcf0cd"
   },
   "source": [
    "## Model defined from the scratch"
   ]
  },
  {
   "cell_type": "code",
   "execution_count": null,
   "id": "857b34b7-ddaa-465a-8f3b-69e9e321fd2c",
   "metadata": {
    "colab": {
     "base_uri": "https://localhost:8080/"
    },
    "executionInfo": {
     "elapsed": 984,
     "status": "ok",
     "timestamp": 1653724367127,
     "user": {
      "displayName": "Jesús Peñuela",
      "userId": "04868940139927239067"
     },
     "user_tz": -120
    },
    "id": "857b34b7-ddaa-465a-8f3b-69e9e321fd2c",
    "outputId": "42cd93e6-fe18-40a5-f5a5-5b8afbaa637a"
   },
   "outputs": [
    {
     "name": "stdout",
     "output_type": "stream",
     "text": [
      "Number of units=256\n",
      "Model: \"TFM_LSTMBidiAttentionW100\"\n",
      "__________________________________________________________________________________________________\n",
      " Layer (type)                   Output Shape         Param #     Connected to                     \n",
      "==================================================================================================\n",
      " INPUTS (InputLayer)            [(None, 201, 21)]    0           []                               \n",
      "                                                                                                  \n",
      " LSTM_BI (Bidirectional)        (None, 201, 512)     569344      ['INPUTS[0][0]']                 \n",
      "                                                                                                  \n",
      " dropout (Dropout)              (None, 201, 512)     0           ['LSTM_BI[0][0]']                \n",
      "                                                                                                  \n",
      " dense (Dense)                  (None, 201, 1)       513         ['dropout[0][0]']                \n",
      "                                                                                                  \n",
      " flatten (Flatten)              (None, 201)          0           ['dense[0][0]']                  \n",
      "                                                                                                  \n",
      " activation (Activation)        (None, 201)          0           ['flatten[0][0]']                \n",
      "                                                                                                  \n",
      " repeat_vector (RepeatVector)   (None, 512, 201)     0           ['activation[0][0]']             \n",
      "                                                                                                  \n",
      " permute (Permute)              (None, 201, 512)     0           ['repeat_vector[0][0]']          \n",
      "                                                                                                  \n",
      " multiply (Multiply)            (None, 201, 512)     0           ['LSTM_BI[0][0]',                \n",
      "                                                                  'permute[0][0]']                \n",
      "                                                                                                  \n",
      " lambda (Lambda)                (None, 512)          0           ['multiply[0][0]']               \n",
      "                                                                                                  \n",
      " OUTPUT (Dense)                 (None, 1)            513         ['lambda[0][0]']                 \n",
      "                                                                                                  \n",
      "==================================================================================================\n",
      "Total params: 570,370\n",
      "Trainable params: 570,370\n",
      "Non-trainable params: 0\n",
      "__________________________________________________________________________________________________\n",
      "None\n"
     ]
    }
   ],
   "source": [
    "#MODELOS REDES NEURONALES LSTM CON CAPAS DE ATENCIÓN\n",
    "# Import the libraries required in this example:\n",
    "\n",
    "num_nucleosides = x_train.shape[1]\n",
    "num_tokens = categories_size\n",
    "print(\"Number of units={}\".format(num_lstm_units))\n",
    "#Definimos la estructura con el Functional model\n",
    "inputs = keras.Input(shape=(num_nucleosides,num_tokens), name=\"INPUTS\")\n",
    "lstm_out   = layers.Bidirectional(layers.LSTM(num_lstm_units,return_sequences=True), name=\"LSTM_BI\")(inputs)\n",
    "dropout= layers.Dropout(0.2)(lstm_out)\n",
    "\n",
    "#===============================\n",
    "#METHOD 1: using a custom layer:\n",
    "#===============================\n",
    "#La salida de la capa bidireccional será un de 1 batch=None numero de secuencas, \n",
    "#de 41 nucleosidos(timesteps) de 2xnúmero_unidades=2*546=1092\n",
    "#Es decir (None,41,1092)\n",
    "#---------uncomment here--------------------\n",
    "#a ,att_d = attention()(dropout)\n",
    "#-----------------------------\n",
    "#La capa de atención debe retornarnos un peso para cada hidden state \n",
    "#correspondiente a cada elemento de la secuencia o timestep\n",
    "#es decir, nos debe dar un peso por cada nuceósido, es decir, nos debe dar (41,1)\n",
    "#Pero relamente no queremos esos pesos, sino la suma del vector de hidden states\n",
    "#que es lo que conforma el verdadero contexto, y que tendrá dimensión (None,1,1092)\n",
    "#Esta salida es lo que se llama el \"attention adjusted output state\".\n",
    "#Para ello, nuestra capa de atención debe entrenar (1092,1) pesos, ya que debemos \n",
    "#entrenar un peso por cada dimensión del espacio vectorial del contexto.\n",
    "#(1092,1) x (41,1092) = (41,1) los pesos de atención\n",
    "#(1092,1) son los pesos de la capa.\n",
    "#===============================================================\n",
    "\n",
    "#===============================\n",
    "#METHOD 2: using regular layers:\n",
    "#===============================\n",
    "\n",
    "#---------uncomment here--------------------\n",
    "e=Dense(1, activation='tanh')(dropout)\n",
    "# Now do all the softmax business taking the above o/p\n",
    "e=Flatten()(e)\n",
    "a=Activation('softmax')(e)\n",
    "temp=RepeatVector(2*num_lstm_units)(a)\n",
    "temp=Permute([2, 1])(temp)\n",
    "# multiply weight with lstm layer o/p\n",
    "output = merge.Multiply()([lstm_out, temp])\n",
    "# Get the attention adjusted output state\n",
    "att = Lambda(lambda values: K.sum(values, axis=1))(output)\n",
    "#-----------------------------\n",
    "\n",
    "#===============================================================\n",
    "outputs= layers.Dense(1, activation='sigmoid', name=\"OUTPUT\")(att)\n",
    "#Creamos el modelo\n",
    "model_from_scratch  = keras.Model(inputs=inputs, outputs=outputs, name=model_name)\n",
    "\n",
    "#Mostramos el modelo\n",
    "print(model_from_scratch.summary())"
   ]
  },
  {
   "cell_type": "code",
   "execution_count": null,
   "id": "ddc47876-f37d-49b9-8927-208034317df9",
   "metadata": {
    "id": "ddc47876-f37d-49b9-8927-208034317df9"
   },
   "outputs": [],
   "source": [
    "#Compilation reset all weights\n",
    "model_from_scratch.compile(optimizer=keras.optimizers.Adam(),\n",
    "                           loss     =keras.losses.BinaryCrossentropy(),\n",
    "                           metrics  =[keras.metrics.BinaryAccuracy()])\n",
    "\n",
    "model=model_from_scratch"
   ]
  },
  {
   "cell_type": "markdown",
   "id": "9WyvcKhMJSEE",
   "metadata": {
    "id": "9WyvcKhMJSEE"
   },
   "source": [
    "Recover last model, best model or generate a new model"
   ]
  },
  {
   "cell_type": "code",
   "execution_count": null,
   "id": "643c51c7-f1ee-489b-b306-fbf948a07a51",
   "metadata": {
    "colab": {
     "base_uri": "https://localhost:8080/"
    },
    "executionInfo": {
     "elapsed": 742,
     "status": "ok",
     "timestamp": 1653724367860,
     "user": {
      "displayName": "Jesús Peñuela",
      "userId": "04868940139927239067"
     },
     "user_tz": -120
    },
    "id": "643c51c7-f1ee-489b-b306-fbf948a07a51",
    "outputId": "8ef492da-4bba-4294-8c91-741d20b4397d"
   },
   "outputs": [
    {
     "name": "stdout",
     "output_type": "stream",
     "text": [
      "Selected new untrained model\n",
      "Model: \"TFM_LSTMBidiAttentionW100\"\n",
      "__________________________________________________________________________________________________\n",
      " Layer (type)                   Output Shape         Param #     Connected to                     \n",
      "==================================================================================================\n",
      " INPUTS (InputLayer)            [(None, 201, 21)]    0           []                               \n",
      "                                                                                                  \n",
      " LSTM_BI (Bidirectional)        (None, 201, 512)     569344      ['INPUTS[0][0]']                 \n",
      "                                                                                                  \n",
      " dropout (Dropout)              (None, 201, 512)     0           ['LSTM_BI[0][0]']                \n",
      "                                                                                                  \n",
      " dense (Dense)                  (None, 201, 1)       513         ['dropout[0][0]']                \n",
      "                                                                                                  \n",
      " flatten (Flatten)              (None, 201)          0           ['dense[0][0]']                  \n",
      "                                                                                                  \n",
      " activation (Activation)        (None, 201)          0           ['flatten[0][0]']                \n",
      "                                                                                                  \n",
      " repeat_vector (RepeatVector)   (None, 512, 201)     0           ['activation[0][0]']             \n",
      "                                                                                                  \n",
      " permute (Permute)              (None, 201, 512)     0           ['repeat_vector[0][0]']          \n",
      "                                                                                                  \n",
      " multiply (Multiply)            (None, 201, 512)     0           ['LSTM_BI[0][0]',                \n",
      "                                                                  'permute[0][0]']                \n",
      "                                                                                                  \n",
      " lambda (Lambda)                (None, 512)          0           ['multiply[0][0]']               \n",
      "                                                                                                  \n",
      " OUTPUT (Dense)                 (None, 1)            513         ['lambda[0][0]']                 \n",
      "                                                                                                  \n",
      "==================================================================================================\n",
      "Total params: 570,370\n",
      "Trainable params: 570,370\n",
      "Non-trainable params: 0\n",
      "__________________________________________________________________________________________________\n"
     ]
    }
   ],
   "source": [
    "#Load the trained model from disk\n",
    "import os.path\n",
    "\n",
    "best_model_accuracy =0\n",
    "last_model_accuracy =0\n",
    "\n",
    "if os.path.exists(bestmodelfile):\n",
    "    model = tf.keras.models.load_model(bestmodelfile)\n",
    "    print(\"Testing best model file: {}\".format(bestmodelfile))\n",
    "    results = model.evaluate(validation_generator,verbose=1)\n",
    "    best_model_accuracy = results[1]\n",
    "    print(\"best model accuracy: {}\".format(best_model_accuracy))    \n",
    "\n",
    "if os.path.exists(lastmodelfile):\n",
    "    model = tf.keras.models.load_model(lastmodelfile)\n",
    "    print(\"Testing last complete model file: {}\".format(lastmodelfile))\n",
    "    results = model.evaluate(validation_generator,verbose=1)\n",
    "    last_model_accuracy = results[1]\n",
    "    print(\"last model accuracy: {}\".format(last_model_accuracy))           \n",
    "\n",
    "\n",
    "if best_model_accuracy > last_model_accuracy:\n",
    "   model = tf.keras.models.load_model(bestmodelfile)\n",
    "   print(\"Selected best model saved: {}\".format(bestmodelfile))\n",
    "else:\n",
    "  if last_model_accuracy > best_model_accuracy:\n",
    "     print(\"Selected last model saved: {}\".format(lastmodelfile))\n",
    "  else:\n",
    "     print(\"Selected new untrained model\")\n",
    "\n",
    "\n",
    "# Show the model architecture\n",
    "model.summary()"
   ]
  },
  {
   "cell_type": "code",
   "execution_count": null,
   "id": "644b1c7b-7c45-4483-88fc-e60a012edba0",
   "metadata": {
    "colab": {
     "base_uri": "https://localhost:8080/",
     "height": 1000
    },
    "executionInfo": {
     "elapsed": 19,
     "status": "ok",
     "timestamp": 1653724367860,
     "user": {
      "displayName": "Jesús Peñuela",
      "userId": "04868940139927239067"
     },
     "user_tz": -120
    },
    "id": "644b1c7b-7c45-4483-88fc-e60a012edba0",
    "outputId": "2edbd152-e52f-47f1-f2cc-0694df22d404"
   },
   "outputs": [
    {
     "data": {
      "image/png": "[encoded data removed]",
      "text/plain": [
       "<IPython.core.display.Image object>"
      ]
     },
     "execution_count": 14,
     "metadata": {},
     "output_type": "execute_result"
    }
   ],
   "source": [
    "keras.utils.plot_model(model, show_shapes=True)"
   ]
  },
  {
   "cell_type": "code",
   "execution_count": null,
   "id": "84d28828-8ee5-4bc6-8b97-1e06ab60c519",
   "metadata": {
    "id": "84d28828-8ee5-4bc6-8b97-1e06ab60c519"
   },
   "outputs": [],
   "source": [
    "from keras.callbacks import ModelCheckpoint,EarlyStopping\n",
    "\n",
    "checkpoint = ModelCheckpoint(bestmodelfile, \n",
    "                             monitor='val_loss', \n",
    "                             verbose=1,\n",
    "                             save_best_only=True, \n",
    "                             mode='auto', \n",
    "                             save_freq='epoch')\n",
    "\n",
    "callback=EarlyStopping(monitor='val_loss', \n",
    "                       min_delta=0, \n",
    "                       patience=3, \n",
    "                       verbose=1, \n",
    "                       mode='auto',\n",
    "                       baseline=None, \n",
    "                       restore_best_weights=True)"
   ]
  },
  {
   "cell_type": "code",
   "execution_count": 16,
   "id": "2c010059-0891-4e9e-b052-692596e89876",
   "metadata": {
    "colab": {
     "base_uri": "https://localhost:8080/"
    },
    "executionInfo": {
     "elapsed": 13342554,
     "status": "ok",
     "timestamp": 1653738073063,
     "user": {
      "displayName": "Jesús Peñuela",
      "userId": "04868940139927239067"
     },
     "user_tz": -120
    },
    "id": "2c010059-0891-4e9e-b052-692596e89876",
    "outputId": "e70ce346-7a15-4cb8-e9f9-d1b29ddd6786"
   },
   "outputs": [
    {
     "name": "stdout",
     "output_type": "stream",
     "text": [
      "Epoch 1/20\n",
      "6712/6712 [==============================] - ETA: 0s - loss: 0.4177 - binary_accuracy: 0.8280\n",
      "Epoch 1: val_loss improved from inf to 0.35480, saving model to /content/drive/MyDrive/MODELS/best_model_TFM_LSTMBidiAttentionW100.h5\n",
      "6712/6712 [==============================] - 876s 130ms/step - loss: 0.4177 - binary_accuracy: 0.8280 - val_loss: 0.3548 - val_binary_accuracy: 0.8697\n",
      "Epoch 2/20\n",
      "6712/6712 [==============================] - ETA: 0s - loss: 0.2986 - binary_accuracy: 0.8992\n",
      "Epoch 2: val_loss improved from 0.35480 to 0.27394, saving model to /content/drive/MyDrive/MODELS/best_model_TFM_LSTMBidiAttentionW100.h5\n",
      "6712/6712 [==============================] - 861s 128ms/step - loss: 0.2986 - binary_accuracy: 0.8992 - val_loss: 0.2739 - val_binary_accuracy: 0.9108\n",
      "Epoch 3/20\n",
      "6712/6712 [==============================] - ETA: 0s - loss: 0.2677 - binary_accuracy: 0.9149\n",
      "Epoch 3: val_loss improved from 0.27394 to 0.25243, saving model to /content/drive/MyDrive/MODELS/best_model_TFM_LSTMBidiAttentionW100.h5\n",
      "6712/6712 [==============================] - 851s 127ms/step - loss: 0.2677 - binary_accuracy: 0.9149 - val_loss: 0.2524 - val_binary_accuracy: 0.9207\n",
      "Epoch 4/20\n",
      "6712/6712 [==============================] - ETA: 0s - loss: 0.2520 - binary_accuracy: 0.9215\n",
      "Epoch 4: val_loss improved from 0.25243 to 0.24892, saving model to /content/drive/MyDrive/MODELS/best_model_TFM_LSTMBidiAttentionW100.h5\n",
      "6712/6712 [==============================] - 847s 126ms/step - loss: 0.2520 - binary_accuracy: 0.9215 - val_loss: 0.2489 - val_binary_accuracy: 0.9242\n",
      "Epoch 5/20\n",
      "6712/6712 [==============================] - ETA: 0s - loss: 0.2367 - binary_accuracy: 0.9263\n",
      "Epoch 5: val_loss improved from 0.24892 to 0.22925, saving model to /content/drive/MyDrive/MODELS/best_model_TFM_LSTMBidiAttentionW100.h5\n",
      "6712/6712 [==============================] - 847s 126ms/step - loss: 0.2367 - binary_accuracy: 0.9263 - val_loss: 0.2292 - val_binary_accuracy: 0.9290\n",
      "Epoch 6/20\n",
      "6712/6712 [==============================] - ETA: 0s - loss: 0.2168 - binary_accuracy: 0.9313\n",
      "Epoch 6: val_loss improved from 0.22925 to 0.21451, saving model to /content/drive/MyDrive/MODELS/best_model_TFM_LSTMBidiAttentionW100.h5\n",
      "6712/6712 [==============================] - 851s 127ms/step - loss: 0.2168 - binary_accuracy: 0.9313 - val_loss: 0.2145 - val_binary_accuracy: 0.9289\n",
      "Epoch 7/20\n",
      "6712/6712 [==============================] - ETA: 0s - loss: 0.1986 - binary_accuracy: 0.9372\n",
      "Epoch 7: val_loss improved from 0.21451 to 0.19765, saving model to /content/drive/MyDrive/MODELS/best_model_TFM_LSTMBidiAttentionW100.h5\n",
      "6712/6712 [==============================] - 854s 127ms/step - loss: 0.1986 - binary_accuracy: 0.9372 - val_loss: 0.1976 - val_binary_accuracy: 0.9393\n",
      "Epoch 8/20\n",
      "6712/6712 [==============================] - ETA: 0s - loss: 0.1838 - binary_accuracy: 0.9428\n",
      "Epoch 8: val_loss improved from 0.19765 to 0.19255, saving model to /content/drive/MyDrive/MODELS/best_model_TFM_LSTMBidiAttentionW100.h5\n",
      "6712/6712 [==============================] - 855s 127ms/step - loss: 0.1838 - binary_accuracy: 0.9428 - val_loss: 0.1926 - val_binary_accuracy: 0.9386\n",
      "Epoch 9/20\n",
      "6712/6712 [==============================] - ETA: 0s - loss: 0.1727 - binary_accuracy: 0.9466\n",
      "Epoch 9: val_loss improved from 0.19255 to 0.18613, saving model to /content/drive/MyDrive/MODELS/best_model_TFM_LSTMBidiAttentionW100.h5\n",
      "6712/6712 [==============================] - 861s 128ms/step - loss: 0.1727 - binary_accuracy: 0.9466 - val_loss: 0.1861 - val_binary_accuracy: 0.9415\n",
      "Epoch 10/20\n",
      "6712/6712 [==============================] - ETA: 0s - loss: 0.1634 - binary_accuracy: 0.9495\n",
      "Epoch 10: val_loss improved from 0.18613 to 0.17806, saving model to /content/drive/MyDrive/MODELS/best_model_TFM_LSTMBidiAttentionW100.h5\n",
      "6712/6712 [==============================] - 856s 127ms/step - loss: 0.1634 - binary_accuracy: 0.9495 - val_loss: 0.1781 - val_binary_accuracy: 0.9459\n",
      "Epoch 11/20\n",
      "6712/6712 [==============================] - ETA: 0s - loss: 0.1559 - binary_accuracy: 0.9521\n",
      "Epoch 11: val_loss improved from 0.17806 to 0.17677, saving model to /content/drive/MyDrive/MODELS/best_model_TFM_LSTMBidiAttentionW100.h5\n",
      "6712/6712 [==============================] - 854s 127ms/step - loss: 0.1559 - binary_accuracy: 0.9521 - val_loss: 0.1768 - val_binary_accuracy: 0.9468\n",
      "Epoch 12/20\n",
      "6712/6712 [==============================] - ETA: 0s - loss: 0.1504 - binary_accuracy: 0.9537\n",
      "Epoch 12: val_loss improved from 0.17677 to 0.16980, saving model to /content/drive/MyDrive/MODELS/best_model_TFM_LSTMBidiAttentionW100.h5\n",
      "6712/6712 [==============================] - 856s 127ms/step - loss: 0.1504 - binary_accuracy: 0.9537 - val_loss: 0.1698 - val_binary_accuracy: 0.9484\n",
      "Epoch 13/20\n",
      "6712/6712 [==============================] - ETA: 0s - loss: 0.1439 - binary_accuracy: 0.9553\n",
      "Epoch 13: val_loss improved from 0.16980 to 0.16645, saving model to /content/drive/MyDrive/MODELS/best_model_TFM_LSTMBidiAttentionW100.h5\n",
      "6712/6712 [==============================] - 860s 128ms/step - loss: 0.1439 - binary_accuracy: 0.9553 - val_loss: 0.1665 - val_binary_accuracy: 0.9489\n",
      "Epoch 14/20\n",
      "6712/6712 [==============================] - ETA: 0s - loss: 0.1391 - binary_accuracy: 0.9562\n",
      "Epoch 14: val_loss did not improve from 0.16645\n",
      "6712/6712 [==============================] - 859s 128ms/step - loss: 0.1391 - binary_accuracy: 0.9562 - val_loss: 0.1681 - val_binary_accuracy: 0.9498\n",
      "Epoch 15/20\n",
      "6712/6712 [==============================] - ETA: 0s - loss: 0.1334 - binary_accuracy: 0.9580\n",
      "Epoch 15: val_loss did not improve from 0.16645\n",
      "6712/6712 [==============================] - 859s 128ms/step - loss: 0.1334 - binary_accuracy: 0.9580 - val_loss: 0.1674 - val_binary_accuracy: 0.9498\n",
      "Epoch 16/20\n",
      "6712/6712 [==============================] - ETA: 0s - loss: 0.1316 - binary_accuracy: 0.9583\n",
      "Epoch 16: val_loss did not improve from 0.16645\n",
      "Restoring model weights from the end of the best epoch: 13.\n",
      "6712/6712 [==============================] - 857s 128ms/step - loss: 0.1316 - binary_accuracy: 0.9583 - val_loss: 0.1683 - val_binary_accuracy: 0.9502\n",
      "Epoch 16: early stopping\n"
     ]
    }
   ],
   "source": [
    "with tf.device(device_name):#Use GPU if available\n",
    "    history=model.fit(training_generator,epochs=n_epochs,\n",
    "                      validation_data=validation_generator,\n",
    "                      callbacks=[checkpoint,callback],verbose=1)"
   ]
  },
  {
   "cell_type": "code",
   "execution_count": 17,
   "id": "c8edd824-ea63-46fa-a917-5e41dbd3422c",
   "metadata": {
    "colab": {
     "base_uri": "https://localhost:8080/"
    },
    "executionInfo": {
     "elapsed": 13,
     "status": "ok",
     "timestamp": 1653738073064,
     "user": {
      "displayName": "Jesús Peñuela",
      "userId": "04868940139927239067"
     },
     "user_tz": -120
    },
    "id": "c8edd824-ea63-46fa-a917-5e41dbd3422c",
    "outputId": "73b61c51-2cc4-4312-8b4e-74b79434de1d"
   },
   "outputs": [
    {
     "name": "stdout",
     "output_type": "stream",
     "text": [
      "Trained epochs: 16 of 20\n"
     ]
    }
   ],
   "source": [
    "#We always save the last model.\n",
    "#Last model can be triggered by early stopping\n",
    "n_epochs_trained = len(history.history['loss'])\n",
    "print(\"Trained epochs: {} of {}\".format(n_epochs_trained,n_epochs))\n",
    "model.save(lastmodelfile)    "
   ]
  },
  {
   "cell_type": "code",
   "execution_count": 18,
   "id": "634fb710-78e7-4734-b41f-eccd0a9ff589",
   "metadata": {
    "colab": {
     "base_uri": "https://localhost:8080/",
     "height": 551
    },
    "executionInfo": {
     "elapsed": 555,
     "status": "ok",
     "timestamp": 1653738073616,
     "user": {
      "displayName": "Jesús Peñuela",
      "userId": "04868940139927239067"
     },
     "user_tz": -120
    },
    "id": "634fb710-78e7-4734-b41f-eccd0a9ff589",
    "outputId": "7777b369-2a1c-4c32-8827-720f1d5ea74d"
   },
   "outputs": [
    {
     "data": {
      "image/png": "[encoded data removed]",
      "text/plain": [
       "<Figure size 432x288 with 1 Axes>"
      ]
     },
     "metadata": {
      "needs_background": "light"
     },
     "output_type": "display_data"
    },
    {
     "data": {
      "image/png": "[encoded data removed]",
      "text/plain": [
       "<Figure size 432x288 with 1 Axes>"
      ]
     },
     "metadata": {
      "needs_background": "light"
     },
     "output_type": "display_data"
    }
   ],
   "source": [
    "#PLOT ACCURACY AND LOSS\n",
    "\n",
    "acc = history.history['binary_accuracy']\n",
    "val_acc = history.history['val_binary_accuracy']\n",
    "loss = history.history['loss']\n",
    "val_loss = history.history['val_loss']\n",
    "\n",
    "epochs = range(1, len(acc) + 1)\n",
    "\n",
    "plt.plot(epochs, acc, 'bo', label='Training acc')\n",
    "plt.plot(epochs, val_acc, 'b', label='Validation acc')\n",
    "plt.title('Training and validation accuracy')\n",
    "plt.legend()\n",
    "plt.figure()\n",
    "plt.plot(epochs, loss, 'bo', label='Training loss')\n",
    "plt.plot(epochs, val_loss, 'b', label='Validation loss')\n",
    "plt.title('Training and validation loss')\n",
    "plt.legend()\n",
    "plt.show()"
   ]
  },
  {
   "cell_type": "markdown",
   "id": "c366e2cf-105b-4007-8732-9c3f330f9cb2",
   "metadata": {
    "id": "c366e2cf-105b-4007-8732-9c3f330f9cb2",
    "outputId": "c72777c6-5a20-481f-c89e-89ed00121599"
   },
   "source": [
    "We recover the best model saved."
   ]
  },
  {
   "cell_type": "code",
   "execution_count": 19,
   "id": "d657a2d3-548a-4475-a171-831406ed1140",
   "metadata": {
    "executionInfo": {
     "elapsed": 1121,
     "status": "ok",
     "timestamp": 1653738074736,
     "user": {
      "displayName": "Jesús Peñuela",
      "userId": "04868940139927239067"
     },
     "user_tz": -120
    },
    "id": "d657a2d3-548a-4475-a171-831406ed1140"
   },
   "outputs": [],
   "source": [
    "if os.path.exists(bestmodelfile):\n",
    "    model = tf.keras.models.load_model(bestmodelfile)"
   ]
  },
  {
   "cell_type": "markdown",
   "id": "4a11909c-fe48-433d-a1ab-b038b301bc16",
   "metadata": {
    "id": "4a11909c-fe48-433d-a1ab-b038b301bc16",
    "outputId": "c72777c6-5a20-481f-c89e-89ed00121599"
   },
   "source": [
    "We evaluate the best model on validation data."
   ]
  },
  {
   "cell_type": "code",
   "execution_count": 26,
   "id": "4bae3e40-6872-49cd-95c2-91b624ee4193",
   "metadata": {
    "colab": {
     "base_uri": "https://localhost:8080/"
    },
    "executionInfo": {
     "elapsed": 127501,
     "status": "ok",
     "timestamp": 1653739604276,
     "user": {
      "displayName": "Jesús Peñuela",
      "userId": "04868940139927239067"
     },
     "user_tz": -120
    },
    "id": "4bae3e40-6872-49cd-95c2-91b624ee4193",
    "outputId": "ae2480a9-608e-43d0-f03c-ed4564c0e650"
   },
   "outputs": [
    {
     "name": "stdout",
     "output_type": "stream",
     "text": [
      "Evaluate models on validation data\n",
      "1438/1438 [==============================] - 127s 88ms/step - loss: 0.1665 - binary_accuracy: 0.9489\n",
      "Accuracy on validation data: 0.949\n",
      "Loss on validation data: 0.166\n"
     ]
    }
   ],
   "source": [
    "#EVALUATE TEST DATASET\n",
    "print(\"Evaluate models on validation data\")\n",
    "results_model = model.evaluate(validation_generator,verbose=1)\n",
    "print ('Accuracy on validation data:',round(results_model[1],3))\n",
    "print ('Loss on validation data:',round(results_model[0],3))"
   ]
  },
  {
   "cell_type": "markdown",
   "id": "81704c88-897a-4f89-b1f5-80f6a5f3d364",
   "metadata": {
    "id": "81704c88-897a-4f89-b1f5-80f6a5f3d364",
    "outputId": "205c012b-84d2-4f51-c96a-398417f7e61f"
   },
   "source": [
    "We make predictions on test data, never used during training nor validation"
   ]
  },
  {
   "cell_type": "code",
   "execution_count": 27,
   "id": "5yS8DfqJkQml",
   "metadata": {
    "colab": {
     "base_uri": "https://localhost:8080/"
    },
    "executionInfo": {
     "elapsed": 347713,
     "status": "ok",
     "timestamp": 1653740053213,
     "user": {
      "displayName": "Jesús Peñuela",
      "userId": "04868940139927239067"
     },
     "user_tz": -120
    },
    "id": "5yS8DfqJkQml",
    "outputId": "e9dfd67c-eea9-4ff9-f192-5589940640ee"
   },
   "outputs": [
    {
     "name": "stdout",
     "output_type": "stream",
     "text": [
      "Make predictions on test data\n",
      "46030/46030 [==============================] - 347s 8ms/step\n"
     ]
    }
   ],
   "source": [
    "#PREDICTIONS\n",
    "print(\"Make predictions on test data\")\n",
    "model_prediction = model.predict(test_generator,verbose=1)\n",
    "model_prediction_binary = (model_prediction > 0.5).astype(\"int32\")"
   ]
  },
  {
   "cell_type": "code",
   "execution_count": 28,
   "id": "SzwA1Wk8kfuA",
   "metadata": {
    "colab": {
     "base_uri": "https://localhost:8080/"
    },
    "executionInfo": {
     "elapsed": 264,
     "status": "ok",
     "timestamp": 1653740067480,
     "user": {
      "displayName": "Jesús Peñuela",
      "userId": "04868940139927239067"
     },
     "user_tz": -120
    },
    "id": "SzwA1Wk8kfuA",
    "outputId": "30b8a643-5c22-4b16-9899-58b35ae862d7"
   },
   "outputs": [
    {
     "name": "stdout",
     "output_type": "stream",
     "text": [
      "(46030, 201)\n",
      "(46030,)\n",
      "(46030, 1)\n",
      "(46030, 1)\n"
     ]
    }
   ],
   "source": [
    "print(x_test.shape)\n",
    "print(y_test.shape)\n",
    "print(model_prediction.shape)\n",
    "print(model_prediction_binary.shape)"
   ]
  },
  {
   "cell_type": "code",
   "execution_count": 46,
   "id": "QupC8jXJklJs",
   "metadata": {
    "colab": {
     "base_uri": "https://localhost:8080/"
    },
    "executionInfo": {
     "elapsed": 247,
     "status": "ok",
     "timestamp": 1653740352914,
     "user": {
      "displayName": "Jesús Peñuela",
      "userId": "04868940139927239067"
     },
     "user_tz": -120
    },
    "id": "QupC8jXJklJs",
    "outputId": "f14993b3-b205-41d1-a63e-0286afe01474"
   },
   "outputs": [
    {
     "name": "stdout",
     "output_type": "stream",
     "text": [
      "MODEL TFM_LSTMBidiAttentionW100\n",
      "---------------------------------\n",
      "Kappa: 0.897\n",
      "              precision    recall  f1-score   support\n",
      "\n",
      "           0       0.98      0.92      0.95     23045\n",
      "           1       0.92      0.98      0.95     22985\n",
      "\n",
      "    accuracy                           0.95     46030\n",
      "   macro avg       0.95      0.95      0.95     46030\n",
      "weighted avg       0.95      0.95      0.95     46030\n",
      "\n"
     ]
    }
   ],
   "source": [
    "model_prediction_binary = (model_prediction > 0.5).astype(\"int32\")\n",
    "#METRICS QUALITY CLASSIFICATION\n",
    "print(\"MODEL \"+model_name+\"\\n---------------------------------\")\n",
    "kappa = cohen_kappa_score(y_test, model_prediction_binary)\n",
    "print ('Kappa:',round(kappa,3))\n",
    "print(classification_report(y_test, model_prediction_binary))"
   ]
  },
  {
   "cell_type": "code",
   "execution_count": 47,
   "id": "QMOXhjUHkphL",
   "metadata": {
    "colab": {
     "base_uri": "https://localhost:8080/",
     "height": 307
    },
    "executionInfo": {
     "elapsed": 788,
     "status": "ok",
     "timestamp": 1653740356874,
     "user": {
      "displayName": "Jesús Peñuela",
      "userId": "04868940139927239067"
     },
     "user_tz": -120
    },
    "id": "QMOXhjUHkphL",
    "outputId": "5b48e581-6b6c-4abd-c9db-85307507f7a6"
   },
   "outputs": [
    {
     "data": {
      "text/plain": [
       "Text(80.90000000000006, 0.5, 'Truth Editing')"
      ]
     },
     "execution_count": 47,
     "metadata": {},
     "output_type": "execute_result"
    },
    {
     "data": {
      "image/png": "[encoded data removed]",
      "text/plain": [
       "<Figure size 432x288 with 2 Axes>"
      ]
     },
     "metadata": {},
     "output_type": "display_data"
    }
   ],
   "source": [
    "from sklearn.metrics import confusion_matrix, precision_score, cohen_kappa_score, classification_report\n",
    "import seaborn as sns; sns.set()\n",
    "# PLOT CONFUSION MATRIX\n",
    "plt.figure()\n",
    "cm = confusion_matrix(y_test,model_prediction_binary)\n",
    "sns.heatmap(cm, square=True, annot=True, fmt='d', cbar=True,cmap=\"Blues\")\n",
    "plt.xlabel('Predicted Model '+ model_name)\n",
    "plt.ylabel('Truth Editing')"
   ]
  },
  {
   "cell_type": "code",
   "execution_count": 48,
   "id": "c1ff605a-c7fd-4160-ba29-a2e88cd1829e",
   "metadata": {
    "colab": {
     "base_uri": "https://localhost:8080/",
     "height": 319
    },
    "executionInfo": {
     "elapsed": 533,
     "status": "ok",
     "timestamp": 1653740360685,
     "user": {
      "displayName": "Jesús Peñuela",
      "userId": "04868940139927239067"
     },
     "user_tz": -120
    },
    "id": "c1ff605a-c7fd-4160-ba29-a2e88cd1829e",
    "outputId": "f3c1627e-957d-41ef-d6d7-ce96593021c6"
   },
   "outputs": [
    {
     "name": "stdout",
     "output_type": "stream",
     "text": [
      "AUC: 0.97\n"
     ]
    },
    {
     "data": {
      "image/png": "[encoded data removed]",
      "text/plain": [
       "<Figure size 432x288 with 1 Axes>"
      ]
     },
     "metadata": {},
     "output_type": "display_data"
    }
   ],
   "source": [
    "from sklearn.metrics import roc_curve\n",
    "from sklearn.metrics import roc_auc_score\n",
    "\n",
    "def plot_roc_curve(fpr, tpr):\n",
    "    plt.plot(fpr, tpr, color=\"orange\", label=\"ROC\")\n",
    "    plt.plot([0, 1], [0, 1], color=\"darkblue\", linestyle=\"--\")\n",
    "    plt.xlabel('False Positive Rate')\n",
    "    plt.ylabel('True Positive Rate')\n",
    "    plt.title('Receiver Operating Characteristic (ROC) Curve')\n",
    "    plt.legend()\n",
    "    plt.show()\n",
    "\n",
    "auc = roc_auc_score(y_test, model_prediction)\n",
    "print('AUC: %.2f' % auc)\n",
    "fpr, tpr, thresholds = roc_curve(y_test, model_prediction)\n",
    "plot_roc_curve(fpr, tpr)\n"
   ]
  }
 ],
 "metadata": {
  "accelerator": "GPU",
  "colab": {
   "collapsed_sections": [],
   "machine_shape": "hm",
   "name": "TFM_LSTMBidiAttentionW100.ipynb",
   "provenance": []
  },
  "kernelspec": {
   "display_name": "Python 3 (ipykernel)",
   "language": "python",
   "name": "python3"
  },
  "language_info": {
   "codemirror_mode": {
    "name": "ipython",
    "version": 3
   },
   "file_extension": ".py",
   "mimetype": "text/x-python",
   "name": "python",
   "nbconvert_exporter": "python",
   "pygments_lexer": "ipython3",
   "version": "3.8.12"
  }
 },
 "nbformat": 4,
 "nbformat_minor": 5
}
