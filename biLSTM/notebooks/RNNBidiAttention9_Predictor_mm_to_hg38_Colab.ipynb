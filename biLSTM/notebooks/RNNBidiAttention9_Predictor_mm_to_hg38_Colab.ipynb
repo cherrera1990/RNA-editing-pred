{
 "cells": [
  {
   "cell_type": "markdown",
   "id": "ca661a73-de2d-4079-8138-914bab318805",
   "metadata": {
    "id": "ca661a73-de2d-4079-8138-914bab318805"
   },
   "source": [
    "# PREDICTOR FOR HUMAN SAMPLES WITH MOUSE MODEL\n",
    "\n",
    "\n",
    "Training starting from best saved model"
   ]
  },
  {
   "cell_type": "code",
   "execution_count": 1,
   "id": "c9f60581-a961-4284-9b0b-3867f3b54213",
   "metadata": {
    "executionInfo": {
     "elapsed": 2514,
     "status": "ok",
     "timestamp": 1658921862466,
     "user": {
      "displayName": "Jesús Peñuela",
      "userId": "04868940139927239067"
     },
     "user_tz": -120
    },
    "id": "c9f60581-a961-4284-9b0b-3867f3b54213"
   },
   "outputs": [],
   "source": [
    "import os\n",
    "import numpy as np\n",
    "import pandas as pd\n",
    "import matplotlib.pyplot as plt\n",
    "from sklearn.model_selection import train_test_split\n",
    "import tensorflow as tf\n",
    "from tensorflow import keras\n",
    "from tensorflow.keras import layers\n",
    "from sklearn.metrics import confusion_matrix, precision_score, cohen_kappa_score, classification_report\n",
    "import seaborn as sns; sns.set()\n",
    "from keras import backend as K\n"
   ]
  },
  {
   "cell_type": "code",
   "execution_count": 2,
   "id": "93f65f3a-3262-4f2c-a9c8-18003b5f4b2b",
   "metadata": {
    "colab": {
     "base_uri": "https://localhost:8080/"
    },
    "executionInfo": {
     "elapsed": 1721,
     "status": "ok",
     "timestamp": 1658921864185,
     "user": {
      "displayName": "Jesús Peñuela",
      "userId": "04868940139927239067"
     },
     "user_tz": -120
    },
    "id": "93f65f3a-3262-4f2c-a9c8-18003b5f4b2b",
    "outputId": "7ca9f4cd-d323-4742-e5a9-f51d50ca822e"
   },
   "outputs": [
    {
     "name": "stdout",
     "output_type": "stream",
     "text": [
      "Running on CoLab\n",
      "Num GPUs Available: 1\n",
      "Found GPU at: /device:GPU:0\n",
      "Wed Jul 27 11:37:43 2022       \n",
      "+-----------------------------------------------------------------------------+\n",
      "| NVIDIA-SMI 460.32.03    Driver Version: 460.32.03    CUDA Version: 11.2     |\n",
      "|-------------------------------+----------------------+----------------------+\n",
      "| GPU  Name        Persistence-M| Bus-Id        Disp.A | Volatile Uncorr. ECC |\n",
      "| Fan  Temp  Perf  Pwr:Usage/Cap|         Memory-Usage | GPU-Util  Compute M. |\n",
      "|                               |                      |               MIG M. |\n",
      "|===============================+======================+======================|\n",
      "|   0  Tesla T4            Off  | 00000000:00:04.0 Off |                    0 |\n",
      "| N/A   62C    P0    29W /  70W |    284MiB / 15109MiB |      2%      Default |\n",
      "|                               |                      |                  N/A |\n",
      "+-------------------------------+----------------------+----------------------+\n",
      "                                                                               \n",
      "+-----------------------------------------------------------------------------+\n",
      "| Processes:                                                                  |\n",
      "|  GPU   GI   CI        PID   Type   Process name                  GPU Memory |\n",
      "|        ID   ID                                                   Usage      |\n",
      "|=============================================================================|\n",
      "+-----------------------------------------------------------------------------+\n"
     ]
    }
   ],
   "source": [
    "#CHECK GOOGLE COLAB\n",
    "GOOGLE_COLAB=False\n",
    "if 'google.colab' in str(get_ipython()):\n",
    "  GOOGLE_COLAB=True  \n",
    "  print('Running on CoLab')\n",
    "else:\n",
    "  print('Not running on CoLab')\n",
    "\n",
    "#CHECK GPU\n",
    "device_name = tf.test.gpu_device_name()\n",
    "if device_name != '/device:GPU:0':\n",
    "  print('GPU device not found')\n",
    "else:\n",
    "  print('Num GPUs Available: {}'.format(len(tf.config.list_physical_devices('GPU'))))\n",
    "  print('Found GPU at: {}'.format(device_name))\n",
    "  gpu_info = !nvidia-smi\n",
    "  gpu_info = '\\n'.join(gpu_info)\n",
    "  if gpu_info.find('failed') >= 0:\n",
    "     print('Not connected to a GPU')\n",
    "  else:\n",
    "     print(gpu_info)\n",
    "\n",
    "\n",
    "#INIT \n",
    "data_dir=''\n",
    "fname=''\n",
    "models_dir=''"
   ]
  },
  {
   "cell_type": "code",
   "execution_count": 3,
   "id": "1f3ca1ff-e53a-4ed7-9fc0-093a752b930a",
   "metadata": {
    "colab": {
     "base_uri": "https://localhost:8080/"
    },
    "executionInfo": {
     "elapsed": 1397,
     "status": "ok",
     "timestamp": 1658921865579,
     "user": {
      "displayName": "Jesús Peñuela",
      "userId": "04868940139927239067"
     },
     "user_tz": -120
    },
    "id": "1f3ca1ff-e53a-4ed7-9fc0-093a752b930a",
    "outputId": "331af7f9-1c6a-4d38-8da5-fe75cf429993"
   },
   "outputs": [
    {
     "name": "stdout",
     "output_type": "stream",
     "text": [
      "Drive already mounted at /content/drive; to attempt to forcibly remount, call drive.mount(\"/content/drive\", force_remount=True).\n"
     ]
    }
   ],
   "source": [
    "########################################\n",
    "# PARAMS\n",
    "########################################\n",
    "padding=True\n",
    "model_name = 'TFM_LSTMBidiAttention_MM_ALLMM'\n",
    "fname = 'hg38_RS_DL_ROBUST_Pad_W50_BALANCED_1_1_CODED2CH_SMALL.csv'\n",
    "\n",
    "numchannels=2\n",
    "\n",
    "if numchannels==3:\n",
    "   categories_size=60\n",
    "else:\n",
    "   categories_size=20\n",
    "\n",
    "if padding==True:\n",
    "    categories_size=categories_size+1\n",
    "\n",
    "if GOOGLE_COLAB==False:\n",
    "    data_dir = '../data/datasets/ALL_HG38/W50'\n",
    "    models_dir = './SAVED_MODELS'\n",
    "\n",
    "else:\n",
    "    from google.colab import drive\n",
    "    drive.mount('/content/drive')\n",
    "    import sys\n",
    "    sys.path.insert(0,'/content/drive/MyDrive/ColabNotebooks')    \n",
    "    data_dir  = '/content/drive/MyDrive/DATASETS/ALL_HG38/W50'\n",
    "    models_dir= '/content/drive/MyDrive/MODELS'\n",
    "#########################################"
   ]
  },
  {
   "cell_type": "code",
   "execution_count": 4,
   "id": "0f79bb30-9305-45f7-a55d-011492979b15",
   "metadata": {
    "colab": {
     "base_uri": "https://localhost:8080/"
    },
    "executionInfo": {
     "elapsed": 3,
     "status": "ok",
     "timestamp": 1658921865580,
     "user": {
      "displayName": "Jesús Peñuela",
      "userId": "04868940139927239067"
     },
     "user_tz": -120
    },
    "id": "0f79bb30-9305-45f7-a55d-011492979b15",
    "outputId": "4a0fd944-1df9-4c45-92b1-415a5584e468"
   },
   "outputs": [
    {
     "name": "stdout",
     "output_type": "stream",
     "text": [
      "MODEL FILE: /content/drive/MyDrive/MODELS/TFM_LSTMBidiAttention_MM_ALLMM.h5\n"
     ]
    }
   ],
   "source": [
    "saved_model =  model_name+'.h5'\n",
    "savedmodelfile = os.path.join(models_dir, saved_model)\n",
    "print(\"MODEL FILE: {}\".format(savedmodelfile))"
   ]
  },
  {
   "cell_type": "code",
   "execution_count": 5,
   "id": "74b070a2-37d8-4d03-8fa5-97f1ea9c7d1d",
   "metadata": {
    "colab": {
     "base_uri": "https://localhost:8080/"
    },
    "executionInfo": {
     "elapsed": 15790,
     "status": "ok",
     "timestamp": 1658921881368,
     "user": {
      "displayName": "Jesús Peñuela",
      "userId": "04868940139927239067"
     },
     "user_tz": -120
    },
    "id": "74b070a2-37d8-4d03-8fa5-97f1ea9c7d1d",
    "outputId": "797f808b-b803-4a8d-f44a-d8b349b3be79"
   },
   "outputs": [
    {
     "name": "stdout",
     "output_type": "stream",
     "text": [
      "DATASET: /content/drive/MyDrive/DATASETS/ALL_HG38/W50/hg38_RS_DL_ROBUST_Pad_W50_BALANCED_1_1_CODED2CH_SMALL.csv\n",
      "shape dataraw=(798236, 104)\n"
     ]
    }
   ],
   "source": [
    "datafile = os.path.join(data_dir, fname)\n",
    "print(\"DATASET: {}\".format(datafile))\n",
    "dataraw = pd.read_csv(datafile,sep=\";\")\n",
    "print(\"shape dataraw={}\".format(dataraw.shape))"
   ]
  },
  {
   "cell_type": "code",
   "execution_count": 6,
   "id": "72bd0495-977b-409e-a4d4-dc6234d5d900",
   "metadata": {
    "colab": {
     "base_uri": "https://localhost:8080/"
    },
    "executionInfo": {
     "elapsed": 970,
     "status": "ok",
     "timestamp": 1658921882327,
     "user": {
      "displayName": "Jesús Peñuela",
      "userId": "04868940139927239067"
     },
     "user_tz": -120
    },
    "id": "72bd0495-977b-409e-a4d4-dc6234d5d900",
    "outputId": "047c00c2-58fe-44eb-826d-1b1b2cfb2119"
   },
   "outputs": [
    {
     "name": "stdout",
     "output_type": "stream",
     "text": [
      "fraction_to_test=0.1\n",
      "x_test.shape=(79824, 101)\n",
      "y_test.shape=(79824,)\n",
      "TEST LABELS:\n",
      "1    39920\n",
      "0    39904\n",
      "Name: EDITING, dtype: int64\n"
     ]
    }
   ],
   "source": [
    "#dataset=dataraw[dataraw.columns[3:len(dataraw.columns)]]\n",
    "X=dataraw.iloc[:,3:]\n",
    "Y=dataraw['EDITING']\n",
    "\n",
    "random_seed=2022\n",
    "fraction_to_test=0.1\n",
    "print(\"fraction_to_test={}\".format(fraction_to_test))\n",
    "x_out, x_test, y_out, y_test = train_test_split(X, Y, test_size=fraction_to_test, random_state=random_seed)\n",
    "\n",
    "print(\"x_test.shape={}\".format(x_test.shape))\n",
    "print(\"y_test.shape={}\".format(y_test.shape))\n",
    "print(\"TEST LABELS:\")\n",
    "print(y_test.value_counts())\n",
    "\n",
    "#free memory\n",
    "del dataraw\n",
    "del X\n",
    "del Y"
   ]
  },
  {
   "cell_type": "markdown",
   "id": "9WyvcKhMJSEE",
   "metadata": {
    "id": "9WyvcKhMJSEE"
   },
   "source": [
    "Recover saved model"
   ]
  },
  {
   "cell_type": "code",
   "execution_count": 7,
   "id": "643c51c7-f1ee-489b-b306-fbf948a07a51",
   "metadata": {
    "colab": {
     "base_uri": "https://localhost:8080/"
    },
    "executionInfo": {
     "elapsed": 800,
     "status": "ok",
     "timestamp": 1658921883126,
     "user": {
      "displayName": "Jesús Peñuela",
      "userId": "04868940139927239067"
     },
     "user_tz": -120
    },
    "id": "643c51c7-f1ee-489b-b306-fbf948a07a51",
    "outputId": "13484e94-71c0-4197-a11d-da076921760a"
   },
   "outputs": [
    {
     "name": "stdout",
     "output_type": "stream",
     "text": [
      "Model: \"TFM_LSTMBidiAttention_MM_ALLMM\"\n",
      "__________________________________________________________________________________________________\n",
      " Layer (type)                   Output Shape         Param #     Connected to                     \n",
      "==================================================================================================\n",
      " INPUTS (InputLayer)            [(None, 101, 21)]    0           []                               \n",
      "                                                                                                  \n",
      " LSTM_BI (Bidirectional)        (None, 101, 512)     569344      ['INPUTS[0][0]']                 \n",
      "                                                                                                  \n",
      " dropout (Dropout)              (None, 101, 512)     0           ['LSTM_BI[0][0]']                \n",
      "                                                                                                  \n",
      " dense (Dense)                  (None, 101, 1)       513         ['dropout[0][0]']                \n",
      "                                                                                                  \n",
      " flatten (Flatten)              (None, 101)          0           ['dense[0][0]']                  \n",
      "                                                                                                  \n",
      " activation (Activation)        (None, 101)          0           ['flatten[0][0]']                \n",
      "                                                                                                  \n",
      " repeat_vector (RepeatVector)   (None, 512, 101)     0           ['activation[0][0]']             \n",
      "                                                                                                  \n",
      " permute (Permute)              (None, 101, 512)     0           ['repeat_vector[0][0]']          \n",
      "                                                                                                  \n",
      " multiply (Multiply)            (None, 101, 512)     0           ['dropout[0][0]',                \n",
      "                                                                  'permute[0][0]']                \n",
      "                                                                                                  \n",
      " lambda (Lambda)                (None, 512)          0           ['multiply[0][0]']               \n",
      "                                                                                                  \n",
      " OUTPUT (Dense)                 (None, 1)            513         ['lambda[0][0]']                 \n",
      "                                                                                                  \n",
      "==================================================================================================\n",
      "Total params: 570,370\n",
      "Trainable params: 570,370\n",
      "Non-trainable params: 0\n",
      "__________________________________________________________________________________________________\n"
     ]
    }
   ],
   "source": [
    "#Load the trained model from disk\n",
    "import os.path\n",
    "\n",
    "if os.path.exists(savedmodelfile):\n",
    "    model = tf.keras.models.load_model(savedmodelfile)\n",
    "    # Show the model architecture\n",
    "    model.summary()\n",
    "else:\n",
    "    print(\"ERROR model {} nor found \".format(savedmodelfile))           \n",
    "\n"
   ]
  },
  {
   "cell_type": "code",
   "execution_count": 8,
   "id": "b2dada75-39d9-45ef-8a7f-d83b57619438",
   "metadata": {
    "colab": {
     "base_uri": "https://localhost:8080/"
    },
    "executionInfo": {
     "elapsed": 870105,
     "status": "ok",
     "timestamp": 1658922753229,
     "user": {
      "displayName": "Jesús Peñuela",
      "userId": "04868940139927239067"
     },
     "user_tz": -120
    },
    "id": "b2dada75-39d9-45ef-8a7f-d83b57619438",
    "outputId": "4db28bbe-1e3c-476b-f453-a75459189274"
   },
   "outputs": [
    {
     "name": "stdout",
     "output_type": "stream",
     "text": [
      "79824/79824 [==============================] - 870s 11ms/step\n"
     ]
    }
   ],
   "source": [
    "#PREDICTIONS\n",
    "#DataGenerator converts on the fly from raw data to one-hot\n",
    "from RNAEd import DataGenerator\n",
    "\n",
    "num_nucleosides = x_test.shape[1]\n",
    "num_tokens = categories_size\n",
    "\n",
    "pred_generator = DataGenerator(x_test, y_test,  batch_size=1,seq_size=num_nucleosides, categories_size=categories_size, shuffle=False )\n",
    "model_prediction = model.predict(pred_generator,verbose=1)\n",
    "model_prediction_binary = (model_prediction > 0.5).astype(\"int32\")"
   ]
  },
  {
   "cell_type": "code",
   "execution_count": 9,
   "id": "d08289e1-32e4-4290-82c7-b87718f230a9",
   "metadata": {
    "colab": {
     "base_uri": "https://localhost:8080/"
    },
    "executionInfo": {
     "elapsed": 6,
     "status": "ok",
     "timestamp": 1658922753230,
     "user": {
      "displayName": "Jesús Peñuela",
      "userId": "04868940139927239067"
     },
     "user_tz": -120
    },
    "id": "d08289e1-32e4-4290-82c7-b87718f230a9",
    "outputId": "f351a6fd-6b40-4b11-d1e8-8f6dfef55243"
   },
   "outputs": [
    {
     "name": "stdout",
     "output_type": "stream",
     "text": [
      "(79824, 101)\n",
      "(79824,)\n",
      "(79824, 1)\n",
      "(79824, 1)\n"
     ]
    }
   ],
   "source": [
    "print(x_test.shape)\n",
    "print(y_test.shape)\n",
    "print(model_prediction.shape)\n",
    "print(model_prediction_binary.shape)"
   ]
  },
  {
   "cell_type": "code",
   "execution_count": 10,
   "id": "a9296b0f-efc6-4133-aaff-949a4159e5f7",
   "metadata": {
    "colab": {
     "base_uri": "https://localhost:8080/"
    },
    "executionInfo": {
     "elapsed": 547,
     "status": "ok",
     "timestamp": 1658922753773,
     "user": {
      "displayName": "Jesús Peñuela",
      "userId": "04868940139927239067"
     },
     "user_tz": -120
    },
    "id": "a9296b0f-efc6-4133-aaff-949a4159e5f7",
    "outputId": "caba3e8f-7ad3-4c72-d81b-70837a0af19c"
   },
   "outputs": [
    {
     "name": "stdout",
     "output_type": "stream",
     "text": [
      "MODEL TFM_LSTMBidiAttention_MM_ALLMM\n",
      "---------------------------------\n",
      "Kappa: 0.513\n",
      "              precision    recall  f1-score   support\n",
      "\n",
      "           0       0.69      0.92      0.79     39904\n",
      "           1       0.88      0.60      0.71     39920\n",
      "\n",
      "    accuracy                           0.76     79824\n",
      "   macro avg       0.79      0.76      0.75     79824\n",
      "weighted avg       0.79      0.76      0.75     79824\n",
      "\n"
     ]
    }
   ],
   "source": [
    "#METRICS QUALITY CLASSIFICATION\n",
    "\n",
    "print(\"MODEL \"+model_name+\"\\n---------------------------------\")\n",
    "kappa = cohen_kappa_score(y_test, model_prediction_binary)\n",
    "print ('Kappa:',round(kappa,3))\n",
    "print(classification_report(y_test, model_prediction_binary))"
   ]
  },
  {
   "cell_type": "code",
   "execution_count": 11,
   "id": "686f01e9-daf3-43f6-bd2f-d1fee30059cb",
   "metadata": {
    "colab": {
     "base_uri": "https://localhost:8080/",
     "height": 346
    },
    "executionInfo": {
     "elapsed": 9,
     "status": "ok",
     "timestamp": 1658922753774,
     "user": {
      "displayName": "Jesús Peñuela",
      "userId": "04868940139927239067"
     },
     "user_tz": -120
    },
    "id": "686f01e9-daf3-43f6-bd2f-d1fee30059cb",
    "outputId": "efc123c2-73e2-472b-eb22-8a15fa24c902"
   },
   "outputs": [
    {
     "data": {
      "image/png": "[encoded data removed]",
      "text/plain": [
       "<Figure size 432x288 with 2 Axes>"
      ]
     },
     "metadata": {},
     "output_type": "display_data"
    }
   ],
   "source": [
    "from sklearn.metrics import confusion_matrix, precision_score, cohen_kappa_score, classification_report\n",
    "import seaborn as sns; sns.set()\n",
    "# PLOT CONFUSION MATRIX\n",
    "# Tutorial: https://www.stackvidhya.com/plot-confusion-matrix-in-python-and-why/\n",
    "plt.figure()\n",
    "\n",
    "cm = confusion_matrix(y_test,model_prediction_binary)\n",
    "\n",
    "group_names = ['TN','FP','FN','TP']\n",
    "group_counts = [\"{0:0.0f}\".format(value) for value in cm.flatten()]\n",
    "group_percentages = [\"{0:.2%}\".format(value) for value in cm.flatten()/np.sum(cm)]\n",
    "\n",
    "labels = [f\"{v1}\\n{v2}\\n{v3}\" for v1, v2, v3 in zip(group_names,group_counts,group_percentages)]\n",
    "labels = np.asarray(labels).reshape(2,2)\n",
    "\n",
    "ax = sns.heatmap(cm, annot=labels, fmt='', cmap='Blues')\n",
    "\n",
    "ax.set_title('RNA-Editing Confusion Matrix \\n\\n');\n",
    "ax.set_xlabel('\\nPredicted Values '+ model_name)\n",
    "ax.set_ylabel('Actual Values ');\n",
    "## Ticket labels - List must be in alphabetical order\n",
    "#ax.xaxis.set_ticklabels(['False','True'])\n",
    "#ax.yaxis.set_ticklabels(['False','True'])\n",
    "plt.show()"
   ]
  }
 ],
 "metadata": {
  "accelerator": "GPU",
  "colab": {
   "collapsed_sections": [],
   "machine_shape": "hm",
   "name": "RNNBidiAttention9_Predictor_mm_to_hg38.ipynb",
   "provenance": []
  },
  "kernelspec": {
   "display_name": "Python 3 (ipykernel)",
   "language": "python",
   "name": "python3"
  },
  "language_info": {
   "codemirror_mode": {
    "name": "ipython",
    "version": 3
   },
   "file_extension": ".py",
   "mimetype": "text/x-python",
   "name": "python",
   "nbconvert_exporter": "python",
   "pygments_lexer": "ipython3",
   "version": "3.8.12"
  }
 },
 "nbformat": 4,
 "nbformat_minor": 5
}
