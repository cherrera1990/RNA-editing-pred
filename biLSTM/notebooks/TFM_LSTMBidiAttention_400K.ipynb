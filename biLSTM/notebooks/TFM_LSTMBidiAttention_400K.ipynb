{
 "cells": [
  {
   "cell_type": "markdown",
   "id": "ca661a73-de2d-4079-8138-914bab318805",
   "metadata": {
    "id": "ca661a73-de2d-4079-8138-914bab318805"
   },
   "source": [
    "# TFM. Modelos basados en redes neuronales profundas para predecir la edición de ARNm"
   ]
  },
  {
   "cell_type": "markdown",
   "id": "4e41e2c5-b4e2-4514-b444-407550f44ead",
   "metadata": {
    "id": "4e41e2c5-b4e2-4514-b444-407550f44ead"
   },
   "source": [
    "## Módulos Python\n",
    "\n",
    "Utilizaremos la librería Keras integrada en Tensorflow"
   ]
  },
  {
   "cell_type": "code",
   "execution_count": 1,
   "id": "ecce2235-cdeb-48d8-b36e-a28b148013e1",
   "metadata": {
    "id": "ecce2235-cdeb-48d8-b36e-a28b148013e1"
   },
   "outputs": [],
   "source": [
    "import os\n",
    "import numpy as np\n",
    "import pandas as pd\n",
    "import matplotlib.pyplot as plt\n",
    "from sklearn.model_selection import train_test_split\n",
    "import tensorflow as tf\n",
    "from tensorflow import keras\n",
    "from tensorflow.keras import layers\n",
    "from sklearn.metrics import confusion_matrix, precision_score, cohen_kappa_score, classification_report\n",
    "import seaborn as sns; sns.set()\n",
    "from keras import backend as K"
   ]
  },
  {
   "cell_type": "code",
   "execution_count": 2,
   "id": "2143e286-f4f4-467e-baa7-3abf7a41a529",
   "metadata": {
    "id": "2143e286-f4f4-467e-baa7-3abf7a41a529"
   },
   "outputs": [],
   "source": [
    "########################################\n",
    "# PARAMS\n",
    "########################################\n",
    "padding=True\n",
    "model_name = 'TFM_LSTMBidiAttention_400K'\n",
    "fname = 'hg38_RS_DL_Pad_W50_BALANCED_1_1_CODED_REDUCED.csv'\n",
    "data_origin = 'ALL_HG38/W50'\n",
    "samples_for_train_and_val =  400000\n",
    "samples_for_test          =  400000\n",
    "num_lstm_units=256\n",
    "n_epochs=40\n",
    "batch_size=32\n",
    "dropout_value=0.2\n",
    "categories_size=20\n",
    "#########################################"
   ]
  },
  {
   "cell_type": "markdown",
   "id": "40d1e2c2-a5ef-47db-b0ce-a0d20cced95a",
   "metadata": {
    "id": "40d1e2c2-a5ef-47db-b0ce-a0d20cced95a",
    "outputId": "eba0a3a5-140a-404c-f883-4f3124dcfbae"
   },
   "source": [
    "## Configuración de los entornos posibles de ejecución.\n",
    "\n",
    "Los dos entornos posibles de ejecución son Google Colab Pro y Jupyter Lab."
   ]
  },
  {
   "cell_type": "code",
   "execution_count": 3,
   "id": "7d01a32f-b10d-40b1-884b-9ca742104aff",
   "metadata": {
    "colab": {
     "base_uri": "https://localhost:8080/"
    },
    "id": "7d01a32f-b10d-40b1-884b-9ca742104aff",
    "outputId": "c42e911c-46fc-435e-dfec-d777dce7e7f2"
   },
   "outputs": [
    {
     "name": "stdout",
     "output_type": "stream",
     "text": [
      "Running on CoLab\n"
     ]
    }
   ],
   "source": [
    "#CHECK GOOGLE COLAB\n",
    "GOOGLE_COLAB=False\n",
    "if 'google.colab' in str(get_ipython()):\n",
    "  GOOGLE_COLAB=True  \n",
    "  print('Running on CoLab')\n",
    "else:\n",
    "  print('Not running on CoLab')"
   ]
  },
  {
   "cell_type": "markdown",
   "id": "aef1f861-07b3-46fb-854d-5b99eadf56bf",
   "metadata": {
    "id": "aef1f861-07b3-46fb-854d-5b99eadf56bf",
    "outputId": "eba0a3a5-140a-404c-f883-4f3124dcfbae"
   },
   "source": [
    "Chequeamos la disponibilidad de GPU."
   ]
  },
  {
   "cell_type": "code",
   "execution_count": 4,
   "id": "e45c3872-7f14-485c-b5f3-8a7cda13de17",
   "metadata": {
    "colab": {
     "base_uri": "https://localhost:8080/"
    },
    "id": "e45c3872-7f14-485c-b5f3-8a7cda13de17",
    "outputId": "76d27c49-8644-4314-dbef-9c6d312071b2"
   },
   "outputs": [
    {
     "name": "stdout",
     "output_type": "stream",
     "text": [
      "Num GPUs Available: 1\n",
      "Found GPU at: /device:GPU:0\n",
      "Sun May 22 15:57:38 2022       \n",
      "+-----------------------------------------------------------------------------+\n",
      "| NVIDIA-SMI 460.32.03    Driver Version: 460.32.03    CUDA Version: 11.2     |\n",
      "|-------------------------------+----------------------+----------------------+\n",
      "| GPU  Name        Persistence-M| Bus-Id        Disp.A | Volatile Uncorr. ECC |\n",
      "| Fan  Temp  Perf  Pwr:Usage/Cap|         Memory-Usage | GPU-Util  Compute M. |\n",
      "|                               |                      |               MIG M. |\n",
      "|===============================+======================+======================|\n",
      "|   0  Tesla T4            Off  | 00000000:00:04.0 Off |                    0 |\n",
      "| N/A   49C    P0    27W /  70W |    264MiB / 15109MiB |      2%      Default |\n",
      "|                               |                      |                  N/A |\n",
      "+-------------------------------+----------------------+----------------------+\n",
      "                                                                               \n",
      "+-----------------------------------------------------------------------------+\n",
      "| Processes:                                                                  |\n",
      "|  GPU   GI   CI        PID   Type   Process name                  GPU Memory |\n",
      "|        ID   ID                                                   Usage      |\n",
      "|=============================================================================|\n",
      "+-----------------------------------------------------------------------------+\n"
     ]
    }
   ],
   "source": [
    "#CHECK GPU\n",
    "device_name = tf.test.gpu_device_name()\n",
    "if device_name != '/device:GPU:0':\n",
    "  print('GPU device not found')\n",
    "else:\n",
    "  print('Num GPUs Available: {}'.format(len(tf.config.list_physical_devices('GPU'))))\n",
    "  print('Found GPU at: {}'.format(device_name))\n",
    "  gpu_info = !nvidia-smi\n",
    "  gpu_info = '\\n'.join(gpu_info)\n",
    "  if gpu_info.find('failed') >= 0:\n",
    "     print('Not connected to a GPU')\n",
    "  else:\n",
    "     print(gpu_info)\n"
   ]
  },
  {
   "cell_type": "markdown",
   "id": "9e810411-ddd0-4bb2-be09-814659134e11",
   "metadata": {
    "id": "9e810411-ddd0-4bb2-be09-814659134e11",
    "outputId": "9805cf62-25cf-4041-b765-a95785008637"
   },
   "source": [
    "## Configuración e inicialización de parámetros."
   ]
  },
  {
   "cell_type": "code",
   "execution_count": 5,
   "id": "ffcda488-6dfa-4621-885b-9dc9cc3e0665",
   "metadata": {
    "colab": {
     "base_uri": "https://localhost:8080/"
    },
    "id": "ffcda488-6dfa-4621-885b-9dc9cc3e0665",
    "outputId": "3209e868-3c13-4428-ef90-4ead5eaed1a4"
   },
   "outputs": [
    {
     "name": "stdout",
     "output_type": "stream",
     "text": [
      "Drive already mounted at /content/drive; to attempt to forcibly remount, call drive.mount(\"/content/drive\", force_remount=True).\n"
     ]
    }
   ],
   "source": [
    "\n",
    "if padding==True:\n",
    "    categories_size=21    \n",
    "#----------------------------------------   \n",
    "if GOOGLE_COLAB==False:\n",
    "    data_dir = '../data/datasets/'+ data_origin\n",
    "    models_dir = './SAVED_MODELS'\n",
    "\n",
    "else:\n",
    "    from google.colab import drive\n",
    "    drive.mount('/content/drive')\n",
    "    root_dir = '/content/drive/MyDrive/'\n",
    "    import sys\n",
    "    sys.path.insert(0,root_dir+'ColabNotebooks') #to add additional modules  \n",
    "    data_dir  = root_dir + 'DATASETS/' + data_origin\n",
    "    models_dir= root_dir + 'MODELS'"
   ]
  },
  {
   "cell_type": "code",
   "execution_count": 6,
   "id": "OTbw6I8r4-qs",
   "metadata": {
    "colab": {
     "base_uri": "https://localhost:8080/"
    },
    "id": "OTbw6I8r4-qs",
    "outputId": "586632b9-b4e5-47ef-d988-b649c64de2fd"
   },
   "outputs": [
    {
     "name": "stdout",
     "output_type": "stream",
     "text": [
      "LAST MODEL FILE: /content/drive/MyDrive/MODELS/TFM_LSTMBidiAttention_400K.h5\n",
      "BEST MODEL FILE: /content/drive/MyDrive/MODELS/best_model_TFM_LSTMBidiAttention_400K.h5\n"
     ]
    }
   ],
   "source": [
    "#MODELS\n",
    "best_model = 'best_model_'+model_name+'.h5'\n",
    "last_model =  model_name+'.h5'\n",
    "\n",
    "lastmodelfile = os.path.join(models_dir, last_model)\n",
    "print(\"LAST MODEL FILE: {}\".format(lastmodelfile))\n",
    "bestmodelfile = os.path.join(models_dir, best_model)\n",
    "print(\"BEST MODEL FILE: {}\".format(bestmodelfile))\n",
    "datafile = os.path.join(data_dir, fname)"
   ]
  },
  {
   "cell_type": "code",
   "execution_count": 7,
   "id": "488b78e1-7cf8-4805-8dee-5a34a8e4cfad",
   "metadata": {
    "colab": {
     "base_uri": "https://localhost:8080/"
    },
    "id": "488b78e1-7cf8-4805-8dee-5a34a8e4cfad",
    "outputId": "14a445ac-397f-42aa-dc82-cfa035ea3a2a"
   },
   "outputs": [
    {
     "name": "stdout",
     "output_type": "stream",
     "text": [
      "DATASET: /content/drive/MyDrive/DATASETS/ALL_HG38/W50/hg38_RS_DL_Pad_W50_BALANCED_1_1_CODED_REDUCED.csv\n",
      "shape dataraw=(8644348, 104)\n"
     ]
    }
   ],
   "source": [
    "#LOAD DATASET\n",
    "print(\"DATASET: {}\".format(datafile))\n",
    "dataraw = pd.read_csv(datafile,sep=\";\")\n",
    "print(\"shape dataraw={}\".format(dataraw.shape))"
   ]
  },
  {
   "cell_type": "markdown",
   "id": "8pLNpNoRLtJK",
   "metadata": {
    "id": "8pLNpNoRLtJK"
   },
   "source": [
    "Dividimos todos los datos en dos grupos aleatorios de igual longitud.\n",
    "El primer grupo será el grupo del que extraigamos los datos para entrenar el modelo y el segundo grupo será para extraer los datos para test.\n",
    "Así garantizamos que no haya repeticiones."
   ]
  },
  {
   "cell_type": "code",
   "execution_count": 8,
   "id": "72bd0495-977b-409e-a4d4-dc6234d5d900",
   "metadata": {
    "colab": {
     "base_uri": "https://localhost:8080/"
    },
    "id": "72bd0495-977b-409e-a4d4-dc6234d5d900",
    "outputId": "446989e4-f94e-40ec-883e-29f074a85d48"
   },
   "outputs": [
    {
     "name": "stdout",
     "output_type": "stream",
     "text": [
      "x_set1:(4322174, 101) y_set1:(4322174,)\n",
      "x_set2:(4322174, 101) y_set2:(4322174,)\n"
     ]
    }
   ],
   "source": [
    "X=dataraw.iloc[:,3:]\n",
    "Y=dataraw['EDITING']\n",
    "del dataraw #free memory\n",
    "\n",
    "#Split data in two halves: \n",
    "#Set1 as a pool for model training and validation\n",
    "#Set2 as a pool for testing\n",
    "random_seed=2022\n",
    "x_set1, x_set2, y_set1, y_set2 = train_test_split(X, Y, test_size=0.5, random_state=random_seed)\n",
    "del X\n",
    "del Y\n",
    "print(\"x_set1:{} y_set1:{}\".format(x_set1.shape,y_set1.shape))\n",
    "print(\"x_set2:{} y_set2:{}\".format(x_set2.shape,y_set2.shape))\n",
    "\n"
   ]
  },
  {
   "cell_type": "markdown",
   "id": "4x7t7qUYyva4",
   "metadata": {
    "id": "4x7t7qUYyva4"
   },
   "source": [
    "Del primer grupo extraemos 400.000 muestras para entrenamiento y test."
   ]
  },
  {
   "cell_type": "code",
   "execution_count": 9,
   "id": "3L9dLCchLfGF",
   "metadata": {
    "colab": {
     "base_uri": "https://localhost:8080/"
    },
    "id": "3L9dLCchLfGF",
    "outputId": "331c026b-349a-48c2-ab6a-c1bdebff286f"
   },
   "outputs": [
    {
     "name": "stdout",
     "output_type": "stream",
     "text": [
      "fraction_for_train_and_val=0.09254601966510372\n",
      "x_set3.shape=(400000, 101)\n",
      "y_set3.shape=(400000,)\n",
      "SET3 TEST LABELS:\n",
      "0    200025\n",
      "1    199975\n",
      "Name: EDITING, dtype: int64\n",
      "x_train.shape=(300000, 101)\n",
      "y_train.shape=(300000,)\n",
      "x_val.shape=(100000, 101)\n",
      "y_val.shape=(100000,)\n",
      "TRAIN LABELS:\n",
      "0    150185\n",
      "1    149815\n",
      "Name: EDITING, dtype: int64\n",
      "VALIDATION LABELS:\n",
      "1    50160\n",
      "0    49840\n",
      "Name: EDITING, dtype: int64\n"
     ]
    }
   ],
   "source": [
    "#Pool for Training and Validation: Set1 -> Set3\n",
    "#---------------------------------------------------------------------- \n",
    "random_seed=2022\n",
    "fraction_for_train_and_val=samples_for_train_and_val/(x_set1.shape[0])\n",
    "print(\"fraction_for_train_and_val={}\".format(fraction_for_train_and_val))\n",
    "x_out, x_set3, y_out, y_set3 = train_test_split(x_set1, y_set1, \n",
    "                                                test_size=fraction_for_train_and_val, \n",
    "                                                random_state=random_seed)\n",
    "#free memory\n",
    "del x_set1\n",
    "del y_set1\n",
    "\n",
    "print(\"x_set3.shape={}\".format(x_set3.shape))\n",
    "print(\"y_set3.shape={}\".format(y_set3.shape))\n",
    "print(\"SET3 TEST LABELS:\")\n",
    "print(y_set3.value_counts())\n",
    "\n",
    "#Data for Training and Validation: Set3 -> Train and Val\n",
    "#---------------------------------------------------------------------- \n",
    "random_seed=2022\n",
    "x_train, x_val, y_train, y_val = train_test_split(x_set3, y_set3, \n",
    "                                                test_size=0.25, \n",
    "                                                random_state=random_seed)\n",
    "#free memory\n",
    "del x_set3\n",
    "del y_set3\n",
    "\n",
    "print(\"x_train.shape={}\".format(x_train.shape))\n",
    "print(\"y_train.shape={}\".format(y_train.shape))\n",
    "print(\"x_val.shape={}\".format(x_val.shape))\n",
    "print(\"y_val.shape={}\".format(y_val.shape))\n",
    "print(\"TRAIN LABELS:\")\n",
    "print(y_train.value_counts())\n",
    "print(\"VALIDATION LABELS:\")\n",
    "print(y_val.value_counts())"
   ]
  },
  {
   "cell_type": "markdown",
   "id": "o0htjjh8MjeE",
   "metadata": {
    "id": "o0htjjh8MjeE"
   },
   "source": [
    "Del segundo grupo extraemos 1.000.000 de muestras para test."
   ]
  },
  {
   "cell_type": "code",
   "execution_count": 10,
   "id": "t3kcm9HgMwzW",
   "metadata": {
    "colab": {
     "base_uri": "https://localhost:8080/"
    },
    "id": "t3kcm9HgMwzW",
    "outputId": "c6baa12e-ad00-4f85-9752-d2774a1917d8"
   },
   "outputs": [
    {
     "name": "stdout",
     "output_type": "stream",
     "text": [
      "fraction_for_test=0.09254601966510372\n",
      "x_test.shape=(400000, 101)\n",
      "y_test.shape=(400000,)\n",
      "TEST LABELS:\n",
      "0    200125\n",
      "1    199875\n",
      "Name: EDITING, dtype: int64\n"
     ]
    }
   ],
   "source": [
    "#Data for testing predictions: Set2 -> Test\n",
    "#---------------------------------------------------------------------- \n",
    "random_seed=2022\n",
    "fraction_for_test=samples_for_test/(x_set2.shape[0])\n",
    "print(\"fraction_for_test={}\".format(fraction_for_test))\n",
    "x_out, x_test, y_out, y_test = train_test_split(x_set2, y_set2, \n",
    "                                                test_size=fraction_for_test, \n",
    "                                                random_state=random_seed)\n",
    "#free memory\n",
    "del x_set2\n",
    "del y_set2\n",
    "\n",
    "print(\"x_test.shape={}\".format(x_test.shape))\n",
    "print(\"y_test.shape={}\".format(y_test.shape))\n",
    "print(\"TEST LABELS:\")\n",
    "print(y_test.value_counts())"
   ]
  },
  {
   "cell_type": "code",
   "execution_count": 11,
   "id": "64b9c5b5-9d1f-447a-a8a9-01ae6cec360b",
   "metadata": {
    "id": "64b9c5b5-9d1f-447a-a8a9-01ae6cec360b"
   },
   "outputs": [],
   "source": [
    "#DataGenerator converts on the fly from raw data to one-hot\n",
    "from RNAEd import DataGenerator\n",
    "\n",
    "num_nucleosides = x_train.shape[1]\n",
    "num_tokens = categories_size\n",
    "\n",
    "training_generator   = DataGenerator(x_train, y_train, batch_size=batch_size, seq_size=num_nucleosides, categories_size=categories_size, shuffle=True)\n",
    "validation_generator = DataGenerator(x_val,   y_val,   batch_size=batch_size, seq_size=num_nucleosides, categories_size=categories_size, shuffle=True)\n",
    "test_generator       = DataGenerator(x_test,  y_test,  batch_size=1,seq_size=num_nucleosides, categories_size=categories_size, shuffle=False )"
   ]
  },
  {
   "cell_type": "markdown",
   "id": "cc72c941-b134-471b-abc3-b96600827380",
   "metadata": {
    "id": "cc72c941-b134-471b-abc3-b96600827380",
    "outputId": "eb581962-8561-491c-822c-04e260bcf0cd"
   },
   "source": [
    "## Attention Layer"
   ]
  },
  {
   "cell_type": "code",
   "execution_count": 12,
   "id": "204b561c-65d2-43a4-8ee2-dd1d7148d93e",
   "metadata": {
    "id": "204b561c-65d2-43a4-8ee2-dd1d7148d93e"
   },
   "outputs": [],
   "source": [
    "from keras.layers import *\n",
    "from keras.models import *\n",
    "from keras import backend as K\n",
    "\n",
    "class attention(Layer):\n",
    "    ''' heredamos de la clase layer '''\n",
    "    def __init__(self):\n",
    "        super(attention,self).__init__()\n",
    "    \n",
    "    #En el método build definimos los pesos\n",
    "    def build(self, input_shape):\n",
    "        # Define the shape of the weights and bias in this layer\n",
    "        # The layer has just 1 lonely neuron\n",
    "        \n",
    "        # For convenience sake, add a couple of properties\n",
    "        self.num_dim_pernucleoside = input_shape[-1] ## 1092\n",
    "        self.nucleosides_persequence = input_shape[-2]  ## 41\n",
    "        num_units = 1\n",
    "        \n",
    "        \n",
    "        #Weights shape=(1092,1)\n",
    "        self.W=self.add_weight(name=\"att_weight\", shape=(self.num_dim_pernucleoside,num_units),\n",
    "                               initializer=\"normal\")\n",
    "        #bias  shape=(41,1)\n",
    "        self.b=self.add_weight(name=\"att_bias\", shape=(self.nucleosides_persequence,num_units),\n",
    "                               initializer=\"zeros\")\n",
    "        super(attention,self).build(input_shape)\n",
    "    \n",
    "    #en el método call definimos la lógica\n",
    "    #esta es la implementación clásica\n",
    "    def call_classic(self, x):\n",
    "        # x is the input tensor of 2 x num_units=1092 dimensions\n",
    "        \"\"\" We multiply the inputs ‘x’ of shape (41 * 1092) by the layer weights ‘w’ \n",
    "        of shape (1092 * 1) and obtain a (41 * 1) matrix. We add the bias (41 * 1) \n",
    "        and pass the output through any activation layer. So we now have 41 * 1 values \n",
    "        We take a softmax of these values. Softmax squashes these into values in the \n",
    "        range between 0, and 1 whose sum is 1. These are the 41 attention weights. \n",
    "        We multiply each attention weight by the respective nucleoside hidden states and sum up and we are done. \n",
    "        We now have the ‘attention adjusted output’ state ready to be fed to the next layer.\"\"\"\n",
    "        \n",
    "        #e = K.squeeze(K.tanh(K.dot(x,self.W)+self.b),axis=-1)  # Necesario en algunos frameworks\n",
    "        e = K.tanh(K.dot(x,self.W)+self.b)\n",
    "        a = K.softmax(e, axis=1)\n",
    "        output = x*a\n",
    "        # return the outputs. 'a' is the set of 41 attention weights\n",
    "        # the second variable is the 'attention adjusted o/p state'\n",
    "        return a, K.sum(output, axis=1)\n",
    "  \n",
    "    #esta implementación es más robusta\n",
    "    def call(self, x):\n",
    "        \"\"\" Es lo mismo de antes pero más robusto a distintos frameworks\"\"\"\n",
    "        e = K.tanh(K.dot(x,self.W)+self.b)\n",
    "        e = Flatten()(e)\n",
    "        a = Activation('softmax')(e) \n",
    "        # Don't manipulate 'a'. It needs to be 'return'ed intact\n",
    "        temp = RepeatVector(self.num_dim_pernucleoside)(a) # (?,41) becomes (?,1092,41)\n",
    "        temp = Permute([2,1])(temp) # change from (?,1092,41) to (?,41,1092)\n",
    " \n",
    "        output = Multiply()([x,temp])# Apply weight to each of the 1092 dim\n",
    "        output = Lambda(lambda values: K.sum(values, axis=1))(output)\n",
    "        return a, output"
   ]
  },
  {
   "cell_type": "markdown",
   "id": "77ef2548-0324-428e-9211-2f524ed4cbbe",
   "metadata": {
    "id": "77ef2548-0324-428e-9211-2f524ed4cbbe",
    "outputId": "eb581962-8561-491c-822c-04e260bcf0cd"
   },
   "source": [
    "## Model defined from the scratch"
   ]
  },
  {
   "cell_type": "code",
   "execution_count": 13,
   "id": "857b34b7-ddaa-465a-8f3b-69e9e321fd2c",
   "metadata": {
    "colab": {
     "base_uri": "https://localhost:8080/"
    },
    "id": "857b34b7-ddaa-465a-8f3b-69e9e321fd2c",
    "outputId": "77b1bda1-63ae-44d6-f3c8-8c5a5a49b928"
   },
   "outputs": [
    {
     "name": "stdout",
     "output_type": "stream",
     "text": [
      "Number of units=256\n",
      "Model: \"TFM_LSTMBidiAttention_400K\"\n",
      "__________________________________________________________________________________________________\n",
      " Layer (type)                   Output Shape         Param #     Connected to                     \n",
      "==================================================================================================\n",
      " INPUTS (InputLayer)            [(None, 101, 21)]    0           []                               \n",
      "                                                                                                  \n",
      " LSTM_BI (Bidirectional)        (None, 101, 512)     569344      ['INPUTS[0][0]']                 \n",
      "                                                                                                  \n",
      " dropout (Dropout)              (None, 101, 512)     0           ['LSTM_BI[0][0]']                \n",
      "                                                                                                  \n",
      " dense (Dense)                  (None, 101, 1)       513         ['dropout[0][0]']                \n",
      "                                                                                                  \n",
      " flatten (Flatten)              (None, 101)          0           ['dense[0][0]']                  \n",
      "                                                                                                  \n",
      " activation (Activation)        (None, 101)          0           ['flatten[0][0]']                \n",
      "                                                                                                  \n",
      " repeat_vector (RepeatVector)   (None, 512, 101)     0           ['activation[0][0]']             \n",
      "                                                                                                  \n",
      " permute (Permute)              (None, 101, 512)     0           ['repeat_vector[0][0]']          \n",
      "                                                                                                  \n",
      " multiply (Multiply)            (None, 101, 512)     0           ['LSTM_BI[0][0]',                \n",
      "                                                                  'permute[0][0]']                \n",
      "                                                                                                  \n",
      " lambda (Lambda)                (None, 512)          0           ['multiply[0][0]']               \n",
      "                                                                                                  \n",
      " OUTPUT (Dense)                 (None, 1)            513         ['lambda[0][0]']                 \n",
      "                                                                                                  \n",
      "==================================================================================================\n",
      "Total params: 570,370\n",
      "Trainable params: 570,370\n",
      "Non-trainable params: 0\n",
      "__________________________________________________________________________________________________\n",
      "None\n"
     ]
    }
   ],
   "source": [
    "#MODELOS REDES NEURONALES LSTM CON CAPAS DE ATENCIÓN\n",
    "# Import the libraries required in this example:\n",
    "\n",
    "num_nucleosides = x_train.shape[1]\n",
    "num_tokens = categories_size\n",
    "print(\"Number of units={}\".format(num_lstm_units))\n",
    "#Definimos la estructura con el Functional model\n",
    "inputs = keras.Input(shape=(num_nucleosides,num_tokens), name=\"INPUTS\")\n",
    "lstm_out   = layers.Bidirectional(layers.LSTM(num_lstm_units,return_sequences=True), name=\"LSTM_BI\")(inputs)\n",
    "dropout= layers.Dropout(dropout_value)(lstm_out)\n",
    "\n",
    "#===============================\n",
    "#METHOD 1: using a custom layer:\n",
    "#===============================\n",
    "#La salida de la capa bidireccional será un de 1 batch=None numero de secuencas, \n",
    "#de 41 nucleosidos(timesteps) de 2xnúmero_unidades=2*546=1092\n",
    "#Es decir (None,41,1092)\n",
    "#---------uncomment here--------------------\n",
    "#a ,att_d = attention()(dropout)\n",
    "#-----------------------------\n",
    "#La capa de atención debe retornarnos un peso para cada hidden state \n",
    "#correspondiente a cada elemento de la secuencia o timestep\n",
    "#es decir, nos debe dar un peso por cada nuceósido, es decir, nos debe dar (41,1)\n",
    "#Pero relamente no queremos esos pesos, sino la suma del vector de hidden states\n",
    "#que es lo que conforma el verdadero contexto, y que tendrá dimensión (None,1,1092)\n",
    "#Esta salida es lo que se llama el \"attention adjusted output state\".\n",
    "#Para ello, nuestra capa de atención debe entrenar (1092,1) pesos, ya que debemos \n",
    "#entrenar un peso por cada dimensión del espacio vectorial del contexto.\n",
    "#(1092,1) x (41,1092) = (41,1) los pesos de atención\n",
    "#(1092,1) son los pesos de la capa.\n",
    "#===============================================================\n",
    "\n",
    "#===============================\n",
    "#METHOD 2: using regular layers:\n",
    "#===============================\n",
    "\n",
    "#---------uncomment here--------------------\n",
    "e=Dense(1, activation='tanh')(dropout)\n",
    "# Now do all the softmax business taking the above o/p\n",
    "e=Flatten()(e)\n",
    "a=Activation('softmax')(e)\n",
    "temp=RepeatVector(2*num_lstm_units)(a)\n",
    "temp=Permute([2, 1])(temp)\n",
    "# multiply weight with lstm layer o/p\n",
    "output = merge.Multiply()([lstm_out, temp])\n",
    "# Get the attention adjusted output state\n",
    "att = Lambda(lambda values: K.sum(values, axis=1))(output)\n",
    "#-----------------------------\n",
    "\n",
    "#===============================================================\n",
    "outputs= layers.Dense(1, activation='sigmoid', name=\"OUTPUT\")(att)\n",
    "#Creamos el modelo\n",
    "model_from_scratch  = keras.Model(inputs=inputs, outputs=outputs, name=model_name)\n",
    "\n",
    "#Mostramos el modelo\n",
    "print(model_from_scratch.summary())"
   ]
  },
  {
   "cell_type": "code",
   "execution_count": 14,
   "id": "ddc47876-f37d-49b9-8927-208034317df9",
   "metadata": {
    "id": "ddc47876-f37d-49b9-8927-208034317df9"
   },
   "outputs": [],
   "source": [
    "#Compilation reset all weights\n",
    "model_from_scratch.compile(optimizer=keras.optimizers.Adam(),\n",
    "                           loss     =keras.losses.BinaryCrossentropy(),\n",
    "                           metrics  =[keras.metrics.BinaryAccuracy()])\n",
    "\n",
    "model=model_from_scratch"
   ]
  },
  {
   "cell_type": "markdown",
   "id": "9WyvcKhMJSEE",
   "metadata": {
    "id": "9WyvcKhMJSEE"
   },
   "source": [
    "Recover last model, best model or generate a new model"
   ]
  },
  {
   "cell_type": "code",
   "execution_count": 15,
   "id": "643c51c7-f1ee-489b-b306-fbf948a07a51",
   "metadata": {
    "colab": {
     "base_uri": "https://localhost:8080/"
    },
    "id": "643c51c7-f1ee-489b-b306-fbf948a07a51",
    "outputId": "b486c3f4-39b1-4895-b2f0-397fa37388fb"
   },
   "outputs": [
    {
     "name": "stdout",
     "output_type": "stream",
     "text": [
      "Selected new untrained model\n",
      "Model: \"TFM_LSTMBidiAttention_400K\"\n",
      "__________________________________________________________________________________________________\n",
      " Layer (type)                   Output Shape         Param #     Connected to                     \n",
      "==================================================================================================\n",
      " INPUTS (InputLayer)            [(None, 101, 21)]    0           []                               \n",
      "                                                                                                  \n",
      " LSTM_BI (Bidirectional)        (None, 101, 512)     569344      ['INPUTS[0][0]']                 \n",
      "                                                                                                  \n",
      " dropout (Dropout)              (None, 101, 512)     0           ['LSTM_BI[0][0]']                \n",
      "                                                                                                  \n",
      " dense (Dense)                  (None, 101, 1)       513         ['dropout[0][0]']                \n",
      "                                                                                                  \n",
      " flatten (Flatten)              (None, 101)          0           ['dense[0][0]']                  \n",
      "                                                                                                  \n",
      " activation (Activation)        (None, 101)          0           ['flatten[0][0]']                \n",
      "                                                                                                  \n",
      " repeat_vector (RepeatVector)   (None, 512, 101)     0           ['activation[0][0]']             \n",
      "                                                                                                  \n",
      " permute (Permute)              (None, 101, 512)     0           ['repeat_vector[0][0]']          \n",
      "                                                                                                  \n",
      " multiply (Multiply)            (None, 101, 512)     0           ['LSTM_BI[0][0]',                \n",
      "                                                                  'permute[0][0]']                \n",
      "                                                                                                  \n",
      " lambda (Lambda)                (None, 512)          0           ['multiply[0][0]']               \n",
      "                                                                                                  \n",
      " OUTPUT (Dense)                 (None, 1)            513         ['lambda[0][0]']                 \n",
      "                                                                                                  \n",
      "==================================================================================================\n",
      "Total params: 570,370\n",
      "Trainable params: 570,370\n",
      "Non-trainable params: 0\n",
      "__________________________________________________________________________________________________\n"
     ]
    }
   ],
   "source": [
    "#DataGenerator converts on the fly from raw data to one-hot\n",
    "from RNAEd import DataGenerator\n",
    "\n",
    "num_nucleosides = x_train.shape[1]\n",
    "num_tokens = categories_size\n",
    "\n",
    "training_generator   = DataGenerator(x_train, y_train, batch_size=batch_size, seq_size=num_nucleosides, categories_size=categories_size, shuffle=True)\n",
    "validation_generator = DataGenerator(x_val,   y_val,   batch_size=batch_size, seq_size=num_nucleosides, categories_size=categories_size, shuffle=True)\n",
    "\n",
    "\n",
    "#Load the trained model from disk\n",
    "import os.path\n",
    "\n",
    "best_model_accuracy =0\n",
    "last_model_accuracy =0\n",
    "\n",
    "if os.path.exists(bestmodelfile):\n",
    "    model = tf.keras.models.load_model(bestmodelfile)\n",
    "    print(\"Testing best model file: {}\".format(bestmodelfile))\n",
    "    results = model.evaluate(validation_generator,verbose=1)\n",
    "    best_model_accuracy = results[1]\n",
    "    print(\"best model accuracy: {}\".format(best_model_accuracy))    \n",
    "\n",
    "if os.path.exists(lastmodelfile):\n",
    "    model = tf.keras.models.load_model(lastmodelfile)\n",
    "    print(\"Testing last complete model file: {}\".format(lastmodelfile))\n",
    "    results = model.evaluate(validation_generator,verbose=1)\n",
    "    last_model_accuracy = results[1]\n",
    "    print(\"last model accuracy: {}\".format(last_model_accuracy))           \n",
    "\n",
    "\n",
    "if best_model_accuracy > last_model_accuracy:\n",
    "   model = tf.keras.models.load_model(bestmodelfile)\n",
    "   print(\"Selected best model saved: {}\".format(bestmodelfile))\n",
    "else:\n",
    "  if last_model_accuracy > best_model_accuracy:\n",
    "     print(\"Selected last model saved: {}\".format(lastmodelfile))\n",
    "  else:\n",
    "     print(\"Selected new untrained model\")\n",
    "\n",
    "\n",
    "# Show the model architecture\n",
    "model.summary()"
   ]
  },
  {
   "cell_type": "code",
   "execution_count": 16,
   "id": "644b1c7b-7c45-4483-88fc-e60a012edba0",
   "metadata": {
    "colab": {
     "base_uri": "https://localhost:8080/",
     "height": 1000
    },
    "id": "644b1c7b-7c45-4483-88fc-e60a012edba0",
    "outputId": "5ace77ba-9733-413b-8f7a-4f1a84aea420"
   },
   "outputs": [
    {
     "data": {
      "image/png": "[encoded data removed]",
      "text/plain": [
       "<IPython.core.display.Image object>"
      ]
     },
     "execution_count": 16,
     "metadata": {},
     "output_type": "execute_result"
    }
   ],
   "source": [
    "keras.utils.plot_model(model, show_shapes=True)"
   ]
  },
  {
   "cell_type": "markdown",
   "id": "RgtzLSoLOI24",
   "metadata": {
    "id": "RgtzLSoLOI24"
   },
   "source": [
    "Creamos una callback especial para guardar el mejor modelo tras cada epoca."
   ]
  },
  {
   "cell_type": "code",
   "execution_count": 17,
   "id": "_j2W9ApUOHBw",
   "metadata": {
    "id": "_j2W9ApUOHBw"
   },
   "outputs": [],
   "source": [
    "from keras.callbacks import ModelCheckpoint,EarlyStopping\n",
    "\n",
    "callback1 = ModelCheckpoint(bestmodelfile, \n",
    "                             monitor='val_loss', \n",
    "                             verbose=1,\n",
    "                             save_best_only=True, \n",
    "                             mode='auto', \n",
    "                             save_freq='epoch')\n",
    "\n",
    "callback2 =EarlyStopping(monitor='val_loss', \n",
    "                       min_delta=0, \n",
    "                       patience=3, \n",
    "                       verbose=1, \n",
    "                       mode='auto',\n",
    "                       baseline=None, \n",
    "                       restore_best_weights=True)\n",
    "callbacks=[callback1,callback2]"
   ]
  },
  {
   "cell_type": "markdown",
   "id": "2JZnZYNDOVzR",
   "metadata": {
    "id": "2JZnZYNDOVzR"
   },
   "source": [
    "Entrenamos el modelo"
   ]
  },
  {
   "cell_type": "code",
   "execution_count": 18,
   "id": "f723d422-2ffb-4f32-a439-17a7a29b475f",
   "metadata": {
    "colab": {
     "base_uri": "https://localhost:8080/"
    },
    "id": "f723d422-2ffb-4f32-a439-17a7a29b475f",
    "outputId": "25b9ecc5-e902-41ba-d986-5c44214d7e99"
   },
   "outputs": [
    {
     "name": "stdout",
     "output_type": "stream",
     "text": [
      "Epoch 1/40\n",
      "9375/9375 [==============================] - ETA: 0s - loss: 0.3472 - binary_accuracy: 0.8698\n",
      "Epoch 1: val_loss improved from inf to 0.26089, saving model to /content/drive/MyDrive/MODELS/best_model_TFM_LSTMBidiAttention_400K.h5\n",
      "9375/9375 [==============================] - 1202s 127ms/step - loss: 0.3472 - binary_accuracy: 0.8698 - val_loss: 0.2609 - val_binary_accuracy: 0.9195\n",
      "Epoch 2/40\n",
      "9375/9375 [==============================] - ETA: 0s - loss: 0.2606 - binary_accuracy: 0.9195\n",
      "Epoch 2: val_loss improved from 0.26089 to 0.25150, saving model to /content/drive/MyDrive/MODELS/best_model_TFM_LSTMBidiAttention_400K.h5\n",
      "9375/9375 [==============================] - 1182s 126ms/step - loss: 0.2606 - binary_accuracy: 0.9195 - val_loss: 0.2515 - val_binary_accuracy: 0.9232\n",
      "Epoch 3/40\n",
      "9375/9375 [==============================] - ETA: 0s - loss: 0.2511 - binary_accuracy: 0.9237\n",
      "Epoch 3: val_loss improved from 0.25150 to 0.24558, saving model to /content/drive/MyDrive/MODELS/best_model_TFM_LSTMBidiAttention_400K.h5\n",
      "9375/9375 [==============================] - 1173s 125ms/step - loss: 0.2511 - binary_accuracy: 0.9237 - val_loss: 0.2456 - val_binary_accuracy: 0.9266\n",
      "Epoch 4/40\n",
      "9375/9375 [==============================] - ETA: 0s - loss: 0.2443 - binary_accuracy: 0.9260\n",
      "Epoch 4: val_loss improved from 0.24558 to 0.24148, saving model to /content/drive/MyDrive/MODELS/best_model_TFM_LSTMBidiAttention_400K.h5\n",
      "9375/9375 [==============================] - 1168s 125ms/step - loss: 0.2443 - binary_accuracy: 0.9260 - val_loss: 0.2415 - val_binary_accuracy: 0.9266\n",
      "Epoch 5/40\n",
      "9375/9375 [==============================] - ETA: 0s - loss: 0.2401 - binary_accuracy: 0.9271\n",
      "Epoch 5: val_loss improved from 0.24148 to 0.24015, saving model to /content/drive/MyDrive/MODELS/best_model_TFM_LSTMBidiAttention_400K.h5\n",
      "9375/9375 [==============================] - 1169s 125ms/step - loss: 0.2401 - binary_accuracy: 0.9271 - val_loss: 0.2402 - val_binary_accuracy: 0.9267\n",
      "Epoch 6/40\n",
      "9375/9375 [==============================] - ETA: 0s - loss: 0.2362 - binary_accuracy: 0.9285\n",
      "Epoch 6: val_loss improved from 0.24015 to 0.23805, saving model to /content/drive/MyDrive/MODELS/best_model_TFM_LSTMBidiAttention_400K.h5\n",
      "9375/9375 [==============================] - 1169s 125ms/step - loss: 0.2362 - binary_accuracy: 0.9285 - val_loss: 0.2380 - val_binary_accuracy: 0.9280\n",
      "Epoch 7/40\n",
      "9375/9375 [==============================] - ETA: 0s - loss: 0.2320 - binary_accuracy: 0.9297\n",
      "Epoch 7: val_loss improved from 0.23805 to 0.23695, saving model to /content/drive/MyDrive/MODELS/best_model_TFM_LSTMBidiAttention_400K.h5\n",
      "9375/9375 [==============================] - 1170s 125ms/step - loss: 0.2320 - binary_accuracy: 0.9297 - val_loss: 0.2370 - val_binary_accuracy: 0.9281\n",
      "Epoch 8/40\n",
      "9375/9375 [==============================] - ETA: 0s - loss: 0.2275 - binary_accuracy: 0.9309\n",
      "Epoch 8: val_loss did not improve from 0.23695\n",
      "9375/9375 [==============================] - 1169s 125ms/step - loss: 0.2275 - binary_accuracy: 0.9309 - val_loss: 0.2384 - val_binary_accuracy: 0.9271\n",
      "Epoch 9/40\n",
      "9375/9375 [==============================] - ETA: 0s - loss: 0.2231 - binary_accuracy: 0.9320\n",
      "Epoch 9: val_loss did not improve from 0.23695\n",
      "9375/9375 [==============================] - 1170s 125ms/step - loss: 0.2231 - binary_accuracy: 0.9320 - val_loss: 0.2385 - val_binary_accuracy: 0.9281\n",
      "Epoch 10/40\n",
      "9375/9375 [==============================] - ETA: 0s - loss: 0.2187 - binary_accuracy: 0.9332\n",
      "Epoch 10: val_loss did not improve from 0.23695\n",
      "Restoring model weights from the end of the best epoch: 7.\n",
      "9375/9375 [==============================] - 1169s 125ms/step - loss: 0.2187 - binary_accuracy: 0.9332 - val_loss: 0.2394 - val_binary_accuracy: 0.9272\n",
      "Epoch 10: early stopping\n"
     ]
    }
   ],
   "source": [
    "#Train de Model\n",
    "with tf.device(device_name):#Use GPU if available\n",
    "    history=model.fit(training_generator,epochs=n_epochs,\n",
    "                      validation_data=validation_generator,\n",
    "                      callbacks=callbacks,verbose=1)"
   ]
  },
  {
   "cell_type": "code",
   "execution_count": 19,
   "id": "c8edd824-ea63-46fa-a917-5e41dbd3422c",
   "metadata": {
    "colab": {
     "base_uri": "https://localhost:8080/"
    },
    "id": "c8edd824-ea63-46fa-a917-5e41dbd3422c",
    "outputId": "4e1ac3f4-7391-4488-fa1c-82e5c29218dd"
   },
   "outputs": [
    {
     "name": "stdout",
     "output_type": "stream",
     "text": [
      "Trained epochs: 10 of 40\n"
     ]
    }
   ],
   "source": [
    "#We always save the last model.\n",
    "#Last model can be triggered by early stopping\n",
    "n_epochs_trained = len(history.history['loss'])\n",
    "print(\"Trained epochs: {} of {}\".format(n_epochs_trained,n_epochs))\n",
    "model.save(lastmodelfile)"
   ]
  },
  {
   "cell_type": "code",
   "execution_count": 20,
   "id": "634fb710-78e7-4734-b41f-eccd0a9ff589",
   "metadata": {
    "colab": {
     "base_uri": "https://localhost:8080/",
     "height": 551
    },
    "id": "634fb710-78e7-4734-b41f-eccd0a9ff589",
    "outputId": "8e89a0bd-9e9c-4675-ba9d-f11f1f44dfd1"
   },
   "outputs": [
    {
     "data": {
      "image/png": "[encoded data removed]",
      "text/plain": [
       "<Figure size 432x288 with 1 Axes>"
      ]
     },
     "metadata": {
      "needs_background": "light"
     },
     "output_type": "display_data"
    },
    {
     "data": {
      "image/png": "[encoded data removed]",
      "text/plain": [
       "<Figure size 432x288 with 1 Axes>"
      ]
     },
     "metadata": {
      "needs_background": "light"
     },
     "output_type": "display_data"
    }
   ],
   "source": [
    "#PLOT ACCURACY AND LOSS\n",
    "\n",
    "acc = history.history['binary_accuracy']\n",
    "val_acc = history.history['val_binary_accuracy']\n",
    "loss = history.history['loss']\n",
    "val_loss = history.history['val_loss']\n",
    "\n",
    "epochs = range(1, len(acc) + 1)\n",
    "\n",
    "plt.plot(epochs, acc, 'bo', label='Training acc')\n",
    "plt.plot(epochs, val_acc, 'b', label='Validation acc')\n",
    "plt.title('Training and validation accuracy')\n",
    "plt.legend()\n",
    "plt.figure()\n",
    "plt.plot(epochs, loss, 'bo', label='Training loss')\n",
    "plt.plot(epochs, val_loss, 'b', label='Validation loss')\n",
    "plt.title('Training and validation loss')\n",
    "plt.legend()\n",
    "plt.show()"
   ]
  },
  {
   "cell_type": "code",
   "execution_count": 21,
   "id": "59d9496e-fd57-4ab4-b4be-bb9d275ff7cb",
   "metadata": {
    "id": "59d9496e-fd57-4ab4-b4be-bb9d275ff7cb"
   },
   "outputs": [],
   "source": [
    "if os.path.exists(bestmodelfile):\n",
    "    model = tf.keras.models.load_model(bestmodelfile)"
   ]
  },
  {
   "cell_type": "code",
   "execution_count": 22,
   "id": "8a2ad149-b5f2-4e1e-9bbd-cb16e81cb737",
   "metadata": {
    "colab": {
     "base_uri": "https://localhost:8080/"
    },
    "id": "8a2ad149-b5f2-4e1e-9bbd-cb16e81cb737",
    "outputId": "089d2cbd-a319-473d-a1e3-2eef90e0787d"
   },
   "outputs": [
    {
     "name": "stdout",
     "output_type": "stream",
     "text": [
      "Evaluate models on validation data\n",
      "3125/3125 [==============================] - 277s 88ms/step - loss: 0.2370 - binary_accuracy: 0.9281\n",
      "Accuracy on validation data: 0.928\n",
      "Loss on validation data: 0.237\n"
     ]
    }
   ],
   "source": [
    "#EVALUATE VALIDATION DATASET\n",
    "print(\"Evaluate models on validation data\")\n",
    "results_model = model.evaluate(validation_generator,verbose=1)\n",
    "print ('Accuracy on validation data:',round(results_model[1],3))\n",
    "print ('Loss on validation data:',round(results_model[0],3))"
   ]
  },
  {
   "cell_type": "markdown",
   "id": "KjCzKNHFOphg",
   "metadata": {
    "id": "KjCzKNHFOphg"
   },
   "source": [
    "### PREDICCIONES"
   ]
  },
  {
   "cell_type": "code",
   "execution_count": 23,
   "id": "b2dada75-39d9-45ef-8a7f-d83b57619438",
   "metadata": {
    "colab": {
     "base_uri": "https://localhost:8080/"
    },
    "id": "b2dada75-39d9-45ef-8a7f-d83b57619438",
    "outputId": "153f68df-ca69-42b7-85b2-0d89766eb625"
   },
   "outputs": [
    {
     "name": "stdout",
     "output_type": "stream",
     "text": [
      "Make predictions on test data\n",
      "400000/400000 [==============================] - 3506s 9ms/step\n"
     ]
    }
   ],
   "source": [
    "#PREDICTIONS\n",
    "print(\"Make predictions on test data\")\n",
    "model_prediction = model.predict(test_generator,verbose=1)\n",
    "model_prediction_binary = (model_prediction > 0.5).astype(\"int32\")"
   ]
  },
  {
   "cell_type": "code",
   "execution_count": 24,
   "id": "d08289e1-32e4-4290-82c7-b87718f230a9",
   "metadata": {
    "colab": {
     "base_uri": "https://localhost:8080/"
    },
    "id": "d08289e1-32e4-4290-82c7-b87718f230a9",
    "outputId": "908cf6e2-b521-4071-ff3f-640b48fa049b"
   },
   "outputs": [
    {
     "name": "stdout",
     "output_type": "stream",
     "text": [
      "(400000, 101)\n",
      "(400000,)\n",
      "(400000, 1)\n",
      "(400000, 1)\n"
     ]
    }
   ],
   "source": [
    "print(x_test.shape)\n",
    "print(y_test.shape)\n",
    "print(model_prediction.shape)\n",
    "print(model_prediction_binary.shape)"
   ]
  },
  {
   "cell_type": "code",
   "execution_count": 25,
   "id": "a9296b0f-efc6-4133-aaff-949a4159e5f7",
   "metadata": {
    "colab": {
     "base_uri": "https://localhost:8080/"
    },
    "id": "a9296b0f-efc6-4133-aaff-949a4159e5f7",
    "outputId": "f7ffaa3d-7bfd-46d0-e93f-208e1efe2b50"
   },
   "outputs": [
    {
     "name": "stdout",
     "output_type": "stream",
     "text": [
      "\n",
      "MODEL TFM_LSTMBidiAttention_400K\n",
      "---------------------------------\n",
      "Kappa: 0.854\n",
      "              precision    recall  f1-score   support\n",
      "\n",
      "           0       0.93      0.92      0.93    200125\n",
      "           1       0.92      0.93      0.93    199875\n",
      "\n",
      "    accuracy                           0.93    400000\n",
      "   macro avg       0.93      0.93      0.93    400000\n",
      "weighted avg       0.93      0.93      0.93    400000\n",
      "\n"
     ]
    }
   ],
   "source": [
    "#METRICS QUALITY CLASSIFICATION\n",
    "print(\"\\nMODEL \"+model_name+\"\\n---------------------------------\")\n",
    "kappa = cohen_kappa_score(y_test, model_prediction_binary)\n",
    "print ('Kappa:',round(kappa,3))\n",
    "print(classification_report(y_test, model_prediction_binary))"
   ]
  },
  {
   "cell_type": "code",
   "execution_count": 26,
   "id": "686f01e9-daf3-43f6-bd2f-d1fee30059cb",
   "metadata": {
    "colab": {
     "base_uri": "https://localhost:8080/",
     "height": 302
    },
    "id": "686f01e9-daf3-43f6-bd2f-d1fee30059cb",
    "outputId": "04baa2df-7490-416b-db8c-3bd755fc1dfe"
   },
   "outputs": [
    {
     "data": {
      "text/plain": [
       "Text(80.90000000000006, 0.5, 'Truth Editing')"
      ]
     },
     "execution_count": 26,
     "metadata": {},
     "output_type": "execute_result"
    },
    {
     "data": {
      "image/png": "[encoded data removed]",
      "text/plain": [
       "<Figure size 432x288 with 2 Axes>"
      ]
     },
     "metadata": {},
     "output_type": "display_data"
    }
   ],
   "source": [
    "from sklearn.metrics import confusion_matrix, precision_score, cohen_kappa_score, classification_report\n",
    "import seaborn as sns; sns.set()\n",
    "# PLOT CONFUSION MATRIX\n",
    "plt.figure()\n",
    "cm = confusion_matrix(y_test,model_prediction_binary)\n",
    "sns.heatmap(cm, square=True, annot=True, fmt='d', cbar=True,cmap=\"Blues\")\n",
    "plt.xlabel('Predicted Model '+ model_name)\n",
    "plt.ylabel('Truth Editing')"
   ]
  },
  {
   "cell_type": "code",
   "execution_count": 27,
   "id": "c1ff605a-c7fd-4160-ba29-a2e88cd1829e",
   "metadata": {
    "colab": {
     "base_uri": "https://localhost:8080/",
     "height": 318
    },
    "id": "c1ff605a-c7fd-4160-ba29-a2e88cd1829e",
    "outputId": "5a16080c-f745-43f3-f7e6-0d5a55baaa74"
   },
   "outputs": [
    {
     "name": "stdout",
     "output_type": "stream",
     "text": [
      "AUC: 0.95\n"
     ]
    },
    {
     "data": {
      "image/png": "[encoded data removed]",
      "text/plain": [
       "<Figure size 432x288 with 1 Axes>"
      ]
     },
     "metadata": {},
     "output_type": "display_data"
    }
   ],
   "source": [
    "from sklearn.metrics import roc_curve\n",
    "from sklearn.metrics import roc_auc_score\n",
    "\n",
    "def plot_roc_curve(fpr, tpr):\n",
    "    plt.plot(fpr, tpr, color=\"orange\", label=\"ROC\")\n",
    "    plt.plot([0, 1], [0, 1], color=\"darkblue\", linestyle=\"--\")\n",
    "    plt.xlabel('False Positive Rate')\n",
    "    plt.ylabel('True Positive Rate')\n",
    "    plt.title('Receiver Operating Characteristic (ROC) Curve')\n",
    "    plt.legend()\n",
    "    plt.show()\n",
    "\n",
    "auc = roc_auc_score(y_test, model_prediction)\n",
    "print('AUC: %.2f' % auc)\n",
    "fpr, tpr, thresholds = roc_curve(y_test, model_prediction)\n",
    "plot_roc_curve(fpr, tpr)\n"
   ]
  }
 ],
 "metadata": {
  "accelerator": "GPU",
  "colab": {
   "collapsed_sections": [],
   "machine_shape": "hm",
   "name": "TFM_LSTMBidiAttention_400K.ipynb",
   "provenance": []
  },
  "kernelspec": {
   "display_name": "Python 3 (ipykernel)",
   "language": "python",
   "name": "python3"
  },
  "language_info": {
   "codemirror_mode": {
    "name": "ipython",
    "version": 3
   },
   "file_extension": ".py",
   "mimetype": "text/x-python",
   "name": "python",
   "nbconvert_exporter": "python",
   "pygments_lexer": "ipython3",
   "version": "3.8.12"
  }
 },
 "nbformat": 4,
 "nbformat_minor": 5
}
