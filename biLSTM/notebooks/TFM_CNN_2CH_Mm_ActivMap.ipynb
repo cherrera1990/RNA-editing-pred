{
 "cells": [
  {
   "cell_type": "markdown",
   "id": "ca661a73-de2d-4079-8138-914bab318805",
   "metadata": {
    "id": "ca661a73-de2d-4079-8138-914bab318805"
   },
   "source": [
    "# Deep neural network-based models for predicting mRNA editing (CNN)\n",
    "\n",
    "Convolutional Neural Network with Mus musculus including activation map inspection"
   ]
  },
  {
   "cell_type": "code",
   "execution_count": 10,
   "id": "c9f60581-a961-4284-9b0b-3867f3b54213",
   "metadata": {
    "id": "c9f60581-a961-4284-9b0b-3867f3b54213"
   },
   "outputs": [],
   "source": [
    "import os\n",
    "import numpy as np\n",
    "import pandas as pd\n",
    "import matplotlib.pyplot as plt\n",
    "from sklearn.model_selection import train_test_split\n",
    "import tensorflow as tf\n",
    "from tensorflow import keras\n",
    "from tensorflow.keras import layers\n",
    "from sklearn.metrics import confusion_matrix, precision_score, cohen_kappa_score, classification_report\n",
    "import seaborn as sns; sns.set()\n",
    "from keras import backend as K\n",
    "from keras.models import Sequential\n",
    "from keract import get_activations,display_activations,display_heatmaps\n"
   ]
  },
  {
   "cell_type": "code",
   "execution_count": 11,
   "id": "7b4b7d71-286c-433d-b5b5-94e41403d218",
   "metadata": {
    "id": "7b4b7d71-286c-433d-b5b5-94e41403d218"
   },
   "outputs": [],
   "source": [
    "########################################\n",
    "# PARAMS\n",
    "########################################\n",
    "fname      = 'mm10_DL_Pad_W50_BALANCED_1_1_CODED2CH.csv'\n",
    "separator_char=';'\n",
    "categories=[['A','G','C','T'],['s','d','h','i','b']]\n",
    "padding=True\n",
    "ptrain     = 0.7\n",
    "trace_level = 1\n",
    "model_name = 'TFM_CNN_MM'\n",
    "num_channels=256\n",
    "kernel_width  = 9\n",
    "n_epochs=40\n",
    "batch_size=32\n",
    "categories_size=20\n",
    "cnn_dropout=0.4\n",
    "random_seed=2022\n",
    "########################################"
   ]
  },
  {
   "cell_type": "markdown",
   "id": "1bd49147-7ef8-4a2b-ba75-694d51a94f88",
   "metadata": {
    "id": "1bd49147-7ef8-4a2b-ba75-694d51a94f88",
    "outputId": "eba0a3a5-140a-404c-f883-4f3124dcfbae"
   },
   "source": [
    "We can run this notebook in two environments:\n",
    "+ Googlr Colab Pro (Cloud)\n",
    "+ Jupyter Lab (Locally)"
   ]
  },
  {
   "cell_type": "code",
   "execution_count": 12,
   "id": "be00b8cf-d29e-429d-a4cc-e05f4416b635",
   "metadata": {
    "colab": {
     "base_uri": "https://localhost:8080/"
    },
    "id": "be00b8cf-d29e-429d-a4cc-e05f4416b635",
    "outputId": "cdf03265-400d-4c70-ad7e-6486df046689"
   },
   "outputs": [
    {
     "name": "stdout",
     "output_type": "stream",
     "text": [
      "Not running on CoLab\n"
     ]
    }
   ],
   "source": [
    "#CHECK GOOGLE COLAB\n",
    "GOOGLE_COLAB=False\n",
    "if 'google.colab' in str(get_ipython()):\n",
    "  GOOGLE_COLAB=True  \n",
    "  print('Running on CoLab')\n",
    "else:\n",
    "  print('Not running on CoLab')"
   ]
  },
  {
   "cell_type": "markdown",
   "id": "26ebcbc7-a0de-4a91-aa76-4f422bd2383c",
   "metadata": {
    "id": "26ebcbc7-a0de-4a91-aa76-4f422bd2383c",
    "outputId": "eba0a3a5-140a-404c-f883-4f3124dcfbae"
   },
   "source": [
    "Checking if GPU is available and GPU characteristics."
   ]
  },
  {
   "cell_type": "code",
   "execution_count": 13,
   "id": "e6fa0226-d138-40dd-bab2-7d0aedec9746",
   "metadata": {
    "colab": {
     "base_uri": "https://localhost:8080/"
    },
    "id": "e6fa0226-d138-40dd-bab2-7d0aedec9746",
    "outputId": "5e23fa1a-c6e4-4d23-ef98-ca90335cfe32"
   },
   "outputs": [
    {
     "name": "stdout",
     "output_type": "stream",
     "text": [
      "Num GPUs Available: 1\n",
      "Found GPU at: /device:GPU:0\n",
      "Mon Sep 19 19:37:41 2022       \n",
      "+-----------------------------------------------------------------------------+\n",
      "| NVIDIA-SMI 512.78       Driver Version: 512.78       CUDA Version: 11.6     |\n",
      "|-------------------------------+----------------------+----------------------+\n",
      "| GPU  Name            TCC/WDDM | Bus-Id        Disp.A | Volatile Uncorr. ECC |\n",
      "| Fan  Temp  Perf  Pwr:Usage/Cap|         Memory-Usage | GPU-Util  Compute M. |\n",
      "|                               |                      |               MIG M. |\n",
      "|===============================+======================+======================|\n",
      "|   0  NVIDIA GeForce ... WDDM  | 00000000:01:00.0 Off |                  N/A |\n",
      "| N/A   49C    P8    N/A /  N/A |    164MiB /  2048MiB |      0%      Default |\n",
      "|                               |                      |                  N/A |\n",
      "+-------------------------------+----------------------+----------------------+\n",
      "                                                                               \n",
      "+-----------------------------------------------------------------------------+\n",
      "| Processes:                                                                  |\n",
      "|  GPU   GI   CI        PID   Type   Process name                  GPU Memory |\n",
      "|        ID   ID                                                   Usage      |\n",
      "|=============================================================================|\n",
      "|    0   N/A  N/A     12608      C   ...tensorflow-lsr\\python.exe    N/A      |\n",
      "+-----------------------------------------------------------------------------+\n"
     ]
    }
   ],
   "source": [
    "#CHECK GPU\n",
    "device_name = tf.test.gpu_device_name()\n",
    "if device_name != '/device:GPU:0':\n",
    "  print('GPU device not found')\n",
    "else:\n",
    "  print('Num GPUs Available: {}'.format(len(tf.config.list_physical_devices('GPU'))))\n",
    "  print('Found GPU at: {}'.format(device_name))\n",
    "  gpu_info = !nvidia-smi\n",
    "  gpu_info = '\\n'.join(gpu_info)\n",
    "  if gpu_info.find('failed') >= 0:\n",
    "     print('Not connected to a GPU')\n",
    "  else:\n",
    "     print(gpu_info)"
   ]
  },
  {
   "cell_type": "code",
   "execution_count": 14,
   "id": "d259c02c-bb23-43d6-899b-f9cbd4ca898d",
   "metadata": {
    "colab": {
     "base_uri": "https://localhost:8080/"
    },
    "id": "d259c02c-bb23-43d6-899b-f9cbd4ca898d",
    "outputId": "08755300-d22b-4d18-e2e4-3865a62bc1e6"
   },
   "outputs": [],
   "source": [
    "if padding==True:\n",
    "    categories_size=categories_size+1\n",
    "\n",
    "if GOOGLE_COLAB==False:\n",
    "    data_dir = '../../data/datasets/ALL_MM/W50'\n",
    "    models_dir = './SAVED_MODELS'\n",
    "\n",
    "else:\n",
    "    from google.colab import drive\n",
    "    drive.mount('/content/drive')\n",
    "    import sys\n",
    "    #set the path to find RNAEd module\n",
    "    sys.path.insert(0,'/content/drive/MyDrive/ColabNotebooks')    \n",
    "    data_dir  = '/content/drive/MyDrive/DATASETS/ALL_MM/W50'\n",
    "    models_dir= '/content/drive/MyDrive/MODELS'"
   ]
  },
  {
   "cell_type": "code",
   "execution_count": 15,
   "id": "d3277a99-0187-4e81-b4e7-a5bb99d7cc27",
   "metadata": {
    "colab": {
     "base_uri": "https://localhost:8080/"
    },
    "id": "d3277a99-0187-4e81-b4e7-a5bb99d7cc27",
    "outputId": "ffb8e821-e78f-4b06-e4c9-f12b578a3d7b"
   },
   "outputs": [
    {
     "name": "stdout",
     "output_type": "stream",
     "text": [
      "Number of channels: 2 /categories: [['A', 'G', 'C', 'T'], ['s', 'd', 'h', 'i', 'b']]\n",
      "Number of codes=21\n",
      "('A', 's') / 0\n",
      "('A', 'd') / 1\n",
      "('A', 'h') / 2\n",
      "('A', 'i') / 3\n",
      "('A', 'b') / 4\n",
      "('G', 's') / 5\n",
      "('G', 'd') / 6\n",
      "('G', 'h') / 7\n",
      "('G', 'i') / 8\n",
      "('G', 'b') / 9\n",
      "('C', 's') / 10\n",
      "('C', 'd') / 11\n",
      "('C', 'h') / 12\n",
      "('C', 'i') / 13\n",
      "('C', 'b') / 14\n",
      "('T', 's') / 15\n",
      "('T', 'd') / 16\n",
      "('T', 'h') / 17\n",
      "('T', 'i') / 18\n",
      "('T', 'b') / 19\n",
      "('*', '*') / 20\n",
      "Number of codes or categories size: 21\n"
     ]
    }
   ],
   "source": [
    "from rnaed import DataGenerator,DataEncoding\n",
    "encoding=DataEncoding(categories,padding=padding,pad_char=\"*\")\n",
    "n_ch,cat=encoding.getChannels()\n",
    "print(\"Number of channels: {} /categories: {}\".format(n_ch,cat))\n",
    "encoding.print_LUT_TupleToInteger()\n",
    "categories_size=encoding.getNumCodes()\n",
    "print(\"Number of codes or categories size: {}\".format(categories_size))"
   ]
  },
  {
   "cell_type": "code",
   "execution_count": 16,
   "id": "d1f58b95-6aea-45de-af97-5f2964dd413a",
   "metadata": {
    "colab": {
     "base_uri": "https://localhost:8080/"
    },
    "id": "d1f58b95-6aea-45de-af97-5f2964dd413a",
    "outputId": "5b049106-795f-4a6b-9653-39ae4de5eb59"
   },
   "outputs": [
    {
     "name": "stdout",
     "output_type": "stream",
     "text": [
      "LAST MODEL FILE: ./SAVED_MODELS\\TFM_CNN_MM.h5\n",
      "BEST MODEL FILE: ./SAVED_MODELS\\best_model_TFM_CNN_MM.h5\n"
     ]
    }
   ],
   "source": [
    "#We can save best model and last model\n",
    "best_model = 'best_model_'+model_name+'.h5'\n",
    "last_model =  model_name+'.h5'\n",
    "lastmodelfile = os.path.join(models_dir, last_model)\n",
    "print(\"LAST MODEL FILE: {}\".format(lastmodelfile))\n",
    "bestmodelfile = os.path.join(models_dir, best_model)\n",
    "print(\"BEST MODEL FILE: {}\".format(bestmodelfile))\n",
    "datafile = os.path.join(data_dir, fname)    "
   ]
  },
  {
   "cell_type": "markdown",
   "id": "8c001b8d-f491-45da-a667-9d566df08c38",
   "metadata": {
    "id": "8c001b8d-f491-45da-a667-9d566df08c38",
    "outputId": "dca7aef9-a604-426f-ef3d-725b81ca9baa"
   },
   "source": [
    "We read the data."
   ]
  },
  {
   "cell_type": "code",
   "execution_count": 17,
   "id": "206aec14-c210-499a-9601-09d1443cd01e",
   "metadata": {
    "colab": {
     "base_uri": "https://localhost:8080/"
    },
    "id": "206aec14-c210-499a-9601-09d1443cd01e",
    "outputId": "c6d6e99a-cd09-495f-d7b3-2198c2c3c73e"
   },
   "outputs": [
    {
     "name": "stdout",
     "output_type": "stream",
     "text": [
      "DATASET: ../../data/datasets/ALL_MM/W50\\mm10_DL_Pad_W50_BALANCED_1_1_CODED2CH.csv\n",
      "shape data=(59294, 104)\n"
     ]
    }
   ],
   "source": [
    "print(\"DATASET: {}\".format(datafile))\n",
    "data = pd.read_csv(datafile,sep=separator_char)\n",
    "print(\"shape data={}\".format(data.shape))"
   ]
  },
  {
   "cell_type": "markdown",
   "id": "d4689c11-867e-44b1-bb6c-8be3e6628d34",
   "metadata": {
    "id": "d4689c11-867e-44b1-bb6c-8be3e6628d34",
    "outputId": "c6394162-7647-4e1e-a983-2aa4df3a5242"
   },
   "source": [
    "We will divide the data into: train, validation and test.\n",
    "The three datastes should be well balanced."
   ]
  },
  {
   "cell_type": "code",
   "execution_count": 18,
   "id": "0e044074-ce2c-436b-a89c-bece4f06c495",
   "metadata": {
    "colab": {
     "base_uri": "https://localhost:8080/"
    },
    "id": "0e044074-ce2c-436b-a89c-bece4f06c495",
    "outputId": "c6f6e7cb-cdc3-4c78-e2a0-f664588c87fc"
   },
   "outputs": [
    {
     "name": "stdout",
     "output_type": "stream",
     "text": [
      "<bound method NDFrame.head of                        GENE    POS  EDITING  P1  P2  P3  P4  P5  P6  P7  ...  \\\n",
      "0       Ift140_Ift140_chr17  32742        0   6   1   1   1  16   6  16  ...   \n",
      "1          Ip6k2_Ip6k2_chr9   5990        0  18  11   1  16  11  16  16  ...   \n",
      "2         Cenpo_Cenpo_chr12   5245        0   6  16   0   0   6   6   1  ...   \n",
      "3       Dusp22_Dusp22_chr13  49383        0  18   8   8  18   8  18  18  ...   \n",
      "4      Atp6ap1_Atp6ap1_chrX   3884        0  16  16   6  16   6  11  15  ...   \n",
      "...                     ...    ...      ...  ..  ..  ..  ..  ..  ..  ..  ...   \n",
      "59289    Malsu1_Malsu1_chr6   2003        1   6   6  16   6  16   6   6  ...   \n",
      "59290      Chst7_Chst7_chrX  13004        1  13   3   6   1  11   1  11  ...   \n",
      "59291        Nptn_Nptn_chr9  48649        1  13   3  11  16  11  11   1  ...   \n",
      "59292   Adarb1_Adarb1_chr10  31876        1   7  12  12   2   2   2   2  ...   \n",
      "59293        Rpgr_Rpgr_chrX  24940        1  11   5  15  10  16   1  16  ...   \n",
      "\n",
      "       P92  P93  P94  P95  P96  P97  P98  P99  P100  P101  \n",
      "0        1    1    1   18    1    1    6    1     1     1  \n",
      "1       18   11   16   11   16   16   18   11    16    16  \n",
      "2        6    1    6    6    1   10    1   11     1    11  \n",
      "3        3    3   13    3    3    6    6    6     1     6  \n",
      "4        3   18    3    3   16   11   16   16    19     6  \n",
      "...    ...  ...  ...  ...  ...  ...  ...  ...   ...   ...  \n",
      "59289   11   11    1    6    6   11   11    3     6    11  \n",
      "59290    1    6   11    1    6   16   11    9     6     6  \n",
      "59291    1    6    3   11   16   11    1    1     6    11  \n",
      "59292   16    1    1    1   16    3   18   13    18     3  \n",
      "59293    8    8   16   11   11   11   13   13     3    18  \n",
      "\n",
      "[59294 rows x 104 columns]>\n"
     ]
    }
   ],
   "source": [
    "print(data.head)"
   ]
  },
  {
   "cell_type": "code",
   "execution_count": 19,
   "id": "ae0e9343-353e-4b66-921e-2e2d0966bf5c",
   "metadata": {
    "colab": {
     "base_uri": "https://localhost:8080/"
    },
    "id": "ae0e9343-353e-4b66-921e-2e2d0966bf5c",
    "outputId": "bf92defd-fd04-4779-c0b0-df3aec1a2c69"
   },
   "outputs": [
    {
     "name": "stdout",
     "output_type": "stream",
     "text": [
      "data_train:(41505, 104) data_y_train:(41505,)\n",
      "data_val: (8894, 104) data_y_val: (8894,)\n",
      "data_test: (8895, 104) data_y_test: (8895,)\n",
      "TRAIN LABELS:\n",
      "1    20880\n",
      "0    20625\n",
      "Name: EDITING, dtype: int64\n",
      "VALIDATION LABELS:\n",
      "0    4513\n",
      "1    4381\n",
      "Name: EDITING, dtype: int64\n",
      "TEST LABELS:\n",
      "0    4509\n",
      "1    4386\n",
      "Name: EDITING, dtype: int64\n"
     ]
    }
   ],
   "source": [
    "# Train and Validation+Test\n",
    "data_train, data_val_test, data_y_train, data_y_val_test = train_test_split(data, data['EDITING'], test_size=1-ptrain, random_state=random_seed)\n",
    "#Validation and test: 0.5/0.5\n",
    "data_val, data_test, data_y_val, data_y_test = train_test_split(data_val_test, data_y_val_test, test_size=0.5, random_state=random_seed)\n",
    "\n",
    "print(\"data_train:{} data_y_train:{}\".format(data_train.shape,data_y_train.shape))\n",
    "print(\"data_val: {} data_y_val: {}\".format(data_val.shape,data_y_val.shape))\n",
    "print(\"data_test: {} data_y_test: {}\".format(data_test.shape,data_y_test.shape))\n",
    "print(\"TRAIN LABELS:\")\n",
    "print(data_y_train.value_counts())\n",
    "print(\"VALIDATION LABELS:\")\n",
    "print(data_y_val.value_counts())\n",
    "print(\"TEST LABELS:\")\n",
    "print(data_y_test.value_counts())"
   ]
  },
  {
   "cell_type": "markdown",
   "id": "6da206f4-e9f8-4b63-a2c3-eb8488556381",
   "metadata": {
    "id": "6da206f4-e9f8-4b63-a2c3-eb8488556381"
   },
   "source": [
    "We instantiate 3 DataGenerator objects that convert from integer to one-hot"
   ]
  },
  {
   "cell_type": "code",
   "execution_count": 20,
   "id": "801f208a-c441-4bb4-b300-642edd73d955",
   "metadata": {
    "id": "801f208a-c441-4bb4-b300-642edd73d955"
   },
   "outputs": [],
   "source": [
    "#DataGenerator converts on the fly from raw data to one-hot\n",
    "num_nucleosides = data_train.iloc[:,3:].shape[1]\n",
    "num_tokens = categories_size\n",
    "\n",
    "training_generator   = DataGenerator(data_train.iloc[:,3:], data_y_train, batch_size=batch_size, seq_size=num_nucleosides, categories_size=categories_size, shuffle=True)\n",
    "validation_generator = DataGenerator(  data_val.iloc[:,3:], data_y_val,   batch_size=batch_size, seq_size=num_nucleosides, categories_size=categories_size, shuffle=True)\n",
    "test_generator       = DataGenerator( data_test.iloc[:,3:], data_y_test,  batch_size=1,seq_size=num_nucleosides, categories_size=categories_size, shuffle=False )"
   ]
  },
  {
   "cell_type": "markdown",
   "id": "77ef2548-0324-428e-9211-2f524ed4cbbe",
   "metadata": {
    "id": "77ef2548-0324-428e-9211-2f524ed4cbbe",
    "outputId": "eb581962-8561-491c-822c-04e260bcf0cd"
   },
   "source": [
    "## Model defined from the scratch"
   ]
  },
  {
   "cell_type": "code",
   "execution_count": 12,
   "id": "9befc116-6a79-470f-bb95-62ca3a89d3e6",
   "metadata": {
    "colab": {
     "base_uri": "https://localhost:8080/"
    },
    "id": "857b34b7-ddaa-465a-8f3b-69e9e321fd2c",
    "outputId": "110217be-5217-4c27-c817-d0dd921d1ab2"
   },
   "outputs": [],
   "source": [
    "#MODELOS REDES NEURONALES CNN\n",
    "\n",
    "model = Sequential(name=model_name)\n",
    "#===============================================================\n",
    "model.add(layers.Conv1D(num_channels, kernel_width, activation='relu',input_shape=(num_nucleosides, num_tokens),name=\"Conv1D_1\"))\n",
    "model.add(layers.Dropout(cnn_dropout,name=\"Dropout_1\"))\n",
    "model.add(layers.MaxPooling1D(5,name=\"MaxPool_1\"))\n",
    "#-------------------------------------------------\n",
    "model.add(layers.Conv1D(num_channels,6, activation='relu',name=\"Conv1D_2\"))\n",
    "model.add(layers.Dropout(cnn_dropout,name=\"Dropout_2\"))\n",
    "model.add(layers.MaxPooling1D(5,name=\"MaxPool_2\"))\n",
    "#-------------------------------------------------\n",
    "model.add(layers.Conv1D(num_channels,2, activation='relu',name=\"Conv1D_3\"))\n",
    "model.add(layers.Dropout(cnn_dropout,name=\"Dropout_3\"))\n",
    "model.add(layers.GlobalMaxPooling1D(name=\"GMaxPool_3\"))\n",
    "#-------------------------------------------------\n",
    "model.add(layers.Dense(1, activation='sigmoid',name=\"DenseOutput\"))\n",
    "#==============================================================="
   ]
  },
  {
   "cell_type": "code",
   "execution_count": 13,
   "id": "8eaaa16b-bced-4c8b-91cf-be7ba77f509a",
   "metadata": {
    "colab": {
     "base_uri": "https://localhost:8080/"
    },
    "id": "857b34b7-ddaa-465a-8f3b-69e9e321fd2c",
    "outputId": "110217be-5217-4c27-c817-d0dd921d1ab2"
   },
   "outputs": [
    {
     "name": "stdout",
     "output_type": "stream",
     "text": [
      "Model: \"TFM_CNN_MM\"\n",
      "_________________________________________________________________\n",
      " Layer (type)                Output Shape              Param #   \n",
      "=================================================================\n",
      " Conv1D_1 (Conv1D)           (None, 93, 256)           48640     \n",
      "                                                                 \n",
      " Dropout_1 (Dropout)         (None, 93, 256)           0         \n",
      "                                                                 \n",
      " MaxPool_1 (MaxPooling1D)    (None, 18, 256)           0         \n",
      "                                                                 \n",
      " Conv1D_2 (Conv1D)           (None, 13, 256)           393472    \n",
      "                                                                 \n",
      " Dropout_2 (Dropout)         (None, 13, 256)           0         \n",
      "                                                                 \n",
      " MaxPool_2 (MaxPooling1D)    (None, 2, 256)            0         \n",
      "                                                                 \n",
      " Conv1D_3 (Conv1D)           (None, 1, 256)            131328    \n",
      "                                                                 \n",
      " Dropout_3 (Dropout)         (None, 1, 256)            0         \n",
      "                                                                 \n",
      " GMaxPool_3 (GlobalMaxPoolin  (None, 256)              0         \n",
      " g1D)                                                            \n",
      "                                                                 \n",
      " DenseOutput (Dense)         (None, 1)                 257       \n",
      "                                                                 \n",
      "=================================================================\n",
      "Total params: 573,697\n",
      "Trainable params: 573,697\n",
      "Non-trainable params: 0\n",
      "_________________________________________________________________\n",
      "None\n"
     ]
    }
   ],
   "source": [
    "#Mostramos el modelo\n",
    "print(model.summary())"
   ]
  },
  {
   "cell_type": "code",
   "execution_count": 14,
   "id": "ddc47876-f37d-49b9-8927-208034317df9",
   "metadata": {
    "id": "ddc47876-f37d-49b9-8927-208034317df9"
   },
   "outputs": [],
   "source": [
    "#Compilation reset all weights\n",
    "model.compile(optimizer=keras.optimizers.Adam(),\n",
    "              loss     =keras.losses.BinaryCrossentropy(),\n",
    "              metrics  =[keras.metrics.BinaryAccuracy()])"
   ]
  },
  {
   "cell_type": "markdown",
   "id": "9WyvcKhMJSEE",
   "metadata": {
    "id": "9WyvcKhMJSEE"
   },
   "source": [
    "Recover last model, best model or generate a new model"
   ]
  },
  {
   "cell_type": "code",
   "execution_count": 21,
   "id": "643c51c7-f1ee-489b-b306-fbf948a07a51",
   "metadata": {
    "id": "643c51c7-f1ee-489b-b306-fbf948a07a51"
   },
   "outputs": [],
   "source": [
    "#Load the trained model from disk\n",
    "import os.path\n",
    "\n",
    "best_model_accuracy =0\n",
    "last_model_accuracy =0\n"
   ]
  },
  {
   "cell_type": "code",
   "execution_count": 22,
   "id": "3IuCH91HwwUR",
   "metadata": {
    "id": "3IuCH91HwwUR"
   },
   "outputs": [
    {
     "name": "stdout",
     "output_type": "stream",
     "text": [
      "Testing best model file: ./SAVED_MODELS\\best_model_TFM_CNN_MM.h5\n",
      "277/277 [==============================] - 23s 67ms/step - loss: 0.3857 - binary_accuracy: 0.8460\n",
      "best model accuracy: 0.8460063338279724\n"
     ]
    }
   ],
   "source": [
    "if os.path.exists(bestmodelfile):\n",
    "    model = tf.keras.models.load_model(bestmodelfile)\n",
    "    print(\"Testing best model file: {}\".format(bestmodelfile))\n",
    "    results = model.evaluate(validation_generator,verbose=1)\n",
    "    best_model_accuracy = results[1]\n",
    "    print(\"best model accuracy: {}\".format(best_model_accuracy))    "
   ]
  },
  {
   "cell_type": "code",
   "execution_count": 23,
   "id": "rxiGXKZhwbS-",
   "metadata": {
    "id": "rxiGXKZhwbS-"
   },
   "outputs": [
    {
     "name": "stdout",
     "output_type": "stream",
     "text": [
      "Testing last complete model file: ./SAVED_MODELS\\TFM_CNN_MM.h5\n",
      "277/277 [==============================] - 21s 77ms/step - loss: 0.3859 - binary_accuracy: 0.8460\n",
      "last model accuracy: 0.8460063338279724\n"
     ]
    }
   ],
   "source": [
    "if os.path.exists(lastmodelfile):\n",
    "    model = tf.keras.models.load_model(lastmodelfile)\n",
    "    print(\"Testing last complete model file: {}\".format(lastmodelfile))\n",
    "    results = model.evaluate(validation_generator,verbose=1)\n",
    "    last_model_accuracy = results[1]\n",
    "    print(\"last model accuracy: {}\".format(last_model_accuracy))           \n"
   ]
  },
  {
   "cell_type": "code",
   "execution_count": 24,
   "id": "58jDsR4BwkN-",
   "metadata": {
    "colab": {
     "base_uri": "https://localhost:8080/"
    },
    "id": "58jDsR4BwkN-",
    "outputId": "75e74478-37ce-4fd9-836b-94d87a792372"
   },
   "outputs": [
    {
     "name": "stdout",
     "output_type": "stream",
     "text": [
      "Selected best model saved: ./SAVED_MODELS\\best_model_TFM_CNN_MM.h5\n",
      "Model: \"sequential_7\"\n",
      "_________________________________________________________________\n",
      " Layer (type)                Output Shape              Param #   \n",
      "=================================================================\n",
      " Conv1D_1 (Conv1D)           (None, 93, 256)           48640     \n",
      "                                                                 \n",
      " Dropout_1 (Dropout)         (None, 93, 256)           0         \n",
      "                                                                 \n",
      " MaxPool_1 (MaxPooling1D)    (None, 18, 256)           0         \n",
      "                                                                 \n",
      " Conv1D_2 (Conv1D)           (None, 13, 256)           393472    \n",
      "                                                                 \n",
      " Dropout_2 (Dropout)         (None, 13, 256)           0         \n",
      "                                                                 \n",
      " MaxPool_2 (MaxPooling1D)    (None, 2, 256)            0         \n",
      "                                                                 \n",
      " Conv1D_3 (Conv1D)           (None, 1, 256)            131328    \n",
      "                                                                 \n",
      " Dropout_3 (Dropout)         (None, 1, 256)            0         \n",
      "                                                                 \n",
      " GMaxPool_3 (GlobalMaxPoolin  (None, 256)              0         \n",
      " g1D)                                                            \n",
      "                                                                 \n",
      " DenseOutput (Dense)         (None, 1)                 257       \n",
      "                                                                 \n",
      "=================================================================\n",
      "Total params: 573,697\n",
      "Trainable params: 573,697\n",
      "Non-trainable params: 0\n",
      "_________________________________________________________________\n"
     ]
    }
   ],
   "source": [
    "if best_model_accuracy >= last_model_accuracy and best_model_accuracy != 0:\n",
    "   model = tf.keras.models.load_model(bestmodelfile)\n",
    "   print(\"Selected best model saved: {}\".format(bestmodelfile))\n",
    "else:\n",
    "  if last_model_accuracy > best_model_accuracy:\n",
    "     print(\"Selected last model saved: {}\".format(lastmodelfile))\n",
    "  else:\n",
    "     print(\"Selected new untrained model\")\n",
    "\n",
    "# Show the model architecture\n",
    "model.summary()"
   ]
  },
  {
   "cell_type": "code",
   "execution_count": 25,
   "id": "644b1c7b-7c45-4483-88fc-e60a012edba0",
   "metadata": {
    "colab": {
     "base_uri": "https://localhost:8080/",
     "height": 1000
    },
    "id": "644b1c7b-7c45-4483-88fc-e60a012edba0",
    "outputId": "1d041053-f486-491e-ccb1-220a21f4fc0f"
   },
   "outputs": [
    {
     "data": {
      "image/png": "[encoded data removed]",
      "text/plain": [
       "<IPython.core.display.Image object>"
      ]
     },
     "execution_count": 25,
     "metadata": {},
     "output_type": "execute_result"
    }
   ],
   "source": [
    "keras.utils.plot_model(model, show_shapes=True)"
   ]
  },
  {
   "cell_type": "code",
   "execution_count": 22,
   "id": "84d28828-8ee5-4bc6-8b97-1e06ab60c519",
   "metadata": {
    "id": "84d28828-8ee5-4bc6-8b97-1e06ab60c519"
   },
   "outputs": [],
   "source": [
    "from keras.callbacks import ModelCheckpoint,EarlyStopping\n",
    "\n",
    "checkpoint = ModelCheckpoint(bestmodelfile, \n",
    "                             monitor='val_loss', \n",
    "                             verbose=1,\n",
    "                             save_best_only=True, \n",
    "                             mode='auto', \n",
    "                             save_freq='epoch')\n",
    "\n",
    "callback=EarlyStopping(monitor='val_loss', \n",
    "                       min_delta=0, \n",
    "                       patience=3, \n",
    "                       verbose=1, \n",
    "                       mode='auto',\n",
    "                       baseline=None, \n",
    "                       restore_best_weights=True)"
   ]
  },
  {
   "cell_type": "code",
   "execution_count": null,
   "id": "22345410-c762-42e4-9767-5ef8b1edb003",
   "metadata": {
    "colab": {
     "base_uri": "https://localhost:8080/"
    },
    "id": "22345410-c762-42e4-9767-5ef8b1edb003",
    "outputId": "69c02a81-1af8-4e60-feca-55788aef2b88"
   },
   "outputs": [],
   "source": [
    "with tf.device(device_name):#Use GPU if available\n",
    "    history=model.fit(training_generator,epochs=n_epochs,\n",
    "                      validation_data=validation_generator,\n",
    "                      callbacks=[checkpoint,callback],verbose=trace_level)"
   ]
  },
  {
   "cell_type": "code",
   "execution_count": null,
   "id": "c8edd824-ea63-46fa-a917-5e41dbd3422c",
   "metadata": {
    "colab": {
     "base_uri": "https://localhost:8080/"
    },
    "id": "c8edd824-ea63-46fa-a917-5e41dbd3422c",
    "outputId": "64b70c56-d0aa-4c8d-b559-44eb67baa031"
   },
   "outputs": [],
   "source": [
    "#We always save the last model.\n",
    "#Last model can be triggered by early stopping\n",
    "n_epochs_trained = len(history.history['loss'])\n",
    "print(\"Trained epochs: {} of {}\".format(n_epochs_trained,n_epochs))\n",
    "model.save(lastmodelfile)    "
   ]
  },
  {
   "cell_type": "code",
   "execution_count": null,
   "id": "634fb710-78e7-4734-b41f-eccd0a9ff589",
   "metadata": {
    "colab": {
     "base_uri": "https://localhost:8080/",
     "height": 551
    },
    "id": "634fb710-78e7-4734-b41f-eccd0a9ff589",
    "outputId": "7eb4ccb3-1b37-4627-e7ce-b133b6435ce2"
   },
   "outputs": [],
   "source": [
    "#PLOT ACCURACY AND LOSS\n",
    "\n",
    "acc = history.history['binary_accuracy']\n",
    "val_acc = history.history['val_binary_accuracy']\n",
    "loss = history.history['loss']\n",
    "val_loss = history.history['val_loss']\n",
    "\n",
    "epochs = range(1, len(acc) + 1)\n",
    "\n",
    "plt.plot(epochs, acc, 'bo', label='Training acc')\n",
    "plt.plot(epochs, val_acc, 'b', label='Validation acc')\n",
    "plt.title('Training and validation accuracy')\n",
    "plt.legend()\n",
    "plt.figure()\n",
    "plt.plot(epochs, loss, 'bo', label='Training loss')\n",
    "plt.plot(epochs, val_loss, 'b', label='Validation loss')\n",
    "plt.title('Training and validation loss')\n",
    "plt.legend()\n",
    "plt.show()"
   ]
  },
  {
   "cell_type": "markdown",
   "id": "c366e2cf-105b-4007-8732-9c3f330f9cb2",
   "metadata": {
    "id": "c366e2cf-105b-4007-8732-9c3f330f9cb2",
    "outputId": "c72777c6-5a20-481f-c89e-89ed00121599"
   },
   "source": [
    "We recover the best model saved."
   ]
  },
  {
   "cell_type": "code",
   "execution_count": 26,
   "id": "d657a2d3-548a-4475-a171-831406ed1140",
   "metadata": {
    "id": "d657a2d3-548a-4475-a171-831406ed1140"
   },
   "outputs": [],
   "source": [
    "if os.path.exists(bestmodelfile):\n",
    "    model = tf.keras.models.load_model(bestmodelfile)"
   ]
  },
  {
   "cell_type": "markdown",
   "id": "4a11909c-fe48-433d-a1ab-b038b301bc16",
   "metadata": {
    "id": "4a11909c-fe48-433d-a1ab-b038b301bc16",
    "outputId": "c72777c6-5a20-481f-c89e-89ed00121599"
   },
   "source": [
    "We evaluate the best model on validation data."
   ]
  },
  {
   "cell_type": "code",
   "execution_count": 27,
   "id": "4bae3e40-6872-49cd-95c2-91b624ee4193",
   "metadata": {
    "colab": {
     "base_uri": "https://localhost:8080/"
    },
    "id": "4bae3e40-6872-49cd-95c2-91b624ee4193",
    "outputId": "7c161421-fd74-4a66-cd01-a906ec40a5e9"
   },
   "outputs": [
    {
     "name": "stdout",
     "output_type": "stream",
     "text": [
      "Evaluate models on validation data\n",
      "277/277 [==============================] - 21s 75ms/step - loss: 0.3854 - binary_accuracy: 0.8461\n",
      "Accuracy on validation data: 0.846\n",
      "Loss on validation data: 0.385\n"
     ]
    }
   ],
   "source": [
    "#EVALUATE VALIDATION DATASET\n",
    "print(\"Evaluate models on validation data\")\n",
    "results_model = model.evaluate(validation_generator,verbose=trace_level)\n",
    "print ('Accuracy on validation data:',round(results_model[1],3))\n",
    "print ('Loss on validation data:',round(results_model[0],3))"
   ]
  },
  {
   "cell_type": "markdown",
   "id": "81704c88-897a-4f89-b1f5-80f6a5f3d364",
   "metadata": {
    "id": "81704c88-897a-4f89-b1f5-80f6a5f3d364",
    "outputId": "205c012b-84d2-4f51-c96a-398417f7e61f"
   },
   "source": [
    "We make predictions on test data, never used during training nor validation"
   ]
  },
  {
   "cell_type": "code",
   "execution_count": 28,
   "id": "fb7abf2c-e423-485d-a543-06f4743971c7",
   "metadata": {
    "colab": {
     "base_uri": "https://localhost:8080/"
    },
    "id": "fb7abf2c-e423-485d-a543-06f4743971c7",
    "outputId": "8117e881-3146-418d-9334-3bc692bebebf"
   },
   "outputs": [
    {
     "name": "stdout",
     "output_type": "stream",
     "text": [
      "Make predictions on test data\n",
      "8895/8895 [==============================] - 29s 3ms/step\n"
     ]
    }
   ],
   "source": [
    "#PREDICTIONS\n",
    "print(\"Make predictions on test data\")\n",
    "model_prediction = model.predict(test_generator,verbose=trace_level)\n",
    "model_prediction_binary = (model_prediction > 0.5).astype(\"int32\")"
   ]
  },
  {
   "cell_type": "code",
   "execution_count": 29,
   "id": "d08289e1-32e4-4290-82c7-b87718f230a9",
   "metadata": {
    "colab": {
     "base_uri": "https://localhost:8080/"
    },
    "id": "d08289e1-32e4-4290-82c7-b87718f230a9",
    "outputId": "3fdf6b6d-35b7-495f-a333-1598bf399ca2"
   },
   "outputs": [
    {
     "name": "stdout",
     "output_type": "stream",
     "text": [
      "(8895, 104)\n",
      "(8895,)\n",
      "(8895, 1)\n",
      "(8895, 1)\n"
     ]
    }
   ],
   "source": [
    "print(data_test.shape)\n",
    "print(data_y_test.shape)\n",
    "print(model_prediction.shape)\n",
    "print(model_prediction_binary.shape)"
   ]
  },
  {
   "cell_type": "code",
   "execution_count": 30,
   "id": "a9296b0f-efc6-4133-aaff-949a4159e5f7",
   "metadata": {
    "colab": {
     "base_uri": "https://localhost:8080/"
    },
    "id": "a9296b0f-efc6-4133-aaff-949a4159e5f7",
    "outputId": "a0cd6e76-f023-4519-9bac-6124d8cd129e"
   },
   "outputs": [
    {
     "name": "stdout",
     "output_type": "stream",
     "text": [
      "MODEL TFM_CNN_MM\n",
      "---------------------------------\n",
      "Kappa: 0.692\n",
      "              precision    recall  f1-score   support\n",
      "\n",
      "           0       0.82      0.89      0.85      4509\n",
      "           1       0.88      0.80      0.84      4386\n",
      "\n",
      "    accuracy                           0.85      8895\n",
      "   macro avg       0.85      0.85      0.85      8895\n",
      "weighted avg       0.85      0.85      0.85      8895\n",
      "\n"
     ]
    }
   ],
   "source": [
    "#METRICS QUALITY CLASSIFICATION\n",
    "print(\"MODEL \"+model_name+\"\\n---------------------------------\")\n",
    "kappa = cohen_kappa_score(data_y_test, model_prediction_binary)\n",
    "print ('Kappa:',round(kappa,3))\n",
    "print(classification_report(data_y_test, model_prediction_binary))"
   ]
  },
  {
   "cell_type": "code",
   "execution_count": 31,
   "id": "686f01e9-daf3-43f6-bd2f-d1fee30059cb",
   "metadata": {
    "colab": {
     "base_uri": "https://localhost:8080/",
     "height": 346
    },
    "id": "686f01e9-daf3-43f6-bd2f-d1fee30059cb",
    "outputId": "7817677f-440f-4bd7-87b8-3b2a194212a3"
   },
   "outputs": [
    {
     "data": {
      "image/png": "[encoded data removed]",
      "text/plain": [
       "<Figure size 432x288 with 2 Axes>"
      ]
     },
     "metadata": {},
     "output_type": "display_data"
    }
   ],
   "source": [
    "from sklearn.metrics import confusion_matrix, precision_score, cohen_kappa_score, classification_report\n",
    "import seaborn as sns; sns.set()\n",
    "# PLOT CONFUSION MATRIX\n",
    "# Tutorial: https://www.stackvidhya.com/plot-confusion-matrix-in-python-and-why/\n",
    "plt.figure()\n",
    "\n",
    "cm = confusion_matrix(data_y_test,model_prediction_binary)\n",
    "\n",
    "group_names = ['TN','FP','FN','TP']\n",
    "group_counts = [\"{0:0.0f}\".format(value) for value in cm.flatten()]\n",
    "group_percentages = [\"{0:.2%}\".format(value) for value in cm.flatten()/np.sum(cm)]\n",
    "\n",
    "labels = [f\"{v1}\\n{v2}\\n{v3}\" for v1, v2, v3 in zip(group_names,group_counts,group_percentages)]\n",
    "labels = np.asarray(labels).reshape(2,2)\n",
    "\n",
    "ax = sns.heatmap(cm, annot=labels, fmt='', cmap='Blues')\n",
    "\n",
    "ax.set_title('RNA-Editing Confusion Matrix \\n\\n');\n",
    "ax.set_xlabel('\\nPredicted Values '+ model_name)\n",
    "ax.set_ylabel('Actual Values ');\n",
    "plt.show()\n"
   ]
  },
  {
   "cell_type": "code",
   "execution_count": 32,
   "id": "c1ff605a-c7fd-4160-ba29-a2e88cd1829e",
   "metadata": {
    "colab": {
     "base_uri": "https://localhost:8080/",
     "height": 319
    },
    "id": "c1ff605a-c7fd-4160-ba29-a2e88cd1829e",
    "outputId": "f2bec27b-f7e5-41d5-f7fd-0519773d6de8"
   },
   "outputs": [
    {
     "name": "stdout",
     "output_type": "stream",
     "text": [
      "AUC: 0.91\n"
     ]
    },
    {
     "data": {
      "image/png": "[encoded data removed]",
      "text/plain": [
       "<Figure size 432x288 with 1 Axes>"
      ]
     },
     "metadata": {},
     "output_type": "display_data"
    }
   ],
   "source": [
    "from sklearn.metrics import roc_curve\n",
    "from sklearn.metrics import roc_auc_score\n",
    "\n",
    "def plot_roc_curve(fpr, tpr):\n",
    "    plt.plot(fpr, tpr, color=\"orange\", label=\"ROC\")\n",
    "    plt.plot([0, 1], [0, 1], color=\"darkblue\", linestyle=\"--\")\n",
    "    plt.xlabel('False Positive Rate')\n",
    "    plt.ylabel('True Positive Rate')\n",
    "    plt.title('Receiver Operating Characteristic (ROC) Curve')\n",
    "    plt.legend()\n",
    "    plt.show()\n",
    "\n",
    "auc = roc_auc_score(data_y_test, model_prediction)\n",
    "print('AUC: %.2f' % auc)\n",
    "fpr, tpr, thresholds = roc_curve(data_y_test, model_prediction)\n",
    "plot_roc_curve(fpr, tpr)\n"
   ]
  },
  {
   "cell_type": "markdown",
   "id": "facb79bf-2b29-4e12-baf9-4c1f6d4fee47",
   "metadata": {},
   "source": [
    "# RESULTS INSIGHT"
   ]
  },
  {
   "cell_type": "code",
   "execution_count": 34,
   "id": "79d963cd-af5e-4411-b141-548a02920e3b",
   "metadata": {},
   "outputs": [
    {
     "data": {
      "text/html": [
       "<div>\n",
       "<style scoped>\n",
       "    .dataframe tbody tr th:only-of-type {\n",
       "        vertical-align: middle;\n",
       "    }\n",
       "\n",
       "    .dataframe tbody tr th {\n",
       "        vertical-align: top;\n",
       "    }\n",
       "\n",
       "    .dataframe thead th {\n",
       "        text-align: right;\n",
       "    }\n",
       "</style>\n",
       "<table border=\"1\" class=\"dataframe\">\n",
       "  <thead>\n",
       "    <tr style=\"text-align: right;\">\n",
       "      <th></th>\n",
       "      <th>GENE</th>\n",
       "      <th>POS</th>\n",
       "      <th>EDITING</th>\n",
       "      <th>RESULT_TYPE</th>\n",
       "      <th>PROB_PRED</th>\n",
       "      <th>P1</th>\n",
       "      <th>P2</th>\n",
       "      <th>P3</th>\n",
       "      <th>P4</th>\n",
       "      <th>P5</th>\n",
       "      <th>...</th>\n",
       "      <th>P92</th>\n",
       "      <th>P93</th>\n",
       "      <th>P94</th>\n",
       "      <th>P95</th>\n",
       "      <th>P96</th>\n",
       "      <th>P97</th>\n",
       "      <th>P98</th>\n",
       "      <th>P99</th>\n",
       "      <th>P100</th>\n",
       "      <th>P101</th>\n",
       "    </tr>\n",
       "  </thead>\n",
       "  <tbody>\n",
       "    <tr>\n",
       "      <th>34743</th>\n",
       "      <td>H2afy_H2afy_chr13</td>\n",
       "      <td>48924</td>\n",
       "      <td>0</td>\n",
       "      <td>None</td>\n",
       "      <td>0.042782</td>\n",
       "      <td>11</td>\n",
       "      <td>16</td>\n",
       "      <td>6</td>\n",
       "      <td>11</td>\n",
       "      <td>7</td>\n",
       "      <td>...</td>\n",
       "      <td>12</td>\n",
       "      <td>12</td>\n",
       "      <td>2</td>\n",
       "      <td>7</td>\n",
       "      <td>17</td>\n",
       "      <td>17</td>\n",
       "      <td>2</td>\n",
       "      <td>17</td>\n",
       "      <td>7</td>\n",
       "      <td>2</td>\n",
       "    </tr>\n",
       "    <tr>\n",
       "      <th>50220</th>\n",
       "      <td>Ttc39b_Ttc39b_chr4</td>\n",
       "      <td>22505</td>\n",
       "      <td>0</td>\n",
       "      <td>None</td>\n",
       "      <td>0.118942</td>\n",
       "      <td>12</td>\n",
       "      <td>7</td>\n",
       "      <td>2</td>\n",
       "      <td>2</td>\n",
       "      <td>17</td>\n",
       "      <td>...</td>\n",
       "      <td>0</td>\n",
       "      <td>0</td>\n",
       "      <td>0</td>\n",
       "      <td>0</td>\n",
       "      <td>0</td>\n",
       "      <td>0</td>\n",
       "      <td>15</td>\n",
       "      <td>5</td>\n",
       "      <td>15</td>\n",
       "      <td>5</td>\n",
       "    </tr>\n",
       "    <tr>\n",
       "      <th>36286</th>\n",
       "      <td>C1galt1_C1galt1_chr6</td>\n",
       "      <td>3881</td>\n",
       "      <td>0</td>\n",
       "      <td>None</td>\n",
       "      <td>0.272920</td>\n",
       "      <td>17</td>\n",
       "      <td>12</td>\n",
       "      <td>17</td>\n",
       "      <td>7</td>\n",
       "      <td>7</td>\n",
       "      <td>...</td>\n",
       "      <td>5</td>\n",
       "      <td>15</td>\n",
       "      <td>15</td>\n",
       "      <td>15</td>\n",
       "      <td>10</td>\n",
       "      <td>0</td>\n",
       "      <td>0</td>\n",
       "      <td>15</td>\n",
       "      <td>0</td>\n",
       "      <td>0</td>\n",
       "    </tr>\n",
       "    <tr>\n",
       "      <th>34597</th>\n",
       "      <td>Alkbh3_Alkbh3_chr2</td>\n",
       "      <td>15671</td>\n",
       "      <td>0</td>\n",
       "      <td>None</td>\n",
       "      <td>0.039052</td>\n",
       "      <td>6</td>\n",
       "      <td>11</td>\n",
       "      <td>11</td>\n",
       "      <td>11</td>\n",
       "      <td>11</td>\n",
       "      <td>...</td>\n",
       "      <td>13</td>\n",
       "      <td>11</td>\n",
       "      <td>1</td>\n",
       "      <td>11</td>\n",
       "      <td>1</td>\n",
       "      <td>11</td>\n",
       "      <td>11</td>\n",
       "      <td>6</td>\n",
       "      <td>1</td>\n",
       "      <td>11</td>\n",
       "    </tr>\n",
       "    <tr>\n",
       "      <th>9117</th>\n",
       "      <td>Trub2_Trub2_chr2</td>\n",
       "      <td>9700</td>\n",
       "      <td>1</td>\n",
       "      <td>None</td>\n",
       "      <td>0.906185</td>\n",
       "      <td>6</td>\n",
       "      <td>6</td>\n",
       "      <td>19</td>\n",
       "      <td>6</td>\n",
       "      <td>6</td>\n",
       "      <td>...</td>\n",
       "      <td>11</td>\n",
       "      <td>11</td>\n",
       "      <td>6</td>\n",
       "      <td>6</td>\n",
       "      <td>3</td>\n",
       "      <td>11</td>\n",
       "      <td>6</td>\n",
       "      <td>6</td>\n",
       "      <td>1</td>\n",
       "      <td>9</td>\n",
       "    </tr>\n",
       "  </tbody>\n",
       "</table>\n",
       "<p>5 rows × 106 columns</p>\n",
       "</div>"
      ],
      "text/plain": [
       "                       GENE    POS  EDITING RESULT_TYPE  PROB_PRED  P1  P2  \\\n",
       "34743     H2afy_H2afy_chr13  48924        0        None   0.042782  11  16   \n",
       "50220    Ttc39b_Ttc39b_chr4  22505        0        None   0.118942  12   7   \n",
       "36286  C1galt1_C1galt1_chr6   3881        0        None   0.272920  17  12   \n",
       "34597    Alkbh3_Alkbh3_chr2  15671        0        None   0.039052   6  11   \n",
       "9117       Trub2_Trub2_chr2   9700        1        None   0.906185   6   6   \n",
       "\n",
       "       P3  P4  P5  ...  P92  P93  P94  P95  P96  P97  P98  P99  P100  P101  \n",
       "34743   6  11   7  ...   12   12    2    7   17   17    2   17     7     2  \n",
       "50220   2   2  17  ...    0    0    0    0    0    0   15    5    15     5  \n",
       "36286  17   7   7  ...    5   15   15   15   10    0    0   15     0     0  \n",
       "34597  11  11  11  ...   13   11    1   11    1   11   11    6     1    11  \n",
       "9117   19   6   6  ...   11   11    6    6    3   11    6    6     1     9  \n",
       "\n",
       "[5 rows x 106 columns]"
      ]
     },
     "execution_count": 34,
     "metadata": {},
     "output_type": "execute_result"
    }
   ],
   "source": [
    "results_data = data_test\n",
    "if 'RESULT_TYPE' not in results_data.columns:\n",
    "    #insert column at position 3\n",
    "    results_data.insert(3,\"RESULT_TYPE\", None)\n",
    "    results_data.insert(4,\"PROB_PRED\",model_prediction)\n",
    "else:\n",
    "    print(\"RESULT_TYPE already exists in the dataframe\")\n",
    "\n",
    "results_data.head()"
   ]
  },
  {
   "cell_type": "code",
   "execution_count": 35,
   "id": "b7af18d9-f914-46b2-a372-e0d4a5ccbad8",
   "metadata": {},
   "outputs": [
    {
     "data": {
      "text/html": [
       "<div>\n",
       "<style scoped>\n",
       "    .dataframe tbody tr th:only-of-type {\n",
       "        vertical-align: middle;\n",
       "    }\n",
       "\n",
       "    .dataframe tbody tr th {\n",
       "        vertical-align: top;\n",
       "    }\n",
       "\n",
       "    .dataframe thead th {\n",
       "        text-align: right;\n",
       "    }\n",
       "</style>\n",
       "<table border=\"1\" class=\"dataframe\">\n",
       "  <thead>\n",
       "    <tr style=\"text-align: right;\">\n",
       "      <th></th>\n",
       "      <th>GENE</th>\n",
       "      <th>POS</th>\n",
       "      <th>EDITING</th>\n",
       "      <th>RESULT_TYPE</th>\n",
       "      <th>PROB_PRED</th>\n",
       "      <th>P1</th>\n",
       "      <th>P2</th>\n",
       "      <th>P3</th>\n",
       "      <th>P4</th>\n",
       "      <th>P5</th>\n",
       "      <th>...</th>\n",
       "      <th>P92</th>\n",
       "      <th>P93</th>\n",
       "      <th>P94</th>\n",
       "      <th>P95</th>\n",
       "      <th>P96</th>\n",
       "      <th>P97</th>\n",
       "      <th>P98</th>\n",
       "      <th>P99</th>\n",
       "      <th>P100</th>\n",
       "      <th>P101</th>\n",
       "    </tr>\n",
       "  </thead>\n",
       "  <tbody>\n",
       "    <tr>\n",
       "      <th>34743</th>\n",
       "      <td>H2afy_H2afy_chr13</td>\n",
       "      <td>48924</td>\n",
       "      <td>0</td>\n",
       "      <td>TN</td>\n",
       "      <td>0.042782</td>\n",
       "      <td>11</td>\n",
       "      <td>16</td>\n",
       "      <td>6</td>\n",
       "      <td>11</td>\n",
       "      <td>7</td>\n",
       "      <td>...</td>\n",
       "      <td>12</td>\n",
       "      <td>12</td>\n",
       "      <td>2</td>\n",
       "      <td>7</td>\n",
       "      <td>17</td>\n",
       "      <td>17</td>\n",
       "      <td>2</td>\n",
       "      <td>17</td>\n",
       "      <td>7</td>\n",
       "      <td>2</td>\n",
       "    </tr>\n",
       "    <tr>\n",
       "      <th>50220</th>\n",
       "      <td>Ttc39b_Ttc39b_chr4</td>\n",
       "      <td>22505</td>\n",
       "      <td>0</td>\n",
       "      <td>TN</td>\n",
       "      <td>0.118942</td>\n",
       "      <td>12</td>\n",
       "      <td>7</td>\n",
       "      <td>2</td>\n",
       "      <td>2</td>\n",
       "      <td>17</td>\n",
       "      <td>...</td>\n",
       "      <td>0</td>\n",
       "      <td>0</td>\n",
       "      <td>0</td>\n",
       "      <td>0</td>\n",
       "      <td>0</td>\n",
       "      <td>0</td>\n",
       "      <td>15</td>\n",
       "      <td>5</td>\n",
       "      <td>15</td>\n",
       "      <td>5</td>\n",
       "    </tr>\n",
       "    <tr>\n",
       "      <th>36286</th>\n",
       "      <td>C1galt1_C1galt1_chr6</td>\n",
       "      <td>3881</td>\n",
       "      <td>0</td>\n",
       "      <td>TN</td>\n",
       "      <td>0.272920</td>\n",
       "      <td>17</td>\n",
       "      <td>12</td>\n",
       "      <td>17</td>\n",
       "      <td>7</td>\n",
       "      <td>7</td>\n",
       "      <td>...</td>\n",
       "      <td>5</td>\n",
       "      <td>15</td>\n",
       "      <td>15</td>\n",
       "      <td>15</td>\n",
       "      <td>10</td>\n",
       "      <td>0</td>\n",
       "      <td>0</td>\n",
       "      <td>15</td>\n",
       "      <td>0</td>\n",
       "      <td>0</td>\n",
       "    </tr>\n",
       "    <tr>\n",
       "      <th>34597</th>\n",
       "      <td>Alkbh3_Alkbh3_chr2</td>\n",
       "      <td>15671</td>\n",
       "      <td>0</td>\n",
       "      <td>TN</td>\n",
       "      <td>0.039052</td>\n",
       "      <td>6</td>\n",
       "      <td>11</td>\n",
       "      <td>11</td>\n",
       "      <td>11</td>\n",
       "      <td>11</td>\n",
       "      <td>...</td>\n",
       "      <td>13</td>\n",
       "      <td>11</td>\n",
       "      <td>1</td>\n",
       "      <td>11</td>\n",
       "      <td>1</td>\n",
       "      <td>11</td>\n",
       "      <td>11</td>\n",
       "      <td>6</td>\n",
       "      <td>1</td>\n",
       "      <td>11</td>\n",
       "    </tr>\n",
       "    <tr>\n",
       "      <th>9117</th>\n",
       "      <td>Trub2_Trub2_chr2</td>\n",
       "      <td>9700</td>\n",
       "      <td>1</td>\n",
       "      <td>TP</td>\n",
       "      <td>0.906185</td>\n",
       "      <td>6</td>\n",
       "      <td>6</td>\n",
       "      <td>19</td>\n",
       "      <td>6</td>\n",
       "      <td>6</td>\n",
       "      <td>...</td>\n",
       "      <td>11</td>\n",
       "      <td>11</td>\n",
       "      <td>6</td>\n",
       "      <td>6</td>\n",
       "      <td>3</td>\n",
       "      <td>11</td>\n",
       "      <td>6</td>\n",
       "      <td>6</td>\n",
       "      <td>1</td>\n",
       "      <td>9</td>\n",
       "    </tr>\n",
       "  </tbody>\n",
       "</table>\n",
       "<p>5 rows × 106 columns</p>\n",
       "</div>"
      ],
      "text/plain": [
       "                       GENE    POS  EDITING RESULT_TYPE  PROB_PRED  P1  P2  \\\n",
       "34743     H2afy_H2afy_chr13  48924        0          TN   0.042782  11  16   \n",
       "50220    Ttc39b_Ttc39b_chr4  22505        0          TN   0.118942  12   7   \n",
       "36286  C1galt1_C1galt1_chr6   3881        0          TN   0.272920  17  12   \n",
       "34597    Alkbh3_Alkbh3_chr2  15671        0          TN   0.039052   6  11   \n",
       "9117       Trub2_Trub2_chr2   9700        1          TP   0.906185   6   6   \n",
       "\n",
       "       P3  P4  P5  ...  P92  P93  P94  P95  P96  P97  P98  P99  P100  P101  \n",
       "34743   6  11   7  ...   12   12    2    7   17   17    2   17     7     2  \n",
       "50220   2   2  17  ...    0    0    0    0    0    0   15    5    15     5  \n",
       "36286  17   7   7  ...    5   15   15   15   10    0    0   15     0     0  \n",
       "34597  11  11  11  ...   13   11    1   11    1   11   11    6     1    11  \n",
       "9117   19   6   6  ...   11   11    6    6    3   11    6    6     1     9  \n",
       "\n",
       "[5 rows x 106 columns]"
      ]
     },
     "execution_count": 35,
     "metadata": {},
     "output_type": "execute_result"
    }
   ],
   "source": [
    "column_index=results_data.columns.get_loc('RESULT_TYPE')\n",
    "i=0\n",
    "for result in model_prediction_binary:\n",
    "    #print(\"Comparing result={} with data_y_test={}\".format(result[0],data_y_test.iloc[i]))\n",
    "    if   result[0]==0 and data_y_test.iloc[i]==0:\n",
    "       typeRes =\"TN\"\n",
    "    elif result[0]==0 and data_y_test.iloc[i]==1:\n",
    "       typeRes=\"FN\"\n",
    "    elif result[0]==1 and data_y_test.iloc[i]==0:\n",
    "       typeRes=\"FP\"\n",
    "    elif result[0]==1 and data_y_test.iloc[i]==1:\n",
    "       typeRes=\"TP\"\n",
    "    results_data.iloc[i, column_index]=typeRes\n",
    "    i+=1\n",
    "    \n",
    "results_data.head()"
   ]
  },
  {
   "cell_type": "code",
   "execution_count": 36,
   "id": "1e36e029-a2e3-455f-864d-ec8bce405213",
   "metadata": {},
   "outputs": [],
   "source": [
    "#Save the results into a file\n",
    "report_dir=\"./report\"\n",
    "results_csv_file  =model_name + \"_Results.csv\"\n",
    "results_excel_file=model_name + \"_Results.xlsx\"\n",
    "results_data.to_csv(os.path.join(report_dir,results_csv_file))\n",
    "results_data.to_excel(os.path.join(report_dir,results_excel_file))"
   ]
  },
  {
   "cell_type": "markdown",
   "id": "4fd847e7-6468-4e3c-a0f3-4858d6ae8820",
   "metadata": {},
   "source": [
    "Now, we are going to find the record with highest probability and category TP (True Positive) as a good model of TP data,\n",
    "and alternatively, the best representative of TN, using the lowest value"
   ]
  },
  {
   "cell_type": "code",
   "execution_count": 37,
   "id": "c7f672cc-ae6a-4abc-aef5-ecfd64043a74",
   "metadata": {},
   "outputs": [
    {
     "name": "stdout",
     "output_type": "stream",
     "text": [
      "rowid best TP = 13115\n",
      "GENE           Cnrip1_Cnrip1_chr11\n",
      "POS                          19250\n",
      "EDITING                          1\n",
      "RESULT_TYPE                     TP\n",
      "PROB_PRED                 0.999997\n",
      "                      ...         \n",
      "P97                             10\n",
      "P98                              0\n",
      "P99                              0\n",
      "P100                             5\n",
      "P101                            15\n",
      "Name: 13115, Length: 106, dtype: object\n"
     ]
    }
   ],
   "source": [
    "subset_TP=results_data.loc[results_data['RESULT_TYPE'] == 'TP']\n",
    "prototype_of_TP_id=subset_TP['PROB_PRED'].idxmax()\n",
    "print(\"rowid best TP = {}\".format(prototype_of_TP_id))\n",
    "print(results_data.loc[prototype_of_TP_id,])"
   ]
  },
  {
   "cell_type": "code",
   "execution_count": 38,
   "id": "0104bcdb-6af3-438e-b3e5-ddc98845599d",
   "metadata": {},
   "outputs": [
    {
     "name": "stdout",
     "output_type": "stream",
     "text": [
      "rowid best TN = 21141\n",
      "GENE           Gm32017_Gm32017_chr9\n",
      "POS                           43238\n",
      "EDITING                           0\n",
      "RESULT_TYPE                      TN\n",
      "PROB_PRED                  0.000265\n",
      "                       ...         \n",
      "P97                              12\n",
      "P98                               2\n",
      "P99                               7\n",
      "P100                             17\n",
      "P101                             17\n",
      "Name: 21141, Length: 106, dtype: object\n"
     ]
    }
   ],
   "source": [
    "subset_TN=results_data.loc[results_data['RESULT_TYPE'] == 'TN']\n",
    "prototype_of_TN_id=subset_TN['PROB_PRED'].idxmin()\n",
    "print(\"rowid best TN = {}\".format(prototype_of_TN_id))\n",
    "print(results_data.loc[prototype_of_TN_id,])"
   ]
  },
  {
   "cell_type": "markdown",
   "id": "19383ca7-22c8-4c52-9277-b1a2cc6d2ca3",
   "metadata": {},
   "source": [
    "Now we inspect the activations of these two samples"
   ]
  },
  {
   "cell_type": "code",
   "execution_count": 42,
   "id": "7f63d22c-6d54-4964-8e49-f9047327f000",
   "metadata": {},
   "outputs": [
    {
     "name": "stdout",
     "output_type": "stream",
     "text": [
      "P1      17\n",
      "P2       7\n",
      "P3       2\n",
      "P4       7\n",
      "P5       2\n",
      "        ..\n",
      "P97     10\n",
      "P98      0\n",
      "P99      0\n",
      "P100     5\n",
      "P101    15\n",
      "Name: 13115, Length: 101, dtype: object\n",
      "EDITING=1\n",
      "[[0. 0. 0. ... 0. 0. 0.]\n",
      " [0. 0. 0. ... 0. 0. 0.]\n",
      " [0. 0. 1. ... 0. 0. 0.]\n",
      " ...\n",
      " [1. 0. 0. ... 0. 0. 0.]\n",
      " [0. 0. 0. ... 0. 0. 0.]\n",
      " [0. 0. 0. ... 0. 0. 0.]]\n"
     ]
    }
   ],
   "source": [
    "x_TP = results_data.loc[prototype_of_TP_id,'P1':]\n",
    "y_TP = results_data.loc[prototype_of_TP_id,'EDITING']\n",
    "print(x_TP)\n",
    "print(\"EDITING={}\".format(y_TP))\n",
    "\n",
    "#Convert to int32\n",
    "x_TP = np.asarray(x_TP).astype('float32')\n",
    "tensor_TP = tf.constant(x_TP)\n",
    "X_TP_tensor=tf.keras.layers.CategoryEncoding(num_tokens=categories_size, output_mode=\"one_hot\")(tensor_TP).numpy()\n",
    "print(X_TP_tensor)\n",
    "#Convert from [101,21] to [1,101,21]\n",
    "X_TP_tensor=tf.reshape(X_TP_tensor, [1,X_TP_tensor.shape[0],X_TP_tensor.shape[1]])\n",
    "activations_TP = get_activations(model, X_TP_tensor)"
   ]
  },
  {
   "cell_type": "code",
   "execution_count": 48,
   "id": "80d9be76-7109-4f45-848f-a1cb7a2aac4e",
   "metadata": {},
   "outputs": [],
   "source": [
    "directory_img_TP_name_activations=model_name + '_directory'+'_TP_activations'\n",
    "directory_img_TP_name_heatmaps   =model_name + '_directory'+'_TP_heatmaps'\n",
    "\n",
    "directory_img_TP_activations=os.path.join(report_dir,directory_img_TP_name_activations)\n",
    "directory_img_TP_heatmaps   =os.path.join(report_dir,directory_img_TP_name_heatmaps)\n",
    "\n",
    "directory_img_TN_name_activations=model_name + '_directory'+'_TN_activations'\n",
    "directory_img_TN_name_heatmaps   =model_name + '_directory'+'_TN_heatmaps'\n",
    "\n",
    "directory_img_TN_activations=os.path.join(report_dir,directory_img_TN_name_activations)\n",
    "directory_img_TN_heatmaps   =os.path.join(report_dir,directory_img_TN_name_heatmaps)\n",
    "\n"
   ]
  },
  {
   "cell_type": "code",
   "execution_count": 44,
   "id": "08649718-12f1-4140-b884-0f6d3e70907f",
   "metadata": {},
   "outputs": [
    {
     "name": "stdout",
     "output_type": "stream",
     "text": [
      "Conv1D_1_input (1, 101, 21) \n",
      "Conv1D_1 (1, 93, 256) \n",
      "Dropout_1 (1, 93, 256) \n",
      "MaxPool_1 (1, 18, 256) \n",
      "Conv1D_2 (1, 13, 256) \n",
      "Dropout_2 (1, 13, 256) \n",
      "MaxPool_2 (1, 2, 256) \n",
      "Conv1D_3 (1, 1, 256) \n",
      "Dropout_3 (1, 1, 256) \n",
      "GMaxPool_3 (1, 256) \n",
      "DenseOutput (1, 1) \n"
     ]
    }
   ],
   "source": [
    "display_activations(activations_TP, save=True, directory=directory_img_TP_activations,data_format=\"channels_first\")"
   ]
  },
  {
   "cell_type": "code",
   "execution_count": 47,
   "id": "57f9ad93-4a33-452e-b659-876a14897a2a",
   "metadata": {},
   "outputs": [
    {
     "name": "stdout",
     "output_type": "stream",
     "text": [
      "Conv1D_1_input (1, 101, 21) \n",
      "Conv1D_1 (1, 93, 256) \n",
      "Dropout_1 (1, 93, 256) \n",
      "MaxPool_1 (1, 18, 256) \n",
      "Conv1D_2 (1, 13, 256) \n",
      "Dropout_2 (1, 13, 256) \n",
      "MaxPool_2 (1, 2, 256) \n",
      "Conv1D_3 (1, 1, 256) \n",
      "Dropout_3 (1, 1, 256) \n",
      "GMaxPool_3 (1, 256) -> Skipped. 2D Activations.\n",
      "DenseOutput (1, 1) -> Skipped. 2D Activations.\n"
     ]
    }
   ],
   "source": [
    "from tensorflow.python.ops.numpy_ops import np_config\n",
    "np_config.enable_numpy_behavior()\n",
    "X_TP_tensor=tf.keras.layers.CategoryEncoding(num_tokens=categories_size, output_mode=\"one_hot\")(tensor_TP).numpy()\n",
    "\n",
    "display_heatmaps(activations_TP, X_TP_tensor, directory=directory_img_TP_heatmaps, save=True)"
   ]
  },
  {
   "cell_type": "code",
   "execution_count": 49,
   "id": "9b834750-9584-46b9-94a4-b25d5854aa4c",
   "metadata": {},
   "outputs": [
    {
     "name": "stdout",
     "output_type": "stream",
     "text": [
      "P1       2\n",
      "P2      12\n",
      "P3       2\n",
      "P4      12\n",
      "P5       2\n",
      "        ..\n",
      "P97     12\n",
      "P98      2\n",
      "P99      7\n",
      "P100    17\n",
      "P101    17\n",
      "Name: 21141, Length: 101, dtype: object\n",
      "EDITING=0\n",
      "[[0. 0. 1. ... 0. 0. 0.]\n",
      " [0. 0. 0. ... 0. 0. 0.]\n",
      " [0. 0. 1. ... 0. 0. 0.]\n",
      " ...\n",
      " [0. 0. 0. ... 0. 0. 0.]\n",
      " [0. 0. 0. ... 0. 0. 0.]\n",
      " [0. 0. 0. ... 0. 0. 0.]]\n",
      "Conv1D_1_input (1, 101, 21) \n",
      "Conv1D_1 (1, 93, 256) \n",
      "Dropout_1 (1, 93, 256) \n",
      "MaxPool_1 (1, 18, 256) \n",
      "Conv1D_2 (1, 13, 256) \n",
      "Dropout_2 (1, 13, 256) \n",
      "MaxPool_2 (1, 2, 256) \n",
      "Conv1D_3 (1, 1, 256) \n",
      "Dropout_3 (1, 1, 256) \n",
      "GMaxPool_3 (1, 256) \n",
      "DenseOutput (1, 1) \n",
      "Conv1D_1_input (1, 101, 21) \n",
      "Conv1D_1 (1, 93, 256) \n",
      "Dropout_1 (1, 93, 256) \n",
      "MaxPool_1 (1, 18, 256) \n",
      "Conv1D_2 (1, 13, 256) \n",
      "Dropout_2 (1, 13, 256) \n",
      "MaxPool_2 (1, 2, 256) \n",
      "Conv1D_3 (1, 1, 256) \n",
      "Dropout_3 (1, 1, 256) \n",
      "GMaxPool_3 (1, 256) -> Skipped. 2D Activations.\n",
      "DenseOutput (1, 1) -> Skipped. 2D Activations.\n"
     ]
    }
   ],
   "source": [
    "x_TN = results_data.loc[prototype_of_TN_id,'P1':]\n",
    "y_TN = results_data.loc[prototype_of_TN_id,'EDITING']\n",
    "print(x_TN)\n",
    "print(\"EDITING={}\".format(y_TN))\n",
    "\n",
    "#Convertimos a int32\n",
    "x_TN = np.asarray(x_TN).astype('float32')\n",
    "tensor_TN = tf.constant(x_TN)\n",
    "X_TN_tensor=tf.keras.layers.CategoryEncoding(num_tokens=categories_size, output_mode=\"one_hot\")(tensor_TN).numpy()\n",
    "print(X_TN_tensor)\n",
    "#Convert from [101,21] to [1,101,21]\n",
    "X_TN_tensor=tf.reshape(X_TN_tensor, [1,X_TN_tensor.shape[0],X_TN_tensor.shape[1]])\n",
    "activations_TN = get_activations(model, X_TN_tensor)\n",
    "\n",
    "display_activations(activations_TN, save=True, directory=directory_img_TN_activations)\n",
    "X_TN_tensor=tf.keras.layers.CategoryEncoding(num_tokens=categories_size, output_mode=\"one_hot\")(tensor_TN).numpy()\n",
    "display_heatmaps(activations_TP, X_TN_tensor, directory=directory_img_TN_heatmaps, save=True)"
   ]
  },
  {
   "cell_type": "code",
   "execution_count": 50,
   "id": "bcab6f58-5a9c-4818-b99e-6b65f76e9f12",
   "metadata": {},
   "outputs": [
    {
     "name": "stdout",
     "output_type": "stream",
     "text": [
      "[[[0.40948552 0.         0.         ... 0.         0.         0.        ]\n",
      "  [0.03334367 0.         0.         ... 0.         0.         0.        ]\n",
      "  [0.         0.         0.         ... 0.         0.         0.        ]\n",
      "  ...\n",
      "  [0.         0.11681233 0.         ... 0.         0.         0.        ]\n",
      "  [0.         0.         0.         ... 0.         0.         0.        ]\n",
      "  [0.         0.         0.         ... 0.         0.         0.        ]]]\n",
      "[[[0. 0. 0. ... 0. 0. 0.]\n",
      "  [0. 0. 0. ... 0. 0. 0.]\n",
      "  [0. 0. 0. ... 0. 0. 0.]\n",
      "  ...\n",
      "  [0. 0. 0. ... 0. 0. 0.]\n",
      "  [0. 0. 0. ... 0. 0. 0.]\n",
      "  [0. 0. 0. ... 0. 0. 0.]]]\n",
      "[[[0.         0.         0.         0.         1.1969492  0.\n",
      "   0.         0.         0.         2.3536913  0.         0.\n",
      "   0.         0.         0.         0.         0.         1.0467734\n",
      "   0.         0.         1.8608013  2.887939   1.0945615  6.675517\n",
      "   5.362056   0.         0.         0.         0.         0.\n",
      "   0.         7.861216   0.         0.44017276 0.         2.7660084\n",
      "   0.         0.         5.3136373  0.4107082  3.660355   4.6398144\n",
      "   0.         0.         6.6206684  0.         3.7477815  0.\n",
      "   5.8813477  3.7657828  0.         0.         0.         5.485788\n",
      "   0.         0.         0.         6.3238583  0.         5.1465\n",
      "   0.12668313 0.         0.         1.7001022  6.9878983  0.\n",
      "   0.         0.         0.         0.         0.         0.\n",
      "   3.8549633  3.2583778  2.7666233  0.         0.         0.\n",
      "   1.8338773  0.         1.4492296  0.         0.         0.\n",
      "   0.23839429 1.2988368  5.2157435  7.5496974  0.         0.\n",
      "   0.         0.         4.8597193  3.0841303  0.35438085 0.\n",
      "   6.7848186  0.         0.         5.2871056  0.         0.\n",
      "   3.039106   1.4272792  0.         0.         0.         0.\n",
      "   7.2867556  0.         0.         0.         1.215646   0.\n",
      "   0.         0.         0.         0.         0.         0.\n",
      "   0.         0.         0.         0.         0.         0.\n",
      "   0.         0.30443734 2.981306   0.         4.733099   0.\n",
      "   4.0746284  1.8883119  4.853435   0.         7.819101   0.\n",
      "   0.         3.61974    0.         0.         0.         0.\n",
      "   0.         0.         0.         0.         0.         6.058167\n",
      "   6.554316   0.         0.         0.38061637 6.545332   0.\n",
      "   0.07866872 0.         0.         2.2085524  0.         0.93673426\n",
      "   0.         7.1241217  0.         0.         0.         5.976967\n",
      "   0.         1.1344974  3.9012277  0.         0.         0.\n",
      "   0.         0.         0.         0.         6.8587813  6.300745\n",
      "   0.         0.         0.679314   1.9867792  1.5201349  0.\n",
      "   3.0988626  1.5983642  1.8470311  6.6936913  0.         0.\n",
      "   0.         4.4610558  0.         2.6616473  0.         0.\n",
      "   2.2854404  3.7006369  4.007962   0.         6.606189   0.\n",
      "   0.         0.         0.         1.3528843  0.         0.\n",
      "   0.         0.         0.         0.3662347  6.8707533  1.1733365\n",
      "   0.         0.28907093 0.         0.         6.95457    0.\n",
      "   2.915719   7.0413284  0.         0.8645572  0.         0.\n",
      "   0.         2.5121784  0.         0.         3.3399475  0.\n",
      "   0.         6.456174   3.2219403  0.         0.         0.\n",
      "   7.0987625  0.         4.500328   6.840277   0.         0.\n",
      "   1.8487577  0.         0.         4.0549083  3.839786   6.860311\n",
      "   0.         0.         0.         4.752739  ]]]\n"
     ]
    }
   ],
   "source": [
    "print(activations_TP[\"Conv1D_1\"])\n",
    "print(activations_TP[\"Conv1D_2\"])\n",
    "print(activations_TP[\"Conv1D_3\"])"
   ]
  },
  {
   "cell_type": "code",
   "execution_count": null,
   "id": "7d903d7e-9577-42ab-9666-9e89787b58da",
   "metadata": {},
   "outputs": [],
   "source": []
  }
 ],
 "metadata": {
  "accelerator": "GPU",
  "colab": {
   "collapsed_sections": [],
   "machine_shape": "hm",
   "name": "TFM_CNN_2CH_MM2.ipynb",
   "provenance": []
  },
  "kernelspec": {
   "display_name": "Python [conda env:tensorflow-lsr] *",
   "language": "python",
   "name": "conda-env-tensorflow-lsr-py"
  },
  "language_info": {
   "codemirror_mode": {
    "name": "ipython",
    "version": 3
   },
   "file_extension": ".py",
   "mimetype": "text/x-python",
   "name": "python",
   "nbconvert_exporter": "python",
   "pygments_lexer": "ipython3",
   "version": "3.8.12"
  }
 },
 "nbformat": 4,
 "nbformat_minor": 5
}
