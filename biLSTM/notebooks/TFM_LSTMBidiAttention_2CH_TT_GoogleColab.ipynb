{
  "cells": [
    {
      "cell_type": "markdown",
      "id": "ca661a73-de2d-4079-8138-914bab318805",
      "metadata": {
        "id": "ca661a73-de2d-4079-8138-914bab318805"
      },
      "source": [
        "# Deep neural network-based models for predicting mRNA editing in Trachurus trachurus \n",
        "\n",
        "Bidirectional LSTM with Attention Layer"
      ]
    },
    {
      "cell_type": "code",
      "execution_count": 1,
      "id": "c9f60581-a961-4284-9b0b-3867f3b54213",
      "metadata": {
        "id": "c9f60581-a961-4284-9b0b-3867f3b54213"
      },
      "outputs": [],
      "source": [
        "import os\n",
        "import numpy as np\n",
        "import pandas as pd\n",
        "import matplotlib.pyplot as plt\n",
        "from sklearn.model_selection import train_test_split\n",
        "import tensorflow as tf\n",
        "from tensorflow import keras\n",
        "from tensorflow.keras import layers\n",
        "from sklearn.metrics import confusion_matrix, precision_score, cohen_kappa_score, classification_report\n",
        "import seaborn as sns; sns.set()\n",
        "from keras import backend as K\n"
      ]
    },
    {
      "cell_type": "code",
      "execution_count": 2,
      "id": "7b4b7d71-286c-433d-b5b5-94e41403d218",
      "metadata": {
        "id": "7b4b7d71-286c-433d-b5b5-94e41403d218"
      },
      "outputs": [],
      "source": [
        "########################################\n",
        "# PARAMS\n",
        "########################################\n",
        "fname      = 'ttr_DL_Pad_W50_BALANCED_1_1_CODED2CH.csv'\n",
        "separator_char=';'\n",
        "categories=[['A','G','C','T'],['s','d','h','i','b']]\n",
        "padding=True\n",
        "ptrain     = 0.7\n",
        "trace_level = 1\n",
        "model_name = 'TFM_LSTMBidiAttention_TT'\n",
        "num_lstm_units=256\n",
        "n_epochs=40\n",
        "batch_size=32\n",
        "categories_size=20\n",
        "random_seed=2022\n",
        "########################################"
      ]
    },
    {
      "cell_type": "markdown",
      "id": "1bd49147-7ef8-4a2b-ba75-694d51a94f88",
      "metadata": {
        "id": "1bd49147-7ef8-4a2b-ba75-694d51a94f88",
        "outputId": "eba0a3a5-140a-404c-f883-4f3124dcfbae"
      },
      "source": [
        "We can run this notebook in two environments:\n",
        "+ Googlr Colab Pro (Cloud)\n",
        "+ Jupyter Lab (Locally)"
      ]
    },
    {
      "cell_type": "code",
      "execution_count": 3,
      "id": "be00b8cf-d29e-429d-a4cc-e05f4416b635",
      "metadata": {
        "colab": {
          "base_uri": "https://localhost:8080/"
        },
        "id": "be00b8cf-d29e-429d-a4cc-e05f4416b635",
        "outputId": "e6f88eb9-0ca6-434b-d227-3b5c664b2b45"
      },
      "outputs": [
        {
          "output_type": "stream",
          "name": "stdout",
          "text": [
            "Running on CoLab\n"
          ]
        }
      ],
      "source": [
        "#CHECK GOOGLE COLAB\n",
        "GOOGLE_COLAB=False\n",
        "if 'google.colab' in str(get_ipython()):\n",
        "  GOOGLE_COLAB=True  \n",
        "  print('Running on CoLab')\n",
        "else:\n",
        "  print('Not running on CoLab')"
      ]
    },
    {
      "cell_type": "markdown",
      "id": "26ebcbc7-a0de-4a91-aa76-4f422bd2383c",
      "metadata": {
        "id": "26ebcbc7-a0de-4a91-aa76-4f422bd2383c",
        "outputId": "eba0a3a5-140a-404c-f883-4f3124dcfbae"
      },
      "source": [
        "Checking if GPU is available and GPU characteristics."
      ]
    },
    {
      "cell_type": "code",
      "execution_count": 4,
      "id": "e6fa0226-d138-40dd-bab2-7d0aedec9746",
      "metadata": {
        "colab": {
          "base_uri": "https://localhost:8080/"
        },
        "id": "e6fa0226-d138-40dd-bab2-7d0aedec9746",
        "outputId": "fb2daa7b-90c7-4a3f-a8e8-00208624a1b0"
      },
      "outputs": [
        {
          "output_type": "stream",
          "name": "stdout",
          "text": [
            "Num GPUs Available: 1\n",
            "Found GPU at: /device:GPU:0\n",
            "Sun Oct 16 16:28:30 2022       \n",
            "+-----------------------------------------------------------------------------+\n",
            "| NVIDIA-SMI 460.32.03    Driver Version: 460.32.03    CUDA Version: 11.2     |\n",
            "|-------------------------------+----------------------+----------------------+\n",
            "| GPU  Name        Persistence-M| Bus-Id        Disp.A | Volatile Uncorr. ECC |\n",
            "| Fan  Temp  Perf  Pwr:Usage/Cap|         Memory-Usage | GPU-Util  Compute M. |\n",
            "|                               |                      |               MIG M. |\n",
            "|===============================+======================+======================|\n",
            "|   0  Tesla T4            Off  | 00000000:00:04.0 Off |                    0 |\n",
            "| N/A   37C    P0    26W /  70W |    312MiB / 15109MiB |      1%      Default |\n",
            "|                               |                      |                  N/A |\n",
            "+-------------------------------+----------------------+----------------------+\n",
            "                                                                               \n",
            "+-----------------------------------------------------------------------------+\n",
            "| Processes:                                                                  |\n",
            "|  GPU   GI   CI        PID   Type   Process name                  GPU Memory |\n",
            "|        ID   ID                                                   Usage      |\n",
            "|=============================================================================|\n",
            "+-----------------------------------------------------------------------------+\n"
          ]
        }
      ],
      "source": [
        "#CHECK GPU\n",
        "device_name = tf.test.gpu_device_name()\n",
        "if device_name != '/device:GPU:0':\n",
        "  print('GPU device not found')\n",
        "else:\n",
        "  print('Num GPUs Available: {}'.format(len(tf.config.list_physical_devices('GPU'))))\n",
        "  print('Found GPU at: {}'.format(device_name))\n",
        "  gpu_info = !nvidia-smi\n",
        "  gpu_info = '\\n'.join(gpu_info)\n",
        "  if gpu_info.find('failed') >= 0:\n",
        "     print('Not connected to a GPU')\n",
        "  else:\n",
        "     print(gpu_info)"
      ]
    },
    {
      "cell_type": "code",
      "execution_count": 5,
      "id": "d259c02c-bb23-43d6-899b-f9cbd4ca898d",
      "metadata": {
        "colab": {
          "base_uri": "https://localhost:8080/"
        },
        "id": "d259c02c-bb23-43d6-899b-f9cbd4ca898d",
        "outputId": "1fc4eae6-1801-42a7-8aed-93164a686bfb"
      },
      "outputs": [
        {
          "output_type": "stream",
          "name": "stdout",
          "text": [
            "Mounted at /content/drive\n"
          ]
        }
      ],
      "source": [
        "if padding==True:\n",
        "    categories_size=21\n",
        "\n",
        "if GOOGLE_COLAB==False:\n",
        "    data_dir = '../../data/datasets/ALL_TT/W50'\n",
        "    models_dir = './SAVED_MODELS'\n",
        "\n",
        "else:\n",
        "    from google.colab import drive\n",
        "    drive.mount('/content/drive')\n",
        "    import sys\n",
        "    #set the path to find RNAEd module\n",
        "    sys.path.insert(0,'/content/drive/MyDrive/ColabNotebooks')    \n",
        "    data_dir  = '/content/drive/MyDrive/DATASETS/ALL_TT/W50'\n",
        "    models_dir= '/content/drive/MyDrive/MODELS'"
      ]
    },
    {
      "cell_type": "code",
      "source": [
        "!pip install -e /content/drive/MyDrive/PYTHON_MODULES/RNAED"
      ],
      "metadata": {
        "colab": {
          "base_uri": "https://localhost:8080/"
        },
        "id": "TtrOzLNVXHxo",
        "outputId": "fee8f117-fa9f-4c7f-a8a0-b92e5c057a9b"
      },
      "id": "TtrOzLNVXHxo",
      "execution_count": null,
      "outputs": [
        {
          "output_type": "stream",
          "name": "stdout",
          "text": [
            "Looking in indexes: https://pypi.org/simple, https://us-python.pkg.dev/colab-wheels/public/simple/\n",
            "Obtaining file:///content/drive/MyDrive/PYTHON_MODULES/RNAED\n",
            "Requirement already satisfied: pandas in /usr/local/lib/python3.7/dist-packages (from rnaed==1.0.2) (1.3.5)\n",
            "Requirement already satisfied: numpy in /usr/local/lib/python3.7/dist-packages (from rnaed==1.0.2) (1.21.6)\n",
            "Requirement already satisfied: tensorflow in /usr/local/lib/python3.7/dist-packages (from rnaed==1.0.2) (2.9.2)\n",
            "Requirement already satisfied: python-dateutil>=2.7.3 in /usr/local/lib/python3.7/dist-packages (from pandas->rnaed==1.0.2) (2.8.2)\n",
            "Requirement already satisfied: pytz>=2017.3 in /usr/local/lib/python3.7/dist-packages (from pandas->rnaed==1.0.2) (2022.4)\n",
            "Requirement already satisfied: six>=1.5 in /usr/local/lib/python3.7/dist-packages (from python-dateutil>=2.7.3->pandas->rnaed==1.0.2) (1.15.0)\n",
            "Requirement already satisfied: absl-py>=1.0.0 in /usr/local/lib/python3.7/dist-packages (from tensorflow->rnaed==1.0.2) (1.2.0)\n",
            "Requirement already satisfied: setuptools in /usr/local/lib/python3.7/dist-packages (from tensorflow->rnaed==1.0.2) (57.4.0)\n",
            "Requirement already satisfied: grpcio<2.0,>=1.24.3 in /usr/local/lib/python3.7/dist-packages (from tensorflow->rnaed==1.0.2) (1.49.1)\n",
            "Requirement already satisfied: libclang>=13.0.0 in /usr/local/lib/python3.7/dist-packages (from tensorflow->rnaed==1.0.2) (14.0.6)\n",
            "Requirement already satisfied: protobuf<3.20,>=3.9.2 in /usr/local/lib/python3.7/dist-packages (from tensorflow->rnaed==1.0.2) (3.17.3)\n",
            "Requirement already satisfied: astunparse>=1.6.0 in /usr/local/lib/python3.7/dist-packages (from tensorflow->rnaed==1.0.2) (1.6.3)\n",
            "Requirement already satisfied: typing-extensions>=3.6.6 in /usr/local/lib/python3.7/dist-packages (from tensorflow->rnaed==1.0.2) (4.1.1)\n",
            "Requirement already satisfied: wrapt>=1.11.0 in /usr/local/lib/python3.7/dist-packages (from tensorflow->rnaed==1.0.2) (1.14.1)\n",
            "Requirement already satisfied: termcolor>=1.1.0 in /usr/local/lib/python3.7/dist-packages (from tensorflow->rnaed==1.0.2) (2.0.1)\n",
            "Requirement already satisfied: opt-einsum>=2.3.2 in /usr/local/lib/python3.7/dist-packages (from tensorflow->rnaed==1.0.2) (3.3.0)\n",
            "Requirement already satisfied: keras-preprocessing>=1.1.1 in /usr/local/lib/python3.7/dist-packages (from tensorflow->rnaed==1.0.2) (1.1.2)\n",
            "Requirement already satisfied: gast<=0.4.0,>=0.2.1 in /usr/local/lib/python3.7/dist-packages (from tensorflow->rnaed==1.0.2) (0.4.0)\n",
            "Requirement already satisfied: tensorflow-estimator<2.10.0,>=2.9.0rc0 in /usr/local/lib/python3.7/dist-packages (from tensorflow->rnaed==1.0.2) (2.9.0)\n",
            "Requirement already satisfied: flatbuffers<2,>=1.12 in /usr/local/lib/python3.7/dist-packages (from tensorflow->rnaed==1.0.2) (1.12)\n",
            "Requirement already satisfied: tensorflow-io-gcs-filesystem>=0.23.1 in /usr/local/lib/python3.7/dist-packages (from tensorflow->rnaed==1.0.2) (0.27.0)\n",
            "Requirement already satisfied: google-pasta>=0.1.1 in /usr/local/lib/python3.7/dist-packages (from tensorflow->rnaed==1.0.2) (0.2.0)\n",
            "Requirement already satisfied: keras<2.10.0,>=2.9.0rc0 in /usr/local/lib/python3.7/dist-packages (from tensorflow->rnaed==1.0.2) (2.9.0)\n",
            "Requirement already satisfied: h5py>=2.9.0 in /usr/local/lib/python3.7/dist-packages (from tensorflow->rnaed==1.0.2) (3.1.0)\n",
            "Requirement already satisfied: packaging in /usr/local/lib/python3.7/dist-packages (from tensorflow->rnaed==1.0.2) (21.3)\n",
            "Requirement already satisfied: tensorboard<2.10,>=2.9 in /usr/local/lib/python3.7/dist-packages (from tensorflow->rnaed==1.0.2) (2.9.1)\n",
            "Requirement already satisfied: wheel<1.0,>=0.23.0 in /usr/local/lib/python3.7/dist-packages (from astunparse>=1.6.0->tensorflow->rnaed==1.0.2) (0.37.1)\n",
            "Requirement already satisfied: cached-property in /usr/local/lib/python3.7/dist-packages (from h5py>=2.9.0->tensorflow->rnaed==1.0.2) (1.5.2)\n",
            "Requirement already satisfied: tensorboard-plugin-wit>=1.6.0 in /usr/local/lib/python3.7/dist-packages (from tensorboard<2.10,>=2.9->tensorflow->rnaed==1.0.2) (1.8.1)\n",
            "Requirement already satisfied: google-auth<3,>=1.6.3 in /usr/local/lib/python3.7/dist-packages (from tensorboard<2.10,>=2.9->tensorflow->rnaed==1.0.2) (1.35.0)\n",
            "Requirement already satisfied: google-auth-oauthlib<0.5,>=0.4.1 in /usr/local/lib/python3.7/dist-packages (from tensorboard<2.10,>=2.9->tensorflow->rnaed==1.0.2) (0.4.6)\n",
            "Requirement already satisfied: werkzeug>=1.0.1 in /usr/local/lib/python3.7/dist-packages (from tensorboard<2.10,>=2.9->tensorflow->rnaed==1.0.2) (1.0.1)\n",
            "Requirement already satisfied: requests<3,>=2.21.0 in /usr/local/lib/python3.7/dist-packages (from tensorboard<2.10,>=2.9->tensorflow->rnaed==1.0.2) (2.23.0)\n",
            "Requirement already satisfied: markdown>=2.6.8 in /usr/local/lib/python3.7/dist-packages (from tensorboard<2.10,>=2.9->tensorflow->rnaed==1.0.2) (3.4.1)\n",
            "Requirement already satisfied: tensorboard-data-server<0.7.0,>=0.6.0 in /usr/local/lib/python3.7/dist-packages (from tensorboard<2.10,>=2.9->tensorflow->rnaed==1.0.2) (0.6.1)\n",
            "Requirement already satisfied: cachetools<5.0,>=2.0.0 in /usr/local/lib/python3.7/dist-packages (from google-auth<3,>=1.6.3->tensorboard<2.10,>=2.9->tensorflow->rnaed==1.0.2) (4.2.4)\n",
            "Requirement already satisfied: pyasn1-modules>=0.2.1 in /usr/local/lib/python3.7/dist-packages (from google-auth<3,>=1.6.3->tensorboard<2.10,>=2.9->tensorflow->rnaed==1.0.2) (0.2.8)\n",
            "Requirement already satisfied: rsa<5,>=3.1.4 in /usr/local/lib/python3.7/dist-packages (from google-auth<3,>=1.6.3->tensorboard<2.10,>=2.9->tensorflow->rnaed==1.0.2) (4.9)\n",
            "Requirement already satisfied: requests-oauthlib>=0.7.0 in /usr/local/lib/python3.7/dist-packages (from google-auth-oauthlib<0.5,>=0.4.1->tensorboard<2.10,>=2.9->tensorflow->rnaed==1.0.2) (1.3.1)\n",
            "Requirement already satisfied: importlib-metadata>=4.4 in /usr/local/lib/python3.7/dist-packages (from markdown>=2.6.8->tensorboard<2.10,>=2.9->tensorflow->rnaed==1.0.2) (5.0.0)\n",
            "Requirement already satisfied: zipp>=0.5 in /usr/local/lib/python3.7/dist-packages (from importlib-metadata>=4.4->markdown>=2.6.8->tensorboard<2.10,>=2.9->tensorflow->rnaed==1.0.2) (3.9.0)\n",
            "Requirement already satisfied: pyasn1<0.5.0,>=0.4.6 in /usr/local/lib/python3.7/dist-packages (from pyasn1-modules>=0.2.1->google-auth<3,>=1.6.3->tensorboard<2.10,>=2.9->tensorflow->rnaed==1.0.2) (0.4.8)\n",
            "Requirement already satisfied: certifi>=2017.4.17 in /usr/local/lib/python3.7/dist-packages (from requests<3,>=2.21.0->tensorboard<2.10,>=2.9->tensorflow->rnaed==1.0.2) (2022.9.24)\n",
            "Requirement already satisfied: urllib3!=1.25.0,!=1.25.1,<1.26,>=1.21.1 in /usr/local/lib/python3.7/dist-packages (from requests<3,>=2.21.0->tensorboard<2.10,>=2.9->tensorflow->rnaed==1.0.2) (1.24.3)\n",
            "Requirement already satisfied: chardet<4,>=3.0.2 in /usr/local/lib/python3.7/dist-packages (from requests<3,>=2.21.0->tensorboard<2.10,>=2.9->tensorflow->rnaed==1.0.2) (3.0.4)\n",
            "Requirement already satisfied: idna<3,>=2.5 in /usr/local/lib/python3.7/dist-packages (from requests<3,>=2.21.0->tensorboard<2.10,>=2.9->tensorflow->rnaed==1.0.2) (2.10)\n",
            "Requirement already satisfied: oauthlib>=3.0.0 in /usr/local/lib/python3.7/dist-packages (from requests-oauthlib>=0.7.0->google-auth-oauthlib<0.5,>=0.4.1->tensorboard<2.10,>=2.9->tensorflow->rnaed==1.0.2) (3.2.1)\n",
            "Requirement already satisfied: pyparsing!=3.0.5,>=2.0.2 in /usr/local/lib/python3.7/dist-packages (from packaging->tensorflow->rnaed==1.0.2) (3.0.9)\n",
            "Installing collected packages: rnaed\n",
            "  Running setup.py develop for rnaed\n",
            "Successfully installed rnaed-1.0.2\n"
          ]
        }
      ]
    },
    {
      "cell_type": "code",
      "source": [
        "!pip list | grep rnaed\n",
        "!pip show rnaed"
      ],
      "metadata": {
        "colab": {
          "base_uri": "https://localhost:8080/"
        },
        "id": "Wy_3p5oJajPh",
        "outputId": "b8a718fc-d3db-43ad-eb8d-2ccce6c72c6f"
      },
      "id": "Wy_3p5oJajPh",
      "execution_count": null,
      "outputs": [
        {
          "output_type": "stream",
          "name": "stdout",
          "text": [
            "rnaed                         1.0.2                  /content/drive/MyDrive/PYTHON_MODULES/RNAED\n",
            "Name: rnaed\n",
            "Version: 1.0.2\n",
            "Summary: RNA Editing tools\n",
            "Home-page: https://localhost\n",
            "Author: Jesús Peñuela\n",
            "Author-email: None\n",
            "License: UNKNOWN\n",
            "Location: /content/drive/MyDrive/PYTHON_MODULES/RNAED\n",
            "Requires: pandas, numpy, tensorflow\n",
            "Required-by: \n"
          ]
        }
      ]
    },
    {
      "cell_type": "code",
      "execution_count": 7,
      "id": "d3277a99-0187-4e81-b4e7-a5bb99d7cc27",
      "metadata": {
        "colab": {
          "base_uri": "https://localhost:8080/"
        },
        "id": "d3277a99-0187-4e81-b4e7-a5bb99d7cc27",
        "outputId": "9d6a8a4d-9971-4d3a-cf22-2cd29003d9ef"
      },
      "outputs": [
        {
          "output_type": "stream",
          "name": "stdout",
          "text": [
            "Number of channels: 2 /categories: [['A', 'G', 'C', 'T'], ['s', 'd', 'h', 'i', 'b']]\n",
            "Number of codes=21\n",
            "('A', 's') / 0\n",
            "('A', 'd') / 1\n",
            "('A', 'h') / 2\n",
            "('A', 'i') / 3\n",
            "('A', 'b') / 4\n",
            "('G', 's') / 5\n",
            "('G', 'd') / 6\n",
            "('G', 'h') / 7\n",
            "('G', 'i') / 8\n",
            "('G', 'b') / 9\n",
            "('C', 's') / 10\n",
            "('C', 'd') / 11\n",
            "('C', 'h') / 12\n",
            "('C', 'i') / 13\n",
            "('C', 'b') / 14\n",
            "('T', 's') / 15\n",
            "('T', 'd') / 16\n",
            "('T', 'h') / 17\n",
            "('T', 'i') / 18\n",
            "('T', 'b') / 19\n",
            "('*', '*') / 20\n",
            "Number of codes or categories size: 21\n"
          ]
        }
      ],
      "source": [
        "from RNAEd import DataGenerator, DataEncoding\n",
        "encoding=DataEncoding(categories,padding=padding,pad_char=\"*\")\n",
        "n_ch,cat=encoding.getChannels()\n",
        "print(\"Number of channels: {} /categories: {}\".format(n_ch,cat))\n",
        "encoding.print_LUT_TupleToInteger()\n",
        "categories_size=encoding.getNumCodes()\n",
        "print(\"Number of codes or categories size: {}\".format(categories_size))"
      ]
    },
    {
      "cell_type": "code",
      "execution_count": 8,
      "id": "d1f58b95-6aea-45de-af97-5f2964dd413a",
      "metadata": {
        "colab": {
          "base_uri": "https://localhost:8080/"
        },
        "id": "d1f58b95-6aea-45de-af97-5f2964dd413a",
        "outputId": "619e59de-2f0b-4cb5-f909-ee29afe9976b"
      },
      "outputs": [
        {
          "output_type": "stream",
          "name": "stdout",
          "text": [
            "LAST MODEL FILE: /content/drive/MyDrive/MODELS/TFM_LSTMBidiAttention_TT.h5\n",
            "BEST MODEL FILE: /content/drive/MyDrive/MODELS/best_model_TFM_LSTMBidiAttention_TT.h5\n"
          ]
        }
      ],
      "source": [
        "#We can save best model and last model\n",
        "best_model = 'best_model_'+model_name+'.h5'\n",
        "last_model =  model_name+'.h5'\n",
        "lastmodelfile = os.path.join(models_dir, last_model)\n",
        "print(\"LAST MODEL FILE: {}\".format(lastmodelfile))\n",
        "bestmodelfile = os.path.join(models_dir, best_model)\n",
        "print(\"BEST MODEL FILE: {}\".format(bestmodelfile))\n",
        "datafile = os.path.join(data_dir, fname)    "
      ]
    },
    {
      "cell_type": "markdown",
      "id": "8c001b8d-f491-45da-a667-9d566df08c38",
      "metadata": {
        "id": "8c001b8d-f491-45da-a667-9d566df08c38",
        "outputId": "dca7aef9-a604-426f-ef3d-725b81ca9baa"
      },
      "source": [
        "We read the data."
      ]
    },
    {
      "cell_type": "code",
      "execution_count": 9,
      "id": "206aec14-c210-499a-9601-09d1443cd01e",
      "metadata": {
        "colab": {
          "base_uri": "https://localhost:8080/"
        },
        "id": "206aec14-c210-499a-9601-09d1443cd01e",
        "outputId": "7344f825-b933-416a-ba06-2d2fbea0dded"
      },
      "outputs": [
        {
          "output_type": "stream",
          "name": "stdout",
          "text": [
            "DATASET: /content/drive/MyDrive/DATASETS/ALL_TT/W50/ttr_DL_Pad_W50_BALANCED_1_1_CODED2CH.csv\n",
            "shape dataraw=(283012, 104)\n"
          ]
        }
      ],
      "source": [
        "print(\"DATASET: {}\".format(datafile))\n",
        "dataraw = pd.read_csv(datafile,sep=separator_char)\n",
        "print(\"shape dataraw={}\".format(dataraw.shape))"
      ]
    },
    {
      "cell_type": "markdown",
      "id": "d4689c11-867e-44b1-bb6c-8be3e6628d34",
      "metadata": {
        "id": "d4689c11-867e-44b1-bb6c-8be3e6628d34",
        "outputId": "c6394162-7647-4e1e-a983-2aa4df3a5242"
      },
      "source": [
        "We will divide the data into: train, validation and test.\n",
        "The three datastes should be well balanced."
      ]
    },
    {
      "cell_type": "code",
      "execution_count": 10,
      "id": "0e044074-ce2c-436b-a89c-bece4f06c495",
      "metadata": {
        "colab": {
          "base_uri": "https://localhost:8080/"
        },
        "id": "0e044074-ce2c-436b-a89c-bece4f06c495",
        "outputId": "6ff50ca1-3828-413f-e5b9-e5143dbed747"
      },
      "outputs": [
        {
          "output_type": "stream",
          "name": "stdout",
          "text": [
            "<bound method NDFrame.head of         P1  P2  P3  P4  P5  P6  P7  P8  P9  P10  ...  P92  P93  P94  P95  P96  \\\n",
            "0        2  12  17  17   7  12  12  17   7    7  ...   15   10   15   10   15   \n",
            "1       11   3  11  16   6  11  11   1  11   11  ...    2   17    6    6   11   \n",
            "2        8  16   6  13  18  18   3  16  16   11  ...   16   11    1   11    1   \n",
            "3       18  18   6  16   1  16   1  11  11    5  ...    2   17    7   17   17   \n",
            "4       17  17  17   2   2   7  17   2  17    7  ...    5   10    0   10    0   \n",
            "...     ..  ..  ..  ..  ..  ..  ..  ..  ..  ...  ...  ...  ...  ...  ...  ...   \n",
            "283007  10  16   6  16  11  16  11  16  11   16  ...   11    1   15    0    6   \n",
            "283008  11   1  16   5   6  11  16   6   1    1  ...   12   12    2    6   11   \n",
            "283009   6   6  18  11  16  11  11   8   3    8  ...    2   12    2    2   17   \n",
            "283010   1   1  11  11  16   6  16   3   8   13  ...   11   16   16   16   16   \n",
            "283011  17   7   2   2  17   2   2   7   7    2  ...    2   17    2    2    6   \n",
            "\n",
            "        P97  P98  P99  P100  P101  \n",
            "0        10   11   11    16    16  \n",
            "1         8    3    3    13     8  \n",
            "2        16   16    1    11     1  \n",
            "3         7    7    2    12     2  \n",
            "4        10   10   10     0    11  \n",
            "...     ...  ...  ...   ...   ...  \n",
            "283007   11    1   11     3    16  \n",
            "283008   16    6    6    10    15  \n",
            "283009    6    6    1    11     3  \n",
            "283010   16   19   14     4    19  \n",
            "283011    1   16   18     1    11  \n",
            "\n",
            "[283012 rows x 101 columns]>\n"
          ]
        }
      ],
      "source": [
        "X=dataraw.iloc[:,3:]\n",
        "Y=dataraw['EDITING']\n",
        "print(X.head)"
      ]
    },
    {
      "cell_type": "code",
      "execution_count": 11,
      "id": "ae0e9343-353e-4b66-921e-2e2d0966bf5c",
      "metadata": {
        "colab": {
          "base_uri": "https://localhost:8080/"
        },
        "id": "ae0e9343-353e-4b66-921e-2e2d0966bf5c",
        "outputId": "840ab342-9a0d-4259-fd8c-d9845fc0ef0c"
      },
      "outputs": [
        {
          "output_type": "stream",
          "name": "stdout",
          "text": [
            "x_train:(198108, 101) y_train:(198108,)\n",
            "x_val: (42452, 101) y_val: (42452,)\n",
            "x_test: (42452, 101) y_test: (42452,)\n",
            "TRAIN LABELS:\n",
            "1    99118\n",
            "0    98990\n",
            "Name: EDITING, dtype: int64\n",
            "VALIDATION LABELS:\n",
            "1    21271\n",
            "0    21181\n",
            "Name: EDITING, dtype: int64\n",
            "TEST LABELS:\n",
            "0    21335\n",
            "1    21117\n",
            "Name: EDITING, dtype: int64\n"
          ]
        }
      ],
      "source": [
        "# Train and Validation+Test\n",
        "x_train, x_val_test, y_train, y_val_test = train_test_split(X, Y, test_size=1-ptrain, random_state=random_seed)\n",
        "#Validation and test: 0.5/0.5\n",
        "x_val, x_test, y_val, y_test = train_test_split(x_val_test, y_val_test, test_size=0.5, random_state=random_seed)\n",
        "\n",
        "print(\"x_train:{} y_train:{}\".format(x_train.shape,y_train.shape))\n",
        "print(\"x_val: {} y_val: {}\".format(x_val.shape,y_val.shape))\n",
        "print(\"x_test: {} y_test: {}\".format(x_test.shape,y_test.shape))\n",
        "print(\"TRAIN LABELS:\")\n",
        "print(y_train.value_counts())\n",
        "print(\"VALIDATION LABELS:\")\n",
        "print(y_val.value_counts())\n",
        "print(\"TEST LABELS:\")\n",
        "print(y_test.value_counts())"
      ]
    },
    {
      "cell_type": "markdown",
      "id": "6da206f4-e9f8-4b63-a2c3-eb8488556381",
      "metadata": {
        "id": "6da206f4-e9f8-4b63-a2c3-eb8488556381"
      },
      "source": [
        "We instantiate 3 DataGenerator objects that convert from integer to one-hot"
      ]
    },
    {
      "cell_type": "code",
      "execution_count": 12,
      "id": "801f208a-c441-4bb4-b300-642edd73d955",
      "metadata": {
        "id": "801f208a-c441-4bb4-b300-642edd73d955"
      },
      "outputs": [],
      "source": [
        "#DataGenerator converts on the fly from raw data to one-hot\n",
        "num_nucleosides = x_train.shape[1]\n",
        "num_tokens = categories_size\n",
        "\n",
        "training_generator   = DataGenerator(x_train, y_train, batch_size=batch_size, seq_size=num_nucleosides, categories_size=categories_size, shuffle=True)\n",
        "validation_generator = DataGenerator(x_val,   y_val,   batch_size=batch_size, seq_size=num_nucleosides, categories_size=categories_size, shuffle=True)\n",
        "test_generator       = DataGenerator(x_test,  y_test,  batch_size=1,seq_size=num_nucleosides, categories_size=categories_size, shuffle=False )"
      ]
    },
    {
      "cell_type": "markdown",
      "id": "ddddf12b-b24f-4b5e-9540-6e49d380ff2d",
      "metadata": {
        "id": "ddddf12b-b24f-4b5e-9540-6e49d380ff2d",
        "outputId": "eb581962-8561-491c-822c-04e260bcf0cd"
      },
      "source": [
        "## Attention Layer"
      ]
    },
    {
      "cell_type": "code",
      "execution_count": 25,
      "id": "204b561c-65d2-43a4-8ee2-dd1d7148d93e",
      "metadata": {
        "id": "204b561c-65d2-43a4-8ee2-dd1d7148d93e"
      },
      "outputs": [],
      "source": [
        "from keras.layers import *\n",
        "from keras.models import *\n",
        "from keras import backend as K\n",
        "\n",
        "class attention(Layer):\n",
        "    ''' heredamos de la clase layer '''\n",
        "    def __init__(self):\n",
        "        super(attention,self).__init__()\n",
        "    \n",
        "    #En el método build definimos los pesos\n",
        "    def build(self, input_shape):\n",
        "        # Define the shape of the weights and bias in this layer\n",
        "        # The layer has just 1 lonely neuron\n",
        "        \n",
        "        # For convenience sake, add a couple of properties\n",
        "        self.num_dim_pernucleoside = input_shape[-1] ## 512 dimension del vector de contexto.\n",
        "        self.nucleosides_persequence = input_shape[-2]  ## 101 número de timesteps de la secuencia\n",
        "        num_units = 1\n",
        "        \n",
        "        \n",
        "        #Weights shape=(512,1), recordemos que la red neuronal capa oculta tiene un peso por dimensión.\n",
        "        self.W=self.add_weight(name=\"att_weight\", shape=(self.num_dim_pernucleoside,num_units),\n",
        "                               initializer=\"normal\")\n",
        "        #bias  shape=(101,1), hay un bias por cada timestep, palabra o nucleótido.\n",
        "        self.b=self.add_weight(name=\"att_bias\", shape=(self.nucleosides_persequence,num_units),\n",
        "                               initializer=\"zeros\")\n",
        "        super(attention,self).build(input_shape)\n",
        "    \n",
        "    #en el método call definimos la lógica\n",
        "    #esta es la implementación clásica\n",
        "    def call_classic(self, x):\n",
        "        # x is the input tensor of 2 x num_units = 512 dimensions\n",
        "        \"\"\" We multiply the inputs ‘x’ of shape (101,512) by the layer weights ‘w’ \n",
        "        of shape (512 , 1) and obtain a (101,1) values (future attention weights). We add the bias (101,1) \n",
        "        and pass the output through any activation layer to form a neural network. So we now have 101 * 1 values and \n",
        "        We take a softmax of these values. Softmax squashes these into values in the \n",
        "        range between 0, and 1 whose sum is 1. These are the 101 attention weights. \n",
        "        We multiply each attention weight by the respective nucleoside hidden state and sum up and we are done. \n",
        "        We now have the ‘attention adjusted output’ state ready to be fed to the next dense layer for classification.\"\"\"\n",
        "        \n",
        "        #e = K.squeeze(K.tanh(K.dot(x,self.W)+self.b),axis=-1)  # Necesario en algunos frameworks\n",
        "        e = K.tanh(K.dot(x,self.W)+self.b) #Red neuronal densa de una neurona con una matriz de pesos W y un vector de bias\n",
        "        a = K.softmax(e, axis=1) #hacemos softmax para normalizar y que los pesos sumen 1.\n",
        "        # Multiplicamos cada hidden state por cada peso (101,512)*(101,1)=(101,512). \n",
        "        # No es matricial, sino componente a componente \n",
        "        output = x*a \n",
        "        #Sumamos los 101 hidden states y se obtiene un hidden state suma de dimensión (101,512)\n",
        "        #También se retornan los pesos a (101,1)\n",
        "        return a, K.sum(output, axis=1)\n",
        "  \n",
        "    #esta implementación es más robusta\n",
        "    def call(self, x):\n",
        "        \"\"\" Es lo mismo de antes pero más robusto a distintos frameworks\"\"\"\n",
        "        e = K.tanh(K.dot(x,self.W)+self.b) # dimensiones (101,512)(512,1)+(101,1)=(101,1)\n",
        "        e = Flatten()(e) #(?,101)\n",
        "        a = Activation('softmax')(e) #(?,101)\n",
        "        # Repite 512 veces los 101 pesos (?,101) = (?,512,101)\n",
        "        temp = RepeatVector(self.num_dim_pernucleoside)(a)\n",
        "        #Permuta (?,512,101) por (?,101,512) para poder multiplicar componente a \n",
        "        #componente después\n",
        "        temp = Permute([2,1])(temp) \n",
        "        # Multiplicamnos por cada peso todas las componentes de todos los hidden states\n",
        "        # hidden state X=(101,512) pesos=temp=(101,512)\n",
        "        # el truco aquí es que cada fila de pesos es una repetición de 512 pesos iguales.\n",
        "        output = merge.Multiply()([x,temp])\n",
        "        #Finalmente sumamos todas las filas y obtenemos así el hidden state ponderado\n",
        "        output = Lambda(lambda values: K.sum(values, axis=1))(output)\n",
        "        #Retornamos los pesos de atención y la suma de los hidden states.\n",
        "        return a, output"
      ]
    },
    {
      "cell_type": "markdown",
      "id": "77ef2548-0324-428e-9211-2f524ed4cbbe",
      "metadata": {
        "id": "77ef2548-0324-428e-9211-2f524ed4cbbe",
        "outputId": "eb581962-8561-491c-822c-04e260bcf0cd"
      },
      "source": [
        "## Model defined from the scratch"
      ]
    },
    {
      "cell_type": "code",
      "execution_count": 28,
      "id": "857b34b7-ddaa-465a-8f3b-69e9e321fd2c",
      "metadata": {
        "colab": {
          "base_uri": "https://localhost:8080/"
        },
        "id": "857b34b7-ddaa-465a-8f3b-69e9e321fd2c",
        "outputId": "e50a28a2-0fa5-4004-c775-de00d4a549e4"
      },
      "outputs": [
        {
          "output_type": "stream",
          "name": "stdout",
          "text": [
            "Number of units=256\n",
            "Model: \"TFM_LSTMBidiAttention_TT\"\n",
            "__________________________________________________________________________________________________\n",
            " Layer (type)                   Output Shape         Param #     Connected to                     \n",
            "==================================================================================================\n",
            " INPUTS (InputLayer)            [(None, 101, 21)]    0           []                               \n",
            "                                                                                                  \n",
            " LSTM_BI (Bidirectional)        (None, 101, 512)     569344      ['INPUTS[0][0]']                 \n",
            "                                                                                                  \n",
            " dropout_3 (Dropout)            (None, 101, 512)     0           ['LSTM_BI[0][0]']                \n",
            "                                                                                                  \n",
            " dense_3 (Dense)                (None, 101, 1)       513         ['dropout_3[0][0]']              \n",
            "                                                                                                  \n",
            " flatten_3 (Flatten)            (None, 101)          0           ['dense_3[0][0]']                \n",
            "                                                                                                  \n",
            " activation_3 (Activation)      (None, 101)          0           ['flatten_3[0][0]']              \n",
            "                                                                                                  \n",
            " repeat_vector_3 (RepeatVector)  (None, 512, 101)    0           ['activation_3[0][0]']           \n",
            "                                                                                                  \n",
            " permute_3 (Permute)            (None, 101, 512)     0           ['repeat_vector_3[0][0]']        \n",
            "                                                                                                  \n",
            " multiply_1 (Multiply)          (None, 101, 512)     0           ['dropout_3[0][0]',              \n",
            "                                                                  'permute_3[0][0]']              \n",
            "                                                                                                  \n",
            " lambda_1 (Lambda)              (None, 512)          0           ['multiply_1[0][0]']             \n",
            "                                                                                                  \n",
            " OUTPUT (Dense)                 (None, 1)            513         ['lambda_1[0][0]']               \n",
            "                                                                                                  \n",
            "==================================================================================================\n",
            "Total params: 570,370\n",
            "Trainable params: 570,370\n",
            "Non-trainable params: 0\n",
            "__________________________________________________________________________________________________\n",
            "None\n"
          ]
        }
      ],
      "source": [
        "#MODELOS REDES NEURONALES LSTM CON CAPAS DE ATENCIÓN\n",
        "# Import the libraries required in this example:\n",
        "\n",
        "num_nucleosides = x_train.shape[1]\n",
        "num_tokens = categories_size\n",
        "print(\"Number of units={}\".format(num_lstm_units))\n",
        "#Definimos la estructura con el Functional model\n",
        "inputs = keras.Input(shape=(num_nucleosides,num_tokens), name=\"INPUTS\")\n",
        "lstm_out   = layers.Bidirectional(layers.LSTM(num_lstm_units,return_sequences=True), name=\"LSTM_BI\")(inputs)\n",
        "dropout= layers.Dropout(0.2)(lstm_out)\n",
        "\n",
        "#===============================\n",
        "#METHOD 1: using a custom layer:\n",
        "#===============================\n",
        "#La salida de la capa bidireccional será de 1 batch=None numero de secuencias, \n",
        "#de 101 nucleosidos(timesteps=50+1+50) de 2 x número_unidades=2*256=512\n",
        "#Es decir (None,101,512)\n",
        "#---------uncomment here--------------------\n",
        "#a ,att_d = attention()(dropout)\n",
        "#-----------------------------\n",
        "#La capa de atención debe retornarnos un peso para cada hidden state \n",
        "#correspondiente a cada elemento de la secuencia o timestep\n",
        "#es decir, nos debe dar un peso por cada nucleósido, es decir, nos debe dar (101,1)\n",
        "#Como son pesos probabilisticos deben sumar 1.\n",
        "#Pero realmente no queremos esos pesos, sino la suma de los 101 hidden states \n",
        "#de dimensión 512 ponderados por esos pesos que es lo que conforma el verdadero contexto, \n",
        "# y que tendrá dimensión (None,1,512).\n",
        "#Esta salida es lo que se llama el \"attention adjusted output state\".\n",
        "#Para ello, nuestra capa de atención debe entrenar (101,1) pesos, ya que debemos \n",
        "#entrenar un peso por cada dimensión del espacio vectorial del contexto.\n",
        "#Pero ojo, esos no son los pesos de la red neuronal de la capa de atención, porque si nuestra\n",
        "#red neuronal de atención tuviera 101 pesos, serían posicionales y deben ser calculados por el \n",
        "#valor semántico de los nucleótidos (si fueran palabras por su significado, no por su posición)\n",
        "\n",
        "#Nuestra red neuronal de atención debe atender al \"significado\" de las palabras, es decir,\n",
        "#a la codificación de cada nucleótido en el vector de estados \n",
        "#de la LSTM que tiene dimensión 512. Por lo tanto el número de pesos de la  red de atención \n",
        "# es de (512,1). Son los pesos de las 512 conexiones de la neurona de esta capa.\n",
        "\n",
        "#Durante el entrenamiento multiplicaremos matricialmente todos los nucleótidos de la \n",
        "#secuencia (101), con su codificación LSTMbidi(512), por los pesos de la capa de atención(512) y eso \n",
        "#nos dará los 101 pesos de atención:\n",
        "#(101,512) x (512,1) = (101,1) los pesos de atención\n",
        "#(512,1) son los pesos de la capa.\n",
        "\n",
        "#Ahora entendemos por qué los pesos de atención no son constantes\n",
        "#sino que para cada secuencia cambian:\n",
        "#En una red ya entrenada:\n",
        "#  (101,512)[variable] x (512,1)[constante] = (101,1)[variable]\n",
        "\n",
        "#===============================================================\n",
        "\n",
        "#===============================\n",
        "#METHOD 2: using regular layers:\n",
        "#===============================\n",
        "\n",
        "#---------uncomment here--------------------\n",
        "e=Dense(1, activation='tanh')(dropout) #Capa de atención\n",
        "e=Flatten()(e)\n",
        "a=Activation('softmax')(e) #Softmax para que sumen 1 los pesos de atención.\n",
        "temp=RepeatVector(2*num_lstm_units)(a)\n",
        "temp=Permute([2, 1])(temp)\n",
        "# multiply weight with LSTM layer o/p\n",
        "output = Multiply()([dropout, temp])\n",
        "# Get the attention adjusted output state by adding up\n",
        "att = Lambda(lambda values: K.sum(values, axis=1))(output)\n",
        "#-----------------------------\n",
        "\n",
        "#===============================================================\n",
        "outputs= layers.Dense(1, activation='sigmoid', name=\"OUTPUT\")(att)\n",
        "#Creamos el modelo\n",
        "model_from_scratch  = keras.Model(inputs=inputs, outputs=outputs, name=model_name)\n",
        "\n",
        "#Mostramos el modelo\n",
        "print(model_from_scratch.summary())"
      ]
    },
    {
      "cell_type": "code",
      "execution_count": 29,
      "id": "ddc47876-f37d-49b9-8927-208034317df9",
      "metadata": {
        "id": "ddc47876-f37d-49b9-8927-208034317df9"
      },
      "outputs": [],
      "source": [
        "#Compilation reset all weights\n",
        "model_from_scratch.compile(optimizer=keras.optimizers.Adam(),\n",
        "                           loss     =keras.losses.BinaryCrossentropy(),\n",
        "                           metrics  =[keras.metrics.BinaryAccuracy()])\n",
        "\n",
        "model=model_from_scratch"
      ]
    },
    {
      "cell_type": "markdown",
      "id": "9WyvcKhMJSEE",
      "metadata": {
        "id": "9WyvcKhMJSEE"
      },
      "source": [
        "Recover last model, best model or generate a new model"
      ]
    },
    {
      "cell_type": "code",
      "execution_count": 30,
      "id": "643c51c7-f1ee-489b-b306-fbf948a07a51",
      "metadata": {
        "id": "643c51c7-f1ee-489b-b306-fbf948a07a51"
      },
      "outputs": [],
      "source": [
        "#Load the trained model from disk\n",
        "import os.path\n",
        "\n",
        "best_model_accuracy =0\n",
        "last_model_accuracy =0\n"
      ]
    },
    {
      "cell_type": "code",
      "execution_count": 31,
      "id": "3IuCH91HwwUR",
      "metadata": {
        "id": "3IuCH91HwwUR"
      },
      "outputs": [],
      "source": [
        "if os.path.exists(bestmodelfile):\n",
        "    model = tf.keras.models.load_model(bestmodelfile)\n",
        "    print(\"Testing best model file: {}\".format(bestmodelfile))\n",
        "    results = model.evaluate(validation_generator,verbose=1)\n",
        "    best_model_accuracy = results[1]\n",
        "    print(\"best model accuracy: {}\".format(best_model_accuracy))    "
      ]
    },
    {
      "cell_type": "code",
      "execution_count": 33,
      "id": "rxiGXKZhwbS-",
      "metadata": {
        "id": "rxiGXKZhwbS-"
      },
      "outputs": [],
      "source": [
        "if os.path.exists(lastmodelfile):\n",
        "    model = tf.keras.models.load_model(lastmodelfile)\n",
        "    print(\"Testing last complete model file: {}\".format(lastmodelfile))\n",
        "    results = model.evaluate(validation_generator,verbose=1)\n",
        "    last_model_accuracy = results[1]\n",
        "    print(\"last model accuracy: {}\".format(last_model_accuracy))           \n"
      ]
    },
    {
      "cell_type": "code",
      "execution_count": 34,
      "id": "58jDsR4BwkN-",
      "metadata": {
        "colab": {
          "base_uri": "https://localhost:8080/"
        },
        "id": "58jDsR4BwkN-",
        "outputId": "d0868243-d107-4fce-c5a0-8de2fd57c978"
      },
      "outputs": [
        {
          "output_type": "stream",
          "name": "stdout",
          "text": [
            "Selected new untrained model\n",
            "Model: \"TFM_LSTMBidiAttention_TT\"\n",
            "__________________________________________________________________________________________________\n",
            " Layer (type)                   Output Shape         Param #     Connected to                     \n",
            "==================================================================================================\n",
            " INPUTS (InputLayer)            [(None, 101, 21)]    0           []                               \n",
            "                                                                                                  \n",
            " LSTM_BI (Bidirectional)        (None, 101, 512)     569344      ['INPUTS[0][0]']                 \n",
            "                                                                                                  \n",
            " dropout_3 (Dropout)            (None, 101, 512)     0           ['LSTM_BI[0][0]']                \n",
            "                                                                                                  \n",
            " dense_3 (Dense)                (None, 101, 1)       513         ['dropout_3[0][0]']              \n",
            "                                                                                                  \n",
            " flatten_3 (Flatten)            (None, 101)          0           ['dense_3[0][0]']                \n",
            "                                                                                                  \n",
            " activation_3 (Activation)      (None, 101)          0           ['flatten_3[0][0]']              \n",
            "                                                                                                  \n",
            " repeat_vector_3 (RepeatVector)  (None, 512, 101)    0           ['activation_3[0][0]']           \n",
            "                                                                                                  \n",
            " permute_3 (Permute)            (None, 101, 512)     0           ['repeat_vector_3[0][0]']        \n",
            "                                                                                                  \n",
            " multiply_1 (Multiply)          (None, 101, 512)     0           ['dropout_3[0][0]',              \n",
            "                                                                  'permute_3[0][0]']              \n",
            "                                                                                                  \n",
            " lambda_1 (Lambda)              (None, 512)          0           ['multiply_1[0][0]']             \n",
            "                                                                                                  \n",
            " OUTPUT (Dense)                 (None, 1)            513         ['lambda_1[0][0]']               \n",
            "                                                                                                  \n",
            "==================================================================================================\n",
            "Total params: 570,370\n",
            "Trainable params: 570,370\n",
            "Non-trainable params: 0\n",
            "__________________________________________________________________________________________________\n"
          ]
        }
      ],
      "source": [
        "if best_model_accuracy >= last_model_accuracy and best_model_accuracy != 0:\n",
        "   model = tf.keras.models.load_model(bestmodelfile)\n",
        "   print(\"Selected best model saved: {}\".format(bestmodelfile))\n",
        "else:\n",
        "  if last_model_accuracy > best_model_accuracy:\n",
        "     print(\"Selected last model saved: {}\".format(lastmodelfile))\n",
        "  else:\n",
        "     print(\"Selected new untrained model\")\n",
        "\n",
        "\n",
        "# Show the model architecture\n",
        "model.summary()"
      ]
    },
    {
      "cell_type": "code",
      "execution_count": 35,
      "id": "644b1c7b-7c45-4483-88fc-e60a012edba0",
      "metadata": {
        "colab": {
          "base_uri": "https://localhost:8080/",
          "height": 1000
        },
        "id": "644b1c7b-7c45-4483-88fc-e60a012edba0",
        "outputId": "9da6403a-3dcc-424f-f4b1-2b5b043b70bc"
      },
      "outputs": [
        {
          "output_type": "execute_result",
          "data": {
            "image/png": "[encoded data removed]",
            "text/plain": [
              "<IPython.core.display.Image object>"
            ]
          },
          "metadata": {},
          "execution_count": 35
        }
      ],
      "source": [
        "keras.utils.plot_model(model, show_shapes=True)"
      ]
    },
    {
      "cell_type": "code",
      "execution_count": 36,
      "id": "84d28828-8ee5-4bc6-8b97-1e06ab60c519",
      "metadata": {
        "id": "84d28828-8ee5-4bc6-8b97-1e06ab60c519"
      },
      "outputs": [],
      "source": [
        "from keras.callbacks import ModelCheckpoint,EarlyStopping\n",
        "\n",
        "checkpoint = ModelCheckpoint(bestmodelfile, \n",
        "                             monitor='val_loss', \n",
        "                             verbose=1,\n",
        "                             save_best_only=True, \n",
        "                             mode='auto', \n",
        "                             save_freq='epoch')\n",
        "\n",
        "callback=EarlyStopping(monitor='val_loss', \n",
        "                       min_delta=0, \n",
        "                       patience=3, \n",
        "                       verbose=1, \n",
        "                       mode='auto',\n",
        "                       baseline=None, \n",
        "                       restore_best_weights=True)"
      ]
    },
    {
      "cell_type": "code",
      "execution_count": 37,
      "id": "22345410-c762-42e4-9767-5ef8b1edb003",
      "metadata": {
        "colab": {
          "base_uri": "https://localhost:8080/"
        },
        "id": "22345410-c762-42e4-9767-5ef8b1edb003",
        "outputId": "829eedd5-7ff8-4ced-fced-5e4a8ea1ad66"
      },
      "outputs": [
        {
          "output_type": "stream",
          "name": "stdout",
          "text": [
            "Epoch 1/40\n",
            "6190/6190 [==============================] - ETA: 0s - loss: 0.6815 - binary_accuracy: 0.5635\n",
            "Epoch 1: val_loss improved from inf to 0.67207, saving model to /content/drive/MyDrive/MODELS/best_model_TFM_LSTMBidiAttention_TT.h5\n",
            "6190/6190 [==============================] - 826s 129ms/step - loss: 0.6815 - binary_accuracy: 0.5635 - val_loss: 0.6721 - val_binary_accuracy: 0.5822\n",
            "Epoch 2/40\n",
            "6190/6190 [==============================] - ETA: 0s - loss: 0.6691 - binary_accuracy: 0.5877\n",
            "Epoch 2: val_loss improved from 0.67207 to 0.66073, saving model to /content/drive/MyDrive/MODELS/best_model_TFM_LSTMBidiAttention_TT.h5\n",
            "6190/6190 [==============================] - 786s 127ms/step - loss: 0.6691 - binary_accuracy: 0.5877 - val_loss: 0.6607 - val_binary_accuracy: 0.6030\n",
            "Epoch 3/40\n",
            "6190/6190 [==============================] - ETA: 0s - loss: 0.6511 - binary_accuracy: 0.6149\n",
            "Epoch 3: val_loss improved from 0.66073 to 0.63453, saving model to /content/drive/MyDrive/MODELS/best_model_TFM_LSTMBidiAttention_TT.h5\n",
            "6190/6190 [==============================] - 789s 127ms/step - loss: 0.6511 - binary_accuracy: 0.6149 - val_loss: 0.6345 - val_binary_accuracy: 0.6361\n",
            "Epoch 4/40\n",
            "6190/6190 [==============================] - ETA: 0s - loss: 0.6286 - binary_accuracy: 0.6462\n",
            "Epoch 4: val_loss improved from 0.63453 to 0.62582, saving model to /content/drive/MyDrive/MODELS/best_model_TFM_LSTMBidiAttention_TT.h5\n",
            "6190/6190 [==============================] - 790s 128ms/step - loss: 0.6286 - binary_accuracy: 0.6462 - val_loss: 0.6258 - val_binary_accuracy: 0.6506\n",
            "Epoch 5/40\n",
            "6190/6190 [==============================] - ETA: 0s - loss: 0.6129 - binary_accuracy: 0.6648\n",
            "Epoch 5: val_loss improved from 0.62582 to 0.62309, saving model to /content/drive/MyDrive/MODELS/best_model_TFM_LSTMBidiAttention_TT.h5\n",
            "6190/6190 [==============================] - 786s 127ms/step - loss: 0.6129 - binary_accuracy: 0.6648 - val_loss: 0.6231 - val_binary_accuracy: 0.6539\n",
            "Epoch 6/40\n",
            "6190/6190 [==============================] - ETA: 0s - loss: 0.5954 - binary_accuracy: 0.6846\n",
            "Epoch 6: val_loss improved from 0.62309 to 0.59591, saving model to /content/drive/MyDrive/MODELS/best_model_TFM_LSTMBidiAttention_TT.h5\n",
            "6190/6190 [==============================] - 788s 127ms/step - loss: 0.5954 - binary_accuracy: 0.6846 - val_loss: 0.5959 - val_binary_accuracy: 0.6830\n",
            "Epoch 7/40\n",
            "6190/6190 [==============================] - ETA: 0s - loss: 0.5811 - binary_accuracy: 0.6987\n",
            "Epoch 7: val_loss improved from 0.59591 to 0.58982, saving model to /content/drive/MyDrive/MODELS/best_model_TFM_LSTMBidiAttention_TT.h5\n",
            "6190/6190 [==============================] - 785s 127ms/step - loss: 0.5811 - binary_accuracy: 0.6987 - val_loss: 0.5898 - val_binary_accuracy: 0.6888\n",
            "Epoch 8/40\n",
            "6190/6190 [==============================] - ETA: 0s - loss: 0.5652 - binary_accuracy: 0.7109\n",
            "Epoch 8: val_loss improved from 0.58982 to 0.58564, saving model to /content/drive/MyDrive/MODELS/best_model_TFM_LSTMBidiAttention_TT.h5\n",
            "6190/6190 [==============================] - 788s 127ms/step - loss: 0.5652 - binary_accuracy: 0.7109 - val_loss: 0.5856 - val_binary_accuracy: 0.6966\n",
            "Epoch 9/40\n",
            "6190/6190 [==============================] - ETA: 0s - loss: 0.5475 - binary_accuracy: 0.7265\n",
            "Epoch 9: val_loss improved from 0.58564 to 0.57906, saving model to /content/drive/MyDrive/MODELS/best_model_TFM_LSTMBidiAttention_TT.h5\n",
            "6190/6190 [==============================] - 786s 127ms/step - loss: 0.5475 - binary_accuracy: 0.7265 - val_loss: 0.5791 - val_binary_accuracy: 0.7034\n",
            "Epoch 10/40\n",
            "6190/6190 [==============================] - ETA: 0s - loss: 0.5295 - binary_accuracy: 0.7404\n",
            "Epoch 10: val_loss improved from 0.57906 to 0.57634, saving model to /content/drive/MyDrive/MODELS/best_model_TFM_LSTMBidiAttention_TT.h5\n",
            "6190/6190 [==============================] - 789s 127ms/step - loss: 0.5295 - binary_accuracy: 0.7404 - val_loss: 0.5763 - val_binary_accuracy: 0.7072\n",
            "Epoch 11/40\n",
            "6190/6190 [==============================] - ETA: 0s - loss: 0.5120 - binary_accuracy: 0.7521\n",
            "Epoch 11: val_loss improved from 0.57634 to 0.57521, saving model to /content/drive/MyDrive/MODELS/best_model_TFM_LSTMBidiAttention_TT.h5\n",
            "6190/6190 [==============================] - 785s 127ms/step - loss: 0.5120 - binary_accuracy: 0.7521 - val_loss: 0.5752 - val_binary_accuracy: 0.7071\n",
            "Epoch 12/40\n",
            "6190/6190 [==============================] - ETA: 0s - loss: 0.4942 - binary_accuracy: 0.7648\n",
            "Epoch 12: val_loss did not improve from 0.57521\n",
            "6190/6190 [==============================] - 788s 127ms/step - loss: 0.4942 - binary_accuracy: 0.7648 - val_loss: 0.5801 - val_binary_accuracy: 0.7094\n",
            "Epoch 13/40\n",
            "6190/6190 [==============================] - ETA: 0s - loss: 0.4798 - binary_accuracy: 0.7747\n",
            "Epoch 13: val_loss improved from 0.57521 to 0.57282, saving model to /content/drive/MyDrive/MODELS/best_model_TFM_LSTMBidiAttention_TT.h5\n",
            "6190/6190 [==============================] - 791s 128ms/step - loss: 0.4798 - binary_accuracy: 0.7747 - val_loss: 0.5728 - val_binary_accuracy: 0.7153\n",
            "Epoch 14/40\n",
            "6190/6190 [==============================] - ETA: 0s - loss: 0.4640 - binary_accuracy: 0.7841\n",
            "Epoch 14: val_loss did not improve from 0.57282\n",
            "6190/6190 [==============================] - 804s 130ms/step - loss: 0.4640 - binary_accuracy: 0.7841 - val_loss: 0.5905 - val_binary_accuracy: 0.7136\n",
            "Epoch 15/40\n",
            "6190/6190 [==============================] - ETA: 0s - loss: 0.4482 - binary_accuracy: 0.7942\n",
            "Epoch 15: val_loss did not improve from 0.57282\n",
            "6190/6190 [==============================] - 790s 128ms/step - loss: 0.4482 - binary_accuracy: 0.7942 - val_loss: 0.5832 - val_binary_accuracy: 0.7180\n",
            "Epoch 16/40\n",
            "6190/6190 [==============================] - ETA: 0s - loss: 0.4349 - binary_accuracy: 0.8024\n",
            "Epoch 16: val_loss did not improve from 0.57282\n",
            "Restoring model weights from the end of the best epoch: 13.\n",
            "6190/6190 [==============================] - 788s 127ms/step - loss: 0.4349 - binary_accuracy: 0.8024 - val_loss: 0.5865 - val_binary_accuracy: 0.7191\n",
            "Epoch 16: early stopping\n"
          ]
        }
      ],
      "source": [
        "with tf.device(device_name):#Use GPU if available\n",
        "    history=model.fit(training_generator,epochs=n_epochs,\n",
        "                      validation_data=validation_generator,\n",
        "                      callbacks=[checkpoint,callback],verbose=trace_level)"
      ]
    },
    {
      "cell_type": "code",
      "execution_count": 38,
      "id": "c8edd824-ea63-46fa-a917-5e41dbd3422c",
      "metadata": {
        "id": "c8edd824-ea63-46fa-a917-5e41dbd3422c",
        "colab": {
          "base_uri": "https://localhost:8080/"
        },
        "outputId": "e59a1d09-7297-48cd-da4b-5100718c50d0"
      },
      "outputs": [
        {
          "output_type": "stream",
          "name": "stdout",
          "text": [
            "Trained epochs: 16 of 40\n"
          ]
        }
      ],
      "source": [
        "#We always save the last model.\n",
        "#Last model can be triggered by early stopping\n",
        "n_epochs_trained = len(history.history['loss'])\n",
        "print(\"Trained epochs: {} of {}\".format(n_epochs_trained,n_epochs))\n",
        "model.save(lastmodelfile)    "
      ]
    },
    {
      "cell_type": "code",
      "execution_count": 39,
      "id": "634fb710-78e7-4734-b41f-eccd0a9ff589",
      "metadata": {
        "id": "634fb710-78e7-4734-b41f-eccd0a9ff589",
        "colab": {
          "base_uri": "https://localhost:8080/",
          "height": 551
        },
        "outputId": "233d6612-d8aa-4965-8d68-edf96718d269"
      },
      "outputs": [
        {
          "output_type": "display_data",
          "data": {
            "text/plain": [
              "<Figure size 432x288 with 1 Axes>"
            ],
            "image/png": "[encoded data removed]"
          },
          "metadata": {}
        },
        {
          "output_type": "display_data",
          "data": {
            "text/plain": [
              "<Figure size 432x288 with 1 Axes>"
            ],
            "image/png": "[encoded data removed]"
          },
          "metadata": {}
        }
      ],
      "source": [
        "#PLOT ACCURACY AND LOSS\n",
        "\n",
        "acc = history.history['binary_accuracy']\n",
        "val_acc = history.history['val_binary_accuracy']\n",
        "loss = history.history['loss']\n",
        "val_loss = history.history['val_loss']\n",
        "\n",
        "epochs = range(1, len(acc) + 1)\n",
        "\n",
        "plt.plot(epochs, acc, 'bo', label='Training acc')\n",
        "plt.plot(epochs, val_acc, 'b', label='Validation acc')\n",
        "plt.title('Training and validation accuracy')\n",
        "plt.legend()\n",
        "plt.figure()\n",
        "plt.plot(epochs, loss, 'bo', label='Training loss')\n",
        "plt.plot(epochs, val_loss, 'b', label='Validation loss')\n",
        "plt.title('Training and validation loss')\n",
        "plt.legend()\n",
        "plt.show()"
      ]
    },
    {
      "cell_type": "markdown",
      "id": "c366e2cf-105b-4007-8732-9c3f330f9cb2",
      "metadata": {
        "id": "c366e2cf-105b-4007-8732-9c3f330f9cb2",
        "outputId": "c72777c6-5a20-481f-c89e-89ed00121599"
      },
      "source": [
        "We recover the best model saved."
      ]
    },
    {
      "cell_type": "code",
      "execution_count": 40,
      "id": "d657a2d3-548a-4475-a171-831406ed1140",
      "metadata": {
        "id": "d657a2d3-548a-4475-a171-831406ed1140"
      },
      "outputs": [],
      "source": [
        "if os.path.exists(bestmodelfile):\n",
        "    model = tf.keras.models.load_model(bestmodelfile)"
      ]
    },
    {
      "cell_type": "markdown",
      "id": "4a11909c-fe48-433d-a1ab-b038b301bc16",
      "metadata": {
        "id": "4a11909c-fe48-433d-a1ab-b038b301bc16",
        "outputId": "c72777c6-5a20-481f-c89e-89ed00121599"
      },
      "source": [
        "We evaluate the best model on validation data."
      ]
    },
    {
      "cell_type": "code",
      "execution_count": 41,
      "id": "4bae3e40-6872-49cd-95c2-91b624ee4193",
      "metadata": {
        "id": "4bae3e40-6872-49cd-95c2-91b624ee4193",
        "colab": {
          "base_uri": "https://localhost:8080/"
        },
        "outputId": "ee827eba-ebac-43e2-8e93-cb61ee664fcf"
      },
      "outputs": [
        {
          "output_type": "stream",
          "name": "stdout",
          "text": [
            "Evaluate models on validation data\n",
            "1326/1326 [==============================] - 131s 98ms/step - loss: 0.5727 - binary_accuracy: 0.7153\n",
            "Accuracy on validation data: 0.715\n",
            "Loss on validation data: 0.573\n"
          ]
        }
      ],
      "source": [
        "#EVALUATE VALIDATION DATASET\n",
        "print(\"Evaluate models on validation data\")\n",
        "results_model = model.evaluate(validation_generator,verbose=trace_level)\n",
        "print ('Accuracy on validation data:',round(results_model[1],3))\n",
        "print ('Loss on validation data:',round(results_model[0],3))"
      ]
    },
    {
      "cell_type": "markdown",
      "id": "81704c88-897a-4f89-b1f5-80f6a5f3d364",
      "metadata": {
        "id": "81704c88-897a-4f89-b1f5-80f6a5f3d364",
        "outputId": "205c012b-84d2-4f51-c96a-398417f7e61f"
      },
      "source": [
        "We make predictions on test data, never used during training nor validation"
      ]
    },
    {
      "cell_type": "code",
      "execution_count": 42,
      "id": "fb7abf2c-e423-485d-a543-06f4743971c7",
      "metadata": {
        "id": "fb7abf2c-e423-485d-a543-06f4743971c7",
        "colab": {
          "base_uri": "https://localhost:8080/"
        },
        "outputId": "b5fe4a08-4da2-4bda-ebad-0424ddb6fe98"
      },
      "outputs": [
        {
          "output_type": "stream",
          "name": "stdout",
          "text": [
            "Make predictions on test data\n",
            "42452/42452 [==============================] - 451s 11ms/step\n"
          ]
        }
      ],
      "source": [
        "#PREDICTIONS\n",
        "print(\"Make predictions on test data\")\n",
        "model_prediction = model.predict(test_generator,verbose=trace_level)\n",
        "model_prediction_binary = (model_prediction > 0.5).astype(\"int32\")"
      ]
    },
    {
      "cell_type": "code",
      "execution_count": 43,
      "id": "d08289e1-32e4-4290-82c7-b87718f230a9",
      "metadata": {
        "id": "d08289e1-32e4-4290-82c7-b87718f230a9",
        "colab": {
          "base_uri": "https://localhost:8080/"
        },
        "outputId": "3f52620e-e1df-4397-b090-247576e91a59"
      },
      "outputs": [
        {
          "output_type": "stream",
          "name": "stdout",
          "text": [
            "(42452, 101)\n",
            "(42452,)\n",
            "(42452, 1)\n",
            "(42452, 1)\n"
          ]
        }
      ],
      "source": [
        "print(x_test.shape)\n",
        "print(y_test.shape)\n",
        "print(model_prediction.shape)\n",
        "print(model_prediction_binary.shape)"
      ]
    },
    {
      "cell_type": "code",
      "execution_count": 44,
      "id": "a9296b0f-efc6-4133-aaff-949a4159e5f7",
      "metadata": {
        "id": "a9296b0f-efc6-4133-aaff-949a4159e5f7",
        "colab": {
          "base_uri": "https://localhost:8080/"
        },
        "outputId": "af3539c6-2e8d-4cc3-88a8-9b43164e197e"
      },
      "outputs": [
        {
          "output_type": "stream",
          "name": "stdout",
          "text": [
            "MODEL TFM_LSTMBidiAttention_TT\n",
            "---------------------------------\n",
            "Kappa: 0.43\n",
            "              precision    recall  f1-score   support\n",
            "\n",
            "           0       0.69      0.79      0.74     21335\n",
            "           1       0.75      0.64      0.69     21117\n",
            "\n",
            "    accuracy                           0.72     42452\n",
            "   macro avg       0.72      0.71      0.71     42452\n",
            "weighted avg       0.72      0.72      0.71     42452\n",
            "\n"
          ]
        }
      ],
      "source": [
        "#METRICS QUALITY CLASSIFICATION\n",
        "print(\"MODEL \"+model_name+\"\\n---------------------------------\")\n",
        "kappa = cohen_kappa_score(y_test, model_prediction_binary)\n",
        "print ('Kappa:',round(kappa,3))\n",
        "print(classification_report(y_test, model_prediction_binary))"
      ]
    },
    {
      "cell_type": "code",
      "execution_count": 45,
      "id": "686f01e9-daf3-43f6-bd2f-d1fee30059cb",
      "metadata": {
        "id": "686f01e9-daf3-43f6-bd2f-d1fee30059cb",
        "colab": {
          "base_uri": "https://localhost:8080/",
          "height": 346
        },
        "outputId": "c370032b-5aab-48a3-8639-bcf15c6ccbf0"
      },
      "outputs": [
        {
          "output_type": "display_data",
          "data": {
            "text/plain": [
              "<Figure size 432x288 with 2 Axes>"
            ],
            "image/png": "[encoded data removed]"
          },
          "metadata": {}
        }
      ],
      "source": [
        "from sklearn.metrics import confusion_matrix, precision_score, cohen_kappa_score, classification_report\n",
        "import seaborn as sns; sns.set()\n",
        "# PLOT CONFUSION MATRIX\n",
        "# Tutorial: https://www.stackvidhya.com/plot-confusion-matrix-in-python-and-why/\n",
        "plt.figure()\n",
        "\n",
        "cm = confusion_matrix(y_test,model_prediction_binary)\n",
        "\n",
        "group_names = ['TN','FP','FN','TP']\n",
        "group_counts = [\"{0:0.0f}\".format(value) for value in cm.flatten()]\n",
        "group_percentages = [\"{0:.2%}\".format(value) for value in cm.flatten()/np.sum(cm)]\n",
        "\n",
        "labels = [f\"{v1}\\n{v2}\\n{v3}\" for v1, v2, v3 in zip(group_names,group_counts,group_percentages)]\n",
        "labels = np.asarray(labels).reshape(2,2)\n",
        "\n",
        "ax = sns.heatmap(cm, annot=labels, fmt='', cmap='Blues')\n",
        "\n",
        "ax.set_title('RNA-Editing Confusion Matrix \\n\\n');\n",
        "ax.set_xlabel('\\nPredicted Values '+ model_name)\n",
        "ax.set_ylabel('Actual Values ');\n",
        "## Ticket labels - List must be in alphabetical order\n",
        "#ax.xaxis.set_ticklabels(['False','True'])\n",
        "#ax.yaxis.set_ticklabels(['False','True'])\n",
        "plt.show()\n"
      ]
    },
    {
      "cell_type": "code",
      "execution_count": 46,
      "id": "95327601-ffc7-4a46-b204-57c81392e711",
      "metadata": {
        "id": "95327601-ffc7-4a46-b204-57c81392e711",
        "colab": {
          "base_uri": "https://localhost:8080/",
          "height": 319
        },
        "outputId": "74a5c72b-fe72-4953-eb00-3971d75ccec3"
      },
      "outputs": [
        {
          "output_type": "stream",
          "name": "stdout",
          "text": [
            "AUC: 0.78\n"
          ]
        },
        {
          "output_type": "display_data",
          "data": {
            "text/plain": [
              "<Figure size 432x288 with 1 Axes>"
            ],
            "image/png": "[encoded data removed]"
          },
          "metadata": {}
        }
      ],
      "source": [
        "from sklearn.metrics import roc_curve\n",
        "from sklearn.metrics import roc_auc_score\n",
        "\n",
        "def plot_roc_curve(fpr, tpr):\n",
        "    plt.plot(fpr, tpr, color=\"orange\", label=\"ROC\")\n",
        "    plt.plot([0, 1], [0, 1], color=\"darkblue\", linestyle=\"--\")\n",
        "    plt.xlabel('False Positive Rate')\n",
        "    plt.ylabel('True Positive Rate')\n",
        "    plt.title('Receiver Operating Characteristic (ROC) Curve')\n",
        "    plt.legend()\n",
        "    plt.show()\n",
        "\n",
        "auc = roc_auc_score(y_test, model_prediction)\n",
        "print('AUC: %.2f' % auc)\n",
        "fpr, tpr, thresholds = roc_curve(y_test, model_prediction)\n",
        "plot_roc_curve(fpr, tpr)"
      ]
    },
    {
      "cell_type": "markdown",
      "id": "14cbaa05-33dc-4c0f-8b7a-93f34a0ff4af",
      "metadata": {
        "id": "14cbaa05-33dc-4c0f-8b7a-93f34a0ff4af",
        "outputId": "a58b14c5-9363-4ea4-a0d3-9e54d603ec1e"
      },
      "source": [
        "# RESULTS INSIGHT"
      ]
    },
    {
      "cell_type": "code",
      "execution_count": 47,
      "id": "c2790fe1-48b6-4412-8903-67b665898361",
      "metadata": {
        "id": "c2790fe1-48b6-4412-8903-67b665898361",
        "colab": {
          "base_uri": "https://localhost:8080/",
          "height": 235
        },
        "outputId": "daa98543-a9c8-40f9-f9fd-248506762aab"
      },
      "outputs": [
        {
          "output_type": "execute_result",
          "data": {
            "text/plain": [
              "        P1  P2  P3 RESULT_TYPE  PROB_PRED  P4  P5  P6  P7  P8  ...  P92  P93  \\\n",
              "266365  12   7   7        None   0.634171  12  12   7   2   6  ...   11   11   \n",
              "165318   9  16  16        None   0.784174  11   1  18   6  17  ...    2    7   \n",
              "48269    7   7  17        None   0.794537  12   7  17   6   6  ...   10   15   \n",
              "89431    6   1  11        None   0.886957   1  11  16   1   6  ...    2    6   \n",
              "4298     2  17   7        None   0.369920  12   2   2   1   1  ...   10   15   \n",
              "\n",
              "        P94  P95  P96  P97  P98  P99  P100  P101  \n",
              "266365    1   11    3   16    6   11    11     3  \n",
              "165318   12   17   12    2   17   12    17    12  \n",
              "48269     0    0   15    5   10    0     0     0  \n",
              "89431     1    1    6   16    9    4     4     4  \n",
              "4298     15   15   10   15   15   15    10    15  \n",
              "\n",
              "[5 rows x 103 columns]"
            ],
            "text/html": [
              "\n",
              "  <div id=\"df-6c9f9769-ec21-4f82-a7af-2a48fab24a8c\">\n",
              "    <div class=\"colab-df-container\">\n",
              "      <div>\n",
              "<style scoped>\n",
              "    .dataframe tbody tr th:only-of-type {\n",
              "        vertical-align: middle;\n",
              "    }\n",
              "\n",
              "    .dataframe tbody tr th {\n",
              "        vertical-align: top;\n",
              "    }\n",
              "\n",
              "    .dataframe thead th {\n",
              "        text-align: right;\n",
              "    }\n",
              "</style>\n",
              "<table border=\"1\" class=\"dataframe\">\n",
              "  <thead>\n",
              "    <tr style=\"text-align: right;\">\n",
              "      <th></th>\n",
              "      <th>P1</th>\n",
              "      <th>P2</th>\n",
              "      <th>P3</th>\n",
              "      <th>RESULT_TYPE</th>\n",
              "      <th>PROB_PRED</th>\n",
              "      <th>P4</th>\n",
              "      <th>P5</th>\n",
              "      <th>P6</th>\n",
              "      <th>P7</th>\n",
              "      <th>P8</th>\n",
              "      <th>...</th>\n",
              "      <th>P92</th>\n",
              "      <th>P93</th>\n",
              "      <th>P94</th>\n",
              "      <th>P95</th>\n",
              "      <th>P96</th>\n",
              "      <th>P97</th>\n",
              "      <th>P98</th>\n",
              "      <th>P99</th>\n",
              "      <th>P100</th>\n",
              "      <th>P101</th>\n",
              "    </tr>\n",
              "  </thead>\n",
              "  <tbody>\n",
              "    <tr>\n",
              "      <th>266365</th>\n",
              "      <td>12</td>\n",
              "      <td>7</td>\n",
              "      <td>7</td>\n",
              "      <td>None</td>\n",
              "      <td>0.634171</td>\n",
              "      <td>12</td>\n",
              "      <td>12</td>\n",
              "      <td>7</td>\n",
              "      <td>2</td>\n",
              "      <td>6</td>\n",
              "      <td>...</td>\n",
              "      <td>11</td>\n",
              "      <td>11</td>\n",
              "      <td>1</td>\n",
              "      <td>11</td>\n",
              "      <td>3</td>\n",
              "      <td>16</td>\n",
              "      <td>6</td>\n",
              "      <td>11</td>\n",
              "      <td>11</td>\n",
              "      <td>3</td>\n",
              "    </tr>\n",
              "    <tr>\n",
              "      <th>165318</th>\n",
              "      <td>9</td>\n",
              "      <td>16</td>\n",
              "      <td>16</td>\n",
              "      <td>None</td>\n",
              "      <td>0.784174</td>\n",
              "      <td>11</td>\n",
              "      <td>1</td>\n",
              "      <td>18</td>\n",
              "      <td>6</td>\n",
              "      <td>17</td>\n",
              "      <td>...</td>\n",
              "      <td>2</td>\n",
              "      <td>7</td>\n",
              "      <td>12</td>\n",
              "      <td>17</td>\n",
              "      <td>12</td>\n",
              "      <td>2</td>\n",
              "      <td>17</td>\n",
              "      <td>12</td>\n",
              "      <td>17</td>\n",
              "      <td>12</td>\n",
              "    </tr>\n",
              "    <tr>\n",
              "      <th>48269</th>\n",
              "      <td>7</td>\n",
              "      <td>7</td>\n",
              "      <td>17</td>\n",
              "      <td>None</td>\n",
              "      <td>0.794537</td>\n",
              "      <td>12</td>\n",
              "      <td>7</td>\n",
              "      <td>17</td>\n",
              "      <td>6</td>\n",
              "      <td>6</td>\n",
              "      <td>...</td>\n",
              "      <td>10</td>\n",
              "      <td>15</td>\n",
              "      <td>0</td>\n",
              "      <td>0</td>\n",
              "      <td>15</td>\n",
              "      <td>5</td>\n",
              "      <td>10</td>\n",
              "      <td>0</td>\n",
              "      <td>0</td>\n",
              "      <td>0</td>\n",
              "    </tr>\n",
              "    <tr>\n",
              "      <th>89431</th>\n",
              "      <td>6</td>\n",
              "      <td>1</td>\n",
              "      <td>11</td>\n",
              "      <td>None</td>\n",
              "      <td>0.886957</td>\n",
              "      <td>1</td>\n",
              "      <td>11</td>\n",
              "      <td>16</td>\n",
              "      <td>1</td>\n",
              "      <td>6</td>\n",
              "      <td>...</td>\n",
              "      <td>2</td>\n",
              "      <td>6</td>\n",
              "      <td>1</td>\n",
              "      <td>1</td>\n",
              "      <td>6</td>\n",
              "      <td>16</td>\n",
              "      <td>9</td>\n",
              "      <td>4</td>\n",
              "      <td>4</td>\n",
              "      <td>4</td>\n",
              "    </tr>\n",
              "    <tr>\n",
              "      <th>4298</th>\n",
              "      <td>2</td>\n",
              "      <td>17</td>\n",
              "      <td>7</td>\n",
              "      <td>None</td>\n",
              "      <td>0.369920</td>\n",
              "      <td>12</td>\n",
              "      <td>2</td>\n",
              "      <td>2</td>\n",
              "      <td>1</td>\n",
              "      <td>1</td>\n",
              "      <td>...</td>\n",
              "      <td>10</td>\n",
              "      <td>15</td>\n",
              "      <td>15</td>\n",
              "      <td>15</td>\n",
              "      <td>10</td>\n",
              "      <td>15</td>\n",
              "      <td>15</td>\n",
              "      <td>15</td>\n",
              "      <td>10</td>\n",
              "      <td>15</td>\n",
              "    </tr>\n",
              "  </tbody>\n",
              "</table>\n",
              "<p>5 rows × 103 columns</p>\n",
              "</div>\n",
              "      <button class=\"colab-df-convert\" onclick=\"convertToInteractive('df-6c9f9769-ec21-4f82-a7af-2a48fab24a8c')\"\n",
              "              title=\"Convert this dataframe to an interactive table.\"\n",
              "              style=\"display:none;\">\n",
              "        \n",
              "  <svg xmlns=\"http://www.w3.org/2000/svg\" height=\"24px\"viewBox=\"0 0 24 24\"\n",
              "       width=\"24px\">\n",
              "    <path d=\"M0 0h24v24H0V0z\" fill=\"none\"/>\n",
              "    <path d=\"M18.56 5.44l.94 2.06.94-2.06 2.06-.94-2.06-.94-.94-2.06-.94 2.06-2.06.94zm-11 1L8.5 8.5l.94-2.06 2.06-.94-2.06-.94L8.5 2.5l-.94 2.06-2.06.94zm10 10l.94 2.06.94-2.06 2.06-.94-2.06-.94-.94-2.06-.94 2.06-2.06.94z\"/><path d=\"M17.41 7.96l-1.37-1.37c-.4-.4-.92-.59-1.43-.59-.52 0-1.04.2-1.43.59L10.3 9.45l-7.72 7.72c-.78.78-.78 2.05 0 2.83L4 21.41c.39.39.9.59 1.41.59.51 0 1.02-.2 1.41-.59l7.78-7.78 2.81-2.81c.8-.78.8-2.07 0-2.86zM5.41 20L4 18.59l7.72-7.72 1.47 1.35L5.41 20z\"/>\n",
              "  </svg>\n",
              "      </button>\n",
              "      \n",
              "  <style>\n",
              "    .colab-df-container {\n",
              "      display:flex;\n",
              "      flex-wrap:wrap;\n",
              "      gap: 12px;\n",
              "    }\n",
              "\n",
              "    .colab-df-convert {\n",
              "      background-color: #E8F0FE;\n",
              "      border: none;\n",
              "      border-radius: 50%;\n",
              "      cursor: pointer;\n",
              "      display: none;\n",
              "      fill: #1967D2;\n",
              "      height: 32px;\n",
              "      padding: 0 0 0 0;\n",
              "      width: 32px;\n",
              "    }\n",
              "\n",
              "    .colab-df-convert:hover {\n",
              "      background-color: #E2EBFA;\n",
              "      box-shadow: 0px 1px 2px rgba(60, 64, 67, 0.3), 0px 1px 3px 1px rgba(60, 64, 67, 0.15);\n",
              "      fill: #174EA6;\n",
              "    }\n",
              "\n",
              "    [theme=dark] .colab-df-convert {\n",
              "      background-color: #3B4455;\n",
              "      fill: #D2E3FC;\n",
              "    }\n",
              "\n",
              "    [theme=dark] .colab-df-convert:hover {\n",
              "      background-color: #434B5C;\n",
              "      box-shadow: 0px 1px 3px 1px rgba(0, 0, 0, 0.15);\n",
              "      filter: drop-shadow(0px 1px 2px rgba(0, 0, 0, 0.3));\n",
              "      fill: #FFFFFF;\n",
              "    }\n",
              "  </style>\n",
              "\n",
              "      <script>\n",
              "        const buttonEl =\n",
              "          document.querySelector('#df-6c9f9769-ec21-4f82-a7af-2a48fab24a8c button.colab-df-convert');\n",
              "        buttonEl.style.display =\n",
              "          google.colab.kernel.accessAllowed ? 'block' : 'none';\n",
              "\n",
              "        async function convertToInteractive(key) {\n",
              "          const element = document.querySelector('#df-6c9f9769-ec21-4f82-a7af-2a48fab24a8c');\n",
              "          const dataTable =\n",
              "            await google.colab.kernel.invokeFunction('convertToInteractive',\n",
              "                                                     [key], {});\n",
              "          if (!dataTable) return;\n",
              "\n",
              "          const docLinkHtml = 'Like what you see? Visit the ' +\n",
              "            '<a target=\"_blank\" href=https://colab.research.google.com/notebooks/data_table.ipynb>data table notebook</a>'\n",
              "            + ' to learn more about interactive tables.';\n",
              "          element.innerHTML = '';\n",
              "          dataTable['output_type'] = 'display_data';\n",
              "          await google.colab.output.renderOutput(dataTable, element);\n",
              "          const docLink = document.createElement('div');\n",
              "          docLink.innerHTML = docLinkHtml;\n",
              "          element.appendChild(docLink);\n",
              "        }\n",
              "      </script>\n",
              "    </div>\n",
              "  </div>\n",
              "  "
            ]
          },
          "metadata": {},
          "execution_count": 47
        }
      ],
      "source": [
        "results_data = x_test\n",
        "if 'RESULT_TYPE' not in results_data.columns:\n",
        "    #insert column at position 3\n",
        "    results_data.insert(3,\"RESULT_TYPE\", None)\n",
        "    results_data.insert(4,\"PROB_PRED\",model_prediction)\n",
        "else:\n",
        "    print(\"RESULT_TYPE already exists in the dataframe\")\n",
        "\n",
        "results_data.head()"
      ]
    },
    {
      "cell_type": "code",
      "execution_count": 48,
      "id": "f8d62286-5485-4aea-9ae2-f726bd4ef33d",
      "metadata": {
        "id": "f8d62286-5485-4aea-9ae2-f726bd4ef33d",
        "colab": {
          "base_uri": "https://localhost:8080/",
          "height": 235
        },
        "outputId": "1594f4d4-9c34-46d1-884b-075668f67feb"
      },
      "outputs": [
        {
          "output_type": "execute_result",
          "data": {
            "text/plain": [
              "        P1  P2  P3 RESULT_TYPE  PROB_PRED  P4  P5  P6  P7  P8  ...  P92  P93  \\\n",
              "266365  12   7   7          TP   0.634171  12  12   7   2   6  ...   11   11   \n",
              "165318   9  16  16          TP   0.784174  11   1  18   6  17  ...    2    7   \n",
              "48269    7   7  17          TP   0.794537  12   7  17   6   6  ...   10   15   \n",
              "89431    6   1  11          TP   0.886957   1  11  16   1   6  ...    2    6   \n",
              "4298     2  17   7          TN   0.369920  12   2   2   1   1  ...   10   15   \n",
              "\n",
              "        P94  P95  P96  P97  P98  P99  P100  P101  \n",
              "266365    1   11    3   16    6   11    11     3  \n",
              "165318   12   17   12    2   17   12    17    12  \n",
              "48269     0    0   15    5   10    0     0     0  \n",
              "89431     1    1    6   16    9    4     4     4  \n",
              "4298     15   15   10   15   15   15    10    15  \n",
              "\n",
              "[5 rows x 103 columns]"
            ],
            "text/html": [
              "\n",
              "  <div id=\"df-09dbbcc5-06d5-4561-b489-a2977a256b61\">\n",
              "    <div class=\"colab-df-container\">\n",
              "      <div>\n",
              "<style scoped>\n",
              "    .dataframe tbody tr th:only-of-type {\n",
              "        vertical-align: middle;\n",
              "    }\n",
              "\n",
              "    .dataframe tbody tr th {\n",
              "        vertical-align: top;\n",
              "    }\n",
              "\n",
              "    .dataframe thead th {\n",
              "        text-align: right;\n",
              "    }\n",
              "</style>\n",
              "<table border=\"1\" class=\"dataframe\">\n",
              "  <thead>\n",
              "    <tr style=\"text-align: right;\">\n",
              "      <th></th>\n",
              "      <th>P1</th>\n",
              "      <th>P2</th>\n",
              "      <th>P3</th>\n",
              "      <th>RESULT_TYPE</th>\n",
              "      <th>PROB_PRED</th>\n",
              "      <th>P4</th>\n",
              "      <th>P5</th>\n",
              "      <th>P6</th>\n",
              "      <th>P7</th>\n",
              "      <th>P8</th>\n",
              "      <th>...</th>\n",
              "      <th>P92</th>\n",
              "      <th>P93</th>\n",
              "      <th>P94</th>\n",
              "      <th>P95</th>\n",
              "      <th>P96</th>\n",
              "      <th>P97</th>\n",
              "      <th>P98</th>\n",
              "      <th>P99</th>\n",
              "      <th>P100</th>\n",
              "      <th>P101</th>\n",
              "    </tr>\n",
              "  </thead>\n",
              "  <tbody>\n",
              "    <tr>\n",
              "      <th>266365</th>\n",
              "      <td>12</td>\n",
              "      <td>7</td>\n",
              "      <td>7</td>\n",
              "      <td>TP</td>\n",
              "      <td>0.634171</td>\n",
              "      <td>12</td>\n",
              "      <td>12</td>\n",
              "      <td>7</td>\n",
              "      <td>2</td>\n",
              "      <td>6</td>\n",
              "      <td>...</td>\n",
              "      <td>11</td>\n",
              "      <td>11</td>\n",
              "      <td>1</td>\n",
              "      <td>11</td>\n",
              "      <td>3</td>\n",
              "      <td>16</td>\n",
              "      <td>6</td>\n",
              "      <td>11</td>\n",
              "      <td>11</td>\n",
              "      <td>3</td>\n",
              "    </tr>\n",
              "    <tr>\n",
              "      <th>165318</th>\n",
              "      <td>9</td>\n",
              "      <td>16</td>\n",
              "      <td>16</td>\n",
              "      <td>TP</td>\n",
              "      <td>0.784174</td>\n",
              "      <td>11</td>\n",
              "      <td>1</td>\n",
              "      <td>18</td>\n",
              "      <td>6</td>\n",
              "      <td>17</td>\n",
              "      <td>...</td>\n",
              "      <td>2</td>\n",
              "      <td>7</td>\n",
              "      <td>12</td>\n",
              "      <td>17</td>\n",
              "      <td>12</td>\n",
              "      <td>2</td>\n",
              "      <td>17</td>\n",
              "      <td>12</td>\n",
              "      <td>17</td>\n",
              "      <td>12</td>\n",
              "    </tr>\n",
              "    <tr>\n",
              "      <th>48269</th>\n",
              "      <td>7</td>\n",
              "      <td>7</td>\n",
              "      <td>17</td>\n",
              "      <td>TP</td>\n",
              "      <td>0.794537</td>\n",
              "      <td>12</td>\n",
              "      <td>7</td>\n",
              "      <td>17</td>\n",
              "      <td>6</td>\n",
              "      <td>6</td>\n",
              "      <td>...</td>\n",
              "      <td>10</td>\n",
              "      <td>15</td>\n",
              "      <td>0</td>\n",
              "      <td>0</td>\n",
              "      <td>15</td>\n",
              "      <td>5</td>\n",
              "      <td>10</td>\n",
              "      <td>0</td>\n",
              "      <td>0</td>\n",
              "      <td>0</td>\n",
              "    </tr>\n",
              "    <tr>\n",
              "      <th>89431</th>\n",
              "      <td>6</td>\n",
              "      <td>1</td>\n",
              "      <td>11</td>\n",
              "      <td>TP</td>\n",
              "      <td>0.886957</td>\n",
              "      <td>1</td>\n",
              "      <td>11</td>\n",
              "      <td>16</td>\n",
              "      <td>1</td>\n",
              "      <td>6</td>\n",
              "      <td>...</td>\n",
              "      <td>2</td>\n",
              "      <td>6</td>\n",
              "      <td>1</td>\n",
              "      <td>1</td>\n",
              "      <td>6</td>\n",
              "      <td>16</td>\n",
              "      <td>9</td>\n",
              "      <td>4</td>\n",
              "      <td>4</td>\n",
              "      <td>4</td>\n",
              "    </tr>\n",
              "    <tr>\n",
              "      <th>4298</th>\n",
              "      <td>2</td>\n",
              "      <td>17</td>\n",
              "      <td>7</td>\n",
              "      <td>TN</td>\n",
              "      <td>0.369920</td>\n",
              "      <td>12</td>\n",
              "      <td>2</td>\n",
              "      <td>2</td>\n",
              "      <td>1</td>\n",
              "      <td>1</td>\n",
              "      <td>...</td>\n",
              "      <td>10</td>\n",
              "      <td>15</td>\n",
              "      <td>15</td>\n",
              "      <td>15</td>\n",
              "      <td>10</td>\n",
              "      <td>15</td>\n",
              "      <td>15</td>\n",
              "      <td>15</td>\n",
              "      <td>10</td>\n",
              "      <td>15</td>\n",
              "    </tr>\n",
              "  </tbody>\n",
              "</table>\n",
              "<p>5 rows × 103 columns</p>\n",
              "</div>\n",
              "      <button class=\"colab-df-convert\" onclick=\"convertToInteractive('df-09dbbcc5-06d5-4561-b489-a2977a256b61')\"\n",
              "              title=\"Convert this dataframe to an interactive table.\"\n",
              "              style=\"display:none;\">\n",
              "        \n",
              "  <svg xmlns=\"http://www.w3.org/2000/svg\" height=\"24px\"viewBox=\"0 0 24 24\"\n",
              "       width=\"24px\">\n",
              "    <path d=\"M0 0h24v24H0V0z\" fill=\"none\"/>\n",
              "    <path d=\"M18.56 5.44l.94 2.06.94-2.06 2.06-.94-2.06-.94-.94-2.06-.94 2.06-2.06.94zm-11 1L8.5 8.5l.94-2.06 2.06-.94-2.06-.94L8.5 2.5l-.94 2.06-2.06.94zm10 10l.94 2.06.94-2.06 2.06-.94-2.06-.94-.94-2.06-.94 2.06-2.06.94z\"/><path d=\"M17.41 7.96l-1.37-1.37c-.4-.4-.92-.59-1.43-.59-.52 0-1.04.2-1.43.59L10.3 9.45l-7.72 7.72c-.78.78-.78 2.05 0 2.83L4 21.41c.39.39.9.59 1.41.59.51 0 1.02-.2 1.41-.59l7.78-7.78 2.81-2.81c.8-.78.8-2.07 0-2.86zM5.41 20L4 18.59l7.72-7.72 1.47 1.35L5.41 20z\"/>\n",
              "  </svg>\n",
              "      </button>\n",
              "      \n",
              "  <style>\n",
              "    .colab-df-container {\n",
              "      display:flex;\n",
              "      flex-wrap:wrap;\n",
              "      gap: 12px;\n",
              "    }\n",
              "\n",
              "    .colab-df-convert {\n",
              "      background-color: #E8F0FE;\n",
              "      border: none;\n",
              "      border-radius: 50%;\n",
              "      cursor: pointer;\n",
              "      display: none;\n",
              "      fill: #1967D2;\n",
              "      height: 32px;\n",
              "      padding: 0 0 0 0;\n",
              "      width: 32px;\n",
              "    }\n",
              "\n",
              "    .colab-df-convert:hover {\n",
              "      background-color: #E2EBFA;\n",
              "      box-shadow: 0px 1px 2px rgba(60, 64, 67, 0.3), 0px 1px 3px 1px rgba(60, 64, 67, 0.15);\n",
              "      fill: #174EA6;\n",
              "    }\n",
              "\n",
              "    [theme=dark] .colab-df-convert {\n",
              "      background-color: #3B4455;\n",
              "      fill: #D2E3FC;\n",
              "    }\n",
              "\n",
              "    [theme=dark] .colab-df-convert:hover {\n",
              "      background-color: #434B5C;\n",
              "      box-shadow: 0px 1px 3px 1px rgba(0, 0, 0, 0.15);\n",
              "      filter: drop-shadow(0px 1px 2px rgba(0, 0, 0, 0.3));\n",
              "      fill: #FFFFFF;\n",
              "    }\n",
              "  </style>\n",
              "\n",
              "      <script>\n",
              "        const buttonEl =\n",
              "          document.querySelector('#df-09dbbcc5-06d5-4561-b489-a2977a256b61 button.colab-df-convert');\n",
              "        buttonEl.style.display =\n",
              "          google.colab.kernel.accessAllowed ? 'block' : 'none';\n",
              "\n",
              "        async function convertToInteractive(key) {\n",
              "          const element = document.querySelector('#df-09dbbcc5-06d5-4561-b489-a2977a256b61');\n",
              "          const dataTable =\n",
              "            await google.colab.kernel.invokeFunction('convertToInteractive',\n",
              "                                                     [key], {});\n",
              "          if (!dataTable) return;\n",
              "\n",
              "          const docLinkHtml = 'Like what you see? Visit the ' +\n",
              "            '<a target=\"_blank\" href=https://colab.research.google.com/notebooks/data_table.ipynb>data table notebook</a>'\n",
              "            + ' to learn more about interactive tables.';\n",
              "          element.innerHTML = '';\n",
              "          dataTable['output_type'] = 'display_data';\n",
              "          await google.colab.output.renderOutput(dataTable, element);\n",
              "          const docLink = document.createElement('div');\n",
              "          docLink.innerHTML = docLinkHtml;\n",
              "          element.appendChild(docLink);\n",
              "        }\n",
              "      </script>\n",
              "    </div>\n",
              "  </div>\n",
              "  "
            ]
          },
          "metadata": {},
          "execution_count": 48
        }
      ],
      "source": [
        "column_index=results_data.columns.get_loc('RESULT_TYPE')\n",
        "i=0\n",
        "for result in model_prediction_binary:\n",
        "    #print(\"Comparing result={} with data_y_test={}\".format(result[0],data_y_test.iloc[i]))\n",
        "    if   result[0]==0 and y_test.iloc[i]==0:\n",
        "       typeRes =\"TN\"\n",
        "    elif result[0]==0 and y_test.iloc[i]==1:\n",
        "       typeRes=\"FN\"\n",
        "    elif result[0]==1 and y_test.iloc[i]==0:\n",
        "       typeRes=\"FP\"\n",
        "    elif result[0]==1 and y_test.iloc[i]==1:\n",
        "       typeRes=\"TP\"\n",
        "    results_data.iloc[i, column_index]=typeRes\n",
        "    i+=1\n",
        "    \n",
        "results_data.head()"
      ]
    },
    {
      "cell_type": "code",
      "execution_count": 50,
      "id": "5fd8a953-83d9-4f03-8e77-167d6be65f1b",
      "metadata": {
        "id": "5fd8a953-83d9-4f03-8e77-167d6be65f1b"
      },
      "outputs": [],
      "source": [
        "#Save the results into a file\n",
        "report_dir=\"/content/drive/MyDrive/REPORT\"\n",
        "results_csv_file  =model_name + \"_Results.csv\"\n",
        "results_excel_file=model_name + \"_Results.xlsx\"\n",
        "results_data.to_csv(os.path.join(report_dir,results_csv_file))\n",
        "results_data.to_excel(os.path.join(report_dir,results_excel_file))"
      ]
    },
    {
      "cell_type": "markdown",
      "id": "ef227ac2-1811-4f0f-85b5-1800e691f3fa",
      "metadata": {
        "id": "ef227ac2-1811-4f0f-85b5-1800e691f3fa"
      },
      "source": [
        "Now, we are going to find the record with highest probability and category TP (True Positive) as a good model of TP data,\n",
        "and alternatively, the best representative of TN, using the lowest value"
      ]
    },
    {
      "cell_type": "code",
      "execution_count": 51,
      "id": "c80ed665-9b54-4347-9e4c-bb1cd73c3248",
      "metadata": {
        "id": "c80ed665-9b54-4347-9e4c-bb1cd73c3248",
        "colab": {
          "base_uri": "https://localhost:8080/"
        },
        "outputId": "14f8247c-74c1-4841-d8e9-2b221cfb5be6"
      },
      "outputs": [
        {
          "output_type": "stream",
          "name": "stdout",
          "text": [
            "rowid best TP = 74236\n",
            "P1                    1\n",
            "P2                    6\n",
            "P3                    6\n",
            "RESULT_TYPE          TP\n",
            "PROB_PRED      0.998573\n",
            "                 ...   \n",
            "P97                  11\n",
            "P98                   6\n",
            "P99                   6\n",
            "P100                 11\n",
            "P101                 11\n",
            "Name: 74236, Length: 103, dtype: object\n"
          ]
        }
      ],
      "source": [
        "subset_TP=results_data.loc[results_data['RESULT_TYPE'] == 'TP']\n",
        "prototype_of_TP_id=subset_TP['PROB_PRED'].idxmax()\n",
        "print(\"rowid best TP = {}\".format(prototype_of_TP_id))\n",
        "print(results_data.loc[prototype_of_TP_id,])"
      ]
    },
    {
      "cell_type": "code",
      "execution_count": 52,
      "id": "afe98932-6099-4898-8859-167b69bb60fa",
      "metadata": {
        "id": "afe98932-6099-4898-8859-167b69bb60fa",
        "colab": {
          "base_uri": "https://localhost:8080/"
        },
        "outputId": "d1d24f25-ead4-4d44-a3c0-fe5ab83d76b2"
      },
      "outputs": [
        {
          "output_type": "stream",
          "name": "stdout",
          "text": [
            "rowid best TN = 25757\n",
            "P1                    7\n",
            "P2                    2\n",
            "P3                    2\n",
            "RESULT_TYPE          TN\n",
            "PROB_PRED      0.003296\n",
            "                 ...   \n",
            "P97                   7\n",
            "P98                   2\n",
            "P99                   2\n",
            "P100                  7\n",
            "P101                  7\n",
            "Name: 25757, Length: 103, dtype: object\n"
          ]
        }
      ],
      "source": [
        "subset_TN=results_data.loc[results_data['RESULT_TYPE'] == 'TN']\n",
        "prototype_of_TN_id=subset_TN['PROB_PRED'].idxmin()\n",
        "print(\"rowid best TN = {}\".format(prototype_of_TN_id))\n",
        "print(results_data.loc[prototype_of_TN_id,])"
      ]
    },
    {
      "cell_type": "code",
      "execution_count": null,
      "id": "79a4e4b0-e5ad-478e-907b-e4de25782edc",
      "metadata": {
        "id": "79a4e4b0-e5ad-478e-907b-e4de25782edc"
      },
      "outputs": [],
      "source": []
    }
  ],
  "metadata": {
    "accelerator": "GPU",
    "colab": {
      "collapsed_sections": [],
      "machine_shape": "hm",
      "provenance": []
    },
    "kernelspec": {
      "display_name": "Python [conda env:tensorflow-lsr] *",
      "language": "python",
      "name": "conda-env-tensorflow-lsr-py"
    },
    "language_info": {
      "codemirror_mode": {
        "name": "ipython",
        "version": 3
      },
      "file_extension": ".py",
      "mimetype": "text/x-python",
      "name": "python",
      "nbconvert_exporter": "python",
      "pygments_lexer": "ipython3",
      "version": "3.8.12"
    }
  },
  "nbformat": 4,
  "nbformat_minor": 5
}