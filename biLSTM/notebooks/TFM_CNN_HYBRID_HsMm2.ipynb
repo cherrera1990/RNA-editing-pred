{
 "cells": [
  {
   "cell_type": "markdown",
   "id": "ca661a73-de2d-4079-8138-914bab318805",
   "metadata": {
    "id": "ca661a73-de2d-4079-8138-914bab318805"
   },
   "source": [
    "# Deep neural network-based models for predicting mRNA editing (CNN)\n",
    "\n",
    "Hybrid Model based on Convolutional Neural Network, where outter layers have been trained with Homo sapiens and inner layer with Mus musculus.\n",
    "Final Predictions are made in Mus musculus. "
   ]
  },
  {
   "cell_type": "code",
   "execution_count": 1,
   "id": "c9f60581-a961-4284-9b0b-3867f3b54213",
   "metadata": {
    "executionInfo": {
     "elapsed": 2018,
     "status": "ok",
     "timestamp": 1659007138480,
     "user": {
      "displayName": "Jesús Peñuela",
      "userId": "04868940139927239067"
     },
     "user_tz": -120
    },
    "id": "c9f60581-a961-4284-9b0b-3867f3b54213"
   },
   "outputs": [],
   "source": [
    "import os\n",
    "import numpy as np\n",
    "import pandas as pd\n",
    "import matplotlib.pyplot as plt\n",
    "from sklearn.model_selection import train_test_split\n",
    "import tensorflow as tf\n",
    "from tensorflow import keras\n",
    "from tensorflow.keras import layers\n",
    "from sklearn.metrics import confusion_matrix, precision_score, cohen_kappa_score, classification_report\n",
    "import seaborn as sns; sns.set()\n",
    "from keras import backend as K\n",
    "from keras.models import Sequential\n"
   ]
  },
  {
   "cell_type": "code",
   "execution_count": 2,
   "id": "7b4b7d71-286c-433d-b5b5-94e41403d218",
   "metadata": {
    "executionInfo": {
     "elapsed": 415,
     "status": "ok",
     "timestamp": 1659007145842,
     "user": {
      "displayName": "Jesús Peñuela",
      "userId": "04868940139927239067"
     },
     "user_tz": -120
    },
    "id": "7b4b7d71-286c-433d-b5b5-94e41403d218"
   },
   "outputs": [],
   "source": [
    "########################################\n",
    "# PARAMS\n",
    "########################################\n",
    "fname      = 'mm10_DL_Pad_W50_BALANCED_1_1_CODED2CH.csv'\n",
    "separator_char=';'\n",
    "categories=[['A','G','C','T'],['s','d','h','i','b']]\n",
    "padding=True\n",
    "ptrain     = 0.7\n",
    "trace_level = 1\n",
    "model_name = 'TFM_CNN_HYBRID_HsMm2'\n",
    "human_model_name = 'TFM_CNN_Hs'\n",
    "num_channels=256\n",
    "kernel_width  = 9\n",
    "n_epochs=40\n",
    "batch_size=32\n",
    "categories_size=20\n",
    "cnn_dropout=0.4\n",
    "random_seed=2022\n",
    "########################################"
   ]
  },
  {
   "cell_type": "markdown",
   "id": "1bd49147-7ef8-4a2b-ba75-694d51a94f88",
   "metadata": {
    "id": "1bd49147-7ef8-4a2b-ba75-694d51a94f88",
    "outputId": "eba0a3a5-140a-404c-f883-4f3124dcfbae"
   },
   "source": [
    "We can run this notebook in two environments:\n",
    "+ Googlr Colab Pro (Cloud)\n",
    "+ Jupyter Lab (Locally)"
   ]
  },
  {
   "cell_type": "code",
   "execution_count": 3,
   "id": "be00b8cf-d29e-429d-a4cc-e05f4416b635",
   "metadata": {
    "colab": {
     "base_uri": "https://localhost:8080/"
    },
    "executionInfo": {
     "elapsed": 485,
     "status": "ok",
     "timestamp": 1659007151970,
     "user": {
      "displayName": "Jesús Peñuela",
      "userId": "04868940139927239067"
     },
     "user_tz": -120
    },
    "id": "be00b8cf-d29e-429d-a4cc-e05f4416b635",
    "outputId": "61f6c0fb-15c2-4285-9e0a-e0692b1c5819"
   },
   "outputs": [
    {
     "name": "stdout",
     "output_type": "stream",
     "text": [
      "Running on CoLab\n"
     ]
    }
   ],
   "source": [
    "#CHECK GOOGLE COLAB\n",
    "GOOGLE_COLAB=False\n",
    "if 'google.colab' in str(get_ipython()):\n",
    "  GOOGLE_COLAB=True  \n",
    "  print('Running on CoLab')\n",
    "else:\n",
    "  print('Not running on CoLab')"
   ]
  },
  {
   "cell_type": "markdown",
   "id": "26ebcbc7-a0de-4a91-aa76-4f422bd2383c",
   "metadata": {
    "id": "26ebcbc7-a0de-4a91-aa76-4f422bd2383c",
    "outputId": "eba0a3a5-140a-404c-f883-4f3124dcfbae"
   },
   "source": [
    "Checking if GPU is available and GPU characteristics."
   ]
  },
  {
   "cell_type": "code",
   "execution_count": 4,
   "id": "e6fa0226-d138-40dd-bab2-7d0aedec9746",
   "metadata": {
    "colab": {
     "base_uri": "https://localhost:8080/"
    },
    "executionInfo": {
     "elapsed": 441,
     "status": "ok",
     "timestamp": 1659007160603,
     "user": {
      "displayName": "Jesús Peñuela",
      "userId": "04868940139927239067"
     },
     "user_tz": -120
    },
    "id": "e6fa0226-d138-40dd-bab2-7d0aedec9746",
    "outputId": "e6963f1b-7c26-4606-9917-db1da4fc0f49"
   },
   "outputs": [
    {
     "name": "stdout",
     "output_type": "stream",
     "text": [
      "Num GPUs Available: 1\n",
      "Found GPU at: /device:GPU:0\n",
      "Thu Jul 28 11:19:20 2022       \n",
      "+-----------------------------------------------------------------------------+\n",
      "| NVIDIA-SMI 460.32.03    Driver Version: 460.32.03    CUDA Version: 11.2     |\n",
      "|-------------------------------+----------------------+----------------------+\n",
      "| GPU  Name        Persistence-M| Bus-Id        Disp.A | Volatile Uncorr. ECC |\n",
      "| Fan  Temp  Perf  Pwr:Usage/Cap|         Memory-Usage | GPU-Util  Compute M. |\n",
      "|                               |                      |               MIG M. |\n",
      "|===============================+======================+======================|\n",
      "|   0  Tesla T4            Off  | 00000000:00:04.0 Off |                    0 |\n",
      "| N/A   45C    P0    26W /  70W |    284MiB / 15109MiB |      1%      Default |\n",
      "|                               |                      |                  N/A |\n",
      "+-------------------------------+----------------------+----------------------+\n",
      "                                                                               \n",
      "+-----------------------------------------------------------------------------+\n",
      "| Processes:                                                                  |\n",
      "|  GPU   GI   CI        PID   Type   Process name                  GPU Memory |\n",
      "|        ID   ID                                                   Usage      |\n",
      "|=============================================================================|\n",
      "+-----------------------------------------------------------------------------+\n"
     ]
    }
   ],
   "source": [
    "#CHECK GPU\n",
    "device_name = tf.test.gpu_device_name()\n",
    "if device_name != '/device:GPU:0':\n",
    "  print('GPU device not found')\n",
    "else:\n",
    "  print('Num GPUs Available: {}'.format(len(tf.config.list_physical_devices('GPU'))))\n",
    "  print('Found GPU at: {}'.format(device_name))\n",
    "  gpu_info = !nvidia-smi\n",
    "  gpu_info = '\\n'.join(gpu_info)\n",
    "  if gpu_info.find('failed') >= 0:\n",
    "     print('Not connected to a GPU')\n",
    "  else:\n",
    "     print(gpu_info)"
   ]
  },
  {
   "cell_type": "code",
   "execution_count": 5,
   "id": "d259c02c-bb23-43d6-899b-f9cbd4ca898d",
   "metadata": {
    "colab": {
     "base_uri": "https://localhost:8080/"
    },
    "executionInfo": {
     "elapsed": 26646,
     "status": "ok",
     "timestamp": 1659007191038,
     "user": {
      "displayName": "Jesús Peñuela",
      "userId": "04868940139927239067"
     },
     "user_tz": -120
    },
    "id": "d259c02c-bb23-43d6-899b-f9cbd4ca898d",
    "outputId": "cd6964b5-9fff-4d58-9c7c-df0b4ddb4e43"
   },
   "outputs": [
    {
     "name": "stdout",
     "output_type": "stream",
     "text": [
      "Mounted at /content/drive\n"
     ]
    }
   ],
   "source": [
    "if padding==True:\n",
    "    categories_size=categories_size+1\n",
    "\n",
    "if GOOGLE_COLAB==False:\n",
    "    data_dir = '../data/datasets/ALL_MM/W50'\n",
    "    models_dir = './SAVED_MODELS'\n",
    "\n",
    "else:\n",
    "    from google.colab import drive\n",
    "    drive.mount('/content/drive')\n",
    "    import sys\n",
    "    #set the path to find RNAEd module\n",
    "    sys.path.insert(0,'/content/drive/MyDrive/ColabNotebooks')    \n",
    "    data_dir  = '/content/drive/MyDrive/DATASETS/ALL_MM/W50'\n",
    "    models_dir= '/content/drive/MyDrive/MODELS'"
   ]
  },
  {
   "cell_type": "code",
   "execution_count": 6,
   "id": "d3277a99-0187-4e81-b4e7-a5bb99d7cc27",
   "metadata": {
    "colab": {
     "base_uri": "https://localhost:8080/"
    },
    "executionInfo": {
     "elapsed": 2237,
     "status": "ok",
     "timestamp": 1659007200341,
     "user": {
      "displayName": "Jesús Peñuela",
      "userId": "04868940139927239067"
     },
     "user_tz": -120
    },
    "id": "d3277a99-0187-4e81-b4e7-a5bb99d7cc27",
    "outputId": "70fb1dff-5739-4bfc-94b2-aceab5f06ea7"
   },
   "outputs": [
    {
     "name": "stdout",
     "output_type": "stream",
     "text": [
      "Number of channels: 2 /categories: [['A', 'G', 'C', 'T'], ['s', 'd', 'h', 'i', 'b']]\n",
      "Number of codes=21\n",
      "('A', 's') / 0\n",
      "('A', 'd') / 1\n",
      "('A', 'h') / 2\n",
      "('A', 'i') / 3\n",
      "('A', 'b') / 4\n",
      "('G', 's') / 5\n",
      "('G', 'd') / 6\n",
      "('G', 'h') / 7\n",
      "('G', 'i') / 8\n",
      "('G', 'b') / 9\n",
      "('C', 's') / 10\n",
      "('C', 'd') / 11\n",
      "('C', 'h') / 12\n",
      "('C', 'i') / 13\n",
      "('C', 'b') / 14\n",
      "('T', 's') / 15\n",
      "('T', 'd') / 16\n",
      "('T', 'h') / 17\n",
      "('T', 'i') / 18\n",
      "('T', 'b') / 19\n",
      "('*', '*') / 20\n",
      "Number of codes or categories size: 21\n"
     ]
    }
   ],
   "source": [
    "from RNAEd import DataGenerator,DataEncoding\n",
    "encoding=DataEncoding(categories,padding=padding,pad_char=\"*\")\n",
    "n_ch,cat=encoding.getChannels()\n",
    "print(\"Number of channels: {} /categories: {}\".format(n_ch,cat))\n",
    "encoding.print_LUT_TupleToInteger()\n",
    "categories_size=encoding.getNumCodes()\n",
    "print(\"Number of codes or categories size: {}\".format(categories_size))"
   ]
  },
  {
   "cell_type": "code",
   "execution_count": 7,
   "id": "d1f58b95-6aea-45de-af97-5f2964dd413a",
   "metadata": {
    "colab": {
     "base_uri": "https://localhost:8080/"
    },
    "executionInfo": {
     "elapsed": 434,
     "status": "ok",
     "timestamp": 1659007207362,
     "user": {
      "displayName": "Jesús Peñuela",
      "userId": "04868940139927239067"
     },
     "user_tz": -120
    },
    "id": "d1f58b95-6aea-45de-af97-5f2964dd413a",
    "outputId": "018835a2-94d3-48f8-a662-3f780eb3662f"
   },
   "outputs": [
    {
     "name": "stdout",
     "output_type": "stream",
     "text": [
      "LAST MODEL FILE: /content/drive/MyDrive/MODELS/TFM_CNN_HYBRID_HsMm2.h5\n",
      "BEST MODEL FILE: /content/drive/MyDrive/MODELS/best_model_TFM_CNN_HYBRID_HsMm2.h5\n",
      "HUMAN  MODEL FILE: /content/drive/MyDrive/MODELS/TFM_CNN_Hs.h5\n"
     ]
    }
   ],
   "source": [
    "#We can save best model and last model\n",
    "best_model = 'best_model_'+model_name+'.h5'\n",
    "last_model =  model_name+'.h5'\n",
    "human_model= human_model_name+'.h5'\n",
    "\n",
    "lastmodelfile = os.path.join(models_dir, last_model)\n",
    "print(\"LAST MODEL FILE: {}\".format(lastmodelfile))\n",
    "\n",
    "bestmodelfile = os.path.join(models_dir, best_model)\n",
    "print(\"BEST MODEL FILE: {}\".format(bestmodelfile))\n",
    "\n",
    "humanmodelfile = os.path.join(models_dir, human_model)\n",
    "print(\"HUMAN  MODEL FILE: {}\".format(humanmodelfile))   "
   ]
  },
  {
   "cell_type": "markdown",
   "id": "8c001b8d-f491-45da-a667-9d566df08c38",
   "metadata": {
    "id": "8c001b8d-f491-45da-a667-9d566df08c38",
    "outputId": "dca7aef9-a604-426f-ef3d-725b81ca9baa"
   },
   "source": [
    "We read the data."
   ]
  },
  {
   "cell_type": "code",
   "execution_count": 8,
   "id": "206aec14-c210-499a-9601-09d1443cd01e",
   "metadata": {
    "colab": {
     "base_uri": "https://localhost:8080/"
    },
    "executionInfo": {
     "elapsed": 3235,
     "status": "ok",
     "timestamp": 1659007218288,
     "user": {
      "displayName": "Jesús Peñuela",
      "userId": "04868940139927239067"
     },
     "user_tz": -120
    },
    "id": "206aec14-c210-499a-9601-09d1443cd01e",
    "outputId": "e4def22a-3bd7-4799-c3d2-c296b80016b5"
   },
   "outputs": [
    {
     "name": "stdout",
     "output_type": "stream",
     "text": [
      "DATASET: /content/drive/MyDrive/DATASETS/ALL_MM/W50/mm10_DL_Pad_W50_BALANCED_1_1_CODED2CH.csv\n",
      "shape dataraw=(59294, 104)\n"
     ]
    }
   ],
   "source": [
    "datafile = os.path.join(data_dir, fname) \n",
    "print(\"DATASET: {}\".format(datafile))\n",
    "dataraw = pd.read_csv(datafile,sep=separator_char)\n",
    "print(\"shape dataraw={}\".format(dataraw.shape))"
   ]
  },
  {
   "cell_type": "markdown",
   "id": "d4689c11-867e-44b1-bb6c-8be3e6628d34",
   "metadata": {
    "id": "d4689c11-867e-44b1-bb6c-8be3e6628d34",
    "outputId": "c6394162-7647-4e1e-a983-2aa4df3a5242"
   },
   "source": [
    "We will divide the data into: train, validation and test.\n",
    "The three datastes should be well balanced."
   ]
  },
  {
   "cell_type": "code",
   "execution_count": 9,
   "id": "0e044074-ce2c-436b-a89c-bece4f06c495",
   "metadata": {
    "colab": {
     "base_uri": "https://localhost:8080/"
    },
    "executionInfo": {
     "elapsed": 453,
     "status": "ok",
     "timestamp": 1659007224110,
     "user": {
      "displayName": "Jesús Peñuela",
      "userId": "04868940139927239067"
     },
     "user_tz": -120
    },
    "id": "0e044074-ce2c-436b-a89c-bece4f06c495",
    "outputId": "80090b53-2f62-4661-b894-49b4e094fbbb"
   },
   "outputs": [
    {
     "name": "stdout",
     "output_type": "stream",
     "text": [
      "<bound method NDFrame.head of        P1  P2  P3  P4  P5  P6  P7  P8  P9  P10  ...  P92  P93  P94  P95  P96  \\\n",
      "0       6   1   1   1  16   6  16  13  18   11  ...    1    1    1   18    1   \n",
      "1      18  11   1  16  11  16  16   6  13   13  ...   18   11   16   11   16   \n",
      "2       6  16   0   0   6   6   1   6   6    1  ...    6    1    6    6    1   \n",
      "3      18   8   8  18   8  18  18  13  13    3  ...    3    3   13    3    3   \n",
      "4      16  16   6  16   6  11  15   6   6   16  ...    3   18    3    3   16   \n",
      "...    ..  ..  ..  ..  ..  ..  ..  ..  ..  ...  ...  ...  ...  ...  ...  ...   \n",
      "59289   6   6  16   6  16   6   6  16   6    6  ...   11   11    1    6    6   \n",
      "59290  13   3   6   1  11   1  11   1  11   11  ...    1    6   11    1    6   \n",
      "59291  13   3  11  16  11  11   1  16  16   16  ...    1    6    3   11   16   \n",
      "59292   7  12  12   2   2   2   2   7   2    2  ...   16    1    1    1   16   \n",
      "59293  11   5  15  10  16   1  16  16  18   11  ...    8    8   16   11   11   \n",
      "\n",
      "       P97  P98  P99  P100  P101  \n",
      "0        1    6    1     1     1  \n",
      "1       16   18   11    16    16  \n",
      "2       10    1   11     1    11  \n",
      "3        6    6    6     1     6  \n",
      "4       11   16   16    19     6  \n",
      "...    ...  ...  ...   ...   ...  \n",
      "59289   11   11    3     6    11  \n",
      "59290   16   11    9     6     6  \n",
      "59291   11    1    1     6    11  \n",
      "59292    3   18   13    18     3  \n",
      "59293   11   13   13     3    18  \n",
      "\n",
      "[59294 rows x 101 columns]>\n"
     ]
    }
   ],
   "source": [
    "X=dataraw.iloc[:,3:]\n",
    "Y=dataraw['EDITING']\n",
    "print(X.head)"
   ]
  },
  {
   "cell_type": "code",
   "execution_count": 10,
   "id": "ae0e9343-353e-4b66-921e-2e2d0966bf5c",
   "metadata": {
    "colab": {
     "base_uri": "https://localhost:8080/"
    },
    "executionInfo": {
     "elapsed": 411,
     "status": "ok",
     "timestamp": 1659007229214,
     "user": {
      "displayName": "Jesús Peñuela",
      "userId": "04868940139927239067"
     },
     "user_tz": -120
    },
    "id": "ae0e9343-353e-4b66-921e-2e2d0966bf5c",
    "outputId": "a272cd9d-af06-4acb-d896-df4ed23a69c6"
   },
   "outputs": [
    {
     "name": "stdout",
     "output_type": "stream",
     "text": [
      "x_train:(41505, 101) y_train:(41505,)\n",
      "x_val: (8894, 101) y_val: (8894,)\n",
      "x_test: (8895, 101) y_test: (8895,)\n",
      "TRAIN LABELS:\n",
      "1    20880\n",
      "0    20625\n",
      "Name: EDITING, dtype: int64\n",
      "VALIDATION LABELS:\n",
      "0    4513\n",
      "1    4381\n",
      "Name: EDITING, dtype: int64\n",
      "TEST LABELS:\n",
      "0    4509\n",
      "1    4386\n",
      "Name: EDITING, dtype: int64\n"
     ]
    }
   ],
   "source": [
    "# Train and Validation+Test\n",
    "x_train, x_val_test, y_train, y_val_test = train_test_split(X, Y, test_size=1-ptrain, random_state=random_seed)\n",
    "#Validation and test: 0.5/0.5\n",
    "x_val, x_test, y_val, y_test = train_test_split(x_val_test, y_val_test, test_size=0.5, random_state=random_seed)\n",
    "\n",
    "print(\"x_train:{} y_train:{}\".format(x_train.shape,y_train.shape))\n",
    "print(\"x_val: {} y_val: {}\".format(x_val.shape,y_val.shape))\n",
    "print(\"x_test: {} y_test: {}\".format(x_test.shape,y_test.shape))\n",
    "print(\"TRAIN LABELS:\")\n",
    "print(y_train.value_counts())\n",
    "print(\"VALIDATION LABELS:\")\n",
    "print(y_val.value_counts())\n",
    "print(\"TEST LABELS:\")\n",
    "print(y_test.value_counts())"
   ]
  },
  {
   "cell_type": "markdown",
   "id": "6da206f4-e9f8-4b63-a2c3-eb8488556381",
   "metadata": {
    "id": "6da206f4-e9f8-4b63-a2c3-eb8488556381"
   },
   "source": [
    "We instantiate 3 DataGenerator objects that convert from integer to one-hot"
   ]
  },
  {
   "cell_type": "code",
   "execution_count": 11,
   "id": "801f208a-c441-4bb4-b300-642edd73d955",
   "metadata": {
    "executionInfo": {
     "elapsed": 446,
     "status": "ok",
     "timestamp": 1659007233373,
     "user": {
      "displayName": "Jesús Peñuela",
      "userId": "04868940139927239067"
     },
     "user_tz": -120
    },
    "id": "801f208a-c441-4bb4-b300-642edd73d955"
   },
   "outputs": [],
   "source": [
    "#DataGenerator converts on the fly from raw data to one-hot\n",
    "num_nucleosides = x_train.shape[1]\n",
    "num_tokens = categories_size\n",
    "\n",
    "training_generator   = DataGenerator(x_train, y_train, batch_size=batch_size, seq_size=num_nucleosides, categories_size=categories_size, shuffle=True)\n",
    "validation_generator = DataGenerator(x_val,   y_val,   batch_size=batch_size, seq_size=num_nucleosides, categories_size=categories_size, shuffle=True)\n",
    "test_generator       = DataGenerator(x_test,  y_test,  batch_size=1,seq_size=num_nucleosides, categories_size=categories_size, shuffle=False )"
   ]
  },
  {
   "cell_type": "markdown",
   "id": "77ef2548-0324-428e-9211-2f524ed4cbbe",
   "metadata": {
    "id": "77ef2548-0324-428e-9211-2f524ed4cbbe",
    "outputId": "eb581962-8561-491c-822c-04e260bcf0cd"
   },
   "source": [
    "## Transfer Learning to create an hybrid model\n",
    "First two layers trained with human (more samples) and last layers trained in Mouse"
   ]
  },
  {
   "cell_type": "code",
   "execution_count": 12,
   "id": "857b34b7-ddaa-465a-8f3b-69e9e321fd2c",
   "metadata": {
    "colab": {
     "base_uri": "https://localhost:8080/"
    },
    "executionInfo": {
     "elapsed": 3540,
     "status": "ok",
     "timestamp": 1659007240902,
     "user": {
      "displayName": "Jesús Peñuela",
      "userId": "04868940139927239067"
     },
     "user_tz": -120
    },
    "id": "857b34b7-ddaa-465a-8f3b-69e9e321fd2c",
    "outputId": "39ccb7b7-3436-4f1b-9e3e-0dabdbefbf35"
   },
   "outputs": [
    {
     "name": "stdout",
     "output_type": "stream",
     "text": [
      "Human model loaded: /content/drive/MyDrive/MODELS/TFM_CNN_Hs.h5\n",
      "set layer conv1d to Not Trainable\n",
      "Model: \"TFM_CNN_Hs\"\n",
      "_________________________________________________________________\n",
      " Layer (type)                Output Shape              Param #   \n",
      "=================================================================\n",
      " conv1d (Conv1D)             (None, 93, 256)           48640     \n",
      "                                                                 \n",
      " dropout (Dropout)           (None, 93, 256)           0         \n",
      "                                                                 \n",
      " max_pooling1d (MaxPooling1D  (None, 18, 256)          0         \n",
      " )                                                               \n",
      "                                                                 \n",
      " conv1d_1 (Conv1D)           (None, 13, 256)           393472    \n",
      "                                                                 \n",
      " dropout_1 (Dropout)         (None, 13, 256)           0         \n",
      "                                                                 \n",
      " max_pooling1d_1 (MaxPooling  (None, 2, 256)           0         \n",
      " 1D)                                                             \n",
      "                                                                 \n",
      " conv1d_2 (Conv1D)           (None, 1, 256)            131328    \n",
      "                                                                 \n",
      " dropout_2 (Dropout)         (None, 1, 256)            0         \n",
      "                                                                 \n",
      " global_max_pooling1d (Globa  (None, 256)              0         \n",
      " lMaxPooling1D)                                                  \n",
      "                                                                 \n",
      " dense (Dense)               (None, 1)                 257       \n",
      "                                                                 \n",
      "=================================================================\n",
      "Total params: 573,697\n",
      "Trainable params: 525,057\n",
      "Non-trainable params: 48,640\n",
      "_________________________________________________________________\n",
      "None\n"
     ]
    }
   ],
   "source": [
    "#Transfer learning\n",
    "\n",
    "#Load human model\n",
    "if os.path.exists(humanmodelfile):\n",
    "    model = tf.keras.models.load_model(humanmodelfile)\n",
    "    model.trainable=False\n",
    "    print(\"Human model loaded: {}\".format(humanmodelfile)) \n",
    "else:\n",
    "    print(\"Error, human model not found!\")\n",
    "\n",
    "\n",
    "#Set trainable Layers\n",
    "model.trainable = True\n",
    "for layer in model.layers:\n",
    "  if layer.name == 'conv1d': #Layer 1 in CNN\n",
    "     print(\"set layer conv1d to Not Trainable\")\n",
    "     layer.trainable = False\n",
    "#Mostramos el modelo\n",
    "print(model.summary())"
   ]
  },
  {
   "cell_type": "code",
   "execution_count": 13,
   "id": "ddc47876-f37d-49b9-8927-208034317df9",
   "metadata": {
    "executionInfo": {
     "elapsed": 652,
     "status": "ok",
     "timestamp": 1659007261456,
     "user": {
      "displayName": "Jesús Peñuela",
      "userId": "04868940139927239067"
     },
     "user_tz": -120
    },
    "id": "ddc47876-f37d-49b9-8927-208034317df9"
   },
   "outputs": [],
   "source": [
    "#Compilation reset all weights\n",
    "model.compile(optimizer=keras.optimizers.Adam(),\n",
    "              loss     =keras.losses.BinaryCrossentropy(),\n",
    "              metrics  =[keras.metrics.BinaryAccuracy()])"
   ]
  },
  {
   "cell_type": "code",
   "execution_count": 14,
   "id": "644b1c7b-7c45-4483-88fc-e60a012edba0",
   "metadata": {
    "colab": {
     "base_uri": "https://localhost:8080/",
     "height": 1000
    },
    "executionInfo": {
     "elapsed": 1284,
     "status": "ok",
     "timestamp": 1659007265962,
     "user": {
      "displayName": "Jesús Peñuela",
      "userId": "04868940139927239067"
     },
     "user_tz": -120
    },
    "id": "644b1c7b-7c45-4483-88fc-e60a012edba0",
    "outputId": "63579a8d-3c3e-4dce-cb8e-f24fa2fce265"
   },
   "outputs": [
    {
     "data": {
      "image/png": "[encoded data removed]",
      "text/plain": [
       "<IPython.core.display.Image object>"
      ]
     },
     "execution_count": 14,
     "metadata": {},
     "output_type": "execute_result"
    }
   ],
   "source": [
    "keras.utils.plot_model(model, show_shapes=True)"
   ]
  },
  {
   "cell_type": "code",
   "execution_count": 15,
   "id": "84d28828-8ee5-4bc6-8b97-1e06ab60c519",
   "metadata": {
    "executionInfo": {
     "elapsed": 404,
     "status": "ok",
     "timestamp": 1659007273002,
     "user": {
      "displayName": "Jesús Peñuela",
      "userId": "04868940139927239067"
     },
     "user_tz": -120
    },
    "id": "84d28828-8ee5-4bc6-8b97-1e06ab60c519"
   },
   "outputs": [],
   "source": [
    "from keras.callbacks import ModelCheckpoint,EarlyStopping\n",
    "\n",
    "checkpoint = ModelCheckpoint(bestmodelfile, \n",
    "                             monitor='val_loss', \n",
    "                             verbose=1,\n",
    "                             save_best_only=True, \n",
    "                             mode='auto', \n",
    "                             save_freq='epoch')\n",
    "\n",
    "callback=EarlyStopping(monitor='val_loss', \n",
    "                       min_delta=0, \n",
    "                       patience=3, \n",
    "                       verbose=1, \n",
    "                       mode='auto',\n",
    "                       baseline=None, \n",
    "                       restore_best_weights=True)"
   ]
  },
  {
   "cell_type": "code",
   "execution_count": 16,
   "id": "22345410-c762-42e4-9767-5ef8b1edb003",
   "metadata": {
    "colab": {
     "base_uri": "https://localhost:8080/"
    },
    "executionInfo": {
     "elapsed": 2767539,
     "status": "ok",
     "timestamp": 1659010047512,
     "user": {
      "displayName": "Jesús Peñuela",
      "userId": "04868940139927239067"
     },
     "user_tz": -120
    },
    "id": "22345410-c762-42e4-9767-5ef8b1edb003",
    "outputId": "48178683-00fc-4868-fee7-e21e90b1e0e8"
   },
   "outputs": [
    {
     "name": "stdout",
     "output_type": "stream",
     "text": [
      "Epoch 1/40\n",
      "1297/1297 [==============================] - ETA: 0s - loss: 0.4976 - binary_accuracy: 0.7624\n",
      "Epoch 1: val_loss improved from inf to 0.49193, saving model to /content/drive/MyDrive/MODELS/best_model_TFM_CNN_HYBRID_HsMm2.h5\n",
      "1297/1297 [==============================] - 161s 114ms/step - loss: 0.4976 - binary_accuracy: 0.7624 - val_loss: 0.4919 - val_binary_accuracy: 0.7920\n",
      "Epoch 2/40\n",
      "1297/1297 [==============================] - ETA: 0s - loss: 0.4632 - binary_accuracy: 0.7881\n",
      "Epoch 2: val_loss improved from 0.49193 to 0.44654, saving model to /content/drive/MyDrive/MODELS/best_model_TFM_CNN_HYBRID_HsMm2.h5\n",
      "1297/1297 [==============================] - 148s 114ms/step - loss: 0.4632 - binary_accuracy: 0.7881 - val_loss: 0.4465 - val_binary_accuracy: 0.8122\n",
      "Epoch 3/40\n",
      "1297/1297 [==============================] - ETA: 0s - loss: 0.4435 - binary_accuracy: 0.8043\n",
      "Epoch 3: val_loss improved from 0.44654 to 0.42261, saving model to /content/drive/MyDrive/MODELS/best_model_TFM_CNN_HYBRID_HsMm2.h5\n",
      "1297/1297 [==============================] - 146s 113ms/step - loss: 0.4435 - binary_accuracy: 0.8043 - val_loss: 0.4226 - val_binary_accuracy: 0.8212\n",
      "Epoch 4/40\n",
      "1297/1297 [==============================] - ETA: 0s - loss: 0.4279 - binary_accuracy: 0.8129\n",
      "Epoch 4: val_loss improved from 0.42261 to 0.41980, saving model to /content/drive/MyDrive/MODELS/best_model_TFM_CNN_HYBRID_HsMm2.h5\n",
      "1297/1297 [==============================] - 146s 113ms/step - loss: 0.4279 - binary_accuracy: 0.8129 - val_loss: 0.4198 - val_binary_accuracy: 0.8276\n",
      "Epoch 5/40\n",
      "1297/1297 [==============================] - ETA: 0s - loss: 0.4139 - binary_accuracy: 0.8215\n",
      "Epoch 5: val_loss improved from 0.41980 to 0.40566, saving model to /content/drive/MyDrive/MODELS/best_model_TFM_CNN_HYBRID_HsMm2.h5\n",
      "1297/1297 [==============================] - 145s 112ms/step - loss: 0.4139 - binary_accuracy: 0.8215 - val_loss: 0.4057 - val_binary_accuracy: 0.8311\n",
      "Epoch 6/40\n",
      "1297/1297 [==============================] - ETA: 0s - loss: 0.4032 - binary_accuracy: 0.8292\n",
      "Epoch 6: val_loss did not improve from 0.40566\n",
      "1297/1297 [==============================] - 146s 112ms/step - loss: 0.4032 - binary_accuracy: 0.8292 - val_loss: 0.4117 - val_binary_accuracy: 0.8259\n",
      "Epoch 7/40\n",
      "1297/1297 [==============================] - ETA: 0s - loss: 0.3891 - binary_accuracy: 0.8365\n",
      "Epoch 7: val_loss did not improve from 0.40566\n",
      "1297/1297 [==============================] - 144s 111ms/step - loss: 0.3891 - binary_accuracy: 0.8365 - val_loss: 0.4089 - val_binary_accuracy: 0.8317\n",
      "Epoch 8/40\n",
      "1297/1297 [==============================] - ETA: 0s - loss: 0.3771 - binary_accuracy: 0.8434\n",
      "Epoch 8: val_loss improved from 0.40566 to 0.39000, saving model to /content/drive/MyDrive/MODELS/best_model_TFM_CNN_HYBRID_HsMm2.h5\n",
      "1297/1297 [==============================] - 145s 112ms/step - loss: 0.3771 - binary_accuracy: 0.8434 - val_loss: 0.3900 - val_binary_accuracy: 0.8408\n",
      "Epoch 9/40\n",
      "1297/1297 [==============================] - ETA: 0s - loss: 0.3708 - binary_accuracy: 0.8469\n",
      "Epoch 9: val_loss improved from 0.39000 to 0.38900, saving model to /content/drive/MyDrive/MODELS/best_model_TFM_CNN_HYBRID_HsMm2.h5\n",
      "1297/1297 [==============================] - 145s 112ms/step - loss: 0.3708 - binary_accuracy: 0.8469 - val_loss: 0.3890 - val_binary_accuracy: 0.8409\n",
      "Epoch 10/40\n",
      "1297/1297 [==============================] - ETA: 0s - loss: 0.3610 - binary_accuracy: 0.8492\n",
      "Epoch 10: val_loss improved from 0.38900 to 0.38677, saving model to /content/drive/MyDrive/MODELS/best_model_TFM_CNN_HYBRID_HsMm2.h5\n",
      "1297/1297 [==============================] - 144s 111ms/step - loss: 0.3610 - binary_accuracy: 0.8492 - val_loss: 0.3868 - val_binary_accuracy: 0.8432\n",
      "Epoch 11/40\n",
      "1297/1297 [==============================] - ETA: 0s - loss: 0.3489 - binary_accuracy: 0.8587\n",
      "Epoch 11: val_loss did not improve from 0.38677\n",
      "1297/1297 [==============================] - 144s 111ms/step - loss: 0.3489 - binary_accuracy: 0.8587 - val_loss: 0.3912 - val_binary_accuracy: 0.8398\n",
      "Epoch 12/40\n",
      "1297/1297 [==============================] - ETA: 0s - loss: 0.3429 - binary_accuracy: 0.8598\n",
      "Epoch 12: val_loss improved from 0.38677 to 0.38193, saving model to /content/drive/MyDrive/MODELS/best_model_TFM_CNN_HYBRID_HsMm2.h5\n",
      "1297/1297 [==============================] - 144s 111ms/step - loss: 0.3429 - binary_accuracy: 0.8598 - val_loss: 0.3819 - val_binary_accuracy: 0.8479\n",
      "Epoch 13/40\n",
      "1297/1297 [==============================] - ETA: 0s - loss: 0.3376 - binary_accuracy: 0.8635\n",
      "Epoch 13: val_loss did not improve from 0.38193\n",
      "1297/1297 [==============================] - 144s 111ms/step - loss: 0.3376 - binary_accuracy: 0.8635 - val_loss: 0.3877 - val_binary_accuracy: 0.8418\n",
      "Epoch 14/40\n",
      "1297/1297 [==============================] - ETA: 0s - loss: 0.3306 - binary_accuracy: 0.8647\n",
      "Epoch 14: val_loss improved from 0.38193 to 0.38179, saving model to /content/drive/MyDrive/MODELS/best_model_TFM_CNN_HYBRID_HsMm2.h5\n",
      "1297/1297 [==============================] - 144s 111ms/step - loss: 0.3306 - binary_accuracy: 0.8647 - val_loss: 0.3818 - val_binary_accuracy: 0.8449\n",
      "Epoch 15/40\n",
      "1297/1297 [==============================] - ETA: 0s - loss: 0.3237 - binary_accuracy: 0.8698\n",
      "Epoch 15: val_loss improved from 0.38179 to 0.37158, saving model to /content/drive/MyDrive/MODELS/best_model_TFM_CNN_HYBRID_HsMm2.h5\n",
      "1297/1297 [==============================] - 144s 111ms/step - loss: 0.3237 - binary_accuracy: 0.8698 - val_loss: 0.3716 - val_binary_accuracy: 0.8519\n",
      "Epoch 16/40\n",
      "1297/1297 [==============================] - ETA: 0s - loss: 0.3137 - binary_accuracy: 0.8758\n",
      "Epoch 16: val_loss improved from 0.37158 to 0.36967, saving model to /content/drive/MyDrive/MODELS/best_model_TFM_CNN_HYBRID_HsMm2.h5\n",
      "1297/1297 [==============================] - 142s 110ms/step - loss: 0.3137 - binary_accuracy: 0.8758 - val_loss: 0.3697 - val_binary_accuracy: 0.8501\n",
      "Epoch 17/40\n",
      "1297/1297 [==============================] - ETA: 0s - loss: 0.3088 - binary_accuracy: 0.8740\n",
      "Epoch 17: val_loss did not improve from 0.36967\n",
      "1297/1297 [==============================] - 143s 110ms/step - loss: 0.3088 - binary_accuracy: 0.8740 - val_loss: 0.3733 - val_binary_accuracy: 0.8505\n",
      "Epoch 18/40\n",
      "1297/1297 [==============================] - ETA: 0s - loss: 0.3039 - binary_accuracy: 0.8787\n",
      "Epoch 18: val_loss did not improve from 0.36967\n",
      "1297/1297 [==============================] - 143s 110ms/step - loss: 0.3039 - binary_accuracy: 0.8787 - val_loss: 0.3867 - val_binary_accuracy: 0.8469\n",
      "Epoch 19/40\n",
      "1297/1297 [==============================] - ETA: 0s - loss: 0.2997 - binary_accuracy: 0.8812\n",
      "Epoch 19: val_loss did not improve from 0.36967\n",
      "Restoring model weights from the end of the best epoch: 16.\n",
      "1297/1297 [==============================] - 145s 112ms/step - loss: 0.2997 - binary_accuracy: 0.8812 - val_loss: 0.3701 - val_binary_accuracy: 0.8501\n",
      "Epoch 19: early stopping\n"
     ]
    }
   ],
   "source": [
    "with tf.device(device_name):#Use GPU if available\n",
    "    history=model.fit(training_generator,epochs=n_epochs,\n",
    "                      validation_data=validation_generator,\n",
    "                      callbacks=[checkpoint,callback],verbose=trace_level)"
   ]
  },
  {
   "cell_type": "code",
   "execution_count": 17,
   "id": "c8edd824-ea63-46fa-a917-5e41dbd3422c",
   "metadata": {
    "colab": {
     "base_uri": "https://localhost:8080/"
    },
    "executionInfo": {
     "elapsed": 406,
     "status": "ok",
     "timestamp": 1659010065091,
     "user": {
      "displayName": "Jesús Peñuela",
      "userId": "04868940139927239067"
     },
     "user_tz": -120
    },
    "id": "c8edd824-ea63-46fa-a917-5e41dbd3422c",
    "outputId": "eb00acc5-3b6e-4f14-91d3-73e4cabe9510"
   },
   "outputs": [
    {
     "name": "stdout",
     "output_type": "stream",
     "text": [
      "Trained epochs: 19 of 40\n"
     ]
    }
   ],
   "source": [
    "#We always save the last model.\n",
    "#Last model can be triggered by early stopping\n",
    "n_epochs_trained = len(history.history['loss'])\n",
    "print(\"Trained epochs: {} of {}\".format(n_epochs_trained,n_epochs))\n",
    "model.save(lastmodelfile)    "
   ]
  },
  {
   "cell_type": "code",
   "execution_count": 18,
   "id": "634fb710-78e7-4734-b41f-eccd0a9ff589",
   "metadata": {
    "colab": {
     "base_uri": "https://localhost:8080/",
     "height": 551
    },
    "executionInfo": {
     "elapsed": 1427,
     "status": "ok",
     "timestamp": 1659010070835,
     "user": {
      "displayName": "Jesús Peñuela",
      "userId": "04868940139927239067"
     },
     "user_tz": -120
    },
    "id": "634fb710-78e7-4734-b41f-eccd0a9ff589",
    "outputId": "d7ba0172-7307-49f8-cdb6-9a38ebc7139a"
   },
   "outputs": [
    {
     "data": {
      "image/png": "[encoded data removed]",
      "text/plain": [
       "<Figure size 432x288 with 1 Axes>"
      ]
     },
     "metadata": {
      "needs_background": "light"
     },
     "output_type": "display_data"
    },
    {
     "data": {
      "image/png": "[encoded data removed]",
      "text/plain": [
       "<Figure size 432x288 with 1 Axes>"
      ]
     },
     "metadata": {
      "needs_background": "light"
     },
     "output_type": "display_data"
    }
   ],
   "source": [
    "#PLOT ACCURACY AND LOSS\n",
    "\n",
    "acc = history.history['binary_accuracy']\n",
    "val_acc = history.history['val_binary_accuracy']\n",
    "loss = history.history['loss']\n",
    "val_loss = history.history['val_loss']\n",
    "\n",
    "epochs = range(1, len(acc) + 1)\n",
    "\n",
    "plt.plot(epochs, acc, 'bo', label='Training acc')\n",
    "plt.plot(epochs, val_acc, 'b', label='Validation acc')\n",
    "plt.title('Training and validation accuracy')\n",
    "plt.legend()\n",
    "plt.figure()\n",
    "plt.plot(epochs, loss, 'bo', label='Training loss')\n",
    "plt.plot(epochs, val_loss, 'b', label='Validation loss')\n",
    "plt.title('Training and validation loss')\n",
    "plt.legend()\n",
    "plt.show()"
   ]
  },
  {
   "cell_type": "markdown",
   "id": "c366e2cf-105b-4007-8732-9c3f330f9cb2",
   "metadata": {
    "id": "c366e2cf-105b-4007-8732-9c3f330f9cb2",
    "outputId": "c72777c6-5a20-481f-c89e-89ed00121599"
   },
   "source": [
    "We recover the best model saved."
   ]
  },
  {
   "cell_type": "code",
   "execution_count": 19,
   "id": "d657a2d3-548a-4475-a171-831406ed1140",
   "metadata": {
    "executionInfo": {
     "elapsed": 2619,
     "status": "ok",
     "timestamp": 1659010082133,
     "user": {
      "displayName": "Jesús Peñuela",
      "userId": "04868940139927239067"
     },
     "user_tz": -120
    },
    "id": "d657a2d3-548a-4475-a171-831406ed1140"
   },
   "outputs": [],
   "source": [
    "if os.path.exists(bestmodelfile):\n",
    "    model = tf.keras.models.load_model(bestmodelfile)"
   ]
  },
  {
   "cell_type": "markdown",
   "id": "4a11909c-fe48-433d-a1ab-b038b301bc16",
   "metadata": {
    "id": "4a11909c-fe48-433d-a1ab-b038b301bc16",
    "outputId": "c72777c6-5a20-481f-c89e-89ed00121599"
   },
   "source": [
    "We evaluate the best model on validation data."
   ]
  },
  {
   "cell_type": "code",
   "execution_count": 20,
   "id": "4bae3e40-6872-49cd-95c2-91b624ee4193",
   "metadata": {
    "colab": {
     "base_uri": "https://localhost:8080/"
    },
    "executionInfo": {
     "elapsed": 25686,
     "status": "ok",
     "timestamp": 1659010110399,
     "user": {
      "displayName": "Jesús Peñuela",
      "userId": "04868940139927239067"
     },
     "user_tz": -120
    },
    "id": "4bae3e40-6872-49cd-95c2-91b624ee4193",
    "outputId": "75bfda67-e51c-4a6b-84c2-d97bf946e1d2"
   },
   "outputs": [
    {
     "name": "stdout",
     "output_type": "stream",
     "text": [
      "Evaluate models on validation data\n",
      "277/277 [==============================] - 25s 91ms/step - loss: 0.3698 - binary_accuracy: 0.8501\n",
      "Accuracy on validation data: 0.85\n",
      "Loss on validation data: 0.37\n"
     ]
    }
   ],
   "source": [
    "#EVALUATE VALIDATION DATASET\n",
    "print(\"Evaluate models on validation data\")\n",
    "results_model = model.evaluate(validation_generator,verbose=trace_level)\n",
    "print ('Accuracy on validation data:',round(results_model[1],3))\n",
    "print ('Loss on validation data:',round(results_model[0],3))"
   ]
  },
  {
   "cell_type": "markdown",
   "id": "81704c88-897a-4f89-b1f5-80f6a5f3d364",
   "metadata": {
    "id": "81704c88-897a-4f89-b1f5-80f6a5f3d364",
    "outputId": "205c012b-84d2-4f51-c96a-398417f7e61f"
   },
   "source": [
    "We make predictions on test data, never used during training nor validation"
   ]
  },
  {
   "cell_type": "code",
   "execution_count": 21,
   "id": "fb7abf2c-e423-485d-a543-06f4743971c7",
   "metadata": {
    "colab": {
     "base_uri": "https://localhost:8080/"
    },
    "executionInfo": {
     "elapsed": 44047,
     "status": "ok",
     "timestamp": 1659010175379,
     "user": {
      "displayName": "Jesús Peñuela",
      "userId": "04868940139927239067"
     },
     "user_tz": -120
    },
    "id": "fb7abf2c-e423-485d-a543-06f4743971c7",
    "outputId": "b3fc60aa-4d74-4632-92a0-d21ec7ae5a7e"
   },
   "outputs": [
    {
     "name": "stdout",
     "output_type": "stream",
     "text": [
      "Make predictions on test data\n",
      "8895/8895 [==============================] - 44s 5ms/step\n"
     ]
    }
   ],
   "source": [
    "#PREDICTIONS\n",
    "print(\"Make predictions on test data\")\n",
    "model_prediction = model.predict(test_generator,verbose=trace_level)\n",
    "model_prediction_binary = (model_prediction > 0.5).astype(\"int32\")"
   ]
  },
  {
   "cell_type": "code",
   "execution_count": 22,
   "id": "d08289e1-32e4-4290-82c7-b87718f230a9",
   "metadata": {
    "colab": {
     "base_uri": "https://localhost:8080/"
    },
    "executionInfo": {
     "elapsed": 460,
     "status": "ok",
     "timestamp": 1659010210575,
     "user": {
      "displayName": "Jesús Peñuela",
      "userId": "04868940139927239067"
     },
     "user_tz": -120
    },
    "id": "d08289e1-32e4-4290-82c7-b87718f230a9",
    "outputId": "f1630b3a-71e8-413b-8f64-96e95d70c564"
   },
   "outputs": [
    {
     "name": "stdout",
     "output_type": "stream",
     "text": [
      "(8895, 101)\n",
      "(8895,)\n",
      "(8895, 1)\n",
      "(8895, 1)\n"
     ]
    }
   ],
   "source": [
    "print(x_test.shape)\n",
    "print(y_test.shape)\n",
    "print(model_prediction.shape)\n",
    "print(model_prediction_binary.shape)"
   ]
  },
  {
   "cell_type": "code",
   "execution_count": 23,
   "id": "a9296b0f-efc6-4133-aaff-949a4159e5f7",
   "metadata": {
    "colab": {
     "base_uri": "https://localhost:8080/"
    },
    "executionInfo": {
     "elapsed": 426,
     "status": "ok",
     "timestamp": 1659010220045,
     "user": {
      "displayName": "Jesús Peñuela",
      "userId": "04868940139927239067"
     },
     "user_tz": -120
    },
    "id": "a9296b0f-efc6-4133-aaff-949a4159e5f7",
    "outputId": "22c8ef72-d952-42be-ef34-3844cb009823"
   },
   "outputs": [
    {
     "name": "stdout",
     "output_type": "stream",
     "text": [
      "MODEL TFM_CNN_HYBRID_HsMm2\n",
      "---------------------------------\n",
      "Kappa: 0.697\n",
      "              precision    recall  f1-score   support\n",
      "\n",
      "           0       0.81      0.92      0.86      4509\n",
      "           1       0.90      0.77      0.83      4386\n",
      "\n",
      "    accuracy                           0.85      8895\n",
      "   macro avg       0.86      0.85      0.85      8895\n",
      "weighted avg       0.86      0.85      0.85      8895\n",
      "\n"
     ]
    }
   ],
   "source": [
    "#METRICS QUALITY CLASSIFICATION\n",
    "print(\"MODEL \"+model_name+\"\\n---------------------------------\")\n",
    "kappa = cohen_kappa_score(y_test, model_prediction_binary)\n",
    "print ('Kappa:',round(kappa,3))\n",
    "print(classification_report(y_test, model_prediction_binary))"
   ]
  },
  {
   "cell_type": "code",
   "execution_count": 24,
   "id": "686f01e9-daf3-43f6-bd2f-d1fee30059cb",
   "metadata": {
    "colab": {
     "base_uri": "https://localhost:8080/",
     "height": 346
    },
    "executionInfo": {
     "elapsed": 561,
     "status": "ok",
     "timestamp": 1659010228631,
     "user": {
      "displayName": "Jesús Peñuela",
      "userId": "04868940139927239067"
     },
     "user_tz": -120
    },
    "id": "686f01e9-daf3-43f6-bd2f-d1fee30059cb",
    "outputId": "ef39cdaa-3da2-4e22-bc37-1d75b6d5ea6b"
   },
   "outputs": [
    {
     "data": {
      "image/png": "[encoded data removed]",
      "text/plain": [
       "<Figure size 432x288 with 2 Axes>"
      ]
     },
     "metadata": {},
     "output_type": "display_data"
    }
   ],
   "source": [
    "from sklearn.metrics import confusion_matrix, precision_score, cohen_kappa_score, classification_report\n",
    "import seaborn as sns; sns.set()\n",
    "# PLOT CONFUSION MATRIX\n",
    "# Tutorial: https://www.stackvidhya.com/plot-confusion-matrix-in-python-and-why/\n",
    "plt.figure()\n",
    "\n",
    "cm = confusion_matrix(y_test,model_prediction_binary)\n",
    "\n",
    "group_names = ['TN','FP','FN','TP']\n",
    "group_counts = [\"{0:0.0f}\".format(value) for value in cm.flatten()]\n",
    "group_percentages = [\"{0:.2%}\".format(value) for value in cm.flatten()/np.sum(cm)]\n",
    "\n",
    "labels = [f\"{v1}\\n{v2}\\n{v3}\" for v1, v2, v3 in zip(group_names,group_counts,group_percentages)]\n",
    "labels = np.asarray(labels).reshape(2,2)\n",
    "\n",
    "ax = sns.heatmap(cm, annot=labels, fmt='', cmap='Blues')\n",
    "\n",
    "ax.set_title('RNA-Editing Confusion Matrix \\n\\n');\n",
    "ax.set_xlabel('\\nPredicted Values '+ model_name)\n",
    "ax.set_ylabel('Actual Values ');\n",
    "plt.show()\n"
   ]
  },
  {
   "cell_type": "code",
   "execution_count": 25,
   "id": "c1ff605a-c7fd-4160-ba29-a2e88cd1829e",
   "metadata": {
    "colab": {
     "base_uri": "https://localhost:8080/",
     "height": 318
    },
    "executionInfo": {
     "elapsed": 636,
     "status": "ok",
     "timestamp": 1659010240075,
     "user": {
      "displayName": "Jesús Peñuela",
      "userId": "04868940139927239067"
     },
     "user_tz": -120
    },
    "id": "c1ff605a-c7fd-4160-ba29-a2e88cd1829e",
    "outputId": "1c32c8eb-c428-4b42-f53e-0d7c6cc2fdf8"
   },
   "outputs": [
    {
     "name": "stdout",
     "output_type": "stream",
     "text": [
      "AUC: 0.91\n"
     ]
    },
    {
     "data": {
      "image/png": "[encoded data removed]",
      "text/plain": [
       "<Figure size 432x288 with 1 Axes>"
      ]
     },
     "metadata": {},
     "output_type": "display_data"
    }
   ],
   "source": [
    "from sklearn.metrics import roc_curve\n",
    "from sklearn.metrics import roc_auc_score\n",
    "\n",
    "def plot_roc_curve(fpr, tpr):\n",
    "    plt.plot(fpr, tpr, color=\"orange\", label=\"ROC\")\n",
    "    plt.plot([0, 1], [0, 1], color=\"darkblue\", linestyle=\"--\")\n",
    "    plt.xlabel('False Positive Rate')\n",
    "    plt.ylabel('True Positive Rate')\n",
    "    plt.title('Receiver Operating Characteristic (ROC) Curve')\n",
    "    plt.legend()\n",
    "    plt.show()\n",
    "\n",
    "auc = roc_auc_score(y_test, model_prediction)\n",
    "print('AUC: %.2f' % auc)\n",
    "fpr, tpr, thresholds = roc_curve(y_test, model_prediction)\n",
    "plot_roc_curve(fpr, tpr)\n"
   ]
  }
 ],
 "metadata": {
  "accelerator": "GPU",
  "colab": {
   "collapsed_sections": [],
   "machine_shape": "hm",
   "name": "TFM_CNN_HYBRID_HsMm2.ipynb",
   "provenance": []
  },
  "kernelspec": {
   "display_name": "Python 3 (ipykernel)",
   "language": "python",
   "name": "python3"
  },
  "language_info": {
   "codemirror_mode": {
    "name": "ipython",
    "version": 3
   },
   "file_extension": ".py",
   "mimetype": "text/x-python",
   "name": "python",
   "nbconvert_exporter": "python",
   "pygments_lexer": "ipython3",
   "version": "3.8.12"
  }
 },
 "nbformat": 4,
 "nbformat_minor": 5
}
