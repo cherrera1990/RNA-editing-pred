{
 "cells": [
  {
   "cell_type": "markdown",
   "id": "ca661a73-de2d-4079-8138-914bab318805",
   "metadata": {
    "id": "ca661a73-de2d-4079-8138-914bab318805"
   },
   "source": [
    "# PREDICTOR FOR 10 UNBALANCED COMPLETE GENES\n",
    "\n",
    "\n",
    "Training starting from best saved model"
   ]
  },
  {
   "cell_type": "code",
   "execution_count": 2,
   "id": "c9f60581-a961-4284-9b0b-3867f3b54213",
   "metadata": {
    "id": "c9f60581-a961-4284-9b0b-3867f3b54213"
   },
   "outputs": [],
   "source": [
    "import os\n",
    "import numpy as np\n",
    "import pandas as pd\n",
    "import matplotlib.pyplot as plt\n",
    "from sklearn.model_selection import train_test_split\n",
    "import tensorflow as tf\n",
    "from tensorflow import keras\n",
    "from tensorflow.keras import layers\n",
    "from sklearn.metrics import confusion_matrix, precision_score, cohen_kappa_score, classification_report\n",
    "import seaborn as sns; sns.set()\n",
    "from keras import backend as K\n"
   ]
  },
  {
   "cell_type": "code",
   "execution_count": 3,
   "id": "93f65f3a-3262-4f2c-a9c8-18003b5f4b2b",
   "metadata": {
    "colab": {
     "base_uri": "https://localhost:8080/"
    },
    "id": "93f65f3a-3262-4f2c-a9c8-18003b5f4b2b",
    "outputId": "1e81f044-1f0d-43bc-922d-fd191f55d376"
   },
   "outputs": [
    {
     "name": "stdout",
     "output_type": "stream",
     "text": [
      "Not running on CoLab\n",
      "Num GPUs Available: 1\n",
      "Found GPU at: /device:GPU:0\n",
      "Mon Feb 27 16:07:33 2023       \n",
      "+-----------------------------------------------------------------------------+\n",
      "| NVIDIA-SMI 512.78       Driver Version: 512.78       CUDA Version: 11.6     |\n",
      "|-------------------------------+----------------------+----------------------+\n",
      "| GPU  Name            TCC/WDDM | Bus-Id        Disp.A | Volatile Uncorr. ECC |\n",
      "| Fan  Temp  Perf  Pwr:Usage/Cap|         Memory-Usage | GPU-Util  Compute M. |\n",
      "|                               |                      |               MIG M. |\n",
      "|===============================+======================+======================|\n",
      "|   0  NVIDIA GeForce ... WDDM  | 00000000:01:00.0 Off |                  N/A |\n",
      "| N/A   70C    P3    N/A /  N/A |   1921MiB /  2048MiB |     50%      Default |\n",
      "|                               |                      |                  N/A |\n",
      "+-------------------------------+----------------------+----------------------+\n",
      "                                                                               \n",
      "+-----------------------------------------------------------------------------+\n",
      "| Processes:                                                                  |\n",
      "|  GPU   GI   CI        PID   Type   Process name                  GPU Memory |\n",
      "|        ID   ID                                                   Usage      |\n",
      "|=============================================================================|\n",
      "|    0   N/A  N/A     13128      C   ...tensorflow-lsr\\python.exe    N/A      |\n",
      "|    0   N/A  N/A     20472      C   ...tensorflow-lsr\\python.exe    N/A      |\n",
      "+-----------------------------------------------------------------------------+\n"
     ]
    }
   ],
   "source": [
    "#CHECK GOOGLE COLAB\n",
    "GOOGLE_COLAB=False\n",
    "if 'google.colab' in str(get_ipython()):\n",
    "  GOOGLE_COLAB=True  \n",
    "  print('Running on CoLab')\n",
    "else:\n",
    "  print('Not running on CoLab')\n",
    "\n",
    "#CHECK GPU\n",
    "device_name = tf.test.gpu_device_name()\n",
    "if device_name != '/device:GPU:0':\n",
    "  print('GPU device not found')\n",
    "else:\n",
    "  print('Num GPUs Available: {}'.format(len(tf.config.list_physical_devices('GPU'))))\n",
    "  print('Found GPU at: {}'.format(device_name))\n",
    "  gpu_info = !nvidia-smi\n",
    "  gpu_info = '\\n'.join(gpu_info)\n",
    "  if gpu_info.find('failed') >= 0:\n",
    "     print('Not connected to a GPU')\n",
    "  else:\n",
    "     print(gpu_info)\n"
   ]
  },
  {
   "cell_type": "code",
   "execution_count": 7,
   "id": "1f3ca1ff-e53a-4ed7-9fc0-093a752b930a",
   "metadata": {
    "colab": {
     "base_uri": "https://localhost:8080/"
    },
    "id": "1f3ca1ff-e53a-4ed7-9fc0-093a752b930a",
    "outputId": "2521e521-bb0f-49a7-ddc4-0fc5646c5220"
   },
   "outputs": [],
   "source": [
    "########################################\n",
    "# PARAMS\n",
    "########################################\n",
    "padding=True\n",
    "model_name = 'TFM_LSTMBidiAttention'\n",
    "fname = 'hg38_10_GENES_COMPLETOS_Pad_W50_CODED2CH.csv'\n",
    "\n",
    "numchannels=2\n",
    "\n",
    "if numchannels==3:\n",
    "   categories_size=60\n",
    "else:\n",
    "   categories_size=20\n",
    "\n",
    "if padding==True:\n",
    "    categories_size=categories_size+1\n",
    "\n",
    "if GOOGLE_COLAB==False:\n",
    "    data_dir = '../../data/datasets/ALL_HG38/W50'\n",
    "    models_dir = './SAVED_MODELS'\n",
    "\n",
    "else:\n",
    "    from google.colab import drive\n",
    "    drive.mount('/content/drive')\n",
    "    import sys\n",
    "    sys.path.insert(0,'/content/drive/MyDrive/ColabNotebooks')    \n",
    "    data_dir  = '/content/drive/MyDrive/DATASETS/ALL_HG38/W50'\n",
    "    models_dir= '/content/drive/MyDrive/MODELS'\n",
    "#########################################"
   ]
  },
  {
   "cell_type": "code",
   "execution_count": 8,
   "id": "0f79bb30-9305-45f7-a55d-011492979b15",
   "metadata": {
    "colab": {
     "base_uri": "https://localhost:8080/"
    },
    "id": "0f79bb30-9305-45f7-a55d-011492979b15",
    "outputId": "1a6c2964-8931-4a84-89b6-1980af48c9ee"
   },
   "outputs": [
    {
     "name": "stdout",
     "output_type": "stream",
     "text": [
      "MODEL FILE: ./SAVED_MODELS\\TFM_LSTMBidiAttention.h5\n"
     ]
    }
   ],
   "source": [
    "saved_model =  model_name+'.h5'\n",
    "savedmodelfile = os.path.join(models_dir, saved_model)\n",
    "print(\"MODEL FILE: {}\".format(savedmodelfile))"
   ]
  },
  {
   "cell_type": "code",
   "execution_count": 9,
   "id": "74b070a2-37d8-4d03-8fa5-97f1ea9c7d1d",
   "metadata": {
    "colab": {
     "base_uri": "https://localhost:8080/"
    },
    "id": "74b070a2-37d8-4d03-8fa5-97f1ea9c7d1d",
    "outputId": "46abba6d-fea9-4176-a7bc-90dbbabe3d3c"
   },
   "outputs": [
    {
     "name": "stdout",
     "output_type": "stream",
     "text": [
      "DATASET: ../../data/datasets/ALL_HG38/W50\\hg38_10_GENES_COMPLETOS_Pad_W50_CODED2CH.csv\n",
      "shape dataraw=(17005, 104)\n"
     ]
    }
   ],
   "source": [
    "datafile = os.path.join(data_dir, fname)\n",
    "print(\"DATASET: {}\".format(datafile))\n",
    "dataraw = pd.read_csv(datafile,sep=\";\")\n",
    "print(\"shape dataraw={}\".format(dataraw.shape))"
   ]
  },
  {
   "cell_type": "code",
   "execution_count": 10,
   "id": "72bd0495-977b-409e-a4d4-dc6234d5d900",
   "metadata": {
    "colab": {
     "base_uri": "https://localhost:8080/"
    },
    "id": "72bd0495-977b-409e-a4d4-dc6234d5d900",
    "outputId": "b605fec5-7aa2-4e74-dd2f-6cbd00682c75"
   },
   "outputs": [
    {
     "name": "stdout",
     "output_type": "stream",
     "text": [
      "x_test.shape=(17005, 101)\n",
      "y_test.shape=(17005,)\n",
      "TEST LABELS:\n",
      "0    16803\n",
      "1      202\n",
      "Name: EDITING, dtype: int64\n"
     ]
    }
   ],
   "source": [
    "#dataset=dataraw[dataraw.columns[3:len(dataraw.columns)]]\n",
    "X=dataraw.iloc[:,3:]\n",
    "Y=dataraw['EDITING']\n",
    "\n",
    "x_test=X\n",
    "y_test=Y\n",
    "\n",
    "print(\"x_test.shape={}\".format(x_test.shape))\n",
    "print(\"y_test.shape={}\".format(y_test.shape))\n",
    "print(\"TEST LABELS:\")\n",
    "print(y_test.value_counts())\n"
   ]
  },
  {
   "cell_type": "markdown",
   "id": "9WyvcKhMJSEE",
   "metadata": {
    "id": "9WyvcKhMJSEE"
   },
   "source": [
    "Recover saved model"
   ]
  },
  {
   "cell_type": "code",
   "execution_count": 11,
   "id": "643c51c7-f1ee-489b-b306-fbf948a07a51",
   "metadata": {
    "colab": {
     "base_uri": "https://localhost:8080/"
    },
    "id": "643c51c7-f1ee-489b-b306-fbf948a07a51",
    "outputId": "f44fc5d1-6d27-4a2d-a008-385f27ebb230"
   },
   "outputs": [
    {
     "name": "stdout",
     "output_type": "stream",
     "text": [
      "Model: \"TFM_LSTMBidiAttention\"\n",
      "__________________________________________________________________________________________________\n",
      " Layer (type)                   Output Shape         Param #     Connected to                     \n",
      "==================================================================================================\n",
      " INPUTS (InputLayer)            [(None, 101, 21)]    0           []                               \n",
      "                                                                                                  \n",
      " LSTM_BI (Bidirectional)        (None, 101, 512)     569344      ['INPUTS[0][0]']                 \n",
      "                                                                                                  \n",
      " dropout_2 (Dropout)            (None, 101, 512)     0           ['LSTM_BI[0][0]']                \n",
      "                                                                                                  \n",
      " dense_2 (Dense)                (None, 101, 1)       513         ['dropout_2[0][0]']              \n",
      "                                                                                                  \n",
      " flatten_2 (Flatten)            (None, 101)          0           ['dense_2[0][0]']                \n",
      "                                                                                                  \n",
      " activation_2 (Activation)      (None, 101)          0           ['flatten_2[0][0]']              \n",
      "                                                                                                  \n",
      " repeat_vector_2 (RepeatVector)  (None, 512, 101)    0           ['activation_2[0][0]']           \n",
      "                                                                                                  \n",
      " permute_2 (Permute)            (None, 101, 512)     0           ['repeat_vector_2[0][0]']        \n",
      "                                                                                                  \n",
      " multiply_2 (Multiply)          (None, 101, 512)     0           ['LSTM_BI[0][0]',                \n",
      "                                                                  'permute_2[0][0]']              \n",
      "                                                                                                  \n",
      " lambda_2 (Lambda)              (None, 512)          0           ['multiply_2[0][0]']             \n",
      "                                                                                                  \n",
      " OUTPUT (Dense)                 (None, 1)            513         ['lambda_2[0][0]']               \n",
      "                                                                                                  \n",
      "==================================================================================================\n",
      "Total params: 570,370\n",
      "Trainable params: 570,370\n",
      "Non-trainable params: 0\n",
      "__________________________________________________________________________________________________\n"
     ]
    }
   ],
   "source": [
    "#Load the trained model from disk\n",
    "import os.path\n",
    "\n",
    "if os.path.exists(savedmodelfile):\n",
    "    model = tf.keras.models.load_model(savedmodelfile)\n",
    "    # Show the model architecture\n",
    "    model.summary()\n",
    "else:\n",
    "    print(\"ERROR model {} nor found \".format(savedmodelfile))           \n",
    "\n"
   ]
  },
  {
   "cell_type": "code",
   "execution_count": 13,
   "id": "b2dada75-39d9-45ef-8a7f-d83b57619438",
   "metadata": {
    "colab": {
     "base_uri": "https://localhost:8080/"
    },
    "id": "b2dada75-39d9-45ef-8a7f-d83b57619438",
    "outputId": "bf44dde3-b187-4150-ed5c-d3ce0d6df389"
   },
   "outputs": [
    {
     "name": "stdout",
     "output_type": "stream",
     "text": [
      "17005/17005 [==============================] - 736s 43ms/step\n"
     ]
    }
   ],
   "source": [
    "#PREDICTIONS\n",
    "#DataGenerator converts on the fly from raw data to one-hot\n",
    "from rnaed import DataGenerator\n",
    "\n",
    "num_nucleosides = x_test.shape[1]\n",
    "num_tokens = categories_size\n",
    "\n",
    "pred_generator = DataGenerator(x_test, y_test,  batch_size=1,seq_size=num_nucleosides, categories_size=categories_size, shuffle=False )\n",
    "model_prediction = model.predict(pred_generator,verbose=1)\n",
    "model_prediction_binary = (model_prediction > 0.5).astype(\"int32\")"
   ]
  },
  {
   "cell_type": "code",
   "execution_count": 14,
   "id": "d08289e1-32e4-4290-82c7-b87718f230a9",
   "metadata": {
    "colab": {
     "base_uri": "https://localhost:8080/"
    },
    "id": "d08289e1-32e4-4290-82c7-b87718f230a9",
    "outputId": "e48fbfe3-cef7-417f-e056-d51b78c2d98b"
   },
   "outputs": [
    {
     "name": "stdout",
     "output_type": "stream",
     "text": [
      "(17005, 101)\n",
      "(17005,)\n",
      "(17005, 1)\n",
      "(17005, 1)\n"
     ]
    }
   ],
   "source": [
    "print(x_test.shape)\n",
    "print(y_test.shape)\n",
    "print(model_prediction.shape)\n",
    "print(model_prediction_binary.shape)"
   ]
  },
  {
   "cell_type": "code",
   "execution_count": 15,
   "id": "a9296b0f-efc6-4133-aaff-949a4159e5f7",
   "metadata": {
    "colab": {
     "base_uri": "https://localhost:8080/"
    },
    "id": "a9296b0f-efc6-4133-aaff-949a4159e5f7",
    "outputId": "e2a12de0-7e44-445c-be32-6410ea3edcd2"
   },
   "outputs": [
    {
     "name": "stdout",
     "output_type": "stream",
     "text": [
      "MODEL TFM_LSTMBidiAttention\n",
      "---------------------------------\n",
      "Kappa: 0.245\n",
      "              precision    recall  f1-score   support\n",
      "\n",
      "           0       1.00      0.94      0.97     16803\n",
      "           1       0.15      0.96      0.26       202\n",
      "\n",
      "    accuracy                           0.94     17005\n",
      "   macro avg       0.58      0.95      0.61     17005\n",
      "weighted avg       0.99      0.94      0.96     17005\n",
      "\n"
     ]
    }
   ],
   "source": [
    "#METRICS QUALITY CLASSIFICATION\n",
    "\n",
    "print(\"MODEL \"+model_name+\"\\n---------------------------------\")\n",
    "kappa = cohen_kappa_score(y_test, model_prediction_binary)\n",
    "print ('Kappa:',round(kappa,3))\n",
    "print(classification_report(y_test, model_prediction_binary))"
   ]
  },
  {
   "cell_type": "code",
   "execution_count": 18,
   "id": "fc172095-61d7-4000-ba98-bb4ff9ec1b4c",
   "metadata": {},
   "outputs": [
    {
     "data": {
      "image/png": "[encoded data removed]",
      "text/plain": [
       "<Figure size 432x288 with 2 Axes>"
      ]
     },
     "metadata": {},
     "output_type": "display_data"
    }
   ],
   "source": [
    "from sklearn.metrics import confusion_matrix, precision_score, cohen_kappa_score, classification_report\n",
    "import seaborn as sns; sns.set()\n",
    "# PLOT CONFUSION MATRIX\n",
    "# Tutorial: https://www.stackvidhya.com/plot-confusion-matrix-in-python-and-why/\n",
    "plt.figure()\n",
    "\n",
    "cm = confusion_matrix(y_test,model_prediction_binary)\n",
    "\n",
    "group_names = ['TN','FP','FN','TP']\n",
    "group_counts = [\"{0:0.0f}\".format(value) for value in cm.flatten()]\n",
    "group_percentages = [\"{0:.2%}\".format(value) for value in cm.flatten()/np.sum(cm)]\n",
    "\n",
    "labels = [f\"{v1}\\n{v2}\\n{v3}\" for v1, v2, v3 in zip(group_names,group_counts,group_percentages)]\n",
    "labels = np.asarray(labels).reshape(2,2)\n",
    "\n",
    "ax = sns.heatmap(cm, annot=labels, fmt='', cmap='Blues')\n",
    "\n",
    "ax.set_title('RNA-Editing Confusion Matrix \\n\\n');\n",
    "ax.set_xlabel('\\nPredicted Values '+ 'Predict_Hs_to_Hs_10G_Complete_1')\n",
    "ax.set_ylabel('Actual Values ');\n",
    "## Ticket labels - List must be in alphabetical order\n",
    "#ax.xaxis.set_ticklabels(['False','True'])\n",
    "#ax.yaxis.set_ticklabels(['False','True'])\n",
    "plt.show()"
   ]
  },
  {
   "cell_type": "code",
   "execution_count": null,
   "id": "33d06271-c718-4b2e-b7f1-34fdb2dff276",
   "metadata": {},
   "outputs": [],
   "source": []
  }
 ],
 "metadata": {
  "accelerator": "GPU",
  "colab": {
   "collapsed_sections": [],
   "machine_shape": "hm",
   "name": "RNNBidiAttention9_Predictor5.ipynb",
   "provenance": []
  },
  "kernelspec": {
   "display_name": "Python 3 (ipykernel)",
   "language": "python",
   "name": "python3"
  },
  "language_info": {
   "codemirror_mode": {
    "name": "ipython",
    "version": 3
   },
   "file_extension": ".py",
   "mimetype": "text/x-python",
   "name": "python",
   "nbconvert_exporter": "python",
   "pygments_lexer": "ipython3",
   "version": "3.8.12"
  }
 },
 "nbformat": 4,
 "nbformat_minor": 5
}
