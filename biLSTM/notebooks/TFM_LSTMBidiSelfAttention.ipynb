{
 "cells": [
  {
   "cell_type": "markdown",
   "id": "ca661a73-de2d-4079-8138-914bab318805",
   "metadata": {
    "id": "ca661a73-de2d-4079-8138-914bab318805"
   },
   "source": [
    "# Deep neural network-based models for predicting mRNA editing\n",
    "\n",
    "Bidirectional LSTM with Self-Attention Layer"
   ]
  },
  {
   "cell_type": "code",
   "execution_count": null,
   "id": "c9f60581-a961-4284-9b0b-3867f3b54213",
   "metadata": {
    "id": "c9f60581-a961-4284-9b0b-3867f3b54213"
   },
   "outputs": [],
   "source": [
    "import os\n",
    "import numpy as np\n",
    "import pandas as pd\n",
    "import matplotlib.pyplot as plt\n",
    "from sklearn.model_selection import train_test_split\n",
    "import tensorflow as tf\n",
    "from tensorflow import keras\n",
    "from tensorflow.keras import layers\n",
    "from sklearn.metrics import confusion_matrix, precision_score, cohen_kappa_score, classification_report\n",
    "import seaborn as sns; sns.set()\n",
    "from keras import backend as K"
   ]
  },
  {
   "cell_type": "code",
   "execution_count": null,
   "id": "8c077d3a-3edc-4341-b1e6-59a67fe44442",
   "metadata": {
    "id": "8c077d3a-3edc-4341-b1e6-59a67fe44442"
   },
   "outputs": [],
   "source": [
    "########################################\n",
    "# PARAMS\n",
    "########################################\n",
    "fname      = 'hg38_RS_DL_ES_NES_rand1000_Pad_W50_BALANCED_1_1_CODED2CH.csv'\n",
    "#fname      = 'DATASET_PAD1.csv'\n",
    "separator_char=';'\n",
    "ptrain     = 0.7\n",
    "model_name = 'TFM_LSTMBidiSelfAttention'\n",
    "num_lstm_units=256\n",
    "n_epochs=20\n",
    "batch_size=32\n",
    "categories_size=20\n",
    "padding=True\n",
    "random_seed=2022\n",
    "########################################"
   ]
  },
  {
   "cell_type": "markdown",
   "id": "1bd49147-7ef8-4a2b-ba75-694d51a94f88",
   "metadata": {
    "id": "1bd49147-7ef8-4a2b-ba75-694d51a94f88",
    "outputId": "eba0a3a5-140a-404c-f883-4f3124dcfbae"
   },
   "source": [
    "We can run this notebook in two environments:\n",
    "+ Googlr Colab Pro (Cloud)\n",
    "+ Jupyter Lab (Locally)"
   ]
  },
  {
   "cell_type": "code",
   "execution_count": null,
   "id": "be00b8cf-d29e-429d-a4cc-e05f4416b635",
   "metadata": {
    "colab": {
     "base_uri": "https://localhost:8080/"
    },
    "id": "be00b8cf-d29e-429d-a4cc-e05f4416b635",
    "outputId": "e1d340ff-2da8-4f9a-9989-517f68dff367"
   },
   "outputs": [
    {
     "name": "stdout",
     "output_type": "stream",
     "text": [
      "Running on CoLab\n"
     ]
    }
   ],
   "source": [
    "#CHECK GOOGLE COLAB\n",
    "GOOGLE_COLAB=False\n",
    "if 'google.colab' in str(get_ipython()):\n",
    "  GOOGLE_COLAB=True  \n",
    "  print('Running on CoLab')\n",
    "else:\n",
    "  print('Not running on CoLab')"
   ]
  },
  {
   "cell_type": "markdown",
   "id": "26ebcbc7-a0de-4a91-aa76-4f422bd2383c",
   "metadata": {
    "id": "26ebcbc7-a0de-4a91-aa76-4f422bd2383c",
    "outputId": "eba0a3a5-140a-404c-f883-4f3124dcfbae"
   },
   "source": [
    "Checking if GPU is available and GPU characteristics."
   ]
  },
  {
   "cell_type": "code",
   "execution_count": null,
   "id": "e6fa0226-d138-40dd-bab2-7d0aedec9746",
   "metadata": {
    "colab": {
     "base_uri": "https://localhost:8080/"
    },
    "id": "e6fa0226-d138-40dd-bab2-7d0aedec9746",
    "outputId": "61120087-65de-4249-cb27-d8db7af03b81"
   },
   "outputs": [
    {
     "name": "stdout",
     "output_type": "stream",
     "text": [
      "Num GPUs Available: 1\n",
      "Found GPU at: /device:GPU:0\n",
      "Fri May 27 10:30:51 2022       \n",
      "+-----------------------------------------------------------------------------+\n",
      "| NVIDIA-SMI 460.32.03    Driver Version: 460.32.03    CUDA Version: 11.2     |\n",
      "|-------------------------------+----------------------+----------------------+\n",
      "| GPU  Name        Persistence-M| Bus-Id        Disp.A | Volatile Uncorr. ECC |\n",
      "| Fan  Temp  Perf  Pwr:Usage/Cap|         Memory-Usage | GPU-Util  Compute M. |\n",
      "|                               |                      |               MIG M. |\n",
      "|===============================+======================+======================|\n",
      "|   0  Tesla P100-PCIE...  Off  | 00000000:00:04.0 Off |                    0 |\n",
      "| N/A   38C    P0    32W / 250W |    389MiB / 16280MiB |      0%      Default |\n",
      "|                               |                      |                  N/A |\n",
      "+-------------------------------+----------------------+----------------------+\n",
      "                                                                               \n",
      "+-----------------------------------------------------------------------------+\n",
      "| Processes:                                                                  |\n",
      "|  GPU   GI   CI        PID   Type   Process name                  GPU Memory |\n",
      "|        ID   ID                                                   Usage      |\n",
      "|=============================================================================|\n",
      "+-----------------------------------------------------------------------------+\n"
     ]
    }
   ],
   "source": [
    "#CHECK GPU\n",
    "device_name = tf.test.gpu_device_name()\n",
    "if device_name != '/device:GPU:0':\n",
    "  print('GPU device not found')\n",
    "else:\n",
    "  print('Num GPUs Available: {}'.format(len(tf.config.list_physical_devices('GPU'))))\n",
    "  print('Found GPU at: {}'.format(device_name))\n",
    "  gpu_info = !nvidia-smi\n",
    "  gpu_info = '\\n'.join(gpu_info)\n",
    "  if gpu_info.find('failed') >= 0:\n",
    "     print('Not connected to a GPU')\n",
    "  else:\n",
    "     print(gpu_info)"
   ]
  },
  {
   "cell_type": "code",
   "execution_count": null,
   "id": "0932c47c-8f33-4656-9214-c0b6fce1bf64",
   "metadata": {
    "colab": {
     "base_uri": "https://localhost:8080/"
    },
    "id": "0932c47c-8f33-4656-9214-c0b6fce1bf64",
    "outputId": "4a8f58fb-a6cc-4cf3-e1ec-f3f1539e8cfd"
   },
   "outputs": [
    {
     "name": "stdout",
     "output_type": "stream",
     "text": [
      "Drive already mounted at /content/drive; to attempt to forcibly remount, call drive.mount(\"/content/drive\", force_remount=True).\n",
      "LAST MODEL FILE: /content/drive/MyDrive/MODELS/TFM_LSTMBidiSelfAttention.h5\n",
      "BEST MODEL FILE: /content/drive/MyDrive/MODELS/best_model_TFM_LSTMBidiSelfAttention.h5\n"
     ]
    }
   ],
   "source": [
    "if padding==True:\n",
    "    categories_size=21\n",
    "\n",
    "if GOOGLE_COLAB==False:\n",
    "    data_dir = '../data/datasets/RAND1000/W50'\n",
    "    models_dir = './SAVED_MODELS'\n",
    "\n",
    "else:\n",
    "    from google.colab import drive\n",
    "    drive.mount('/content/drive')\n",
    "    import sys\n",
    "    #set the path to find RNAEd module\n",
    "    sys.path.insert(0,'/content/drive/MyDrive/ColabNotebooks')    \n",
    "    data_dir  = '/content/drive/MyDrive/DATASETS/RAND1000/W50'\n",
    "    models_dir= '/content/drive/MyDrive/MODELS'\n",
    "\n",
    "#We can save best model and last model\n",
    "best_model = 'best_model_'+model_name+'.h5'\n",
    "last_model =  model_name+'.h5'\n",
    "lastmodelfile = os.path.join(models_dir, last_model)\n",
    "print(\"LAST MODEL FILE: {}\".format(lastmodelfile))\n",
    "bestmodelfile = os.path.join(models_dir, best_model)\n",
    "print(\"BEST MODEL FILE: {}\".format(bestmodelfile))\n",
    "datafile = os.path.join(data_dir, fname)    "
   ]
  },
  {
   "cell_type": "markdown",
   "id": "8c001b8d-f491-45da-a667-9d566df08c38",
   "metadata": {
    "id": "8c001b8d-f491-45da-a667-9d566df08c38",
    "outputId": "dca7aef9-a604-426f-ef3d-725b81ca9baa"
   },
   "source": [
    "We read the data."
   ]
  },
  {
   "cell_type": "code",
   "execution_count": null,
   "id": "206aec14-c210-499a-9601-09d1443cd01e",
   "metadata": {
    "colab": {
     "base_uri": "https://localhost:8080/"
    },
    "id": "206aec14-c210-499a-9601-09d1443cd01e",
    "outputId": "9addd82a-5c87-4097-edfa-e5b60ecd93d8"
   },
   "outputs": [
    {
     "name": "stdout",
     "output_type": "stream",
     "text": [
      "DATASET: /content/drive/MyDrive/DATASETS/RAND1000/W50/hg38_RS_DL_ES_NES_rand1000_Pad_W50_BALANCED_1_1_CODED2CH.csv\n",
      "shape dataraw=(306862, 104)\n"
     ]
    }
   ],
   "source": [
    "print(\"DATASET: {}\".format(datafile))\n",
    "dataraw = pd.read_csv(datafile,sep=separator_char)\n",
    "print(\"shape dataraw={}\".format(dataraw.shape))"
   ]
  },
  {
   "cell_type": "markdown",
   "id": "d4689c11-867e-44b1-bb6c-8be3e6628d34",
   "metadata": {
    "id": "d4689c11-867e-44b1-bb6c-8be3e6628d34",
    "outputId": "c6394162-7647-4e1e-a983-2aa4df3a5242"
   },
   "source": [
    "We will divide the data into: train, validation and test.\n",
    "The three datastes should be well balanced."
   ]
  },
  {
   "cell_type": "code",
   "execution_count": null,
   "id": "0e044074-ce2c-436b-a89c-bece4f06c495",
   "metadata": {
    "colab": {
     "base_uri": "https://localhost:8080/"
    },
    "id": "0e044074-ce2c-436b-a89c-bece4f06c495",
    "outputId": "91a9f1ae-3930-4c21-9660-fd68c4d9a992"
   },
   "outputs": [
    {
     "name": "stdout",
     "output_type": "stream",
     "text": [
      "<bound method NDFrame.head of         P1  P2  P3  P4  P5  P6  P7  P8  P9  P10  ...  P92  P93  P94  P95  P96  \\\n",
      "0       16  16   1   1   8   3   6   6   6   16  ...    6    1    1   11    6   \n",
      "1       17  12   2   2   6   1  11  11   0    6  ...   11   16    1   11   16   \n",
      "2       15   0   0   0  15   0   0   0  15    0  ...   16    6   16   19    9   \n",
      "3       11  11  16   8   6   6  11   1   1   11  ...   11    1    6   11   16   \n",
      "4       10   0  15  15  16   6   1   6  13    3  ...   10    0    5   15   10   \n",
      "...     ..  ..  ..  ..  ..  ..  ..  ..  ..  ...  ...  ...  ...  ...  ...  ...   \n",
      "306857  12   2  17   7   7  12   2   7  12    2  ...    7    2   16   11    1   \n",
      "306858   6   6   6  16  16  16   1   6   1    6  ...   11    1    1    6    1   \n",
      "306859  11   6   1  11  11  11   6  11   1   11  ...   11   11    6    6   16   \n",
      "306860   8   8   3   8   8   8  18  18  13    1  ...   11    7    2   12   12   \n",
      "306861   1   6   6   6  16  12   2   2  17    7  ...    7    7    2   11   11   \n",
      "\n",
      "        P97  P98  P99  P100  P101  \n",
      "0         1   11    0    11     1  \n",
      "1        16    6    6     6     3  \n",
      "2         6    1    6    18    18  \n",
      "3         1   11   16    16     6  \n",
      "4        15   15   15    15    16  \n",
      "...     ...  ...  ...   ...   ...  \n",
      "306857   11    6   11    11     3  \n",
      "306858    6   16    1    11    16  \n",
      "306859   16    1   17     2    12  \n",
      "306860    2    7    2     7    12  \n",
      "306861   16    8   18     3     6  \n",
      "\n",
      "[306862 rows x 101 columns]>\n"
     ]
    }
   ],
   "source": [
    "X=dataraw.iloc[:,3:]\n",
    "Y=dataraw['EDITING']\n",
    "print(X.head)"
   ]
  },
  {
   "cell_type": "code",
   "execution_count": null,
   "id": "ae0e9343-353e-4b66-921e-2e2d0966bf5c",
   "metadata": {
    "colab": {
     "base_uri": "https://localhost:8080/"
    },
    "id": "ae0e9343-353e-4b66-921e-2e2d0966bf5c",
    "outputId": "e25d6a82-5c90-4c7a-8a57-646cac23d6b0"
   },
   "outputs": [
    {
     "name": "stdout",
     "output_type": "stream",
     "text": [
      "x_train:(214803, 101) y_train:(214803,)\n",
      "x_val: (46029, 101) y_val: (46029,)\n",
      "x_test: (46030, 101) y_test: (46030,)\n",
      "TRAIN LABELS:\n",
      "0    107410\n",
      "1    107393\n",
      "Name: EDITING, dtype: int64\n",
      "VALIDATION LABELS:\n",
      "1    23069\n",
      "0    22960\n",
      "Name: EDITING, dtype: int64\n",
      "TEST LABELS:\n",
      "0    23061\n",
      "1    22969\n",
      "Name: EDITING, dtype: int64\n"
     ]
    }
   ],
   "source": [
    "# Train and Validation+Test\n",
    "x_train, x_val_test, y_train, y_val_test = train_test_split(X, Y, test_size=1-ptrain, random_state=random_seed)\n",
    "#Validation and test: 0.5/0.5\n",
    "x_val, x_test, y_val, y_test = train_test_split(x_val_test, y_val_test, test_size=0.5, random_state=random_seed)\n",
    "\n",
    "print(\"x_train:{} y_train:{}\".format(x_train.shape,y_train.shape))\n",
    "print(\"x_val: {} y_val: {}\".format(x_val.shape,y_val.shape))\n",
    "print(\"x_test: {} y_test: {}\".format(x_test.shape,y_test.shape))\n",
    "print(\"TRAIN LABELS:\")\n",
    "print(y_train.value_counts())\n",
    "print(\"VALIDATION LABELS:\")\n",
    "print(y_val.value_counts())\n",
    "print(\"TEST LABELS:\")\n",
    "print(y_test.value_counts())"
   ]
  },
  {
   "cell_type": "markdown",
   "id": "6da206f4-e9f8-4b63-a2c3-eb8488556381",
   "metadata": {
    "id": "6da206f4-e9f8-4b63-a2c3-eb8488556381"
   },
   "source": [
    "We instantiate 3 DataGenerator objects that convert from integer to one-hot"
   ]
  },
  {
   "cell_type": "code",
   "execution_count": null,
   "id": "801f208a-c441-4bb4-b300-642edd73d955",
   "metadata": {
    "id": "801f208a-c441-4bb4-b300-642edd73d955"
   },
   "outputs": [],
   "source": [
    "#DataGenerator converts on the fly from raw data to one-hot\n",
    "from RNAEd import DataGenerator\n",
    "\n",
    "num_nucleosides = x_train.shape[1]\n",
    "num_tokens = categories_size\n",
    "\n",
    "training_generator   = DataGenerator(x_train, y_train, batch_size=batch_size, seq_size=num_nucleosides, categories_size=categories_size, shuffle=True)\n",
    "validation_generator = DataGenerator(x_val,   y_val,   batch_size=batch_size, seq_size=num_nucleosides, categories_size=categories_size, shuffle=True)\n",
    "test_generator       = DataGenerator(x_test,  y_test,  batch_size=1,seq_size=num_nucleosides, categories_size=categories_size, shuffle=False )"
   ]
  },
  {
   "cell_type": "markdown",
   "id": "ddddf12b-b24f-4b5e-9540-6e49d380ff2d",
   "metadata": {
    "id": "ddddf12b-b24f-4b5e-9540-6e49d380ff2d",
    "outputId": "eb581962-8561-491c-822c-04e260bcf0cd"
   },
   "source": [
    "## Attention Layer"
   ]
  },
  {
   "cell_type": "code",
   "execution_count": null,
   "id": "204b561c-65d2-43a4-8ee2-dd1d7148d93e",
   "metadata": {
    "id": "204b561c-65d2-43a4-8ee2-dd1d7148d93e"
   },
   "outputs": [],
   "source": [
    "from keras.layers import *\n",
    "from keras.models import *\n",
    "from keras import backend as K\n",
    "\n",
    "class attention(Layer):\n",
    "    ''' heredamos de la clase layer '''\n",
    "    def __init__(self):\n",
    "        super(attention,self).__init__()\n",
    "    \n",
    "    #En el método build definimos los pesos\n",
    "    def build(self, input_shape):\n",
    "        # Define the shape of the weights and bias in this layer\n",
    "        # The layer has just 1 lonely neuron\n",
    "        \n",
    "        # For convenience sake, add a couple of properties\n",
    "        self.num_dim_pernucleoside = input_shape[-1] ## 1092\n",
    "        self.nucleosides_persequence = input_shape[-2]  ## 41\n",
    "        num_units = 1\n",
    "        \n",
    "        \n",
    "        #Weights shape=(1092,1)\n",
    "        self.W=self.add_weight(name=\"att_weight\", shape=(self.num_dim_pernucleoside,num_units),\n",
    "                               initializer=\"normal\")\n",
    "        #bias  shape=(41,1)\n",
    "        self.b=self.add_weight(name=\"att_bias\", shape=(self.nucleosides_persequence,num_units),\n",
    "                               initializer=\"zeros\")\n",
    "        super(attention,self).build(input_shape)\n",
    "    \n",
    "    #en el método call definimos la lógica\n",
    "    #esta es la implementación clásica\n",
    "    def call_classic(self, x):\n",
    "        # x is the input tensor of 2 x num_units=1092 dimensions\n",
    "        \"\"\" We multiply the inputs ‘x’ of shape (41 * 1092) by the layer weights ‘w’ \n",
    "        of shape (1092 * 1) and obtain a (41 * 1) matrix. We add the bias (41 * 1) \n",
    "        and pass the output through any activation layer. So we now have 41 * 1 values \n",
    "        We take a softmax of these values. Softmax squashes these into values in the \n",
    "        range between 0, and 1 whose sum is 1. These are the 41 attention weights. \n",
    "        We multiply each attention weight by the respective nucleoside hidden states and sum up and we are done. \n",
    "        We now have the ‘attention adjusted output’ state ready to be fed to the next layer.\"\"\"\n",
    "        \n",
    "        #e = K.squeeze(K.tanh(K.dot(x,self.W)+self.b),axis=-1)  # Necesario en algunos frameworks\n",
    "        e = K.tanh(K.dot(x,self.W)+self.b)\n",
    "        a = K.softmax(e, axis=1)\n",
    "        output = x*a\n",
    "        # return the outputs. 'a' is the set of 41 attention weights\n",
    "        # the second variable is the 'attention adjusted o/p state'\n",
    "        return a, K.sum(output, axis=1)\n",
    "  \n",
    "    #esta implementación es más robusta\n",
    "    def call(self, x):\n",
    "        \"\"\" Es lo mismo de antes pero más robusto a distintos frameworks\"\"\"\n",
    "        e = K.tanh(K.dot(x,self.W)+self.b)\n",
    "        e = Flatten()(e)\n",
    "        a = Activation('softmax')(e) \n",
    "        # Don't manipulate 'a'. It needs to be 'return'ed intact\n",
    "        temp = RepeatVector(self.num_dim_pernucleoside)(a) # (?,41) becomes (?,1092,41)\n",
    "        temp = Permute([2,1])(temp) # change from (?,1092,41) to (?,41,1092)\n",
    " \n",
    "        output = Multiply()([x,temp])# Apply weight to each of the 1092 dim\n",
    "        output = Lambda(lambda values: K.sum(values, axis=1))(output)\n",
    "        return a, output"
   ]
  },
  {
   "cell_type": "markdown",
   "id": "77ef2548-0324-428e-9211-2f524ed4cbbe",
   "metadata": {
    "id": "77ef2548-0324-428e-9211-2f524ed4cbbe",
    "outputId": "eb581962-8561-491c-822c-04e260bcf0cd"
   },
   "source": [
    "## Model defined from the scratch"
   ]
  },
  {
   "cell_type": "code",
   "execution_count": null,
   "id": "857b34b7-ddaa-465a-8f3b-69e9e321fd2c",
   "metadata": {
    "colab": {
     "base_uri": "https://localhost:8080/"
    },
    "id": "857b34b7-ddaa-465a-8f3b-69e9e321fd2c",
    "outputId": "4db92156-a2d2-4368-f833-3112f76e49ef"
   },
   "outputs": [
    {
     "name": "stdout",
     "output_type": "stream",
     "text": [
      "Looking in indexes: https://pypi.org/simple, https://us-python.pkg.dev/colab-wheels/public/simple/\n",
      "Requirement already satisfied: keras_self_attention in /usr/local/lib/python3.7/dist-packages (0.51.0)\n",
      "Requirement already satisfied: numpy in /usr/local/lib/python3.7/dist-packages (from keras_self_attention) (1.21.6)\n",
      "Number of units=256\n",
      "Model: \"TFM_LSTMBidiSelfAttention\"\n",
      "_________________________________________________________________\n",
      " Layer (type)                Output Shape              Param #   \n",
      "=================================================================\n",
      " INPUTS (InputLayer)         [(None, 101, 21)]         0         \n",
      "                                                                 \n",
      " LSTM_BI (Bidirectional)     (None, 101, 512)          569344    \n",
      "                                                                 \n",
      " dropout_2 (Dropout)         (None, 101, 512)          0         \n",
      "                                                                 \n",
      " seq_self_attention_2 (SeqSe  (None, 101, 512)         32833     \n",
      " lfAttention)                                                    \n",
      "                                                                 \n",
      " flatten_2 (Flatten)         (None, 51712)             0         \n",
      "                                                                 \n",
      " OUTPUT (Dense)              (None, 1)                 51713     \n",
      "                                                                 \n",
      "=================================================================\n",
      "Total params: 653,890\n",
      "Trainable params: 653,890\n",
      "Non-trainable params: 0\n",
      "_________________________________________________________________\n",
      "None\n"
     ]
    }
   ],
   "source": [
    "#MODELOS REDES NEURONALES LSTM CON CAPAS DE ATENCIÓN\n",
    "# Import the libraries required in this example:\n",
    "\n",
    "from keras_self_attention import SeqSelfAttention\n",
    "\n",
    "num_nucleosides = x_train.shape[1]\n",
    "num_tokens = categories_size\n",
    "print(\"Number of units={}\".format(num_lstm_units))\n",
    "#Definimos la estructura con el Functional model\n",
    "inputs = keras.Input(shape=(num_nucleosides,num_tokens), name=\"INPUTS\")\n",
    "lstm_out   = layers.Bidirectional(layers.LSTM(num_lstm_units,return_sequences=True), name=\"LSTM_BI\")(inputs)\n",
    "dropout= layers.Dropout(0.2)(lstm_out)\n",
    "\n",
    "#===============================\n",
    "#METHOD 1: using a custom layer:\n",
    "#===============================\n",
    "#La salida de la capa bidireccional será un de 1 batch=None numero de secuencas, \n",
    "#de 41 nucleosidos(timesteps) de 2xnúmero_unidades=2*546=1092\n",
    "#Es decir (None,41,1092)\n",
    "#---------uncomment here--------------------\n",
    "#a ,att_d = attention()(dropout)\n",
    "#-----------------------------\n",
    "#La capa de atención debe retornarnos un peso para cada hidden state \n",
    "#correspondiente a cada elemento de la secuencia o timestep\n",
    "#es decir, nos debe dar un peso por cada nuceósido, es decir, nos debe dar (41,1)\n",
    "#Pero relamente no queremos esos pesos, sino la suma del vector de hidden states\n",
    "#que es lo que conforma el verdadero contexto, y que tendrá dimensión (None,1,1092)\n",
    "#Esta salida es lo que se llama el \"attention adjusted output state\".\n",
    "#Para ello, nuestra capa de atención debe entrenar (1092,1) pesos, ya que debemos \n",
    "#entrenar un peso por cada dimensión del espacio vectorial del contexto.\n",
    "#(1092,1) x (41,1092) = (41,1) los pesos de atención\n",
    "#(1092,1) son los pesos de la capa.\n",
    "#===============================================================\n",
    "\n",
    "#===============================\n",
    "#METHOD 2: using SelfAttention:\n",
    "#===============================\n",
    "att = SeqSelfAttention(attention_activation='sigmoid')(dropout)\n",
    "att = Flatten()(att)\n",
    "#===============================================================\n",
    "outputs= layers.Dense(1, activation='sigmoid', name=\"OUTPUT\")(att)\n",
    "#Creamos el modelo\n",
    "model_from_scratch  = keras.Model(inputs=inputs, outputs=outputs, name=model_name)\n",
    "\n",
    "#Mostramos el modelo\n",
    "print(model_from_scratch.summary())"
   ]
  },
  {
   "cell_type": "code",
   "execution_count": null,
   "id": "ddc47876-f37d-49b9-8927-208034317df9",
   "metadata": {
    "id": "ddc47876-f37d-49b9-8927-208034317df9"
   },
   "outputs": [],
   "source": [
    "#Compilation reset all weights\n",
    "model_from_scratch.compile(optimizer=keras.optimizers.Adam(),\n",
    "                           loss     =keras.losses.BinaryCrossentropy(),\n",
    "                           metrics  =[keras.metrics.BinaryAccuracy()])\n",
    "\n",
    "model=model_from_scratch"
   ]
  },
  {
   "cell_type": "markdown",
   "id": "9WyvcKhMJSEE",
   "metadata": {
    "id": "9WyvcKhMJSEE"
   },
   "source": [
    "Recover last model, best model or generate a new model"
   ]
  },
  {
   "cell_type": "code",
   "execution_count": null,
   "id": "643c51c7-f1ee-489b-b306-fbf948a07a51",
   "metadata": {
    "colab": {
     "base_uri": "https://localhost:8080/"
    },
    "id": "643c51c7-f1ee-489b-b306-fbf948a07a51",
    "outputId": "89228b03-f3b7-43af-94e0-3f54f46ce191"
   },
   "outputs": [
    {
     "name": "stdout",
     "output_type": "stream",
     "text": [
      "Selected new untrained model\n",
      "Model: \"TFM_LSTMBidiSelfAttention\"\n",
      "_________________________________________________________________\n",
      " Layer (type)                Output Shape              Param #   \n",
      "=================================================================\n",
      " INPUTS (InputLayer)         [(None, 101, 21)]         0         \n",
      "                                                                 \n",
      " LSTM_BI (Bidirectional)     (None, 101, 512)          569344    \n",
      "                                                                 \n",
      " dropout_2 (Dropout)         (None, 101, 512)          0         \n",
      "                                                                 \n",
      " seq_self_attention_2 (SeqSe  (None, 101, 512)         32833     \n",
      " lfAttention)                                                    \n",
      "                                                                 \n",
      " flatten_2 (Flatten)         (None, 51712)             0         \n",
      "                                                                 \n",
      " OUTPUT (Dense)              (None, 1)                 51713     \n",
      "                                                                 \n",
      "=================================================================\n",
      "Total params: 653,890\n",
      "Trainable params: 653,890\n",
      "Non-trainable params: 0\n",
      "_________________________________________________________________\n"
     ]
    }
   ],
   "source": [
    "#Load the trained model from disk\n",
    "import os.path\n",
    "\n",
    "best_model_accuracy =0\n",
    "last_model_accuracy =0\n",
    "\n",
    "if os.path.exists(bestmodelfile):\n",
    "    model = tf.keras.models.load_model(bestmodelfile)\n",
    "    print(\"Testing best model file: {}\".format(bestmodelfile))\n",
    "    results = model.evaluate(validation_generator,verbose=1)\n",
    "    best_model_accuracy = results[1]\n",
    "    print(\"best model accuracy: {}\".format(best_model_accuracy))    \n",
    "\n",
    "if os.path.exists(lastmodelfile):\n",
    "    model = tf.keras.models.load_model(lastmodelfile)\n",
    "    print(\"Testing last complete model file: {}\".format(lastmodelfile))\n",
    "    results = model.evaluate(validation_generator,verbose=1)\n",
    "    last_model_accuracy = results[1]\n",
    "    print(\"last model accuracy: {}\".format(last_model_accuracy))           \n",
    "\n",
    "\n",
    "if best_model_accuracy > last_model_accuracy:\n",
    "   model = tf.keras.models.load_model(bestmodelfile)\n",
    "   print(\"Selected best model saved: {}\".format(bestmodelfile))\n",
    "else:\n",
    "  if last_model_accuracy > best_model_accuracy:\n",
    "     print(\"Selected last model saved: {}\".format(lastmodelfile))\n",
    "  else:\n",
    "     print(\"Selected new untrained model\")\n",
    "\n",
    "\n",
    "# Show the model architecture\n",
    "model.summary()"
   ]
  },
  {
   "cell_type": "code",
   "execution_count": null,
   "id": "644b1c7b-7c45-4483-88fc-e60a012edba0",
   "metadata": {
    "colab": {
     "base_uri": "https://localhost:8080/",
     "height": 644
    },
    "id": "644b1c7b-7c45-4483-88fc-e60a012edba0",
    "outputId": "b8d196e2-38e0-477b-83ae-165875a9cf4b"
   },
   "outputs": [
    {
     "data": {
      "image/png": "[encoded data removed]",
      "text/plain": [
       "<IPython.core.display.Image object>"
      ]
     },
     "execution_count": 30,
     "metadata": {},
     "output_type": "execute_result"
    }
   ],
   "source": [
    "keras.utils.plot_model(model, show_shapes=True)"
   ]
  },
  {
   "cell_type": "code",
   "execution_count": null,
   "id": "84d28828-8ee5-4bc6-8b97-1e06ab60c519",
   "metadata": {
    "id": "84d28828-8ee5-4bc6-8b97-1e06ab60c519"
   },
   "outputs": [],
   "source": [
    "from keras.callbacks import ModelCheckpoint,EarlyStopping\n",
    "\n",
    "checkpoint = ModelCheckpoint(bestmodelfile, \n",
    "                             monitor='val_loss', \n",
    "                             verbose=1,\n",
    "                             save_best_only=True, \n",
    "                             mode='auto', \n",
    "                             save_freq='epoch')\n",
    "\n",
    "callback=EarlyStopping(monitor='val_loss', \n",
    "                       min_delta=0, \n",
    "                       patience=3, \n",
    "                       verbose=1, \n",
    "                       mode='auto',\n",
    "                       baseline=None, \n",
    "                       restore_best_weights=True)"
   ]
  },
  {
   "cell_type": "code",
   "execution_count": 32,
   "id": "2c010059-0891-4e9e-b052-692596e89876",
   "metadata": {
    "colab": {
     "base_uri": "https://localhost:8080/"
    },
    "id": "2c010059-0891-4e9e-b052-692596e89876",
    "outputId": "709d60ae-fa4f-4a54-81ce-060b9d6e2923"
   },
   "outputs": [
    {
     "name": "stdout",
     "output_type": "stream",
     "text": [
      "Epoch 1/20\n",
      "6712/6712 [==============================] - ETA: 0s - loss: 0.3387 - binary_accuracy: 0.8786\n",
      "Epoch 1: val_loss improved from inf to 0.28263, saving model to /content/drive/MyDrive/MODELS/best_model_TFM_LSTMBidiSelfAttention.h5\n",
      "6712/6712 [==============================] - 774s 114ms/step - loss: 0.3387 - binary_accuracy: 0.8786 - val_loss: 0.2826 - val_binary_accuracy: 0.9132\n",
      "Epoch 2/20\n",
      "6712/6712 [==============================] - ETA: 0s - loss: 0.2686 - binary_accuracy: 0.9168\n",
      "Epoch 2: val_loss improved from 0.28263 to 0.26052, saving model to /content/drive/MyDrive/MODELS/best_model_TFM_LSTMBidiSelfAttention.h5\n",
      "6712/6712 [==============================] - 751s 112ms/step - loss: 0.2686 - binary_accuracy: 0.9168 - val_loss: 0.2605 - val_binary_accuracy: 0.9194\n",
      "Epoch 3/20\n",
      "6712/6712 [==============================] - ETA: 0s - loss: 0.2481 - binary_accuracy: 0.9240\n",
      "Epoch 3: val_loss improved from 0.26052 to 0.23956, saving model to /content/drive/MyDrive/MODELS/best_model_TFM_LSTMBidiSelfAttention.h5\n",
      "6712/6712 [==============================] - 750s 112ms/step - loss: 0.2481 - binary_accuracy: 0.9240 - val_loss: 0.2396 - val_binary_accuracy: 0.9268\n",
      "Epoch 4/20\n",
      "6712/6712 [==============================] - ETA: 0s - loss: 0.2287 - binary_accuracy: 0.9291\n",
      "Epoch 4: val_loss improved from 0.23956 to 0.22355, saving model to /content/drive/MyDrive/MODELS/best_model_TFM_LSTMBidiSelfAttention.h5\n",
      "6712/6712 [==============================] - 748s 111ms/step - loss: 0.2287 - binary_accuracy: 0.9291 - val_loss: 0.2235 - val_binary_accuracy: 0.9301\n",
      "Epoch 5/20\n",
      "6712/6712 [==============================] - ETA: 0s - loss: 0.2075 - binary_accuracy: 0.9357\n",
      "Epoch 5: val_loss improved from 0.22355 to 0.21514, saving model to /content/drive/MyDrive/MODELS/best_model_TFM_LSTMBidiSelfAttention.h5\n",
      "6712/6712 [==============================] - 748s 111ms/step - loss: 0.2075 - binary_accuracy: 0.9357 - val_loss: 0.2151 - val_binary_accuracy: 0.9340\n",
      "Epoch 6/20\n",
      "6712/6712 [==============================] - ETA: 0s - loss: 0.1894 - binary_accuracy: 0.9415\n",
      "Epoch 6: val_loss improved from 0.21514 to 0.19804, saving model to /content/drive/MyDrive/MODELS/best_model_TFM_LSTMBidiSelfAttention.h5\n",
      "6712/6712 [==============================] - 751s 112ms/step - loss: 0.1894 - binary_accuracy: 0.9415 - val_loss: 0.1980 - val_binary_accuracy: 0.9406\n",
      "Epoch 7/20\n",
      "6712/6712 [==============================] - ETA: 0s - loss: 0.1745 - binary_accuracy: 0.9462\n",
      "Epoch 7: val_loss improved from 0.19804 to 0.19457, saving model to /content/drive/MyDrive/MODELS/best_model_TFM_LSTMBidiSelfAttention.h5\n",
      "6712/6712 [==============================] - 749s 112ms/step - loss: 0.1745 - binary_accuracy: 0.9462 - val_loss: 0.1946 - val_binary_accuracy: 0.9408\n",
      "Epoch 8/20\n",
      "6712/6712 [==============================] - ETA: 0s - loss: 0.1639 - binary_accuracy: 0.9496\n",
      "Epoch 8: val_loss improved from 0.19457 to 0.18870, saving model to /content/drive/MyDrive/MODELS/best_model_TFM_LSTMBidiSelfAttention.h5\n",
      "6712/6712 [==============================] - 751s 112ms/step - loss: 0.1639 - binary_accuracy: 0.9496 - val_loss: 0.1887 - val_binary_accuracy: 0.9435\n",
      "Epoch 9/20\n",
      "6712/6712 [==============================] - ETA: 0s - loss: 0.1551 - binary_accuracy: 0.9528\n",
      "Epoch 9: val_loss improved from 0.18870 to 0.18257, saving model to /content/drive/MyDrive/MODELS/best_model_TFM_LSTMBidiSelfAttention.h5\n",
      "6712/6712 [==============================] - 753s 112ms/step - loss: 0.1551 - binary_accuracy: 0.9528 - val_loss: 0.1826 - val_binary_accuracy: 0.9457\n",
      "Epoch 10/20\n",
      "6712/6712 [==============================] - ETA: 0s - loss: 0.1473 - binary_accuracy: 0.9550\n",
      "Epoch 10: val_loss improved from 0.18257 to 0.17889, saving model to /content/drive/MyDrive/MODELS/best_model_TFM_LSTMBidiSelfAttention.h5\n",
      "6712/6712 [==============================] - 750s 112ms/step - loss: 0.1473 - binary_accuracy: 0.9550 - val_loss: 0.1789 - val_binary_accuracy: 0.9475\n",
      "Epoch 11/20\n",
      "6712/6712 [==============================] - ETA: 0s - loss: 0.1406 - binary_accuracy: 0.9567\n",
      "Epoch 11: val_loss did not improve from 0.17889\n",
      "6712/6712 [==============================] - 749s 112ms/step - loss: 0.1406 - binary_accuracy: 0.9567 - val_loss: 0.1791 - val_binary_accuracy: 0.9474\n",
      "Epoch 12/20\n",
      "6712/6712 [==============================] - ETA: 0s - loss: 0.1347 - binary_accuracy: 0.9585\n",
      "Epoch 12: val_loss improved from 0.17889 to 0.17577, saving model to /content/drive/MyDrive/MODELS/best_model_TFM_LSTMBidiSelfAttention.h5\n",
      "6712/6712 [==============================] - 749s 112ms/step - loss: 0.1347 - binary_accuracy: 0.9585 - val_loss: 0.1758 - val_binary_accuracy: 0.9477\n",
      "Epoch 13/20\n",
      "6712/6712 [==============================] - ETA: 0s - loss: 0.1286 - binary_accuracy: 0.9598\n",
      "Epoch 13: val_loss did not improve from 0.17577\n",
      "6712/6712 [==============================] - 753s 112ms/step - loss: 0.1286 - binary_accuracy: 0.9598 - val_loss: 0.1950 - val_binary_accuracy: 0.9444\n",
      "Epoch 14/20\n",
      "6712/6712 [==============================] - ETA: 0s - loss: 0.1238 - binary_accuracy: 0.9614\n",
      "Epoch 14: val_loss did not improve from 0.17577\n",
      "6712/6712 [==============================] - 750s 112ms/step - loss: 0.1238 - binary_accuracy: 0.9614 - val_loss: 0.1780 - val_binary_accuracy: 0.9495\n",
      "Epoch 15/20\n",
      "6712/6712 [==============================] - ETA: 0s - loss: 0.1183 - binary_accuracy: 0.9625\n",
      "Epoch 15: val_loss did not improve from 0.17577\n",
      "Restoring model weights from the end of the best epoch: 12.\n",
      "6712/6712 [==============================] - 755s 112ms/step - loss: 0.1183 - binary_accuracy: 0.9625 - val_loss: 0.1781 - val_binary_accuracy: 0.9491\n",
      "Epoch 15: early stopping\n"
     ]
    }
   ],
   "source": [
    "with tf.device(device_name):#Use GPU if available\n",
    "    history=model.fit(training_generator,epochs=n_epochs,\n",
    "                      validation_data=validation_generator,\n",
    "                      callbacks=[checkpoint,callback],verbose=1)"
   ]
  },
  {
   "cell_type": "code",
   "execution_count": 33,
   "id": "c8edd824-ea63-46fa-a917-5e41dbd3422c",
   "metadata": {
    "colab": {
     "base_uri": "https://localhost:8080/"
    },
    "id": "c8edd824-ea63-46fa-a917-5e41dbd3422c",
    "outputId": "23026ff0-1714-40bb-94c0-322c7cc425a7"
   },
   "outputs": [
    {
     "name": "stdout",
     "output_type": "stream",
     "text": [
      "Trained epochs: 15 of 20\n"
     ]
    }
   ],
   "source": [
    "#We always save the last model.\n",
    "#Last model can be triggered by early stopping\n",
    "n_epochs_trained = len(history.history['loss'])\n",
    "print(\"Trained epochs: {} of {}\".format(n_epochs_trained,n_epochs))\n",
    "model.save(lastmodelfile)    "
   ]
  },
  {
   "cell_type": "code",
   "execution_count": 34,
   "id": "634fb710-78e7-4734-b41f-eccd0a9ff589",
   "metadata": {
    "colab": {
     "base_uri": "https://localhost:8080/",
     "height": 551
    },
    "id": "634fb710-78e7-4734-b41f-eccd0a9ff589",
    "outputId": "4de805e6-a041-43d4-b531-2afb52eeb28d"
   },
   "outputs": [
    {
     "data": {
      "image/png": "[encoded data removed]",
      "text/plain": [
       "<Figure size 432x288 with 1 Axes>"
      ]
     },
     "metadata": {},
     "output_type": "display_data"
    },
    {
     "data": {
      "image/png": "[encoded data removed]",
      "text/plain": [
       "<Figure size 432x288 with 1 Axes>"
      ]
     },
     "metadata": {},
     "output_type": "display_data"
    }
   ],
   "source": [
    "#PLOT ACCURACY AND LOSS\n",
    "\n",
    "acc = history.history['binary_accuracy']\n",
    "val_acc = history.history['val_binary_accuracy']\n",
    "loss = history.history['loss']\n",
    "val_loss = history.history['val_loss']\n",
    "\n",
    "epochs = range(1, len(acc) + 1)\n",
    "\n",
    "plt.plot(epochs, acc, 'bo', label='Training acc')\n",
    "plt.plot(epochs, val_acc, 'b', label='Validation acc')\n",
    "plt.title('Training and validation accuracy')\n",
    "plt.legend()\n",
    "plt.figure()\n",
    "plt.plot(epochs, loss, 'bo', label='Training loss')\n",
    "plt.plot(epochs, val_loss, 'b', label='Validation loss')\n",
    "plt.title('Training and validation loss')\n",
    "plt.legend()\n",
    "plt.show()"
   ]
  },
  {
   "cell_type": "markdown",
   "id": "c366e2cf-105b-4007-8732-9c3f330f9cb2",
   "metadata": {
    "id": "c366e2cf-105b-4007-8732-9c3f330f9cb2",
    "outputId": "c72777c6-5a20-481f-c89e-89ed00121599"
   },
   "source": [
    "We recover the best model saved."
   ]
  },
  {
   "cell_type": "markdown",
   "id": "4a11909c-fe48-433d-a1ab-b038b301bc16",
   "metadata": {
    "id": "4a11909c-fe48-433d-a1ab-b038b301bc16",
    "outputId": "c72777c6-5a20-481f-c89e-89ed00121599"
   },
   "source": [
    "We evaluate the best model on validation data."
   ]
  },
  {
   "cell_type": "code",
   "execution_count": 45,
   "id": "4bae3e40-6872-49cd-95c2-91b624ee4193",
   "metadata": {
    "colab": {
     "base_uri": "https://localhost:8080/"
    },
    "id": "4bae3e40-6872-49cd-95c2-91b624ee4193",
    "outputId": "3638eb0c-c08a-4c31-e1d6-f4c986ddd70f"
   },
   "outputs": [
    {
     "name": "stdout",
     "output_type": "stream",
     "text": [
      "Evaluate models on validation data\n",
      "1438/1438 [==============================] - 126s 87ms/step - loss: 0.1758 - binary_accuracy: 0.9477\n",
      "Accuracy on validation data: 0.948\n",
      "Loss on validation data: 0.176\n"
     ]
    }
   ],
   "source": [
    "#EVALUATE VALIDATION DATASET\n",
    "print(\"Evaluate models on validation data\")\n",
    "results_model = model.evaluate(validation_generator,verbose=1)\n",
    "print ('Accuracy on validation data:',round(results_model[1],3))\n",
    "print ('Loss on validation data:',round(results_model[0],3))"
   ]
  },
  {
   "cell_type": "markdown",
   "id": "81704c88-897a-4f89-b1f5-80f6a5f3d364",
   "metadata": {
    "id": "81704c88-897a-4f89-b1f5-80f6a5f3d364",
    "outputId": "205c012b-84d2-4f51-c96a-398417f7e61f"
   },
   "source": [
    "We make predictions on test data, never used during training nor validation"
   ]
  },
  {
   "cell_type": "code",
   "execution_count": 46,
   "id": "fb7abf2c-e423-485d-a543-06f4743971c7",
   "metadata": {
    "colab": {
     "base_uri": "https://localhost:8080/"
    },
    "id": "fb7abf2c-e423-485d-a543-06f4743971c7",
    "outputId": "435f495c-c17e-4223-ed11-bf6037d9f1a7"
   },
   "outputs": [
    {
     "name": "stdout",
     "output_type": "stream",
     "text": [
      "Make predictions on test data\n",
      "46030/46030 [==============================] - 230s 5ms/step\n"
     ]
    }
   ],
   "source": [
    "#PREDICTIONS\n",
    "print(\"Make predictions on test data\")\n",
    "model_prediction = model.predict(test_generator,verbose=1)\n",
    "model_prediction_binary = (model_prediction > 0.5).astype(\"int32\")"
   ]
  },
  {
   "cell_type": "code",
   "execution_count": 47,
   "id": "d08289e1-32e4-4290-82c7-b87718f230a9",
   "metadata": {
    "colab": {
     "base_uri": "https://localhost:8080/"
    },
    "id": "d08289e1-32e4-4290-82c7-b87718f230a9",
    "outputId": "907a60a2-1831-45e2-de4c-318f73a24a5b"
   },
   "outputs": [
    {
     "name": "stdout",
     "output_type": "stream",
     "text": [
      "(46030, 101)\n",
      "(46030,)\n",
      "(46030, 1)\n",
      "(46030, 1)\n"
     ]
    }
   ],
   "source": [
    "print(x_test.shape)\n",
    "print(y_test.shape)\n",
    "print(model_prediction.shape)\n",
    "print(model_prediction_binary.shape)"
   ]
  },
  {
   "cell_type": "code",
   "execution_count": 48,
   "id": "a9296b0f-efc6-4133-aaff-949a4159e5f7",
   "metadata": {
    "colab": {
     "base_uri": "https://localhost:8080/"
    },
    "id": "a9296b0f-efc6-4133-aaff-949a4159e5f7",
    "outputId": "f3babfe6-164d-46e7-e0ae-15aabb998892"
   },
   "outputs": [
    {
     "name": "stdout",
     "output_type": "stream",
     "text": [
      "MODEL TFM_LSTMBidiSelfAttention\n",
      "---------------------------------\n",
      "Kappa: 0.896\n",
      "              precision    recall  f1-score   support\n",
      "\n",
      "           0       0.97      0.93      0.95     23061\n",
      "           1       0.93      0.97      0.95     22969\n",
      "\n",
      "    accuracy                           0.95     46030\n",
      "   macro avg       0.95      0.95      0.95     46030\n",
      "weighted avg       0.95      0.95      0.95     46030\n",
      "\n"
     ]
    }
   ],
   "source": [
    "#METRICS QUALITY CLASSIFICATION\n",
    "print(\"MODEL \"+model_name+\"\\n---------------------------------\")\n",
    "kappa = cohen_kappa_score(y_test, model_prediction_binary)\n",
    "print ('Kappa:',round(kappa,3))\n",
    "print(classification_report(y_test, model_prediction_binary))"
   ]
  },
  {
   "cell_type": "code",
   "execution_count": 49,
   "id": "686f01e9-daf3-43f6-bd2f-d1fee30059cb",
   "metadata": {
    "colab": {
     "base_uri": "https://localhost:8080/",
     "height": 303
    },
    "id": "686f01e9-daf3-43f6-bd2f-d1fee30059cb",
    "outputId": "7b3abd03-c83b-484d-cba2-080d8d97f40d"
   },
   "outputs": [
    {
     "data": {
      "text/plain": [
       "Text(80.90000000000006, 0.5, 'Truth Editing')"
      ]
     },
     "execution_count": 49,
     "metadata": {},
     "output_type": "execute_result"
    },
    {
     "data": {
      "image/png": "[encoded data removed]",
      "text/plain": [
       "<Figure size 432x288 with 2 Axes>"
      ]
     },
     "metadata": {},
     "output_type": "display_data"
    }
   ],
   "source": [
    "from sklearn.metrics import confusion_matrix, precision_score, cohen_kappa_score, classification_report\n",
    "import seaborn as sns; sns.set()\n",
    "# PLOT CONFUSION MATRIX\n",
    "plt.figure()\n",
    "cm = confusion_matrix(y_test,model_prediction_binary)\n",
    "sns.heatmap(cm, square=True, annot=True, fmt='d', cbar=True,cmap=\"Blues\")\n",
    "plt.xlabel('Predicted Model '+ model_name)\n",
    "plt.ylabel('Truth Editing')"
   ]
  },
  {
   "cell_type": "code",
   "execution_count": 50,
   "id": "c1ff605a-c7fd-4160-ba29-a2e88cd1829e",
   "metadata": {
    "colab": {
     "base_uri": "https://localhost:8080/",
     "height": 319
    },
    "id": "c1ff605a-c7fd-4160-ba29-a2e88cd1829e",
    "outputId": "ed505ca6-bd1f-4298-e425-cb4d8e63ade5"
   },
   "outputs": [
    {
     "name": "stdout",
     "output_type": "stream",
     "text": [
      "AUC: 0.97\n"
     ]
    },
    {
     "data": {
      "image/png": "[encoded data removed]",
      "text/plain": [
       "<Figure size 432x288 with 1 Axes>"
      ]
     },
     "metadata": {},
     "output_type": "display_data"
    }
   ],
   "source": [
    "from sklearn.metrics import roc_curve\n",
    "from sklearn.metrics import roc_auc_score\n",
    "\n",
    "def plot_roc_curve(fpr, tpr):\n",
    "    plt.plot(fpr, tpr, color=\"orange\", label=\"ROC\")\n",
    "    plt.plot([0, 1], [0, 1], color=\"darkblue\", linestyle=\"--\")\n",
    "    plt.xlabel('False Positive Rate')\n",
    "    plt.ylabel('True Positive Rate')\n",
    "    plt.title('Receiver Operating Characteristic (ROC) Curve')\n",
    "    plt.legend()\n",
    "    plt.show()\n",
    "\n",
    "auc = roc_auc_score(y_test, model_prediction)\n",
    "print('AUC: %.2f' % auc)\n",
    "fpr, tpr, thresholds = roc_curve(y_test, model_prediction)\n",
    "plot_roc_curve(fpr, tpr)\n"
   ]
  }
 ],
 "metadata": {
  "accelerator": "GPU",
  "colab": {
   "collapsed_sections": [],
   "machine_shape": "hm",
   "name": "TFM_LSTMBidiSelfAttention.ipynb",
   "provenance": []
  },
  "kernelspec": {
   "display_name": "Python 3 (ipykernel)",
   "language": "python",
   "name": "python3"
  },
  "language_info": {
   "codemirror_mode": {
    "name": "ipython",
    "version": 3
   },
   "file_extension": ".py",
   "mimetype": "text/x-python",
   "name": "python",
   "nbconvert_exporter": "python",
   "pygments_lexer": "ipython3",
   "version": "3.8.12"
  }
 },
 "nbformat": 4,
 "nbformat_minor": 5
}
