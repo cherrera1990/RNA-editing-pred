{
 "cells": [
  {
   "cell_type": "markdown",
   "id": "ca661a73-de2d-4079-8138-914bab318805",
   "metadata": {
    "id": "ca661a73-de2d-4079-8138-914bab318805"
   },
   "source": [
    "#  Deep neural network-based models for predicting mRNA editing \n",
    "## Predictions for 1.000.000 samples in all human transcriptome"
   ]
  },
  {
   "cell_type": "code",
   "execution_count": null,
   "id": "c9f60581-a961-4284-9b0b-3867f3b54213",
   "metadata": {
    "id": "c9f60581-a961-4284-9b0b-3867f3b54213"
   },
   "outputs": [],
   "source": [
    "import os\n",
    "import numpy as np\n",
    "import pandas as pd\n",
    "import matplotlib.pyplot as plt\n",
    "from sklearn.model_selection import train_test_split\n",
    "import tensorflow as tf\n",
    "from tensorflow import keras\n",
    "from tensorflow.keras import layers\n",
    "from sklearn.metrics import confusion_matrix, precision_score, cohen_kappa_score, classification_report\n",
    "import seaborn as sns; sns.set()\n",
    "from keras import backend as K\n"
   ]
  },
  {
   "cell_type": "code",
   "execution_count": null,
   "id": "93f65f3a-3262-4f2c-a9c8-18003b5f4b2b",
   "metadata": {
    "colab": {
     "base_uri": "https://localhost:8080/"
    },
    "executionInfo": {
     "elapsed": 265,
     "status": "ok",
     "timestamp": 1654067605384,
     "user": {
      "displayName": "Jesús Peñuela",
      "userId": "04868940139927239067"
     },
     "user_tz": -120
    },
    "id": "93f65f3a-3262-4f2c-a9c8-18003b5f4b2b",
    "outputId": "dd4775e4-7adb-4c54-f6fc-ad42a9f12393"
   },
   "outputs": [
    {
     "name": "stdout",
     "output_type": "stream",
     "text": [
      "Running on CoLab\n",
      "Num GPUs Available: 1\n",
      "Found GPU at: /device:GPU:0\n",
      "Wed Jun  1 07:13:14 2022       \n",
      "+-----------------------------------------------------------------------------+\n",
      "| NVIDIA-SMI 460.32.03    Driver Version: 460.32.03    CUDA Version: 11.2     |\n",
      "|-------------------------------+----------------------+----------------------+\n",
      "| GPU  Name        Persistence-M| Bus-Id        Disp.A | Volatile Uncorr. ECC |\n",
      "| Fan  Temp  Perf  Pwr:Usage/Cap|         Memory-Usage | GPU-Util  Compute M. |\n",
      "|                               |                      |               MIG M. |\n",
      "|===============================+======================+======================|\n",
      "|   0  Tesla P100-PCIE...  Off  | 00000000:00:04.0 Off |                    0 |\n",
      "| N/A   36C    P0    32W / 250W |    375MiB / 16280MiB |      1%      Default |\n",
      "|                               |                      |                  N/A |\n",
      "+-------------------------------+----------------------+----------------------+\n",
      "                                                                               \n",
      "+-----------------------------------------------------------------------------+\n",
      "| Processes:                                                                  |\n",
      "|  GPU   GI   CI        PID   Type   Process name                  GPU Memory |\n",
      "|        ID   ID                                                   Usage      |\n",
      "|=============================================================================|\n",
      "+-----------------------------------------------------------------------------+\n"
     ]
    }
   ],
   "source": [
    "#CHECK GOOGLE COLAB\n",
    "GOOGLE_COLAB=False\n",
    "if 'google.colab' in str(get_ipython()):\n",
    "  GOOGLE_COLAB=True  \n",
    "  print('Running on CoLab')\n",
    "else:\n",
    "  print('Not running on CoLab')\n",
    "\n",
    "#CHECK GPU\n",
    "device_name = tf.test.gpu_device_name()\n",
    "if device_name != '/device:GPU:0':\n",
    "  print('GPU device not found')\n",
    "else:\n",
    "  print('Num GPUs Available: {}'.format(len(tf.config.list_physical_devices('GPU'))))\n",
    "  print('Found GPU at: {}'.format(device_name))\n",
    "  gpu_info = !nvidia-smi\n",
    "  gpu_info = '\\n'.join(gpu_info)\n",
    "  if gpu_info.find('failed') >= 0:\n",
    "     print('Not connected to a GPU')\n",
    "  else:\n",
    "     print(gpu_info)"
   ]
  },
  {
   "cell_type": "code",
   "execution_count": null,
   "id": "1f3ca1ff-e53a-4ed7-9fc0-093a752b930a",
   "metadata": {
    "colab": {
     "base_uri": "https://localhost:8080/"
    },
    "executionInfo": {
     "elapsed": 22551,
     "status": "ok",
     "timestamp": 1654067627929,
     "user": {
      "displayName": "Jesús Peñuela",
      "userId": "04868940139927239067"
     },
     "user_tz": -120
    },
    "id": "1f3ca1ff-e53a-4ed7-9fc0-093a752b930a",
    "outputId": "3e82b8e2-d97a-4952-8745-0e8dc3f55749"
   },
   "outputs": [
    {
     "name": "stdout",
     "output_type": "stream",
     "text": [
      "Mounted at /content/drive\n"
     ]
    }
   ],
   "source": [
    "########################################\n",
    "# PARAMS\n",
    "########################################\n",
    "padding=True\n",
    "model_name = 'TFM_LSTMBidiAttention'\n",
    "fname = 'hg38_RS_DL_Pad_W50_BALANCED_1_1_CODED_REDUCED.csv'\n",
    "\n",
    "numchannels=2\n",
    "\n",
    "if numchannels==3:\n",
    "   categories_size=60\n",
    "else:\n",
    "   categories_size=20\n",
    "\n",
    "if padding==True:\n",
    "    categories_size=categories_size+1\n",
    "\n",
    "if GOOGLE_COLAB==False:\n",
    "    data_dir = '../data/datasets/ALL_HG38/W50'\n",
    "    models_dir = './SAVED_MODELS'\n",
    "\n",
    "else:\n",
    "    from google.colab import drive\n",
    "    drive.mount('/content/drive')\n",
    "    import sys\n",
    "    sys.path.insert(0,'/content/drive/MyDrive/ColabNotebooks')    \n",
    "    data_dir  = '/content/drive/MyDrive/DATASETS/ALL_HG38/W50'\n",
    "    models_dir= '/content/drive/MyDrive/MODELS'\n",
    "#########################################"
   ]
  },
  {
   "cell_type": "code",
   "execution_count": null,
   "id": "0f79bb30-9305-45f7-a55d-011492979b15",
   "metadata": {
    "colab": {
     "base_uri": "https://localhost:8080/"
    },
    "executionInfo": {
     "elapsed": 11,
     "status": "ok",
     "timestamp": 1654067627929,
     "user": {
      "displayName": "Jesús Peñuela",
      "userId": "04868940139927239067"
     },
     "user_tz": -120
    },
    "id": "0f79bb30-9305-45f7-a55d-011492979b15",
    "outputId": "58ab17a7-4f03-490d-c7d9-be9dd706e470"
   },
   "outputs": [
    {
     "name": "stdout",
     "output_type": "stream",
     "text": [
      "MODEL FILE: /content/drive/MyDrive/MODELS/TFM_LSTMBidiAttention.h5\n"
     ]
    }
   ],
   "source": [
    "saved_model =  model_name+'.h5'\n",
    "savedmodelfile = os.path.join(models_dir, saved_model)\n",
    "print(\"MODEL FILE: {}\".format(savedmodelfile))"
   ]
  },
  {
   "cell_type": "code",
   "execution_count": null,
   "id": "74b070a2-37d8-4d03-8fa5-97f1ea9c7d1d",
   "metadata": {
    "colab": {
     "base_uri": "https://localhost:8080/"
    },
    "executionInfo": {
     "elapsed": 79202,
     "status": "ok",
     "timestamp": 1654067707125,
     "user": {
      "displayName": "Jesús Peñuela",
      "userId": "04868940139927239067"
     },
     "user_tz": -120
    },
    "id": "74b070a2-37d8-4d03-8fa5-97f1ea9c7d1d",
    "outputId": "0a39191c-7ef2-4cf5-d184-ae52bf1f9f59"
   },
   "outputs": [
    {
     "name": "stdout",
     "output_type": "stream",
     "text": [
      "DATASET: /content/drive/MyDrive/DATASETS/ALL_HG38/W50/hg38_RS_DL_Pad_W50_BALANCED_1_1_CODED_REDUCED.csv\n",
      "shape dataraw=(8644348, 104)\n"
     ]
    }
   ],
   "source": [
    "datafile = os.path.join(data_dir, fname)\n",
    "print(\"DATASET: {}\".format(datafile))\n",
    "dataraw = pd.read_csv(datafile,sep=\";\")\n",
    "print(\"shape dataraw={}\".format(dataraw.shape))"
   ]
  },
  {
   "cell_type": "code",
   "execution_count": null,
   "id": "72bd0495-977b-409e-a4d4-dc6234d5d900",
   "metadata": {
    "colab": {
     "base_uri": "https://localhost:8080/"
    },
    "executionInfo": {
     "elapsed": 19983,
     "status": "ok",
     "timestamp": 1654067727104,
     "user": {
      "displayName": "Jesús Peñuela",
      "userId": "04868940139927239067"
     },
     "user_tz": -120
    },
    "id": "72bd0495-977b-409e-a4d4-dc6234d5d900",
    "outputId": "939fa94a-bc9a-4d68-e1d7-9f41c978a001"
   },
   "outputs": [
    {
     "name": "stdout",
     "output_type": "stream",
     "text": [
      "fraction_to_test=0.11568252458137965\n",
      "x_test.shape=(1000000, 101)\n",
      "y_test.shape=(1000000,)\n",
      "TEST LABELS:\n",
      "0    500225\n",
      "1    499775\n",
      "Name: EDITING, dtype: int64\n"
     ]
    }
   ],
   "source": [
    "#dataset=dataraw[dataraw.columns[3:len(dataraw.columns)]]\n",
    "X=dataraw.iloc[:,3:]\n",
    "Y=dataraw['EDITING']\n",
    "\n",
    "random_seed=2022\n",
    "samples_to_test = 1000000\n",
    "fraction_to_test=samples_to_test/(dataraw.shape[0])\n",
    "print(\"fraction_to_test={}\".format(fraction_to_test))\n",
    "x_out, x_test, y_out, y_test = train_test_split(X, Y, test_size=fraction_to_test, random_state=random_seed)\n",
    "\n",
    "print(\"x_test.shape={}\".format(x_test.shape))\n",
    "print(\"y_test.shape={}\".format(y_test.shape))\n",
    "print(\"TEST LABELS:\")\n",
    "print(y_test.value_counts())\n",
    "\n",
    "#free memory\n",
    "del dataraw\n",
    "del X\n",
    "del Y"
   ]
  },
  {
   "cell_type": "markdown",
   "id": "9WyvcKhMJSEE",
   "metadata": {
    "id": "9WyvcKhMJSEE"
   },
   "source": [
    "Recover saved model"
   ]
  },
  {
   "cell_type": "code",
   "execution_count": null,
   "id": "643c51c7-f1ee-489b-b306-fbf948a07a51",
   "metadata": {
    "colab": {
     "base_uri": "https://localhost:8080/"
    },
    "executionInfo": {
     "elapsed": 2298,
     "status": "ok",
     "timestamp": 1654067729391,
     "user": {
      "displayName": "Jesús Peñuela",
      "userId": "04868940139927239067"
     },
     "user_tz": -120
    },
    "id": "643c51c7-f1ee-489b-b306-fbf948a07a51",
    "outputId": "47805475-977b-49e4-dd85-40c2d3af7594"
   },
   "outputs": [
    {
     "name": "stdout",
     "output_type": "stream",
     "text": [
      "Model: \"TFM_LSTMBidiAttention\"\n",
      "__________________________________________________________________________________________________\n",
      " Layer (type)                   Output Shape         Param #     Connected to                     \n",
      "==================================================================================================\n",
      " INPUTS (InputLayer)            [(None, 101, 21)]    0           []                               \n",
      "                                                                                                  \n",
      " LSTM_BI (Bidirectional)        (None, 101, 512)     569344      ['INPUTS[0][0]']                 \n",
      "                                                                                                  \n",
      " dropout (Dropout)              (None, 101, 512)     0           ['LSTM_BI[0][0]']                \n",
      "                                                                                                  \n",
      " dense (Dense)                  (None, 101, 1)       513         ['dropout[0][0]']                \n",
      "                                                                                                  \n",
      " flatten (Flatten)              (None, 101)          0           ['dense[0][0]']                  \n",
      "                                                                                                  \n",
      " activation (Activation)        (None, 101)          0           ['flatten[0][0]']                \n",
      "                                                                                                  \n",
      " repeat_vector (RepeatVector)   (None, 512, 101)     0           ['activation[0][0]']             \n",
      "                                                                                                  \n",
      " permute (Permute)              (None, 101, 512)     0           ['repeat_vector[0][0]']          \n",
      "                                                                                                  \n",
      " multiply (Multiply)            (None, 101, 512)     0           ['LSTM_BI[0][0]',                \n",
      "                                                                  'permute[0][0]']                \n",
      "                                                                                                  \n",
      " lambda (Lambda)                (None, 512)          0           ['multiply[0][0]']               \n",
      "                                                                                                  \n",
      " OUTPUT (Dense)                 (None, 1)            513         ['lambda[0][0]']                 \n",
      "                                                                                                  \n",
      "==================================================================================================\n",
      "Total params: 570,370\n",
      "Trainable params: 570,370\n",
      "Non-trainable params: 0\n",
      "__________________________________________________________________________________________________\n"
     ]
    }
   ],
   "source": [
    "#Load the trained model from disk\n",
    "import os.path\n",
    "\n",
    "if os.path.exists(savedmodelfile):\n",
    "    model = tf.keras.models.load_model(savedmodelfile)\n",
    "    # Show the model architecture\n",
    "    model.summary()\n",
    "else:\n",
    "    print(\"ERROR model {} nor found \".format(savedmodelfile))           \n",
    "\n"
   ]
  },
  {
   "cell_type": "code",
   "execution_count": null,
   "id": "b2dada75-39d9-45ef-8a7f-d83b57619438",
   "metadata": {
    "colab": {
     "background_save": true,
     "base_uri": "https://localhost:8080/"
    },
    "id": "b2dada75-39d9-45ef-8a7f-d83b57619438",
    "outputId": "812dd4ee-6572-47be-ab20-31ca932c4331"
   },
   "outputs": [
    {
     "name": "stdout",
     "output_type": "stream",
     "text": [
      "1000000/1000000 [==============================] - 5170s 5ms/step\n"
     ]
    }
   ],
   "source": [
    "#PREDICTIONS\n",
    "#DataGenerator converts on the fly from raw data to one-hot\n",
    "from RNAEd import DataGenerator\n",
    "\n",
    "num_nucleosides = x_test.shape[1]\n",
    "num_tokens = categories_size\n",
    "\n",
    "pred_generator = DataGenerator(x_test, y_test,  batch_size=1,seq_size=num_nucleosides, \n",
    "                               categories_size=categories_size, shuffle=False )\n",
    "model_prediction = model.predict(pred_generator,verbose=1)\n",
    "model_prediction_binary = (model_prediction > 0.5).astype(\"int32\")"
   ]
  },
  {
   "cell_type": "code",
   "execution_count": null,
   "id": "d08289e1-32e4-4290-82c7-b87718f230a9",
   "metadata": {
    "colab": {
     "background_save": true
    },
    "id": "d08289e1-32e4-4290-82c7-b87718f230a9",
    "outputId": "890f8ed4-6835-4cd9-c6f9-3022ee126b97"
   },
   "outputs": [
    {
     "name": "stdout",
     "output_type": "stream",
     "text": [
      "(1000000, 101)\n",
      "(1000000,)\n",
      "(1000000, 1)\n",
      "(1000000, 1)\n"
     ]
    }
   ],
   "source": [
    "print(x_test.shape)\n",
    "print(y_test.shape)\n",
    "print(model_prediction.shape)\n",
    "print(model_prediction_binary.shape)"
   ]
  },
  {
   "cell_type": "code",
   "execution_count": null,
   "id": "a9296b0f-efc6-4133-aaff-949a4159e5f7",
   "metadata": {
    "colab": {
     "background_save": true
    },
    "id": "a9296b0f-efc6-4133-aaff-949a4159e5f7",
    "outputId": "2e04717a-5b62-465e-8809-47ea6dbbca4d"
   },
   "outputs": [
    {
     "name": "stdout",
     "output_type": "stream",
     "text": [
      "MODEL TFM_LSTMBidiAttention\n",
      "---------------------------------\n",
      "Kappa: 0.828\n",
      "              precision    recall  f1-score   support\n",
      "\n",
      "           0       0.91      0.92      0.91    500225\n",
      "           1       0.92      0.91      0.91    499775\n",
      "\n",
      "    accuracy                           0.91   1000000\n",
      "   macro avg       0.91      0.91      0.91   1000000\n",
      "weighted avg       0.91      0.91      0.91   1000000\n",
      "\n"
     ]
    }
   ],
   "source": [
    "#METRICS QUALITY CLASSIFICATION\n",
    "\n",
    "print(\"MODEL \"+model_name+\"\\n---------------------------------\") \n",
    "kappa = cohen_kappa_score(y_test, model_prediction_binary)\n",
    "print ('Kappa:',round(kappa,3))\n",
    "print(classification_report(y_test, model_prediction_binary))"
   ]
  },
  {
   "cell_type": "code",
   "execution_count": null,
   "id": "686f01e9-daf3-43f6-bd2f-d1fee30059cb",
   "metadata": {
    "colab": {
     "background_save": true
    },
    "id": "686f01e9-daf3-43f6-bd2f-d1fee30059cb",
    "outputId": "827d05e9-86e5-49b5-e8ec-85020e8a0caf"
   },
   "outputs": [
    {
     "data": {
      "text/plain": [
       "Text(80.90000000000006, 0.5, 'Truth Editing')"
      ]
     },
     "execution_count": null,
     "metadata": {},
     "output_type": "execute_result"
    },
    {
     "data": {
      "image/png": "[encoded data removed]",
      "text/plain": [
       "<Figure size 432x288 with 2 Axes>"
      ]
     },
     "metadata": {},
     "output_type": "display_data"
    }
   ],
   "source": [
    "from sklearn.metrics import confusion_matrix, precision_score, cohen_kappa_score, classification_report\n",
    "import seaborn as sns; sns.set()\n",
    "# PLOT CONFUSION MATRIX\n",
    "plt.figure()\n",
    "cm = confusion_matrix(y_test,model_prediction_binary)\n",
    "sns.heatmap(cm, square=True, annot=True, fmt='d', cbar=True,cmap=\"Blues\")\n",
    "plt.xlabel('Predicted Model '+ model_name)\n",
    "plt.ylabel('Truth Editing')"
   ]
  },
  {
   "cell_type": "code",
   "execution_count": null,
   "id": "JDI8riXNGmLM",
   "metadata": {
    "colab": {
     "background_save": true
    },
    "id": "JDI8riXNGmLM",
    "outputId": "2e3b0387-3896-4540-ca0d-200709da6bf7"
   },
   "outputs": [
    {
     "name": "stdout",
     "output_type": "stream",
     "text": [
      "AUC: 0.94\n"
     ]
    },
    {
     "data": {
      "image/png": "[encoded data removed]",
      "text/plain": [
       "<Figure size 432x288 with 1 Axes>"
      ]
     },
     "metadata": {},
     "output_type": "display_data"
    }
   ],
   "source": [
    "from sklearn.metrics import roc_curve\n",
    "from sklearn.metrics import roc_auc_score\n",
    "\n",
    "def plot_roc_curve(fpr, tpr):\n",
    "    plt.plot(fpr, tpr, color=\"orange\", label=\"ROC\")\n",
    "    plt.plot([0, 1], [0, 1], color=\"darkblue\", linestyle=\"--\")\n",
    "    plt.xlabel('False Positive Rate')\n",
    "    plt.ylabel('True Positive Rate')\n",
    "    plt.title('Receiver Operating Characteristic (ROC) Curve')\n",
    "    plt.legend()\n",
    "    plt.show()\n",
    "\n",
    "auc = roc_auc_score(y_test, model_prediction)\n",
    "print('AUC: %.2f' % auc)\n",
    "fpr, tpr, thresholds = roc_curve(y_test, model_prediction)\n",
    "plot_roc_curve(fpr, tpr)"
   ]
  }
 ],
 "metadata": {
  "accelerator": "GPU",
  "colab": {
   "collapsed_sections": [],
   "machine_shape": "hm",
   "name": "TFM_Prediction_LSTMBidiAttention.ipynb",
   "provenance": []
  },
  "kernelspec": {
   "display_name": "Python 3 (ipykernel)",
   "language": "python",
   "name": "python3"
  },
  "language_info": {
   "codemirror_mode": {
    "name": "ipython",
    "version": 3
   },
   "file_extension": ".py",
   "mimetype": "text/x-python",
   "name": "python",
   "nbconvert_exporter": "python",
   "pygments_lexer": "ipython3",
   "version": "3.8.12"
  }
 },
 "nbformat": 4,
 "nbformat_minor": 5
}
