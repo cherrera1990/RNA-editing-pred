{
 "cells": [
  {
   "cell_type": "markdown",
   "id": "ca661a73-de2d-4079-8138-914bab318805",
   "metadata": {
    "id": "ca661a73-de2d-4079-8138-914bab318805"
   },
   "source": [
    "# Deep neural network-based models for predicting mRNA editing\n",
    "\n",
    "Bidirectional LSTM with Attention Layer"
   ]
  },
  {
   "cell_type": "code",
   "execution_count": 1,
   "id": "c9f60581-a961-4284-9b0b-3867f3b54213",
   "metadata": {
    "executionInfo": {
     "elapsed": 2709,
     "status": "ok",
     "timestamp": 1657692984497,
     "user": {
      "displayName": "Jesús Peñuela",
      "userId": "04868940139927239067"
     },
     "user_tz": -120
    },
    "id": "c9f60581-a961-4284-9b0b-3867f3b54213"
   },
   "outputs": [],
   "source": [
    "import os\n",
    "import numpy as np\n",
    "import pandas as pd\n",
    "import matplotlib.pyplot as plt\n",
    "from sklearn.model_selection import train_test_split\n",
    "import tensorflow as tf\n",
    "from tensorflow import keras\n",
    "from tensorflow.keras import layers\n",
    "from sklearn.metrics import confusion_matrix, precision_score, cohen_kappa_score, classification_report\n",
    "import seaborn as sns; sns.set()\n",
    "from keras import backend as K\n"
   ]
  },
  {
   "cell_type": "code",
   "execution_count": 2,
   "id": "7b4b7d71-286c-433d-b5b5-94e41403d218",
   "metadata": {
    "executionInfo": {
     "elapsed": 1,
     "status": "ok",
     "timestamp": 1657692986849,
     "user": {
      "displayName": "Jesús Peñuela",
      "userId": "04868940139927239067"
     },
     "user_tz": -120
    },
    "id": "7b4b7d71-286c-433d-b5b5-94e41403d218"
   },
   "outputs": [],
   "source": [
    "########################################\n",
    "# PARAMS\n",
    "########################################\n",
    "fname      = 'mm10_DL_Pad_W50_BALANCED_1_1_CODED2CH.csv'\n",
    "separator_char=';'\n",
    "categories=[['A','G','C','T'],['s','d','h','i','b']]\n",
    "padding=True\n",
    "ptrain     = 0.7\n",
    "trace_level = 1\n",
    "model_name = 'TFM_LSTMBidiAttention_MM_ALLMM2'\n",
    "num_lstm_units=256\n",
    "n_epochs=40\n",
    "batch_size=32\n",
    "categories_size=20\n",
    "lstm_dropout=0.4\n",
    "random_seed=2022\n",
    "########################################"
   ]
  },
  {
   "cell_type": "markdown",
   "id": "1bd49147-7ef8-4a2b-ba75-694d51a94f88",
   "metadata": {
    "id": "1bd49147-7ef8-4a2b-ba75-694d51a94f88",
    "outputId": "eba0a3a5-140a-404c-f883-4f3124dcfbae"
   },
   "source": [
    "We can run this notebook in two environments:\n",
    "+ Googlr Colab Pro (Cloud)\n",
    "+ Jupyter Lab (Locally)"
   ]
  },
  {
   "cell_type": "code",
   "execution_count": 3,
   "id": "be00b8cf-d29e-429d-a4cc-e05f4416b635",
   "metadata": {
    "colab": {
     "base_uri": "https://localhost:8080/"
    },
    "executionInfo": {
     "elapsed": 469,
     "status": "ok",
     "timestamp": 1657692994954,
     "user": {
      "displayName": "Jesús Peñuela",
      "userId": "04868940139927239067"
     },
     "user_tz": -120
    },
    "id": "be00b8cf-d29e-429d-a4cc-e05f4416b635",
    "outputId": "b885c9be-1fec-4253-b838-d86bd4f5261e"
   },
   "outputs": [
    {
     "name": "stdout",
     "output_type": "stream",
     "text": [
      "Running on CoLab\n"
     ]
    }
   ],
   "source": [
    "#CHECK GOOGLE COLAB\n",
    "GOOGLE_COLAB=False\n",
    "if 'google.colab' in str(get_ipython()):\n",
    "  GOOGLE_COLAB=True  \n",
    "  print('Running on CoLab')\n",
    "else:\n",
    "  print('Not running on CoLab')"
   ]
  },
  {
   "cell_type": "markdown",
   "id": "26ebcbc7-a0de-4a91-aa76-4f422bd2383c",
   "metadata": {
    "id": "26ebcbc7-a0de-4a91-aa76-4f422bd2383c",
    "outputId": "eba0a3a5-140a-404c-f883-4f3124dcfbae"
   },
   "source": [
    "Checking if GPU is available and GPU characteristics."
   ]
  },
  {
   "cell_type": "code",
   "execution_count": 4,
   "id": "e6fa0226-d138-40dd-bab2-7d0aedec9746",
   "metadata": {
    "colab": {
     "base_uri": "https://localhost:8080/"
    },
    "executionInfo": {
     "elapsed": 418,
     "status": "ok",
     "timestamp": 1657693009663,
     "user": {
      "displayName": "Jesús Peñuela",
      "userId": "04868940139927239067"
     },
     "user_tz": -120
    },
    "id": "e6fa0226-d138-40dd-bab2-7d0aedec9746",
    "outputId": "192a2572-2f0a-4635-9592-c222b325aa9f"
   },
   "outputs": [
    {
     "name": "stdout",
     "output_type": "stream",
     "text": [
      "Num GPUs Available: 1\n",
      "Found GPU at: /device:GPU:0\n",
      "Wed Jul 13 06:16:49 2022       \n",
      "+-----------------------------------------------------------------------------+\n",
      "| NVIDIA-SMI 460.32.03    Driver Version: 460.32.03    CUDA Version: 11.2     |\n",
      "|-------------------------------+----------------------+----------------------+\n",
      "| GPU  Name        Persistence-M| Bus-Id        Disp.A | Volatile Uncorr. ECC |\n",
      "| Fan  Temp  Perf  Pwr:Usage/Cap|         Memory-Usage | GPU-Util  Compute M. |\n",
      "|                               |                      |               MIG M. |\n",
      "|===============================+======================+======================|\n",
      "|   0  Tesla T4            Off  | 00000000:00:04.0 Off |                    0 |\n",
      "| N/A   42C    P0    27W /  70W |    284MiB / 15109MiB |      0%      Default |\n",
      "|                               |                      |                  N/A |\n",
      "+-------------------------------+----------------------+----------------------+\n",
      "                                                                               \n",
      "+-----------------------------------------------------------------------------+\n",
      "| Processes:                                                                  |\n",
      "|  GPU   GI   CI        PID   Type   Process name                  GPU Memory |\n",
      "|        ID   ID                                                   Usage      |\n",
      "|=============================================================================|\n",
      "+-----------------------------------------------------------------------------+\n"
     ]
    }
   ],
   "source": [
    "#CHECK GPU\n",
    "device_name = tf.test.gpu_device_name()\n",
    "if device_name != '/device:GPU:0':\n",
    "  print('GPU device not found')\n",
    "else:\n",
    "  print('Num GPUs Available: {}'.format(len(tf.config.list_physical_devices('GPU'))))\n",
    "  print('Found GPU at: {}'.format(device_name))\n",
    "  gpu_info = !nvidia-smi\n",
    "  gpu_info = '\\n'.join(gpu_info)\n",
    "  if gpu_info.find('failed') >= 0:\n",
    "     print('Not connected to a GPU')\n",
    "  else:\n",
    "     print(gpu_info)"
   ]
  },
  {
   "cell_type": "code",
   "execution_count": 5,
   "id": "d259c02c-bb23-43d6-899b-f9cbd4ca898d",
   "metadata": {
    "colab": {
     "base_uri": "https://localhost:8080/"
    },
    "executionInfo": {
     "elapsed": 26004,
     "status": "ok",
     "timestamp": 1657693039047,
     "user": {
      "displayName": "Jesús Peñuela",
      "userId": "04868940139927239067"
     },
     "user_tz": -120
    },
    "id": "d259c02c-bb23-43d6-899b-f9cbd4ca898d",
    "outputId": "59c7a514-38e5-4ce2-8c36-2d2f90e2dd0b"
   },
   "outputs": [
    {
     "name": "stdout",
     "output_type": "stream",
     "text": [
      "Mounted at /content/drive\n"
     ]
    }
   ],
   "source": [
    "if padding==True:\n",
    "    categories_size=categories_size+1\n",
    "\n",
    "if GOOGLE_COLAB==False:\n",
    "    data_dir = '../data/datasets/ALL_MM/W50'\n",
    "    models_dir = './SAVED_MODELS'\n",
    "\n",
    "else:\n",
    "    from google.colab import drive\n",
    "    drive.mount('/content/drive')\n",
    "    import sys\n",
    "    #set the path to find RNAEd module\n",
    "    sys.path.insert(0,'/content/drive/MyDrive/ColabNotebooks')    \n",
    "    data_dir  = '/content/drive/MyDrive/DATASETS/ALL_MM/W50'\n",
    "    models_dir= '/content/drive/MyDrive/MODELS'"
   ]
  },
  {
   "cell_type": "code",
   "execution_count": 6,
   "id": "d3277a99-0187-4e81-b4e7-a5bb99d7cc27",
   "metadata": {
    "colab": {
     "base_uri": "https://localhost:8080/"
    },
    "executionInfo": {
     "elapsed": 2505,
     "status": "ok",
     "timestamp": 1657693043797,
     "user": {
      "displayName": "Jesús Peñuela",
      "userId": "04868940139927239067"
     },
     "user_tz": -120
    },
    "id": "d3277a99-0187-4e81-b4e7-a5bb99d7cc27",
    "outputId": "a1079d83-589b-4073-b192-765af6c2b0c3"
   },
   "outputs": [
    {
     "name": "stdout",
     "output_type": "stream",
     "text": [
      "Number of channels: 2 /categories: [['A', 'G', 'C', 'T'], ['s', 'd', 'h', 'i', 'b']]\n",
      "Number of codes=21\n",
      "('A', 's') / 0\n",
      "('A', 'd') / 1\n",
      "('A', 'h') / 2\n",
      "('A', 'i') / 3\n",
      "('A', 'b') / 4\n",
      "('G', 's') / 5\n",
      "('G', 'd') / 6\n",
      "('G', 'h') / 7\n",
      "('G', 'i') / 8\n",
      "('G', 'b') / 9\n",
      "('C', 's') / 10\n",
      "('C', 'd') / 11\n",
      "('C', 'h') / 12\n",
      "('C', 'i') / 13\n",
      "('C', 'b') / 14\n",
      "('T', 's') / 15\n",
      "('T', 'd') / 16\n",
      "('T', 'h') / 17\n",
      "('T', 'i') / 18\n",
      "('T', 'b') / 19\n",
      "('*', '*') / 20\n",
      "Number of codes or categories size: 21\n"
     ]
    }
   ],
   "source": [
    "from RNAEd import DataGenerator,DataEncoding\n",
    "encoding=DataEncoding(categories,padding=padding,pad_char=\"*\")\n",
    "n_ch,cat=encoding.getChannels()\n",
    "print(\"Number of channels: {} /categories: {}\".format(n_ch,cat))\n",
    "encoding.print_LUT_TupleToInteger()\n",
    "categories_size=encoding.getNumCodes()\n",
    "print(\"Number of codes or categories size: {}\".format(categories_size))"
   ]
  },
  {
   "cell_type": "code",
   "execution_count": 7,
   "id": "d1f58b95-6aea-45de-af97-5f2964dd413a",
   "metadata": {
    "colab": {
     "base_uri": "https://localhost:8080/"
    },
    "executionInfo": {
     "elapsed": 407,
     "status": "ok",
     "timestamp": 1657693047203,
     "user": {
      "displayName": "Jesús Peñuela",
      "userId": "04868940139927239067"
     },
     "user_tz": -120
    },
    "id": "d1f58b95-6aea-45de-af97-5f2964dd413a",
    "outputId": "dfa9716f-710b-44d4-e14a-747ac21c43c8"
   },
   "outputs": [
    {
     "name": "stdout",
     "output_type": "stream",
     "text": [
      "LAST MODEL FILE: /content/drive/MyDrive/MODELS/TFM_LSTMBidiAttention_MM_ALLMM2.h5\n",
      "BEST MODEL FILE: /content/drive/MyDrive/MODELS/best_model_TFM_LSTMBidiAttention_MM_ALLMM2.h5\n"
     ]
    }
   ],
   "source": [
    "#We can save best model and last model\n",
    "best_model = 'best_model_'+model_name+'.h5'\n",
    "last_model =  model_name+'.h5'\n",
    "lastmodelfile = os.path.join(models_dir, last_model)\n",
    "print(\"LAST MODEL FILE: {}\".format(lastmodelfile))\n",
    "bestmodelfile = os.path.join(models_dir, best_model)\n",
    "print(\"BEST MODEL FILE: {}\".format(bestmodelfile))\n",
    "datafile = os.path.join(data_dir, fname)    "
   ]
  },
  {
   "cell_type": "markdown",
   "id": "8c001b8d-f491-45da-a667-9d566df08c38",
   "metadata": {
    "id": "8c001b8d-f491-45da-a667-9d566df08c38",
    "outputId": "dca7aef9-a604-426f-ef3d-725b81ca9baa"
   },
   "source": [
    "We read the data."
   ]
  },
  {
   "cell_type": "code",
   "execution_count": 8,
   "id": "206aec14-c210-499a-9601-09d1443cd01e",
   "metadata": {
    "colab": {
     "base_uri": "https://localhost:8080/"
    },
    "executionInfo": {
     "elapsed": 4907,
     "status": "ok",
     "timestamp": 1657693054579,
     "user": {
      "displayName": "Jesús Peñuela",
      "userId": "04868940139927239067"
     },
     "user_tz": -120
    },
    "id": "206aec14-c210-499a-9601-09d1443cd01e",
    "outputId": "04266c5c-3a88-47d1-b809-8b0244119878"
   },
   "outputs": [
    {
     "name": "stdout",
     "output_type": "stream",
     "text": [
      "DATASET: /content/drive/MyDrive/DATASETS/ALL_MM/W50/mm10_DL_Pad_W50_BALANCED_1_1_CODED2CH.csv\n",
      "shape dataraw=(59294, 104)\n"
     ]
    }
   ],
   "source": [
    "print(\"DATASET: {}\".format(datafile))\n",
    "dataraw = pd.read_csv(datafile,sep=separator_char)\n",
    "print(\"shape dataraw={}\".format(dataraw.shape))"
   ]
  },
  {
   "cell_type": "markdown",
   "id": "d4689c11-867e-44b1-bb6c-8be3e6628d34",
   "metadata": {
    "id": "d4689c11-867e-44b1-bb6c-8be3e6628d34",
    "outputId": "c6394162-7647-4e1e-a983-2aa4df3a5242"
   },
   "source": [
    "We will divide the data into: train, validation and test.\n",
    "The three datastes should be well balanced."
   ]
  },
  {
   "cell_type": "code",
   "execution_count": 9,
   "id": "0e044074-ce2c-436b-a89c-bece4f06c495",
   "metadata": {
    "colab": {
     "base_uri": "https://localhost:8080/"
    },
    "executionInfo": {
     "elapsed": 512,
     "status": "ok",
     "timestamp": 1657693057119,
     "user": {
      "displayName": "Jesús Peñuela",
      "userId": "04868940139927239067"
     },
     "user_tz": -120
    },
    "id": "0e044074-ce2c-436b-a89c-bece4f06c495",
    "outputId": "dc8ee62a-e478-4d94-f126-04fe27b2849f"
   },
   "outputs": [
    {
     "name": "stdout",
     "output_type": "stream",
     "text": [
      "<bound method NDFrame.head of        P1  P2  P3  P4  P5  P6  P7  P8  P9  P10  ...  P92  P93  P94  P95  P96  \\\n",
      "0       6   1   1   1  16   6  16  13  18   11  ...    1    1    1   18    1   \n",
      "1      18  11   1  16  11  16  16   6  13   13  ...   18   11   16   11   16   \n",
      "2       6  16   0   0   6   6   1   6   6    1  ...    6    1    6    6    1   \n",
      "3      18   8   8  18   8  18  18  13  13    3  ...    3    3   13    3    3   \n",
      "4      16  16   6  16   6  11  15   6   6   16  ...    3   18    3    3   16   \n",
      "...    ..  ..  ..  ..  ..  ..  ..  ..  ..  ...  ...  ...  ...  ...  ...  ...   \n",
      "59289   6   6  16   6  16   6   6  16   6    6  ...   11   11    1    6    6   \n",
      "59290  13   3   6   1  11   1  11   1  11   11  ...    1    6   11    1    6   \n",
      "59291  13   3  11  16  11  11   1  16  16   16  ...    1    6    3   11   16   \n",
      "59292   7  12  12   2   2   2   2   7   2    2  ...   16    1    1    1   16   \n",
      "59293  11   5  15  10  16   1  16  16  18   11  ...    8    8   16   11   11   \n",
      "\n",
      "       P97  P98  P99  P100  P101  \n",
      "0        1    6    1     1     1  \n",
      "1       16   18   11    16    16  \n",
      "2       10    1   11     1    11  \n",
      "3        6    6    6     1     6  \n",
      "4       11   16   16    19     6  \n",
      "...    ...  ...  ...   ...   ...  \n",
      "59289   11   11    3     6    11  \n",
      "59290   16   11    9     6     6  \n",
      "59291   11    1    1     6    11  \n",
      "59292    3   18   13    18     3  \n",
      "59293   11   13   13     3    18  \n",
      "\n",
      "[59294 rows x 101 columns]>\n"
     ]
    }
   ],
   "source": [
    "X=dataraw.iloc[:,3:]\n",
    "Y=dataraw['EDITING']\n",
    "print(X.head)"
   ]
  },
  {
   "cell_type": "code",
   "execution_count": 10,
   "id": "ae0e9343-353e-4b66-921e-2e2d0966bf5c",
   "metadata": {
    "colab": {
     "base_uri": "https://localhost:8080/"
    },
    "executionInfo": {
     "elapsed": 406,
     "status": "ok",
     "timestamp": 1657693060481,
     "user": {
      "displayName": "Jesús Peñuela",
      "userId": "04868940139927239067"
     },
     "user_tz": -120
    },
    "id": "ae0e9343-353e-4b66-921e-2e2d0966bf5c",
    "outputId": "6a0ef978-11d7-46d9-99c8-1b3a2aa62733"
   },
   "outputs": [
    {
     "name": "stdout",
     "output_type": "stream",
     "text": [
      "x_train:(41505, 101) y_train:(41505,)\n",
      "x_val: (8894, 101) y_val: (8894,)\n",
      "x_test: (8895, 101) y_test: (8895,)\n",
      "TRAIN LABELS:\n",
      "1    20880\n",
      "0    20625\n",
      "Name: EDITING, dtype: int64\n",
      "VALIDATION LABELS:\n",
      "0    4513\n",
      "1    4381\n",
      "Name: EDITING, dtype: int64\n",
      "TEST LABELS:\n",
      "0    4509\n",
      "1    4386\n",
      "Name: EDITING, dtype: int64\n"
     ]
    }
   ],
   "source": [
    "# Train and Validation+Test\n",
    "x_train, x_val_test, y_train, y_val_test = train_test_split(X, Y, test_size=1-ptrain, random_state=random_seed)\n",
    "#Validation and test: 0.5/0.5\n",
    "x_val, x_test, y_val, y_test = train_test_split(x_val_test, y_val_test, test_size=0.5, random_state=random_seed)\n",
    "\n",
    "print(\"x_train:{} y_train:{}\".format(x_train.shape,y_train.shape))\n",
    "print(\"x_val: {} y_val: {}\".format(x_val.shape,y_val.shape))\n",
    "print(\"x_test: {} y_test: {}\".format(x_test.shape,y_test.shape))\n",
    "print(\"TRAIN LABELS:\")\n",
    "print(y_train.value_counts())\n",
    "print(\"VALIDATION LABELS:\")\n",
    "print(y_val.value_counts())\n",
    "print(\"TEST LABELS:\")\n",
    "print(y_test.value_counts())"
   ]
  },
  {
   "cell_type": "markdown",
   "id": "6da206f4-e9f8-4b63-a2c3-eb8488556381",
   "metadata": {
    "id": "6da206f4-e9f8-4b63-a2c3-eb8488556381"
   },
   "source": [
    "We instantiate 3 DataGenerator objects that convert from integer to one-hot"
   ]
  },
  {
   "cell_type": "code",
   "execution_count": 11,
   "id": "801f208a-c441-4bb4-b300-642edd73d955",
   "metadata": {
    "executionInfo": {
     "elapsed": 1371,
     "status": "ok",
     "timestamp": 1657693066358,
     "user": {
      "displayName": "Jesús Peñuela",
      "userId": "04868940139927239067"
     },
     "user_tz": -120
    },
    "id": "801f208a-c441-4bb4-b300-642edd73d955"
   },
   "outputs": [],
   "source": [
    "#DataGenerator converts on the fly from raw data to one-hot\n",
    "num_nucleosides = x_train.shape[1]\n",
    "num_tokens = categories_size\n",
    "\n",
    "training_generator   = DataGenerator(x_train, y_train, batch_size=batch_size, seq_size=num_nucleosides, categories_size=categories_size, shuffle=True)\n",
    "validation_generator = DataGenerator(x_val,   y_val,   batch_size=batch_size, seq_size=num_nucleosides, categories_size=categories_size, shuffle=True)\n",
    "test_generator       = DataGenerator(x_test,  y_test,  batch_size=1,seq_size=num_nucleosides, categories_size=categories_size, shuffle=False )"
   ]
  },
  {
   "cell_type": "markdown",
   "id": "ddddf12b-b24f-4b5e-9540-6e49d380ff2d",
   "metadata": {
    "id": "ddddf12b-b24f-4b5e-9540-6e49d380ff2d",
    "outputId": "eb581962-8561-491c-822c-04e260bcf0cd"
   },
   "source": [
    "## Attention Layer"
   ]
  },
  {
   "cell_type": "code",
   "execution_count": 12,
   "id": "204b561c-65d2-43a4-8ee2-dd1d7148d93e",
   "metadata": {
    "executionInfo": {
     "elapsed": 399,
     "status": "ok",
     "timestamp": 1657693068864,
     "user": {
      "displayName": "Jesús Peñuela",
      "userId": "04868940139927239067"
     },
     "user_tz": -120
    },
    "id": "204b561c-65d2-43a4-8ee2-dd1d7148d93e"
   },
   "outputs": [],
   "source": [
    "from keras.layers import *\n",
    "from keras.models import *\n",
    "from keras import backend as K\n",
    "\n",
    "class attention(Layer):\n",
    "    ''' heredamos de la clase layer '''\n",
    "    def __init__(self):\n",
    "        super(attention,self).__init__()\n",
    "    \n",
    "    #En el método build definimos los pesos\n",
    "    def build(self, input_shape):\n",
    "        # Define the shape of the weights and bias in this layer\n",
    "        # The layer has just 1 lonely neuron\n",
    "        \n",
    "        # For convenience sake, add a couple of properties\n",
    "        self.num_dim_pernucleoside = input_shape[-1] ## 512 dimension del vector de contexto.\n",
    "        self.nucleosides_persequence = input_shape[-2]  ## 101 número de timesteps de la secuencia\n",
    "        num_units = 1\n",
    "        \n",
    "        \n",
    "        #Weights shape=(512,1), recordemos que la red neuronal capa oculta tiene un peso por dimensión.\n",
    "        self.W=self.add_weight(name=\"att_weight\", shape=(self.num_dim_pernucleoside,num_units),\n",
    "                               initializer=\"normal\")\n",
    "        #bias  shape=(101,1), hay un bias por cada timestep, palabra o nucleótido.\n",
    "        self.b=self.add_weight(name=\"att_bias\", shape=(self.nucleosides_persequence,num_units),\n",
    "                               initializer=\"zeros\")\n",
    "        super(attention,self).build(input_shape)\n",
    "    \n",
    "    #en el método call definimos la lógica\n",
    "    #esta es la implementación clásica\n",
    "    def call_classic(self, x):\n",
    "        # x is the input tensor of 2 x num_units = 512 dimensions\n",
    "        \"\"\" We multiply the inputs ‘x’ of shape (101,512) by the layer weights ‘w’ \n",
    "        of shape (512 , 1) and obtain a (101,1) values (future attention weights). We add the bias (101,1) \n",
    "        and pass the output through any activation layer to form a neural network. So we now have 101 * 1 values and \n",
    "        We take a softmax of these values. Softmax squashes these into values in the \n",
    "        range between 0, and 1 whose sum is 1. These are the 101 attention weights. \n",
    "        We multiply each attention weight by the respective nucleoside hidden state and sum up and we are done. \n",
    "        We now have the ‘attention adjusted output’ state ready to be fed to the next dense layer for classification.\"\"\"\n",
    "        \n",
    "        #e = K.squeeze(K.tanh(K.dot(x,self.W)+self.b),axis=-1)  # Necesario en algunos frameworks\n",
    "        e = K.tanh(K.dot(x,self.W)+self.b) #Red neuronal densa de una neurona con una matriz de pesos W y un vector de bias\n",
    "        a = K.softmax(e, axis=1) #hacemos softmax para normalizar y que los pesos sumen 1.\n",
    "        # Multiplicamos cada hidden state por cada peso (101,512)*(101,1)=(101,512). \n",
    "        # No es matricial, sino componente a componente \n",
    "        output = x*a \n",
    "        #Sumamos los 101 hidden states y se obtiene un hidden state suma de dimensión (101,512)\n",
    "        #También se retornan los pesos a (101,1)\n",
    "        return a, K.sum(output, axis=1)\n",
    "  \n",
    "    #esta implementación es más robusta\n",
    "    def call(self, x):\n",
    "        \"\"\" Es lo mismo de antes pero más robusto a distintos frameworks\"\"\"\n",
    "        e = K.tanh(K.dot(x,self.W)+self.b) # dimensiones (101,512)(512,1)+(101,1)=(101,1)\n",
    "        e = Flatten()(e) #(?,101)\n",
    "        a = Activation('softmax')(e) #(?,101)\n",
    "        # Repite 512 veces los 101 pesos (?,101) = (?,512,101)\n",
    "        temp = RepeatVector(self.num_dim_pernucleoside)(a)\n",
    "        #Permuta (?,512,101) por (?,101,512) para poder multiplicar componente a \n",
    "        #componente después\n",
    "        temp = Permute([2,1])(temp) \n",
    "        # Multiplicamnos por cada peso todas las componentes de todos los hidden states\n",
    "        # hidden state X=(101,512) pesos=temp=(101,512)\n",
    "        # el truco aquí es que cada fila de pesos es una repetición de 512 pesos iguales.\n",
    "        output = Multiply()([x,temp])\n",
    "        #Finalmente sumamos todas las filas y obtenemos así el hidden state ponderado\n",
    "        output = Lambda(lambda values: K.sum(values, axis=1))(output)\n",
    "        #Retornamos los pesos de atención y la suma de los hidden states.\n",
    "        return a, output"
   ]
  },
  {
   "cell_type": "markdown",
   "id": "77ef2548-0324-428e-9211-2f524ed4cbbe",
   "metadata": {
    "id": "77ef2548-0324-428e-9211-2f524ed4cbbe",
    "outputId": "eb581962-8561-491c-822c-04e260bcf0cd"
   },
   "source": [
    "## Model defined from the scratch"
   ]
  },
  {
   "cell_type": "code",
   "execution_count": 13,
   "id": "857b34b7-ddaa-465a-8f3b-69e9e321fd2c",
   "metadata": {
    "colab": {
     "base_uri": "https://localhost:8080/"
    },
    "executionInfo": {
     "elapsed": 1669,
     "status": "ok",
     "timestamp": 1657693073973,
     "user": {
      "displayName": "Jesús Peñuela",
      "userId": "04868940139927239067"
     },
     "user_tz": -120
    },
    "id": "857b34b7-ddaa-465a-8f3b-69e9e321fd2c",
    "outputId": "efeedb26-64a8-4f6d-de73-5ff7b5cc0a77"
   },
   "outputs": [
    {
     "name": "stdout",
     "output_type": "stream",
     "text": [
      "Number of units=256\n",
      "Model: \"TFM_LSTMBidiAttention_MM_ALLMM2\"\n",
      "__________________________________________________________________________________________________\n",
      " Layer (type)                   Output Shape         Param #     Connected to                     \n",
      "==================================================================================================\n",
      " INPUTS (InputLayer)            [(None, 101, 21)]    0           []                               \n",
      "                                                                                                  \n",
      " LSTM_BI (Bidirectional)        (None, 101, 512)     569344      ['INPUTS[0][0]']                 \n",
      "                                                                                                  \n",
      " dropout (Dropout)              (None, 101, 512)     0           ['LSTM_BI[0][0]']                \n",
      "                                                                                                  \n",
      " dense (Dense)                  (None, 101, 1)       513         ['dropout[0][0]']                \n",
      "                                                                                                  \n",
      " flatten (Flatten)              (None, 101)          0           ['dense[0][0]']                  \n",
      "                                                                                                  \n",
      " activation (Activation)        (None, 101)          0           ['flatten[0][0]']                \n",
      "                                                                                                  \n",
      " repeat_vector (RepeatVector)   (None, 512, 101)     0           ['activation[0][0]']             \n",
      "                                                                                                  \n",
      " permute (Permute)              (None, 101, 512)     0           ['repeat_vector[0][0]']          \n",
      "                                                                                                  \n",
      " multiply (Multiply)            (None, 101, 512)     0           ['dropout[0][0]',                \n",
      "                                                                  'permute[0][0]']                \n",
      "                                                                                                  \n",
      " lambda (Lambda)                (None, 512)          0           ['multiply[0][0]']               \n",
      "                                                                                                  \n",
      " OUTPUT (Dense)                 (None, 1)            513         ['lambda[0][0]']                 \n",
      "                                                                                                  \n",
      "==================================================================================================\n",
      "Total params: 570,370\n",
      "Trainable params: 570,370\n",
      "Non-trainable params: 0\n",
      "__________________________________________________________________________________________________\n",
      "None\n"
     ]
    }
   ],
   "source": [
    "#MODELOS REDES NEURONALES LSTM CON CAPAS DE ATENCIÓN\n",
    "# Import the libraries required in this example:\n",
    "\n",
    "num_nucleosides = x_train.shape[1]\n",
    "num_tokens = categories_size\n",
    "print(\"Number of units={}\".format(num_lstm_units))\n",
    "#Definimos la estructura con el Functional model\n",
    "inputs = keras.Input(shape=(num_nucleosides,num_tokens), name=\"INPUTS\")\n",
    "lstm_out   = layers.Bidirectional(layers.LSTM(num_lstm_units,return_sequences=True), name=\"LSTM_BI\")(inputs)\n",
    "dropout= layers.Dropout(lstm_dropout)(lstm_out)\n",
    "\n",
    "#===============================\n",
    "#METHOD 1: using a custom layer:\n",
    "#===============================\n",
    "#La salida de la capa bidireccional será de 1 batch=None numero de secuencias, \n",
    "#de 101 nucleosidos(timesteps=50+1+50) de 2 x número_unidades=2*256=512\n",
    "#Es decir (None,101,512)\n",
    "#---------uncomment here--------------------\n",
    "#a ,att_d = attention()(dropout)\n",
    "#-----------------------------\n",
    "#La capa de atención debe retornarnos un peso para cada hidden state \n",
    "#correspondiente a cada elemento de la secuencia o timestep\n",
    "#es decir, nos debe dar un peso por cada nucleósido, es decir, nos debe dar (101,1)\n",
    "#Como son pesos probabilisticos deben sumar 1.\n",
    "#Pero realmente no queremos esos pesos, sino la suma de los 101 hidden states \n",
    "#de dimensión 512 ponderados por esos pesos que es lo que conforma el verdadero contexto, \n",
    "# y que tendrá dimensión (None,1,512).\n",
    "#Esta salida es lo que se llama el \"attention adjusted output state\".\n",
    "#Para ello, nuestra capa de atención debe entrenar (101,1) pesos, ya que debemos \n",
    "#entrenar un peso por cada dimensión del espacio vectorial del contexto.\n",
    "#Pero ojo, esos no son los pesos de la red neuronal de la capa de atención, porque si nuestra\n",
    "#red neuronal de atención tuviera 101 pesos, serían posicionales y deben ser calculados por el \n",
    "#valor semántico de los nucleótidos (si fueran palabras por su significado, no por su posición)\n",
    "\n",
    "#Nuestra red neuronal de atención debe atender al \"significado\" de las palabras, es decir,\n",
    "#a la codificación de cada nucleótido en el vector de estados \n",
    "#de la LSTM que tiene dimensión 512. Por lo tanto el número de pesos de la  red de atención \n",
    "# es de (512,1). Son los pesos de las 512 conexiones de la neurona de esta capa.\n",
    "\n",
    "#Durante el entrenamiento multiplicaremos matricialmente todos los nucleótidos de la \n",
    "#secuencia (101), con su codificación LSTMbidi(512), por los pesos de la capa de atención(512) y eso \n",
    "#nos dará los 101 pesos de atención:\n",
    "#(101,512) x (512,1) = (101,1) los pesos de atención\n",
    "#(512,1) son los pesos de la capa.\n",
    "\n",
    "#Ahora entendemos por qué los pesos de atención no son constantes\n",
    "#sino que para cada secuencia cambian:\n",
    "#En una red ya entrenada:\n",
    "#  (101,512)[variable] x (512,1)[constante] = (101,1)[variable]\n",
    "\n",
    "#===============================================================\n",
    "\n",
    "#===============================\n",
    "#METHOD 2: using regular layers:\n",
    "#===============================\n",
    "\n",
    "#---------uncomment here--------------------\n",
    "e=Dense(1, activation='tanh')(dropout) #Capa de atención\n",
    "e=Flatten()(e)\n",
    "a=Activation('softmax')(e) #Softmax para que sumen 1 los pesos de atención.\n",
    "temp=RepeatVector(2*num_lstm_units)(a)\n",
    "temp=Permute([2, 1])(temp)\n",
    "# multiply weight with LSTM layer o/p\n",
    "output = merge.Multiply()([dropout, temp])\n",
    "# Get the attention adjusted output state by adding up\n",
    "att = Lambda(lambda values: K.sum(values, axis=1))(output)\n",
    "#-----------------------------\n",
    "\n",
    "#===============================================================\n",
    "outputs= layers.Dense(1, activation='sigmoid', name=\"OUTPUT\")(att)\n",
    "#Creamos el modelo\n",
    "model_from_scratch  = keras.Model(inputs=inputs, outputs=outputs, name=model_name)\n",
    "\n",
    "#Mostramos el modelo\n",
    "print(model_from_scratch.summary())"
   ]
  },
  {
   "cell_type": "code",
   "execution_count": 14,
   "id": "ddc47876-f37d-49b9-8927-208034317df9",
   "metadata": {
    "executionInfo": {
     "elapsed": 403,
     "status": "ok",
     "timestamp": 1657693078992,
     "user": {
      "displayName": "Jesús Peñuela",
      "userId": "04868940139927239067"
     },
     "user_tz": -120
    },
    "id": "ddc47876-f37d-49b9-8927-208034317df9"
   },
   "outputs": [],
   "source": [
    "#Compilation reset all weights\n",
    "model_from_scratch.compile(optimizer=keras.optimizers.Adam(),\n",
    "                           loss     =keras.losses.BinaryCrossentropy(),\n",
    "                           metrics  =[keras.metrics.BinaryAccuracy()])\n",
    "\n",
    "model=model_from_scratch"
   ]
  },
  {
   "cell_type": "markdown",
   "id": "9WyvcKhMJSEE",
   "metadata": {
    "id": "9WyvcKhMJSEE"
   },
   "source": [
    "Recover last model, best model or generate a new model"
   ]
  },
  {
   "cell_type": "code",
   "execution_count": 15,
   "id": "643c51c7-f1ee-489b-b306-fbf948a07a51",
   "metadata": {
    "executionInfo": {
     "elapsed": 411,
     "status": "ok",
     "timestamp": 1657693082644,
     "user": {
      "displayName": "Jesús Peñuela",
      "userId": "04868940139927239067"
     },
     "user_tz": -120
    },
    "id": "643c51c7-f1ee-489b-b306-fbf948a07a51"
   },
   "outputs": [],
   "source": [
    "#Load the trained model from disk\n",
    "import os.path\n",
    "\n",
    "best_model_accuracy =0\n",
    "last_model_accuracy =0\n"
   ]
  },
  {
   "cell_type": "code",
   "execution_count": 16,
   "id": "3IuCH91HwwUR",
   "metadata": {
    "executionInfo": {
     "elapsed": 420,
     "status": "ok",
     "timestamp": 1657693086375,
     "user": {
      "displayName": "Jesús Peñuela",
      "userId": "04868940139927239067"
     },
     "user_tz": -120
    },
    "id": "3IuCH91HwwUR"
   },
   "outputs": [],
   "source": [
    "if os.path.exists(bestmodelfile):\n",
    "    model = tf.keras.models.load_model(bestmodelfile)\n",
    "    print(\"Testing best model file: {}\".format(bestmodelfile))\n",
    "    results = model.evaluate(validation_generator,verbose=1)\n",
    "    best_model_accuracy = results[1]\n",
    "    print(\"best model accuracy: {}\".format(best_model_accuracy))    "
   ]
  },
  {
   "cell_type": "code",
   "execution_count": 17,
   "id": "rxiGXKZhwbS-",
   "metadata": {
    "executionInfo": {
     "elapsed": 411,
     "status": "ok",
     "timestamp": 1657693089702,
     "user": {
      "displayName": "Jesús Peñuela",
      "userId": "04868940139927239067"
     },
     "user_tz": -120
    },
    "id": "rxiGXKZhwbS-"
   },
   "outputs": [],
   "source": [
    "if os.path.exists(lastmodelfile):\n",
    "    model = tf.keras.models.load_model(lastmodelfile)\n",
    "    print(\"Testing last complete model file: {}\".format(lastmodelfile))\n",
    "    results = model.evaluate(validation_generator,verbose=1)\n",
    "    last_model_accuracy = results[1]\n",
    "    print(\"last model accuracy: {}\".format(last_model_accuracy))           \n"
   ]
  },
  {
   "cell_type": "code",
   "execution_count": 18,
   "id": "58jDsR4BwkN-",
   "metadata": {
    "colab": {
     "base_uri": "https://localhost:8080/"
    },
    "executionInfo": {
     "elapsed": 410,
     "status": "ok",
     "timestamp": 1657693092547,
     "user": {
      "displayName": "Jesús Peñuela",
      "userId": "04868940139927239067"
     },
     "user_tz": -120
    },
    "id": "58jDsR4BwkN-",
    "outputId": "a6d6e0b9-5600-47e0-e0f0-740e4dcbe27d"
   },
   "outputs": [
    {
     "name": "stdout",
     "output_type": "stream",
     "text": [
      "Selected new untrained model\n",
      "Model: \"TFM_LSTMBidiAttention_MM_ALLMM2\"\n",
      "__________________________________________________________________________________________________\n",
      " Layer (type)                   Output Shape         Param #     Connected to                     \n",
      "==================================================================================================\n",
      " INPUTS (InputLayer)            [(None, 101, 21)]    0           []                               \n",
      "                                                                                                  \n",
      " LSTM_BI (Bidirectional)        (None, 101, 512)     569344      ['INPUTS[0][0]']                 \n",
      "                                                                                                  \n",
      " dropout (Dropout)              (None, 101, 512)     0           ['LSTM_BI[0][0]']                \n",
      "                                                                                                  \n",
      " dense (Dense)                  (None, 101, 1)       513         ['dropout[0][0]']                \n",
      "                                                                                                  \n",
      " flatten (Flatten)              (None, 101)          0           ['dense[0][0]']                  \n",
      "                                                                                                  \n",
      " activation (Activation)        (None, 101)          0           ['flatten[0][0]']                \n",
      "                                                                                                  \n",
      " repeat_vector (RepeatVector)   (None, 512, 101)     0           ['activation[0][0]']             \n",
      "                                                                                                  \n",
      " permute (Permute)              (None, 101, 512)     0           ['repeat_vector[0][0]']          \n",
      "                                                                                                  \n",
      " multiply (Multiply)            (None, 101, 512)     0           ['dropout[0][0]',                \n",
      "                                                                  'permute[0][0]']                \n",
      "                                                                                                  \n",
      " lambda (Lambda)                (None, 512)          0           ['multiply[0][0]']               \n",
      "                                                                                                  \n",
      " OUTPUT (Dense)                 (None, 1)            513         ['lambda[0][0]']                 \n",
      "                                                                                                  \n",
      "==================================================================================================\n",
      "Total params: 570,370\n",
      "Trainable params: 570,370\n",
      "Non-trainable params: 0\n",
      "__________________________________________________________________________________________________\n"
     ]
    }
   ],
   "source": [
    "if best_model_accuracy >= last_model_accuracy and best_model_accuracy != 0:\n",
    "   model = tf.keras.models.load_model(bestmodelfile)\n",
    "   print(\"Selected best model saved: {}\".format(bestmodelfile))\n",
    "else:\n",
    "  if last_model_accuracy > best_model_accuracy:\n",
    "     print(\"Selected last model saved: {}\".format(lastmodelfile))\n",
    "  else:\n",
    "     print(\"Selected new untrained model\")\n",
    "\n",
    "\n",
    "# Show the model architecture\n",
    "model.summary()"
   ]
  },
  {
   "cell_type": "code",
   "execution_count": 19,
   "id": "644b1c7b-7c45-4483-88fc-e60a012edba0",
   "metadata": {
    "colab": {
     "base_uri": "https://localhost:8080/",
     "height": 1000
    },
    "executionInfo": {
     "elapsed": 1172,
     "status": "ok",
     "timestamp": 1657693099278,
     "user": {
      "displayName": "Jesús Peñuela",
      "userId": "04868940139927239067"
     },
     "user_tz": -120
    },
    "id": "644b1c7b-7c45-4483-88fc-e60a012edba0",
    "outputId": "4c63736d-9af2-4b3f-81b8-f9128a073053"
   },
   "outputs": [
    {
     "data": {
      "image/png": "[encoded data removed]",
      "text/plain": [
       "<IPython.core.display.Image object>"
      ]
     },
     "execution_count": 19,
     "metadata": {},
     "output_type": "execute_result"
    }
   ],
   "source": [
    "keras.utils.plot_model(model, show_shapes=True)"
   ]
  },
  {
   "cell_type": "code",
   "execution_count": 20,
   "id": "84d28828-8ee5-4bc6-8b97-1e06ab60c519",
   "metadata": {
    "executionInfo": {
     "elapsed": 473,
     "status": "ok",
     "timestamp": 1657693103353,
     "user": {
      "displayName": "Jesús Peñuela",
      "userId": "04868940139927239067"
     },
     "user_tz": -120
    },
    "id": "84d28828-8ee5-4bc6-8b97-1e06ab60c519"
   },
   "outputs": [],
   "source": [
    "from keras.callbacks import ModelCheckpoint,EarlyStopping\n",
    "\n",
    "checkpoint = ModelCheckpoint(bestmodelfile, \n",
    "                             monitor='val_loss', \n",
    "                             verbose=1,\n",
    "                             save_best_only=True, \n",
    "                             mode='auto', \n",
    "                             save_freq='epoch')\n",
    "\n",
    "callback=EarlyStopping(monitor='val_loss', \n",
    "                       min_delta=0, \n",
    "                       patience=3, \n",
    "                       verbose=1, \n",
    "                       mode='auto',\n",
    "                       baseline=None, \n",
    "                       restore_best_weights=True)"
   ]
  },
  {
   "cell_type": "code",
   "execution_count": 21,
   "id": "22345410-c762-42e4-9767-5ef8b1edb003",
   "metadata": {
    "colab": {
     "base_uri": "https://localhost:8080/"
    },
    "executionInfo": {
     "elapsed": 1875830,
     "status": "ok",
     "timestamp": 1657694981989,
     "user": {
      "displayName": "Jesús Peñuela",
      "userId": "04868940139927239067"
     },
     "user_tz": -120
    },
    "id": "22345410-c762-42e4-9767-5ef8b1edb003",
    "outputId": "c77109d2-8576-4b73-f5af-37307de2fd62"
   },
   "outputs": [
    {
     "name": "stdout",
     "output_type": "stream",
     "text": [
      "Epoch 1/40\n",
      "1297/1297 [==============================] - ETA: 0s - loss: 0.5962 - binary_accuracy: 0.6646\n",
      "Epoch 1: val_loss improved from inf to 0.57483, saving model to /content/drive/MyDrive/MODELS/best_model_TFM_LSTMBidiAttention_MM_ALLMM2.h5\n",
      "1297/1297 [==============================] - 182s 134ms/step - loss: 0.5962 - binary_accuracy: 0.6646 - val_loss: 0.5748 - val_binary_accuracy: 0.6673\n",
      "Epoch 2/40\n",
      "1297/1297 [==============================] - ETA: 0s - loss: 0.5605 - binary_accuracy: 0.6924\n",
      "Epoch 2: val_loss improved from 0.57483 to 0.54958, saving model to /content/drive/MyDrive/MODELS/best_model_TFM_LSTMBidiAttention_MM_ALLMM2.h5\n",
      "1297/1297 [==============================] - 170s 131ms/step - loss: 0.5605 - binary_accuracy: 0.6924 - val_loss: 0.5496 - val_binary_accuracy: 0.7054\n",
      "Epoch 3/40\n",
      "1297/1297 [==============================] - ETA: 0s - loss: 0.5258 - binary_accuracy: 0.7290\n",
      "Epoch 3: val_loss improved from 0.54958 to 0.49696, saving model to /content/drive/MyDrive/MODELS/best_model_TFM_LSTMBidiAttention_MM_ALLMM2.h5\n",
      "1297/1297 [==============================] - 170s 131ms/step - loss: 0.5258 - binary_accuracy: 0.7290 - val_loss: 0.4970 - val_binary_accuracy: 0.7632\n",
      "Epoch 4/40\n",
      "1297/1297 [==============================] - ETA: 0s - loss: 0.4847 - binary_accuracy: 0.7718\n",
      "Epoch 4: val_loss improved from 0.49696 to 0.45159, saving model to /content/drive/MyDrive/MODELS/best_model_TFM_LSTMBidiAttention_MM_ALLMM2.h5\n",
      "1297/1297 [==============================] - 171s 132ms/step - loss: 0.4847 - binary_accuracy: 0.7718 - val_loss: 0.4516 - val_binary_accuracy: 0.8019\n",
      "Epoch 5/40\n",
      "1297/1297 [==============================] - ETA: 0s - loss: 0.4480 - binary_accuracy: 0.8015\n",
      "Epoch 5: val_loss improved from 0.45159 to 0.44039, saving model to /content/drive/MyDrive/MODELS/best_model_TFM_LSTMBidiAttention_MM_ALLMM2.h5\n",
      "1297/1297 [==============================] - 169s 130ms/step - loss: 0.4480 - binary_accuracy: 0.8015 - val_loss: 0.4404 - val_binary_accuracy: 0.8058\n",
      "Epoch 6/40\n",
      "1297/1297 [==============================] - ETA: 0s - loss: 0.4278 - binary_accuracy: 0.8158\n",
      "Epoch 6: val_loss improved from 0.44039 to 0.43026, saving model to /content/drive/MyDrive/MODELS/best_model_TFM_LSTMBidiAttention_MM_ALLMM2.h5\n",
      "1297/1297 [==============================] - 170s 131ms/step - loss: 0.4278 - binary_accuracy: 0.8158 - val_loss: 0.4303 - val_binary_accuracy: 0.8130\n",
      "Epoch 7/40\n",
      "1297/1297 [==============================] - ETA: 0s - loss: 0.4107 - binary_accuracy: 0.8280\n",
      "Epoch 7: val_loss improved from 0.43026 to 0.41312, saving model to /content/drive/MyDrive/MODELS/best_model_TFM_LSTMBidiAttention_MM_ALLMM2.h5\n",
      "1297/1297 [==============================] - 169s 130ms/step - loss: 0.4107 - binary_accuracy: 0.8280 - val_loss: 0.4131 - val_binary_accuracy: 0.8252\n",
      "Epoch 8/40\n",
      "1297/1297 [==============================] - ETA: 0s - loss: 0.3949 - binary_accuracy: 0.8358\n",
      "Epoch 8: val_loss improved from 0.41312 to 0.40195, saving model to /content/drive/MyDrive/MODELS/best_model_TFM_LSTMBidiAttention_MM_ALLMM2.h5\n",
      "1297/1297 [==============================] - 169s 130ms/step - loss: 0.3949 - binary_accuracy: 0.8358 - val_loss: 0.4019 - val_binary_accuracy: 0.8336\n",
      "Epoch 9/40\n",
      "1297/1297 [==============================] - ETA: 0s - loss: 0.3806 - binary_accuracy: 0.8444\n",
      "Epoch 9: val_loss did not improve from 0.40195\n",
      "1297/1297 [==============================] - 168s 129ms/step - loss: 0.3806 - binary_accuracy: 0.8444 - val_loss: 0.4040 - val_binary_accuracy: 0.8312\n",
      "Epoch 10/40\n",
      "1297/1297 [==============================] - ETA: 0s - loss: 0.3654 - binary_accuracy: 0.8527\n",
      "Epoch 10: val_loss did not improve from 0.40195\n",
      "1297/1297 [==============================] - 168s 130ms/step - loss: 0.3654 - binary_accuracy: 0.8527 - val_loss: 0.4086 - val_binary_accuracy: 0.8336\n",
      "Epoch 11/40\n",
      "1297/1297 [==============================] - ETA: 0s - loss: 0.3507 - binary_accuracy: 0.8600\n",
      "Epoch 11: val_loss did not improve from 0.40195\n",
      "Restoring model weights from the end of the best epoch: 8.\n",
      "1297/1297 [==============================] - 168s 130ms/step - loss: 0.3507 - binary_accuracy: 0.8600 - val_loss: 0.4142 - val_binary_accuracy: 0.8295\n",
      "Epoch 11: early stopping\n"
     ]
    }
   ],
   "source": [
    "with tf.device(device_name):#Use GPU if available\n",
    "    history=model.fit(training_generator,epochs=n_epochs,\n",
    "                      validation_data=validation_generator,\n",
    "                      callbacks=[checkpoint,callback],verbose=trace_level)"
   ]
  },
  {
   "cell_type": "code",
   "execution_count": 22,
   "id": "c8edd824-ea63-46fa-a917-5e41dbd3422c",
   "metadata": {
    "colab": {
     "base_uri": "https://localhost:8080/"
    },
    "executionInfo": {
     "elapsed": 429,
     "status": "ok",
     "timestamp": 1657694995529,
     "user": {
      "displayName": "Jesús Peñuela",
      "userId": "04868940139927239067"
     },
     "user_tz": -120
    },
    "id": "c8edd824-ea63-46fa-a917-5e41dbd3422c",
    "outputId": "97459790-8951-4aba-8713-aa3d7e00679d"
   },
   "outputs": [
    {
     "name": "stdout",
     "output_type": "stream",
     "text": [
      "Trained epochs: 11 of 40\n"
     ]
    }
   ],
   "source": [
    "#We always save the last model.\n",
    "#Last model can be triggered by early stopping\n",
    "n_epochs_trained = len(history.history['loss'])\n",
    "print(\"Trained epochs: {} of {}\".format(n_epochs_trained,n_epochs))\n",
    "model.save(lastmodelfile)    "
   ]
  },
  {
   "cell_type": "code",
   "execution_count": 23,
   "id": "634fb710-78e7-4734-b41f-eccd0a9ff589",
   "metadata": {
    "colab": {
     "base_uri": "https://localhost:8080/",
     "height": 551
    },
    "executionInfo": {
     "elapsed": 7,
     "status": "ok",
     "timestamp": 1657694998837,
     "user": {
      "displayName": "Jesús Peñuela",
      "userId": "04868940139927239067"
     },
     "user_tz": -120
    },
    "id": "634fb710-78e7-4734-b41f-eccd0a9ff589",
    "outputId": "695ae362-c64e-4c2f-a5b1-24cf9862f896"
   },
   "outputs": [
    {
     "data": {
      "image/png": "[encoded data removed]",
      "text/plain": [
       "<Figure size 432x288 with 1 Axes>"
      ]
     },
     "metadata": {
      "needs_background": "light"
     },
     "output_type": "display_data"
    },
    {
     "data": {
      "image/png": "[encoded data removed]",
      "text/plain": [
       "<Figure size 432x288 with 1 Axes>"
      ]
     },
     "metadata": {
      "needs_background": "light"
     },
     "output_type": "display_data"
    }
   ],
   "source": [
    "#PLOT ACCURACY AND LOSS\n",
    "\n",
    "acc = history.history['binary_accuracy']\n",
    "val_acc = history.history['val_binary_accuracy']\n",
    "loss = history.history['loss']\n",
    "val_loss = history.history['val_loss']\n",
    "\n",
    "epochs = range(1, len(acc) + 1)\n",
    "\n",
    "plt.plot(epochs, acc, 'bo', label='Training acc')\n",
    "plt.plot(epochs, val_acc, 'b', label='Validation acc')\n",
    "plt.title('Training and validation accuracy')\n",
    "plt.legend()\n",
    "plt.figure()\n",
    "plt.plot(epochs, loss, 'bo', label='Training loss')\n",
    "plt.plot(epochs, val_loss, 'b', label='Validation loss')\n",
    "plt.title('Training and validation loss')\n",
    "plt.legend()\n",
    "plt.show()"
   ]
  },
  {
   "cell_type": "markdown",
   "id": "c366e2cf-105b-4007-8732-9c3f330f9cb2",
   "metadata": {
    "id": "c366e2cf-105b-4007-8732-9c3f330f9cb2",
    "outputId": "c72777c6-5a20-481f-c89e-89ed00121599"
   },
   "source": [
    "We recover the best model saved."
   ]
  },
  {
   "cell_type": "code",
   "execution_count": 24,
   "id": "d657a2d3-548a-4475-a171-831406ed1140",
   "metadata": {
    "executionInfo": {
     "elapsed": 3184,
     "status": "ok",
     "timestamp": 1657695008912,
     "user": {
      "displayName": "Jesús Peñuela",
      "userId": "04868940139927239067"
     },
     "user_tz": -120
    },
    "id": "d657a2d3-548a-4475-a171-831406ed1140"
   },
   "outputs": [],
   "source": [
    "if os.path.exists(bestmodelfile):\n",
    "    model = tf.keras.models.load_model(bestmodelfile)"
   ]
  },
  {
   "cell_type": "markdown",
   "id": "4a11909c-fe48-433d-a1ab-b038b301bc16",
   "metadata": {
    "id": "4a11909c-fe48-433d-a1ab-b038b301bc16",
    "outputId": "c72777c6-5a20-481f-c89e-89ed00121599"
   },
   "source": [
    "We evaluate the best model on validation data."
   ]
  },
  {
   "cell_type": "code",
   "execution_count": 25,
   "id": "4bae3e40-6872-49cd-95c2-91b624ee4193",
   "metadata": {
    "colab": {
     "base_uri": "https://localhost:8080/"
    },
    "executionInfo": {
     "elapsed": 29945,
     "status": "ok",
     "timestamp": 1657695041314,
     "user": {
      "displayName": "Jesús Peñuela",
      "userId": "04868940139927239067"
     },
     "user_tz": -120
    },
    "id": "4bae3e40-6872-49cd-95c2-91b624ee4193",
    "outputId": "46630211-9d9a-4f4c-8ec4-42cb05be0a68"
   },
   "outputs": [
    {
     "name": "stdout",
     "output_type": "stream",
     "text": [
      "Evaluate models on validation data\n",
      "277/277 [==============================] - 29s 101ms/step - loss: 0.4023 - binary_accuracy: 0.8335\n",
      "Accuracy on validation data: 0.833\n",
      "Loss on validation data: 0.402\n"
     ]
    }
   ],
   "source": [
    "#EVALUATE VALIDATION DATASET\n",
    "print(\"Evaluate models on validation data\")\n",
    "results_model = model.evaluate(validation_generator,verbose=trace_level)\n",
    "print ('Accuracy on validation data:',round(results_model[1],3))\n",
    "print ('Loss on validation data:',round(results_model[0],3))"
   ]
  },
  {
   "cell_type": "markdown",
   "id": "81704c88-897a-4f89-b1f5-80f6a5f3d364",
   "metadata": {
    "id": "81704c88-897a-4f89-b1f5-80f6a5f3d364",
    "outputId": "205c012b-84d2-4f51-c96a-398417f7e61f"
   },
   "source": [
    "We make predictions on test data, never used during training nor validation"
   ]
  },
  {
   "cell_type": "code",
   "execution_count": 27,
   "id": "fb7abf2c-e423-485d-a543-06f4743971c7",
   "metadata": {
    "colab": {
     "base_uri": "https://localhost:8080/"
    },
    "executionInfo": {
     "elapsed": 97159,
     "status": "ok",
     "timestamp": 1657695188373,
     "user": {
      "displayName": "Jesús Peñuela",
      "userId": "04868940139927239067"
     },
     "user_tz": -120
    },
    "id": "fb7abf2c-e423-485d-a543-06f4743971c7",
    "outputId": "4af97780-ab27-42f6-8309-143aaed749a9"
   },
   "outputs": [
    {
     "name": "stdout",
     "output_type": "stream",
     "text": [
      "Make predictions on test data\n",
      "8895/8895 [==============================] - 97s 11ms/step\n"
     ]
    }
   ],
   "source": [
    "#PREDICTIONS\n",
    "print(\"Make predictions on test data\")\n",
    "model_prediction = model.predict(test_generator,verbose=trace_level)\n",
    "model_prediction_binary = (model_prediction > 0.5).astype(\"int32\")"
   ]
  },
  {
   "cell_type": "code",
   "execution_count": 28,
   "id": "d08289e1-32e4-4290-82c7-b87718f230a9",
   "metadata": {
    "colab": {
     "base_uri": "https://localhost:8080/"
    },
    "executionInfo": {
     "elapsed": 440,
     "status": "ok",
     "timestamp": 1657696203136,
     "user": {
      "displayName": "Jesús Peñuela",
      "userId": "04868940139927239067"
     },
     "user_tz": -120
    },
    "id": "d08289e1-32e4-4290-82c7-b87718f230a9",
    "outputId": "28a52891-7b72-41e6-91f7-11df92f13131"
   },
   "outputs": [
    {
     "name": "stdout",
     "output_type": "stream",
     "text": [
      "(8895, 101)\n",
      "(8895,)\n",
      "(8895, 1)\n",
      "(8895, 1)\n"
     ]
    }
   ],
   "source": [
    "print(x_test.shape)\n",
    "print(y_test.shape)\n",
    "print(model_prediction.shape)\n",
    "print(model_prediction_binary.shape)"
   ]
  },
  {
   "cell_type": "code",
   "execution_count": 29,
   "id": "a9296b0f-efc6-4133-aaff-949a4159e5f7",
   "metadata": {
    "colab": {
     "base_uri": "https://localhost:8080/"
    },
    "executionInfo": {
     "elapsed": 443,
     "status": "ok",
     "timestamp": 1657696206451,
     "user": {
      "displayName": "Jesús Peñuela",
      "userId": "04868940139927239067"
     },
     "user_tz": -120
    },
    "id": "a9296b0f-efc6-4133-aaff-949a4159e5f7",
    "outputId": "b342f3a5-acc2-4ee5-ff33-11aea34fb769"
   },
   "outputs": [
    {
     "name": "stdout",
     "output_type": "stream",
     "text": [
      "MODEL TFM_LSTMBidiAttention_MM_ALLMM2\n",
      "---------------------------------\n",
      "Kappa: 0.663\n",
      "              precision    recall  f1-score   support\n",
      "\n",
      "           0       0.81      0.87      0.84      4509\n",
      "           1       0.86      0.79      0.82      4386\n",
      "\n",
      "    accuracy                           0.83      8895\n",
      "   macro avg       0.83      0.83      0.83      8895\n",
      "weighted avg       0.83      0.83      0.83      8895\n",
      "\n"
     ]
    }
   ],
   "source": [
    "#METRICS QUALITY CLASSIFICATION\n",
    "print(\"MODEL \"+model_name+\"\\n---------------------------------\")\n",
    "kappa = cohen_kappa_score(y_test, model_prediction_binary)\n",
    "print ('Kappa:',round(kappa,3))\n",
    "print(classification_report(y_test, model_prediction_binary))"
   ]
  },
  {
   "cell_type": "code",
   "execution_count": 30,
   "id": "686f01e9-daf3-43f6-bd2f-d1fee30059cb",
   "metadata": {
    "colab": {
     "base_uri": "https://localhost:8080/",
     "height": 346
    },
    "executionInfo": {
     "elapsed": 642,
     "status": "ok",
     "timestamp": 1657696212040,
     "user": {
      "displayName": "Jesús Peñuela",
      "userId": "04868940139927239067"
     },
     "user_tz": -120
    },
    "id": "686f01e9-daf3-43f6-bd2f-d1fee30059cb",
    "outputId": "5a30a449-eb15-488e-b209-24284e0979c4"
   },
   "outputs": [
    {
     "data": {
      "image/png": "[encoded data removed]",
      "text/plain": [
       "<Figure size 432x288 with 2 Axes>"
      ]
     },
     "metadata": {},
     "output_type": "display_data"
    }
   ],
   "source": [
    "from sklearn.metrics import confusion_matrix, precision_score, cohen_kappa_score, classification_report\n",
    "import seaborn as sns; sns.set()\n",
    "# PLOT CONFUSION MATRIX\n",
    "# Tutorial: https://www.stackvidhya.com/plot-confusion-matrix-in-python-and-why/\n",
    "plt.figure()\n",
    "\n",
    "cm = confusion_matrix(y_test,model_prediction_binary)\n",
    "\n",
    "group_names = ['TN','FP','FN','TP']\n",
    "group_counts = [\"{0:0.0f}\".format(value) for value in cm.flatten()]\n",
    "group_percentages = [\"{0:.2%}\".format(value) for value in cm.flatten()/np.sum(cm)]\n",
    "\n",
    "labels = [f\"{v1}\\n{v2}\\n{v3}\" for v1, v2, v3 in zip(group_names,group_counts,group_percentages)]\n",
    "labels = np.asarray(labels).reshape(2,2)\n",
    "\n",
    "ax = sns.heatmap(cm, annot=labels, fmt='', cmap='Blues')\n",
    "\n",
    "ax.set_title('RNA-Editing Confusion Matrix \\n\\n');\n",
    "ax.set_xlabel('\\nPredicted Values '+ model_name)\n",
    "ax.set_ylabel('Actual Values ');\n",
    "## Ticket labels - List must be in alphabetical order\n",
    "#ax.xaxis.set_ticklabels(['False','True'])\n",
    "#ax.yaxis.set_ticklabels(['False','True'])\n",
    "plt.show()\n"
   ]
  },
  {
   "cell_type": "code",
   "execution_count": 31,
   "id": "c1ff605a-c7fd-4160-ba29-a2e88cd1829e",
   "metadata": {
    "colab": {
     "base_uri": "https://localhost:8080/",
     "height": 318
    },
    "executionInfo": {
     "elapsed": 663,
     "status": "ok",
     "timestamp": 1657696219802,
     "user": {
      "displayName": "Jesús Peñuela",
      "userId": "04868940139927239067"
     },
     "user_tz": -120
    },
    "id": "c1ff605a-c7fd-4160-ba29-a2e88cd1829e",
    "outputId": "a41d78be-dbc4-4115-8050-df2ee92fc1a2"
   },
   "outputs": [
    {
     "name": "stdout",
     "output_type": "stream",
     "text": [
      "AUC: 0.89\n"
     ]
    },
    {
     "data": {
      "image/png": "[encoded data removed]",
      "text/plain": [
       "<Figure size 432x288 with 1 Axes>"
      ]
     },
     "metadata": {},
     "output_type": "display_data"
    }
   ],
   "source": [
    "from sklearn.metrics import roc_curve\n",
    "from sklearn.metrics import roc_auc_score\n",
    "\n",
    "def plot_roc_curve(fpr, tpr):\n",
    "    plt.plot(fpr, tpr, color=\"orange\", label=\"ROC\")\n",
    "    plt.plot([0, 1], [0, 1], color=\"darkblue\", linestyle=\"--\")\n",
    "    plt.xlabel('False Positive Rate')\n",
    "    plt.ylabel('True Positive Rate')\n",
    "    plt.title('Receiver Operating Characteristic (ROC) Curve')\n",
    "    plt.legend()\n",
    "    plt.show()\n",
    "\n",
    "auc = roc_auc_score(y_test, model_prediction)\n",
    "print('AUC: %.2f' % auc)\n",
    "fpr, tpr, thresholds = roc_curve(y_test, model_prediction)\n",
    "plot_roc_curve(fpr, tpr)\n"
   ]
  }
 ],
 "metadata": {
  "accelerator": "GPU",
  "colab": {
   "collapsed_sections": [],
   "machine_shape": "hm",
   "name": "TFM_LSTMBidiAttention_2CH_MM2.ipynb",
   "provenance": []
  },
  "kernelspec": {
   "display_name": "Python 3 (ipykernel)",
   "language": "python",
   "name": "python3"
  },
  "language_info": {
   "codemirror_mode": {
    "name": "ipython",
    "version": 3
   },
   "file_extension": ".py",
   "mimetype": "text/x-python",
   "name": "python",
   "nbconvert_exporter": "python",
   "pygments_lexer": "ipython3",
   "version": "3.8.12"
  }
 },
 "nbformat": 4,
 "nbformat_minor": 5
}
